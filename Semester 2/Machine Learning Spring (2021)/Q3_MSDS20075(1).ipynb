{
  "nbformat": 4,
  "nbformat_minor": 0,
  "metadata": {
    "colab": {
      "name": "Q3_MSDS20075.ipynb",
      "provenance": []
    },
    "kernelspec": {
      "name": "python3",
      "display_name": "Python 3"
    },
    "language_info": {
      "name": "python"
    }
  },
  "cells": [
    {
      "cell_type": "code",
      "metadata": {
        "id": "HGs_MbT8HVEh"
      },
      "source": [
        "from sklearn.datasets import load_boston\n",
        "from sklearn import linear_model\n",
        "from sklearn.svm import SVR\n",
        "import numpy as np\n",
        "import pandas as pd\n",
        "import seaborn as sns\n",
        "import matplotlib.pyplot as plt\n",
        "from sklearn import datasets\n",
        "from sklearn.linear_model import LinearRegression\n",
        "from sklearn.model_selection import train_test_split, cross_val_score\n",
        "from sklearn.metrics import mean_squared_error as mse\n",
        "from sklearn.preprocessing import StandardScaler"
      ],
      "execution_count": null,
      "outputs": []
    },
    {
      "cell_type": "markdown",
      "metadata": {
        "id": "2ZBH1qm3SHBm"
      },
      "source": [
        "**2 Question 3**"
      ]
    },
    {
      "cell_type": "code",
      "metadata": {
        "colab": {
          "base_uri": "https://localhost:8080/",
          "height": 265
        },
        "id": "rSh0B3E1Rqic",
        "outputId": "2bd8c436-b1f1-4222-a5a3-c6c5e906514e"
      },
      "source": [
        "np.random.seed(2017)\n",
        "n= 100\n",
        "trainX = np.random.rand(n)\n",
        "trainY = 0.25 + 0.5*trainX + np.sqrt(0.1)*np.random.randn(n)\n",
        "idx = np.random.randint(0,100,10)\n",
        "trainY[idx] = trainY[idx] + np.random.randn(10)\n",
        "plt.scatter(trainX, trainY)\n",
        "plt.show()\n",
        "trainX = trainX.reshape(len(trainX),1)\n",
        "trainX = np.append( trainX,np.ones((len(trainX),1)), axis=1)\n",
        "trainX, testX, trainY, testY = train_test_split(trainX, trainY, test_size = 0.2, \n",
        "                                                random_state=5)"
      ],
      "execution_count": null,
      "outputs": [
        {
          "output_type": "display_data",
          "data": {
            "image/png": "[encoded data removed]",
            "text/plain": [
              "<Figure size 432x288 with 1 Axes>"
            ]
          },
          "metadata": {
            "tags": [],
            "needs_background": "light"
          }
        }
      ]
    },
    {
      "cell_type": "markdown",
      "metadata": {
        "id": "CltYsl9rYxrt"
      },
      "source": [
        " **2.0.1  Part(A)**"
      ]
    },
    {
      "cell_type": "code",
      "metadata": {
        "id": "N9cH9kisTr-m"
      },
      "source": [
        "# Best lambda = 0.0001\n",
        "# Slope = 0.3050\n",
        "# Intercept = 0.2395\n",
        "# Traing Error = 0.0963\n",
        "# Testing Error = 0.3440"
      ],
      "execution_count": null,
      "outputs": []
    },
    {
      "cell_type": "markdown",
      "metadata": {
        "id": "q_BSjcMzaD6g"
      },
      "source": [
        "**2.0.2  Part(B)**\n"
      ]
    },
    {
      "cell_type": "code",
      "metadata": {
        "id": "oZacmog5aaAE"
      },
      "source": [
        "best_eps = 0\n",
        "best_alpha = 0\n",
        "err_tr = 1000\n",
        "err_test =1000\n",
        "sl, incpt = 0, 0\n",
        "\n",
        "for eps  in np.linspace(1.0, 5, 20):\n",
        "    for alpha in np.linspace(0.0001, 0.001, 20):\n",
        "        reg = linear_model.HuberRegressor(epsilon=eps, alpha=alpha)\n",
        "        reg.fit(trainX, trainY)\n",
        "\n",
        "        # Best epilon = 3.7368\n",
        "        # Best alpha = 0.0001\n",
        "        # Slope = 0.2526\n",
        "        # Intercept - 0.1513\n",
        "        # training Error = 0.0963\n",
        "        # testing Error 0.3440\n",
        "\n",
        "best_eps = 0\n",
        "best_c = 0\n",
        "err_tr = 1000\n",
        "err_test =1000\n",
        "sl, incpt = 0, 0\n",
        "\n",
        "for c in np.linscape(1.0, 2, 1):\n",
        "  for eps in np.linspace(0.001, 1, 20):\n",
        "    reg = SVR(C=c, epsilon=eps, kernel='linear')\n",
        "    reg.fit(trainX,trainY)\n",
        "    mse_tr = mse(trainY, predictions=reg.predict(trainX), got_pred=True)\n",
        "\n",
        "      #  Best epsilon = 0.2639\n",
        "      #  Best C =1.00\n",
        "      #  Slope =  0.2605\n",
        "      #  Intercept Error = 0.0963 \n",
        "      #  Testing Error = 0.3439\n"
      ],
      "execution_count": null,
      "outputs": []
    }
  ]
}
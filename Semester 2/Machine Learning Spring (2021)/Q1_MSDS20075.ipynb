{
  "nbformat": 4,
  "nbformat_minor": 0,
  "metadata": {
    "colab": {
      "name": "Q1_MSDS20075.ipynb",
      "provenance": [],
      "toc_visible": true
    },
    "kernelspec": {
      "name": "python3",
      "display_name": "Python 3"
    },
    "language_info": {
      "name": "python"
    }
  },
  "cells": [
    {
      "cell_type": "code",
      "metadata": {
        "id": "EiDkqp34jzhd"
      },
      "source": [
        "from sklearn.datasets import load_boston\n",
        "from sklearn import linear_model\n",
        "from sklearn.svm import SVR\n",
        "import numpy as np\n",
        "import pandas as pd\n",
        "import seaborn as sns\n",
        "import matplotlib.pyplot as plt\n",
        "from sklearn import datasets\n",
        "from sklearn.linear_model import LinearRegression\n",
        "from sklearn.model_selection import train_test_split, cross_val_score\n",
        "from sklearn.metrics import mean_squared_error as mse\n",
        "from sklearn.preprocessing import StandardScaler"
      ],
      "execution_count": null,
      "outputs": []
    },
    {
      "cell_type": "markdown",
      "metadata": {
        "id": "2xSPAwWGk4fR"
      },
      "source": [
        "**Question 1**\n",
        "\n",
        "1.0.1 Loading and Standardizing Data"
      ]
    },
    {
      "cell_type": "code",
      "metadata": {
        "id": "Urk84SCnkRm6"
      },
      "source": [
        "boston = load_boston()\n",
        "X= boston.data\n",
        "y= boston.target\n",
        "\n",
        "def standardize(data):\n",
        "  mean = np.mean(data, 0)\n",
        "  st_dev = np.std(data, 0)\n",
        "  return (data - mean)/st_dev\n",
        "\n",
        "\n",
        "X = standardize(X)\n",
        "X = np.append(X, np.ones((len(X), 1)), 1)\n",
        "trainX, testX, trainY, testY = train_test_split(X, y, test_size = 0.209, random_state = 15)"
      ],
      "execution_count": null,
      "outputs": []
    },
    {
      "cell_type": "markdown",
      "metadata": {
        "id": "GeVjVIM4mH-P"
      },
      "source": [
        "**1.0.2   Part(A)**"
      ]
    },
    {
      "cell_type": "code",
      "metadata": {
        "id": "DJoRBjyYlsg5"
      },
      "source": [
        "theta = np.dot(np.dot(np.linalg.inv(np.dot(trainX.T, trainX)), trainX.T), trainY)\n",
        "mse_tr = mse(trainY, trainX, theta)\n",
        "mse_test = mse(testY, testX, theta)\n",
        "print('Training Error = {:.4f}\\nTesting Error = {:.4f} '.format(mse_tr, mse_test))"
      ],
      "execution_count": null,
      "outputs": []
    },
    {
      "cell_type": "markdown",
      "metadata": {
        "id": "_Wyr0WPfRmLL"
      },
      "source": [
        "**1.0.4 part (C)**"
      ]
    },
    {
      "cell_type": "code",
      "metadata": {
        "id": "Ao8ATYK8nHQ8"
      },
      "source": [
        "best_alpha = 0\n",
        "err_tr = 1000\n",
        "err_test = 1000\n",
        "\n",
        "for alpha in np.arange(0.0001,1,0.01):\n",
        "  reg = linear_model.Lasso(alpha=alpha)\n",
        "  reg.fit(trainX,trainY)"
      ],
      "execution_count": null,
      "outputs": []
    }
  ]
}
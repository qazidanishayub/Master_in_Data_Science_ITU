{
  "nbformat": 4,
  "nbformat_minor": 0,
  "metadata": {
    "kernelspec": {
      "display_name": "Python 3",
      "language": "python",
      "name": "python3"
    },
    "language_info": {
      "codemirror_mode": {
        "name": "ipython",
        "version": 3
      },
      "file_extension": ".py",
      "mimetype": "text/x-python",
      "name": "python",
      "nbconvert_exporter": "python",
      "pygments_lexer": "ipython3",
      "version": "3.6.3"
    },
    "colab": {
      "name": "hoeffding and knn.ipynb",
      "provenance": []
    }
  },
  "cells": [
    {
      "cell_type": "code",
      "metadata": {
        "id": "JwPPCLR4Th4n"
      },
      "source": [
        "from scipy import signal\n",
        "import numpy as np\n",
        "import math\n",
        "import matplotlib.pyplot as plt"
      ],
      "execution_count": null,
      "outputs": []
    },
    {
      "cell_type": "markdown",
      "metadata": {
        "id": "lgJXf-XmUF3X"
      },
      "source": [
        "# Q1-a"
      ]
    },
    {
      "cell_type": "code",
      "metadata": {
        "colab": {
          "base_uri": "https://localhost:8080/"
        },
        "id": "r3FjXgpZUCKC",
        "outputId": "f272dfa0-518a-4d61-898f-6868daa25e54"
      },
      "source": [
        "from scipy.stats import binom\n",
        "\n",
        "prob = []\n",
        "n,p ,k = 10, 0.05 , 10\n",
        "\n",
        "coins = [1, 1000, 1000000]\n",
        "for m in coins:\n",
        "  ans = binom.pmf(k,n,p)\n",
        "  print(\"For m :\"+ str(m) +\"  Pobability =\"+ str(ans*m))"
      ],
      "execution_count": 1,
      "outputs": [
        {
          "output_type": "stream",
          "text": [
            "For m :1  Pobability =9.765625000000022e-14\n",
            "For m :1000  Pobability =9.765625000000022e-11\n",
            "For m :1000000  Pobability =9.765625000000022e-08\n"
          ],
          "name": "stdout"
        }
      ]
    },
    {
      "cell_type": "markdown",
      "metadata": {
        "id": "e52lqDWtUCmH"
      },
      "source": [
        "# Q1-b"
      ]
    },
    {
      "cell_type": "code",
      "metadata": {
        "id": "gkJY_M0FTh4x"
      },
      "source": [
        "def hoeffding (x, epsilon):\n",
        "    y = 4.0 * math.exp (-2*epsilon*epsilon*x)\n",
        "    return y"
      ],
      "execution_count": null,
      "outputs": []
    },
    {
      "cell_type": "code",
      "metadata": {
        "id": "dUcP-hRETh4y"
      },
      "source": [
        "y1=[]\n",
        "y=np.arange (0, 1, 0.1)\n",
        "for i in y:\n",
        "    y1.append(hoeffding(10,i))"
      ],
      "execution_count": null,
      "outputs": []
    },
    {
      "cell_type": "code",
      "metadata": {
        "id": "QHDtN-aNTh4y",
        "outputId": "d0f09c6c-54e6-4d09-acf1-489396e650db"
      },
      "source": [
        "plt.plot(y1)\n",
        "plt.show()"
      ],
      "execution_count": null,
      "outputs": [
        {
          "output_type": "display_data",
          "data": {
            "image/png": "[encoded data removed]",
            "text/plain": [
              "<matplotlib.figure.Figure at 0x185427a32b0>"
            ]
          },
          "metadata": {
            "tags": []
          }
        }
      ]
    },
    {
      "cell_type": "code",
      "metadata": {
        "colab": {
          "base_uri": "https://localhost:8080/",
          "height": 281
        },
        "id": "QMX1rfN3X4fS",
        "outputId": "54c8af48-1f46-4b9a-9fd5-e7378701f40a"
      },
      "source": [
        "import numpy as np\n",
        "import matplotlib.pyplot as plt\n",
        "from matplotlib.colors import ListedColormap\n",
        "from sklearn import neighbors, datasets\n",
        "\n",
        "np.random.seed(2017) # Set random seed so results are repeatable\n",
        "\n",
        "n = 100 # number of training points\n",
        "k = 1 # number of neighbors to consider \n",
        "\n",
        "## Generate a simple 2D dataset\n",
        "X, y = datasets.make_moons(n,'True',0.3)\n",
        "\n",
        "## Create instance of KNN classifier\n",
        "classifier = neighbors.KNeighborsClassifier(k,'uniform')\n",
        "classifier.fit(X, y)\n",
        "\n",
        "## Plot the decision boundary. \n",
        "# Begin by creating the mesh [x_min, x_max]x[y_min, y_max].\n",
        "h = .02  # step size in the mesh\n",
        "x_delta = (X[:, 0].max() - X[:, 0].min())*0.05 # add 5% white space to border\n",
        "y_delta = (X[:, 1].max() - X[:, 1].min())*0.05\n",
        "x_min, x_max = X[:, 0].min() - x_delta, X[:, 0].max() + x_delta\n",
        "y_min, y_max = X[:, 1].min() - y_delta, X[:, 1].max() + y_delta\n",
        "xx, yy = np.meshgrid(np.arange(x_min, x_max, h), np.arange(y_min, y_max, h))\n",
        "Z = classifier.predict(np.c_[xx.ravel(), yy.ravel()])\n",
        "\n",
        "# Create color maps\n",
        "cmap_light = ListedColormap(['#FFAAAA', '#AAFFAA'])\n",
        "cmap_bold = ListedColormap(['#FF0000', '#00FF00'])\n",
        "\n",
        "# Put the result into a color plot\n",
        "Z = Z.reshape(xx.shape)\n",
        "plt.figure()\n",
        "plt.pcolormesh(xx, yy, Z, cmap=cmap_light)\n",
        "\n",
        "## Plot the training points\n",
        "plt.scatter(X[:, 0], X[:, 1], c=y, cmap=cmap_bold)\n",
        "plt.xlim(xx.min(), xx.max())\n",
        "plt.ylim(yy.min(), yy.max())\n",
        "plt.title(\"%i-NN classifier trained on %i data points\" % (k,n))\n",
        "\n",
        "## Show the plot\n",
        "plt.show()\n"
      ],
      "execution_count": 16,
      "outputs": [
        {
          "output_type": "display_data",
          "data": {
            "image/png": "[encoded data removed]",
            "text/plain": [
              "<Figure size 432x288 with 1 Axes>"
            ]
          },
          "metadata": {
            "tags": [],
            "needs_background": "light"
          }
        }
      ]
    },
    {
      "cell_type": "code",
      "metadata": {
        "id": "ZvltpavpTh40"
      },
      "source": [
        ""
      ],
      "execution_count": null,
      "outputs": []
    }
  ]
}
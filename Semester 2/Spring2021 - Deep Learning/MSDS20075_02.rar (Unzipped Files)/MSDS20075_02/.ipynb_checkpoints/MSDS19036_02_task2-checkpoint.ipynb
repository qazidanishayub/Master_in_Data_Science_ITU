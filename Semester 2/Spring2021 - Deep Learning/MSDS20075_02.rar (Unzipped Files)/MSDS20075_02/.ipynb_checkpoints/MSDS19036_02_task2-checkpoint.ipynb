{
 "cells": [
  {
   "cell_type": "markdown",
   "metadata": {},
   "source": [
    "<h1><center>Deep Learning</center></h1>\n",
    "<h2><center>Assignment # 2</center></h2>\n",
    "<h3><center>Task # 2</center></h3>"
   ]
  },
  {
   "cell_type": "code",
   "execution_count": 42,
   "metadata": {},
   "outputs": [],
   "source": [
    "# Include libraries which may use in implementation\n",
    "import numpy as np\n",
    "import random\n",
    "import sklearn.datasets as ds\n",
    "import matplotlib.pyplot as plt\n",
    "import pickle\n",
    "%matplotlib inline\n"
   ]
  },
  {
   "cell_type": "code",
   "execution_count": 36,
   "metadata": {},
   "outputs": [],
   "source": [
    "# Create a Neural_Network class\n",
    "class Neural_Network(object):        \n",
    "    def __init__(self,inputSize = 2,hiddenlayer = 3, outputSize = 1 ):        \n",
    "        # size of layers\n",
    "        self.inputSize = inputSize\n",
    "        self.outputSize = outputSize \n",
    "        self.hiddenLayer = hiddenlayer\n",
    "        \n",
    "        #self.l1=None \n",
    "        #self.l2=None\n",
    "        \n",
    "        #weights\n",
    "        \n",
    "        # randomly initialize W1 using random function of numpy\n",
    "        # size of the wieght will be (inputSize +1, hiddenlayer) that +1 is for bias    \n",
    "        self.W1 = np.random.rand(inputSize+1,3)\n",
    "        #self.B1=np.random.rand(1)\n",
    "        \n",
    "        # randomly initialize W2 using random function of numpy\n",
    "        # size of the wieght will be (hiddenlayer +1, outputSize) that +1 is for bias    \n",
    "        \n",
    "        self.W2 =np.random.rand(hiddenlayer+1,1)\n",
    "        #self.B2=np.random.rand(1)\n",
    "        \n",
    "    def feedforward(self, X):\n",
    "        #forward propagation through our network\n",
    "        # dot product of X (input) and set of weights\n",
    "        # apply activation function (i.e. whatever function was passed in initialization)    \n",
    "        \n",
    "        '''\n",
    "        self.layer1 = np.dot(X,self.W1)+self.B1\n",
    "        self.l1 = self.sigmoid(self.layer1)\n",
    "        self.layer2 = np.dot(self.l1,self.W2)+self.B2\n",
    "        self.l2 = self.sigmoid(self.layer2)\n",
    "        return self.l2\n",
    "        '''\n",
    "        self.layer1 = np.dot(X,self.W1)\n",
    "        self.l1 = self.sigmoid(self.layer1)\n",
    "        \n",
    "        vector_of_ones = np.ones((self.l1.shape[0],1),dtype=int)\n",
    "        self.l1_s_with_bais = np.concatenate((self.l1,vector_of_ones),axis=1)\n",
    "        \n",
    "        self.layer2 = np.dot(self.l1_s_with_bais,self.W2)\n",
    "        self.l2 = self.sigmoid(self.layer2)\n",
    "\n",
    "        return self.l2\n",
    "        \n",
    "\n",
    "    def sigmoid(self, s):\n",
    "        return 1 / (1 + np.exp(-s))\n",
    "    \n",
    "    def sigmoid_derivative(self, s):\n",
    "        return s*(1-s)\n",
    "    \n",
    "    def tanh(self, s):\n",
    "        th=np.exp(s)-np.exp(-s)/np.exp(s)+np.exp(-s)\n",
    "        return th\n",
    "\n",
    "    def tanh_derivative(self, s):\n",
    "        return (1-(self.tanh(s)**2))\n",
    "    \n",
    "    def relu(self, s):\n",
    "        return np.maximum(0, s)\n",
    "\n",
    "    def relu_derivative(self, s):\n",
    "        s[s<=0] = 0\n",
    "        s[s>0] = 1\n",
    "        return s\n",
    "\n",
    "    def backwardpropagate(self,X, Y, y_pred, lr):\n",
    "        # backward propagate through the network\n",
    "        # compute error in output which is loss compute cross entropy loss function\n",
    "        # applying derivative of that applied activation function to the error\n",
    "        # adjust set of weights\n",
    "        \n",
    "        '''0\n",
    "        error1 = y_pred - Y\n",
    "        td=self.relu_derivative(self.layer1)\n",
    "        error2 = np.dot(td,np.dot(error1,self.W2.T))\n",
    "        \n",
    "        self.W2=np.dot(self.l1.T,error1)\n",
    "        self.B2=error1\n",
    "        self.W1=np.dot(np.dot(X.T),error2)\n",
    "        self.B1=error2\n",
    "        '''\n",
    "        \n",
    "        self.err = self.crossentropy(Y,y_pred)\n",
    "        \n",
    "        sig_der_err_l2 = np.dot(np.transpose(self.l1_s_with_bais),(self.sigmoid_derivative(y_pred)*(y_pred-Y)))\n",
    "        sid_der_err_l2_for_l1 = (np.dot((y_pred-Y)*self.sigmoid_derivative(y_pred),np.transpose(self.W2))*self.sigmoid_derivative(self.l1_s_with_bais))\n",
    "        \n",
    "        sid_der_err_l2_for_l1_without_l2_baise, l2_b = np.hsplit(sid_der_err_l2_for_l1,np.array([3,]))\n",
    "        sig_der_err_l1 = np.dot(np.transpose(X),sid_der_err_l2_for_l1_without_l2_baise)                      \n",
    "        # adjust set of weights\n",
    "        self.W1 -= lr*sig_der_err_l1\n",
    "        self.W2 -= lr*sig_der_err_l2\n",
    "        \n",
    "        \n",
    "    \n",
    "    def crossentropy(self, Y, Y_pred):\n",
    "\n",
    "        return (-sum([(Y[i]*np.log(Y_pred[i]))+((1-Y[i])*np.log(1-Y_pred[i])) for i in range(len(Y))])/len(Y)) #error\n",
    "\n",
    "    def train(self, trainX, trainY,epochs = 100, learningRate = 0.001, plot_err = True ,validationX = None, validationY = None):\n",
    "        # feed forward trainX and trainY and recivce predicted value\n",
    "        # backpropagation with trainX, trainY, predicted value and learning rate.\n",
    "        # if validationX and validationY are not null than show validation accuracy and error of the model by printing values.\n",
    "        # plot error of the model if plot_err is true\n",
    "        error=[]\n",
    "        validER=[]\n",
    "        for i in range(epochs):\n",
    "            YP=self.feedforward(trainX)\n",
    "            self.backwardpropagate(trainX,trainY,YP,learningRate)\n",
    "            error.append(self.crossentropy(trainY,YP))\n",
    "            \n",
    "            if(validationX.all !=None and validationY.all!=None):\n",
    "                a=0\n",
    "                count=0\n",
    "                for i in range(len(validationX)):\n",
    "                    yp = self.predict(validationX[i][None,:])\n",
    "                    if yp < 0.5: a=0\n",
    "                    if yp >= 0.5: a=1\n",
    "                    if a == validationY[i]: count=count+1\n",
    "                validER.append(count/len(validationX))\n",
    "                \n",
    "        if plot_err==True:\n",
    "            plt.plot(error,label=\"Error\")\n",
    "            plt.show()\n",
    "            plt.plot(validER,label=\"Accuracy: Validation \")\n",
    "            plt.show()\n",
    "            \n",
    "    \n",
    "            \n",
    "\n",
    "    def predict(self, testX):\n",
    "        # predict the value of testX\n",
    "        return self.feedforward(testX)\n",
    "    \n",
    "    def accuracy(self, testX, testY):\n",
    "        total=len(testX)\n",
    "        count=0\n",
    "        a=0\n",
    "        \n",
    "        test_acc_list = []\n",
    "        for i in range(total):\n",
    "            yp=self.predict(testX[i][None,:])\n",
    "            if yp < 0.5: a=0\n",
    "            if yp >= 0.5: a=1\n",
    "            if a==int(testY[i]):\n",
    "                count=count+1\n",
    "        return (count/total)*100\n",
    "        \n",
    "       \n",
    "    \n",
    "    def saveModel(self,name):\n",
    "        # save your trained model, it is your interpretation how, which and what data you store\n",
    "        # which you will use later for prediction\n",
    "        file = open(name, 'wb')\n",
    "        \n",
    "        input_size=self.inputSize\n",
    "        output_size=self.outputSize\n",
    "        hiddenlayer=self.hiddenLayer\n",
    "        w1=self.W1\n",
    "        w2=self.W2\n",
    "        \n",
    "        model_data={\n",
    "            \"input_size\":input_size,\n",
    "            \"output_size\":output_size,\n",
    "            \"hiddenlayer\":hiddenlayer,\n",
    "            \"w1\":w1,\n",
    "            \"w2\":w2}\n",
    "        \n",
    "        #model_data=[input_size,output_size,weights,bias]\n",
    "        #pickle.dumps(model, file)\n",
    "        file.write(pickle.dumps(model_data))\n",
    "        print(model_data)\n",
    "        file.close()\n",
    "        print(\"Model saved successfully\")\n",
    "\n",
    "        \n",
    "    def loadModel(self,name):\n",
    "        datax = pickle.loads(open(name, \"rb\").read())\n",
    "        \n",
    "        self.inputSize=datax['input_size']\n",
    "        self.outputSize=datax['output_size']\n",
    "        self.hiddenLayer=datax['hiddenlayer']\n",
    "        self.W1=datax['w1']\n",
    "        self.W2=datax['w2']\n",
    "        print(datax)\n",
    "        "
   ]
  },
  {
   "cell_type": "code",
   "execution_count": 3,
   "metadata": {},
   "outputs": [
    {
     "data": {
      "image/png": "[encoded data removed]",
      "text/plain": [
       "<matplotlib.figure.Figure at 0x29e6ebbc5c0>"
      ]
     },
     "metadata": {},
     "output_type": "display_data"
    }
   ],
   "source": [
    "data, label = ds.make_circles(n_samples=1000, factor=.4, noise=0.05)\n",
    "\n",
    "#Lets visualize the dataset\n",
    "reds = label == 0\n",
    "blues = label == 1\n",
    "plt.scatter(data[reds, 0], data[reds, 1], c=\"red\", s=20, edgecolor='k')\n",
    "plt.scatter(data[blues, 0], data[blues, 1], c=\"blue\", s=20, edgecolor='k')\n",
    "plt.show()\n"
   ]
  },
  {
   "cell_type": "code",
   "execution_count": 4,
   "metadata": {},
   "outputs": [],
   "source": [
    "label=label.reshape(len(label),1)"
   ]
  },
  {
   "cell_type": "code",
   "execution_count": 5,
   "metadata": {},
   "outputs": [],
   "source": [
    "vector_of_ones = np.ones((data.shape[0],1),dtype=int)\n",
    "data = np.concatenate((data,vector_of_ones),axis=1)\n",
    "#Note: shuffle this dataset before dividing it into three parts\n",
    "\n",
    "td=np.concatenate((data,label),axis=1)\n",
    "np.random.shuffle(td)\n",
    "data,label=np.hsplit(td,np.array([3,]))\n",
    "# Distribute this data into three parts i.e. training, validation and testing\n",
    "trainX,testX,validX=np.split(data, [int(.6 * len(data)), int(.8 * len(data))])\n",
    "trainY,testY,validY=np.split(label, [int(.6 * len(label)), int(.8 * len(label))])"
   ]
  },
  {
   "cell_type": "code",
   "execution_count": 6,
   "metadata": {},
   "outputs": [
    {
     "name": "stdout",
     "output_type": "stream",
     "text": [
      "(600, 3)\n",
      "(600, 1)\n"
     ]
    }
   ],
   "source": [
    "print(trainX.shape)\n",
    "print(trainY.shape)"
   ]
  },
  {
   "cell_type": "code",
   "execution_count": 7,
   "metadata": {},
   "outputs": [
    {
     "name": "stdout",
     "output_type": "stream",
     "text": [
      "(600, 3)\n",
      "(200, 3)\n",
      "(200, 3)\n",
      "(600, 1)\n",
      "(200, 1)\n",
      "(200, 1)\n"
     ]
    }
   ],
   "source": [
    "print(trainX.shape)\n",
    "print(testX.shape)\n",
    "print(validX.shape)\n",
    "print(trainY.shape)\n",
    "print(testY.shape)\n",
    "print(validY.shape)"
   ]
  },
  {
   "cell_type": "code",
   "execution_count": 47,
   "metadata": {},
   "outputs": [
    {
     "data": {
      "image/png": "[encoded data removed]",
      "text/plain": [
       "<matplotlib.figure.Figure at 0x29e70de2908>"
      ]
     },
     "metadata": {},
     "output_type": "display_data"
    },
    {
     "data": {
      "image/png": "[encoded data removed]",
      "text/plain": [
       "<matplotlib.figure.Figure at 0x29e71f83588>"
      ]
     },
     "metadata": {},
     "output_type": "display_data"
    }
   ],
   "source": [
    "model = Neural_Network(2,3,1)\n",
    "# try different combinations of epochs and learning rate\n",
    "model.train(trainX, trainY, epochs = 1200, learningRate = 0.009, validationX = validX, validationY = validY)"
   ]
  },
  {
   "cell_type": "code",
   "execution_count": 48,
   "metadata": {},
   "outputs": [
    {
     "data": {
      "text/plain": [
       "100.0"
      ]
     },
     "execution_count": 48,
     "metadata": {},
     "output_type": "execute_result"
    }
   ],
   "source": [
    "model.accuracy(trainX,trainY)"
   ]
  },
  {
   "cell_type": "code",
   "execution_count": 49,
   "metadata": {},
   "outputs": [
    {
     "name": "stdout",
     "output_type": "stream",
     "text": [
      "{'input_size': 2, 'output_size': 1, 'hiddenlayer': 3, 'w1': array([[ 4.19990884,  6.34205294, -1.92007651],\n",
      "       [ 5.69112356, -0.97946043,  4.6136181 ],\n",
      "       [ 3.76895888, -3.62869715, -2.48729083]]), 'w2': array([[ 6.59617896],\n",
      "       [-6.82263924],\n",
      "       [-6.40441232],\n",
      "       [-2.53944095]])}\n",
      "Model saved successfully\n"
     ]
    }
   ],
   "source": [
    "#save the best model which you have trained, \n",
    "model.saveModel('bestmodelt2.mdl')"
   ]
  },
  {
   "cell_type": "markdown",
   "metadata": {},
   "source": [
    "#### Note: This below section will be used for the evaluation of this task, we need your model and we will run script below to evaluated your model"
   ]
  },
  {
   "cell_type": "code",
   "execution_count": 52,
   "metadata": {},
   "outputs": [
    {
     "name": "stdout",
     "output_type": "stream",
     "text": [
      "{'input_size': 2, 'output_size': 1, 'hiddenlayer': 3, 'w1': array([[ 4.19990884,  6.34205294, -1.92007651],\n",
      "       [ 5.69112356, -0.97946043,  4.6136181 ],\n",
      "       [ 3.76895888, -3.62869715, -2.48729083]]), 'w2': array([[ 6.59617896],\n",
      "       [-6.82263924],\n",
      "       [-6.40441232],\n",
      "       [-2.53944095]])}\n",
      "Accuracy:  100.0 %\n"
     ]
    }
   ],
   "source": [
    "mm = Neural_Network()\n",
    "mm.loadModel('bestmodelt2.mdl')\n",
    "\n",
    "acc=mm.accuracy(testX,testY)\n",
    "print(\"Accuracy: \",acc, \"%\")\n"
   ]
  },
  {
   "cell_type": "code",
   "execution_count": null,
   "metadata": {},
   "outputs": [],
   "source": []
  }
 ],
 "metadata": {
  "kernelspec": {
   "display_name": "Python 3",
   "language": "python",
   "name": "python3"
  },
  "language_info": {
   "codemirror_mode": {
    "name": "ipython",
    "version": 3
   },
   "file_extension": ".py",
   "mimetype": "text/x-python",
   "name": "python",
   "nbconvert_exporter": "python",
   "pygments_lexer": "ipython3",
   "version": "3.6.3"
  }
 },
 "nbformat": 4,
 "nbformat_minor": 2
}

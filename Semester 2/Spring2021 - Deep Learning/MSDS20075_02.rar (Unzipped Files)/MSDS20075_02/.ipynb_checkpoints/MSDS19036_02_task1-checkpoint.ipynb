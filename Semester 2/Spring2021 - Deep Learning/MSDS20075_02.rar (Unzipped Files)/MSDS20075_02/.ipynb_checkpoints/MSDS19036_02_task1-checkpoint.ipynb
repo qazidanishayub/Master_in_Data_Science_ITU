{
 "cells": [
  {
   "cell_type": "markdown",
   "metadata": {},
   "source": [
    "<h1><center>Deep Learning</center></h1>\n",
    "<h2><center>Assignment # 2</center></h2>\n",
    "<h3><center>Task # 1</center></h3>"
   ]
  },
  {
   "cell_type": "code",
   "execution_count": 1,
   "metadata": {},
   "outputs": [],
   "source": [
    "# Include libraries which may use in implementation\n",
    "import numpy as np\n",
    "import random\n",
    "import matplotlib.pyplot as plt\n",
    "from math import log\n",
    "import pickle\n",
    "%matplotlib inline\n"
   ]
  },
  {
   "cell_type": "code",
   "execution_count": 2,
   "metadata": {},
   "outputs": [],
   "source": [
    "# Create a Neural_Network class\n",
    "class Neural_Network(object):    \n",
    "    def __init__(self,inputSize = 2,outputSize = 1 ):        \n",
    "        # size of layers\n",
    "        self.inputSize = inputSize\n",
    "        self.outputSize = outputSize    \n",
    "        #weights\n",
    "        # randomly initialize W1 using random function of numpy\n",
    "        # size of the wieght will be (inputSize +1, outputSize) that +1 is for bias    \n",
    "        self.W1 = np.random.rand(2,1) \n",
    "        self.Bias=np.random.rand(1)\n",
    "        \n",
    "\n",
    "    def feedforward(self, X):\n",
    "        # dot product of X (input) and set of weights\n",
    "        prod=np.dot(X,self.W1)+self.Bias\n",
    "        # apply activation function (i.e. sigmoid)\n",
    "        return self.sigmoid(prod)\n",
    "\n",
    "    def sigmoid(self, s):\n",
    "        return 1 / (1 + np.exp(-s))\n",
    "\n",
    "    def sigmoid_derivative(self, s):\n",
    "        return s*(1-s)\n",
    "\n",
    "    def backwardpropagate(self,X, Y, y_pred, lr):\n",
    "        # backward propagate through the network\n",
    "        # compute error in output which is loss compute cross entropy loss function\n",
    "        # applying derivative of sigmoid to the error\n",
    "        # adjust set of weights\n",
    "        # 2(y-yhat)*s(1-s)*x\n",
    "        \n",
    "        #W = np.dot(X.T, (lr*(Y - y_pred) * self.sigmoid_derivative(y_pred)))\n",
    "        #self.W1 += W\n",
    "        \n",
    "        # backpropagation step 1\n",
    "        \n",
    "        error = y_pred - Y\n",
    "        dcost_dpred = error\n",
    "        dpred_dz = self.sigmoid_derivative(y_pred)\n",
    "        z_delta = dcost_dpred * dpred_dz\n",
    "        inputs = X.T\n",
    "        self.W1 -= lr * np.dot(inputs, z_delta)\n",
    "        for num in z_delta:\n",
    "            self.Bias -= lr * num\n",
    "    \n",
    "    def crossentropy(self, Y, Y_pred):\n",
    "        # compute error based on crossentropy loss \n",
    "        sum_score = 0.0\n",
    "        for i in range(len(Y)):\n",
    "            sum_score += Y[i] * log(1e-15 + Y_pred[i])\n",
    "            mean_sum_score = 1.0 / len(Y) * sum_score\n",
    "        return -mean_sum_score\n",
    "\n",
    "    def train(self, trainX, trainY,epochs = 100, learningRate = 0.001, plot_err = True ,validationX = None, validationY = None):\n",
    "        \n",
    "        # feed forward trainX and trainY and recivce predicted value\n",
    "        # backpropagation with trainX, trainY, predicted value and learning rate.\n",
    "        # if validationX and validationY are not null than show validation accuracy and error of the model.\n",
    "        # plot error of the model if plot_err is true\n",
    "        error=[]\n",
    "        for i in range(epochs):\n",
    "            YP=self.feedforward(trainX)\n",
    "            self.backwardpropagate(trainX,trainY,YP,learningRate)\n",
    "            error.append(self.crossentropy(trainY,YP))\n",
    "        if plot_err==True:\n",
    "            plt.plot(error)\n",
    "    \n",
    "\n",
    "    def predict(self, testX):\n",
    "        return self.feedforward(testX)\n",
    "    \n",
    "    def accuracy(self, testX, testY):\n",
    "        # predict the value of trainX\n",
    "        total=len(testX)\n",
    "        count=0\n",
    "        a=0\n",
    "        # compare it with testY\n",
    "        for i in range(total):\n",
    "            yp=self.predict(testX[i])\n",
    "            if yp < 0.5: a=0\n",
    "            if yp >= 0.5: a=1\n",
    "            #print(yp,a)\n",
    "            if a==int(testY[i]):\n",
    "                count=count+1\n",
    "        \n",
    "        # compute accuracy, print it and show in the form of picture\n",
    "        return (count/total)*100 # return accuracy    \n",
    "    \n",
    "    def saveModel(self,name):\n",
    "        # save your trained model, it is your interpretation how, which and what data you store\n",
    "        # which you will use later for prediction\n",
    "        file = open(name, 'wb')\n",
    "        model_data={\n",
    "            \"input_size\":self.inputSize,\n",
    "            \"output_size\":self.outputSize,\n",
    "            \"weights\":self.W1,\n",
    "            \"bias\":self.Bias}\n",
    "        \n",
    "        pickle.dump(model, file)\n",
    "        print(model_data)\n",
    "        file.close()\n",
    "        print(\"Model saved successfully\")\n",
    "\n",
    "    \n",
    "    def loadModel(self,name):\n",
    "        # load your trained model, load exactly how you stored it.\n",
    "        file = open(name, 'r',errors=\"ignore\")\n",
    "        model_data = pickle.load(file)\n",
    "        file.close()\n",
    "        print(model_data)\n",
    "        \n"
   ]
  },
  {
   "cell_type": "code",
   "execution_count": 3,
   "metadata": {},
   "outputs": [
    {
     "data": {
      "image/png": "[encoded data removed]",
      "text/plain": [
       "<matplotlib.figure.Figure at 0x1e946502080>"
      ]
     },
     "metadata": {},
     "output_type": "display_data"
    }
   ],
   "source": [
    "# generating dataset point\n",
    "np.random.seed(1)\n",
    "no_of_samples = 2000\n",
    "dims = 2\n",
    "#Generating random points of values between 0 to 1\n",
    "class1=np.random.rand(no_of_samples,dims)\n",
    "#To add separability we will add a bias of 1.1\n",
    "class2=np.random.rand(no_of_samples,dims)+1.1\n",
    "class_1_label=np.array([1 for n in range(no_of_samples)])\n",
    "class_2_label=np.array([0 for n in range(no_of_samples)])\n",
    "#Lets visualize the dataset\n",
    "plt.scatter(class1[:,0],class1[:,1], marker='^', label=\"class 1\")\n",
    "plt.scatter(class2[:,0],class2[:,1], marker='o', label=\"class 2\")\n",
    "plt.xlabel('Dimension 1')\n",
    "plt.ylabel('Dimension 2')\n",
    "plt.legend(loc='best')\n",
    "plt.show()"
   ]
  },
  {
   "cell_type": "code",
   "execution_count": 4,
   "metadata": {},
   "outputs": [],
   "source": [
    "# Data concatenation\n",
    "data = np.concatenate((class1,class2),axis=0)\n",
    "label = np.concatenate((class_1_label,class_2_label),axis=0)\n",
    "# Reshape label\n",
    "label=label.reshape(4000,1)\n",
    "# Concatenating data for shuffling \n",
    "td=np.concatenate((data,label),axis=1)\n",
    "np.random.shuffle(td)\n",
    "\n",
    "\n",
    "#Split Data into two columns again\n",
    "data,label=np.hsplit(td,np.array([2,]))\n",
    "\n",
    "# Distribute this data into three parts i.e. training, validation and testing\n",
    "#trainX, testX, trainY, testY = train_test_split(data,label, test_size=0.4)\n",
    "\n",
    "trainX,testX,validX=np.split(data, [int(.6 * len(data)), int(.8 * len(data))])\n",
    "trainY,testY,validY=np.split(label, [int(.6 * len(label)), int(.8 * len(label))])"
   ]
  },
  {
   "cell_type": "code",
   "execution_count": 5,
   "metadata": {},
   "outputs": [
    {
     "name": "stdout",
     "output_type": "stream",
     "text": [
      "(2400, 2)\n",
      "(800, 2)\n",
      "(800, 2)\n",
      "(2400, 1)\n",
      "(800, 1)\n",
      "(800, 1)\n"
     ]
    }
   ],
   "source": [
    "print(trainX.shape)\n",
    "print(testX.shape)\n",
    "print(validX.shape)\n",
    "print(trainY.shape)\n",
    "print(testY.shape)\n",
    "print(validY.shape)"
   ]
  },
  {
   "cell_type": "code",
   "execution_count": 6,
   "metadata": {},
   "outputs": [
    {
     "data": {
      "image/png": "[encoded data removed]",
      "text/plain": [
       "<matplotlib.figure.Figure at 0x1e93e3ceb38>"
      ]
     },
     "metadata": {},
     "output_type": "display_data"
    }
   ],
   "source": [
    "model = Neural_Network(2,1)\n",
    "# try different combinations of epochs and learning rate\n",
    "model.train(trainX, trainY, epochs = 150, learningRate = 0.001,plot_err=True, validationX = validX, validationY = validY)"
   ]
  },
  {
   "cell_type": "code",
   "execution_count": 7,
   "metadata": {},
   "outputs": [
    {
     "name": "stdout",
     "output_type": "stream",
     "text": [
      "100.0\n"
     ]
    }
   ],
   "source": [
    "print(model.accuracy(testX,testY))"
   ]
  },
  {
   "cell_type": "code",
   "execution_count": 8,
   "metadata": {},
   "outputs": [
    {
     "name": "stdout",
     "output_type": "stream",
     "text": [
      "{'input_size': 2, 'output_size': 1, 'weights': array([[-1.83551355],\n",
      "       [-2.09819312]]), 'bias': array([3.99180256])}\n",
      "Model saved successfully\n"
     ]
    }
   ],
   "source": [
    "#save the best model which you have trained, \n",
    "model.saveModel('bestmodel.pkl')"
   ]
  },
  {
   "cell_type": "code",
   "execution_count": 9,
   "metadata": {},
   "outputs": [
    {
     "ename": "TypeError",
     "evalue": "a bytes-like object is required, not 'str'",
     "output_type": "error",
     "traceback": [
      "\u001b[1;31m---------------------------------------------------------------------------\u001b[0m",
      "\u001b[1;31mTypeError\u001b[0m                                 Traceback (most recent call last)",
      "\u001b[1;32m<ipython-input-9-591592ccc738>\u001b[0m in \u001b[0;36m<module>\u001b[1;34m()\u001b[0m\n\u001b[1;32m----> 1\u001b[1;33m \u001b[0mmodel\u001b[0m\u001b[1;33m.\u001b[0m\u001b[0mloadModel\u001b[0m\u001b[1;33m(\u001b[0m\u001b[1;34m'bestmodel.pkl'\u001b[0m\u001b[1;33m)\u001b[0m\u001b[1;33m\u001b[0m\u001b[0m\n\u001b[0m",
      "\u001b[1;32m<ipython-input-2-7b9b6cf69db9>\u001b[0m in \u001b[0;36mloadModel\u001b[1;34m(self, name)\u001b[0m\n\u001b[0;32m    107\u001b[0m         \u001b[1;31m# load your trained model, load exactly how you stored it.\u001b[0m\u001b[1;33m\u001b[0m\u001b[1;33m\u001b[0m\u001b[0m\n\u001b[0;32m    108\u001b[0m         \u001b[0mfile\u001b[0m \u001b[1;33m=\u001b[0m \u001b[0mopen\u001b[0m\u001b[1;33m(\u001b[0m\u001b[0mname\u001b[0m\u001b[1;33m,\u001b[0m \u001b[1;34m'r'\u001b[0m\u001b[1;33m,\u001b[0m\u001b[0mencoding\u001b[0m\u001b[1;33m=\u001b[0m\u001b[1;34m'cp437'\u001b[0m\u001b[1;33m)\u001b[0m\u001b[1;33m\u001b[0m\u001b[0m\n\u001b[1;32m--> 109\u001b[1;33m         \u001b[0mmodel_data\u001b[0m \u001b[1;33m=\u001b[0m \u001b[0mpickle\u001b[0m\u001b[1;33m.\u001b[0m\u001b[0mload\u001b[0m\u001b[1;33m(\u001b[0m\u001b[0mfile\u001b[0m\u001b[1;33m)\u001b[0m\u001b[1;33m\u001b[0m\u001b[0m\n\u001b[0m\u001b[0;32m    110\u001b[0m         \u001b[0mfile\u001b[0m\u001b[1;33m.\u001b[0m\u001b[0mclose\u001b[0m\u001b[1;33m(\u001b[0m\u001b[1;33m)\u001b[0m\u001b[1;33m\u001b[0m\u001b[0m\n\u001b[0;32m    111\u001b[0m         \u001b[0mprint\u001b[0m\u001b[1;33m(\u001b[0m\u001b[0mmodel_data\u001b[0m\u001b[1;33m)\u001b[0m\u001b[1;33m\u001b[0m\u001b[0m\n",
      "\u001b[1;31mTypeError\u001b[0m: a bytes-like object is required, not 'str'"
     ]
    }
   ],
   "source": [
    "model.loadModel('bestmodel.pkl')"
   ]
  },
  {
   "cell_type": "markdown",
   "metadata": {},
   "source": [
    "#### Note: This below section will be used for the evaluation of this task, we need your model and we will run script below to evaluated your model"
   ]
  },
  {
   "cell_type": "code",
   "execution_count": null,
   "metadata": {},
   "outputs": [],
   "source": [
    "# create class object\n",
    "mm = Neural_Network()\n",
    "# load model which will be provided by you\n",
    "mm.load('bestmodel.mdl')\n",
    "# check accuracy of that model\n",
    "mm.accuracy(testX,testY)\n",
    "\n",
    "\n"
   ]
  }
 ],
 "metadata": {
  "kernelspec": {
   "display_name": "Python 3",
   "language": "python",
   "name": "python3"
  },
  "language_info": {
   "codemirror_mode": {
    "name": "ipython",
    "version": 3
   },
   "file_extension": ".py",
   "mimetype": "text/x-python",
   "name": "python",
   "nbconvert_exporter": "python",
   "pygments_lexer": "ipython3",
   "version": "3.6.3"
  }
 },
 "nbformat": 4,
 "nbformat_minor": 2
}

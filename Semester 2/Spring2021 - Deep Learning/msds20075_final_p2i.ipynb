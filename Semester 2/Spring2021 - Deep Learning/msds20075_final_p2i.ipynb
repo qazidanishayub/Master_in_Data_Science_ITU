{
  "nbformat": 4,
  "nbformat_minor": 0,
  "metadata": {
    "colab": {
      "name": "msds20075_final_p2i.ipynb",
      "provenance": []
    },
    "kernelspec": {
      "name": "python3",
      "display_name": "Python 3"
    },
    "language_info": {
      "name": "python"
    }
  },
  "cells": [
    {
      "cell_type": "markdown",
      "metadata": {
        "id": "X5ZdDYUrHxsA"
      },
      "source": [
        "**declaring input variables**"
      ]
    },
    {
      "cell_type": "code",
      "metadata": {
        "id": "FjB7RuNaGXKf"
      },
      "source": [
        "p = (2, 0.1)\n",
        "x = (2, 0.1)\n",
        "decision_boundry = ((0, -2), (2, 0))\n",
        "epcilon = 0.001\n",
        "adv_x = x + epiclon * sign(x+fgsm(x, )"
      ],
      "execution_count": null,
      "outputs": []
    },
    {
      "cell_type": "markdown",
      "metadata": {
        "id": "OTypdGReH06I"
      },
      "source": [
        "**applying the formula**"
      ]
    },
    {
      "cell_type": "code",
      "metadata": {
        "id": "xO9GZyBhGXMr"
      },
      "source": [
        "p2 = (0.3, -2)"
      ],
      "execution_count": null,
      "outputs": []
    },
    {
      "cell_type": "markdown",
      "metadata": {
        "id": "WFSiiCoqH6UA"
      },
      "source": [
        "**computing smallest epcilon**"
      ]
    },
    {
      "cell_type": "code",
      "metadata": {
        "id": "Dpw-tGzBGXPT"
      },
      "source": [
        "#gradient Descent update\n",
        "\n",
        "w1 = w -loss\n",
        "w1 = w+logP(at/st)Rt"
      ],
      "execution_count": null,
      "outputs": []
    }
  ]
}
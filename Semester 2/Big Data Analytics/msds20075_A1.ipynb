{
 "cells": [
  {
   "cell_type": "markdown",
   "metadata": {},
   "source": [
    "# Name Roll Number\n",
    "**Qazi Danish Ayub MSDS20075**"
   ]
  },
  {
   "cell_type": "markdown",
   "metadata": {},
   "source": [
    "# Q1:\n",
    "**Can two identical transactions with different transaction Id’s exist in this table?**\n",
    "Ans: No, there is no identical transaction exist with different transaction id's"
   ]
  },
  {
   "cell_type": "markdown",
   "metadata": {},
   "source": [
    "**Is the above table is normalized form? If not, what normalization properties it abides?**\n",
    "Ans:No table is not normalized.And It abides following properties:\n",
    "       1 Atomic Values\n",
    "       2 Have Partial Dependency\n"
   ]
  },
  {
   "cell_type": "markdown",
   "metadata": {},
   "source": []
  },
  {
   "cell_type": "markdown",
   "metadata": {},
   "source": [
    "# Q3:\n",
    "Convert the table into 1st, 2nd and 3rd normal forms."
   ]
  },
  {
   "cell_type": "code",
   "execution_count": 3,
   "metadata": {},
   "outputs": [],
   "source": [
    "import psycopg2"
   ]
  },
  {
   "cell_type": "code",
   "execution_count": 4,
   "metadata": {},
   "outputs": [],
   "source": [
    "# Create a connection\n",
    "try: \n",
    "    conn = psycopg2.connect(\"host=127.0.0.1 user=postgres password=12345678\")\n",
    "except psycopg2.Error as e: \n",
    "    print(\"Error: Could not make connection to the Postgres database\")\n",
    "    print(e)\n",
    "    \n",
    "# get a cursor    \n",
    "try: \n",
    "    cur = conn.cursor()\n",
    "except psycopg2.Error as e: \n",
    "    print(\"Error: Could not get curser to the Database\")\n",
    "    print(e)\n",
    "    \n",
    "# set the autocommit to true    \n",
    "conn.set_session(autocommit=True)"
   ]
  },
  {
   "cell_type": "code",
   "execution_count": 5,
   "metadata": {},
   "outputs": [],
   "source": [
    "# Create a DataBase with name Assignment1\n",
    "cur.execute(\"\"\"Create database dbassignment1\"\"\")"
   ]
  },
  {
   "cell_type": "code",
   "execution_count": 6,
   "metadata": {},
   "outputs": [],
   "source": [
    "# Create a connection\n",
    "try: \n",
    "    conn1 = psycopg2.connect(\"host=127.0.0.1 dbname=dbassignment1 user=postgres password=12345678\")\n",
    "except psycopg2.Error as e: \n",
    "    print(\"Error: Could not make connection to the Postgres database\")\n",
    "    print(e)\n",
    "    \n",
    "# get a cursor    \n",
    "try: \n",
    "    cur = conn.cursor()\n",
    "except psycopg2.Error as e: \n",
    "    print(\"Error: Could not get curser to the Database\")\n",
    "    print(e)\n",
    "    \n",
    "# set the autocommit to true    \n",
    "conn.set_session(autocommit=True)\n"
   ]
  },
  {
   "cell_type": "code",
   "execution_count": 7,
   "metadata": {},
   "outputs": [],
   "source": [
    "try: \n",
    "    cur.execute(\"\"\"CREATE TABLE IF NOT EXISTS Transactions (transaction_id int, \\\n",
    "                                                           customer_name varchar, cashier_name varchar, \\\n",
    "                                                           year int, albums text[], \n",
    "                                                            PRIMARY KEY(transaction_id));\"\"\")\n",
    "except psycopg2.Error as e: \n",
    "    print(\"Error: Issue creating table\")\n",
    "    print (e)"
   ]
  },
  {
   "cell_type": "code",
   "execution_count": 8,
   "metadata": {},
   "outputs": [],
   "source": [
    "query = \"INSERT INTO Transactions (transaction_id, customer_name, cashier_name, year, albums) VALUES (%s, %s, %s, %s, %s)\""
   ]
  },
  {
   "cell_type": "code",
   "execution_count": 9,
   "metadata": {},
   "outputs": [
    {
     "name": "stdout",
     "output_type": "stream",
     "text": [
      "Error: Inserting Rows\n",
      "column \"albums\" of relation \"transactions\" does not exist\n",
      "LINE 1: ...ransaction_id, customer_name, cashier_name, year, albums) VA...\n",
      "                                                             ^\n",
      "\n"
     ]
    }
   ],
   "source": [
    "try: \n",
    "    cur.execute(query, (1, \"Ahmad \", \"Bilal\", 2006, [\"Nevermind\", \"Lake Walkers\", \"The Dark Side of Moon\"]))\n",
    "    cur.execute(query,(2, \"Haseeb\",\"Usman\", 2009, [\"Lemonadade\"]))\n",
    "    cur.execute(query, (3, \"Maham \", \"Archer\", 2012, [\"Pet Sounds\", \"Pretenders\", \"The Dark Side of Moon\"]))\n",
    "except psycopg2.Error as e: \n",
    "    print(\"Error: Inserting Rows\")\n",
    "    print (e)"
   ]
  },
  {
   "cell_type": "code",
   "execution_count": 10,
   "metadata": {},
   "outputs": [
    {
     "name": "stdout",
     "output_type": "stream",
     "text": [
      "(1, 'Ahmad ', 'Bilal', 2006, ['Nevermind', 'Lake Walkers', 'The Dark Side of Moon'])\n",
      "(2, 'Haseeb', 'Usman', 2009, ['Lemonadade'])\n",
      "(3, 'Maham ', 'Archer', 2012, ['Pet Sounds', 'Pretenders', 'The Dark Side of Moon'])\n"
     ]
    }
   ],
   "source": [
    "try: \n",
    "    cur.execute(\"SELECT * FROM Transactions;\")\n",
    "except psycopg2.Error as e: \n",
    "    print(\"Error: select *\")\n",
    "    print (e)\n",
    "\n",
    "row = cur.fetchone() #fetchone fetch the rows one at a time\n",
    "\n",
    "while row:\n",
    "    print(row)\n",
    "    row = cur.fetchone()"
   ]
  },
  {
   "cell_type": "markdown",
   "metadata": {},
   "source": [
    "**1st Normalization Form**"
   ]
  },
  {
   "cell_type": "code",
   "execution_count": 12,
   "metadata": {},
   "outputs": [],
   "source": [
    "try: \n",
    "    cur.execute(\"\"\"CREATE TABLE IF NOT EXISTS Transaction2 (transaction_id int, \\\n",
    "                                                           customer_name varchar, cashier_name varchar, \\\n",
    "                                                           year int, albums varchar, \n",
    "                                                            PRIMARY KEY(transaction_id,customer_name,albums));\"\"\")\n",
    "except psycopg2.Error as e: \n",
    "    print(\"Error: Issue creating table\")\n",
    "    print (e)"
   ]
  },
  {
   "cell_type": "code",
   "execution_count": null,
   "metadata": {},
   "outputs": [],
   "source": []
  },
  {
   "cell_type": "code",
   "execution_count": 13,
   "metadata": {},
   "outputs": [
    {
     "name": "stdout",
     "output_type": "stream",
     "text": [
      "Error: Inserting Rows\n",
      "column \"albums\" of relation \"transaction2\" does not exist\n",
      "LINE 1: ...ransaction_id, customer_name, cashier_name, year, albums) VA...\n",
      "                                                             ^\n",
      "\n"
     ]
    }
   ],
   "source": [
    "query = \"INSERT INTO Transaction2 (transaction_id, customer_name, cashier_name, year, albums) VALUES (%s, %s, %s, %s, %s)\"\n",
    "try: \n",
    "    cur.execute(query, (1, \"Ahmad\", \"Bilal\", 2006, \"Nevermind\"))\n",
    "    cur.execute(query, (1, \"Ahmad\", \"Bilal\", 2006, \"Lake Walkers\"))\n",
    "    cur.execute(query, (1, \"Ahmad\", \"Bilal\", 2006, \"The Dark Side of Moon\"))\n",
    "    cur.execute(query, (2, \"Haseeb\",\"Usman\", 2009,   \"Lemonadade\"))\n",
    "    cur.execute(query, (3, \"Maham \", \"Archer\", 2012, \"Pet Sounds\" ))\n",
    "    cur.execute(query, (3, \"Maham \", \"Archer\", 2012, \"Pretenders\"))\n",
    "    cur.execute(query, (3, \"Maham \", \"Archer\", 2012, \"The Dark Side of Moon\"))\n",
    "except psycopg2.Error as e: \n",
    "    print(\"Error: Inserting Rows\")\n",
    "    print (e)"
   ]
  },
  {
   "cell_type": "code",
   "execution_count": 14,
   "metadata": {},
   "outputs": [
    {
     "name": "stdout",
     "output_type": "stream",
     "text": [
      "(1, 'Ahmad', 'Bilal', 2006, 'Nevermind')\n",
      "(1, 'Ahmad', 'Bilal', 2006, 'Lake Walkers')\n",
      "(1, 'Ahmad', 'Bilal', 2006, 'The Dark Side of Moon')\n",
      "(2, 'Haseeb', 'Usman', 2009, 'Lemonadade')\n",
      "(3, 'Maham ', 'Archer', 2012, 'Pet Sounds')\n",
      "(3, 'Maham ', 'Archer', 2012, 'Pretenders')\n",
      "(3, 'Maham ', 'Archer', 2012, 'The Dark Side of Moon')\n"
     ]
    }
   ],
   "source": [
    "try: \n",
    "    cur.execute(\"SELECT * FROM Transaction2;\")\n",
    "except psycopg2.Error as e: \n",
    "    print(\"Error: select *\")\n",
    "    print (e)\n",
    "\n",
    "row = cur.fetchone()\n",
    "while row:\n",
    "    print(row)\n",
    "    row = cur.fetchone()"
   ]
  },
  {
   "cell_type": "markdown",
   "metadata": {},
   "source": [
    "**2nd Normalization Form**"
   ]
  },
  {
   "cell_type": "code",
   "execution_count": 24,
   "metadata": {},
   "outputs": [],
   "source": [
    "try: \n",
    "    cur.execute(\"\"\"CREATE TABLE IF NOT EXISTS Albums(album_id integer NOT NULL,\n",
    "                                                            album_name varchar NOT NULL,\n",
    "                                                            PRIMARY KEY (album_id)\n",
    "                                                        );\"\"\")\n",
    "except psycopg2.Error as e: \n",
    "    print(\"Error: Issue creating table\")\n",
    "    print (e)"
   ]
  },
  {
   "cell_type": "code",
   "execution_count": 25,
   "metadata": {},
   "outputs": [],
   "source": [
    "try: \n",
    "    cur.execute(\"\"\"CREATE TABLE IF NOT EXISTS Customers (customer_id integer NOT NULL,\n",
    "                                                            customer_name varchar NOT NULL,\n",
    "                                                            PRIMARY KEY (customer_id)\n",
    "                                                        );\"\"\")\n",
    "except psycopg2.Error as e: \n",
    "    print(\"Error: Issue creating table\")\n",
    "    print (e)"
   ]
  },
  {
   "cell_type": "code",
   "execution_count": 26,
   "metadata": {},
   "outputs": [],
   "source": [
    "try: \n",
    "    cur.execute(\"\"\"CREATE TABLE IF NOT EXISTS Cashiers(cashier_id integer NOT NULL,\n",
    "                                                            cashier_name varchar NOT NULL,\n",
    "                                                            PRIMARY KEY (cashier_id)\n",
    "                                                        );\"\"\")\n",
    "except psycopg2.Error as e: \n",
    "    print(\"Error: Issue creating table\")\n",
    "    print (e)"
   ]
  },
  {
   "cell_type": "code",
   "execution_count": 27,
   "metadata": {},
   "outputs": [],
   "source": [
    "try: \n",
    "    cur.execute(\"\"\"CREATE TABLE IF NOT EXISTS Transaction_details\n",
    "                                                        (transaction_id integer NOT NULL,\n",
    "                                                         customer_id  integer NOT NULL,\n",
    "                                                            cashier_id integer  NOT NULL,\n",
    "                                                            year integer NOT NULL,\n",
    "                                                            PRIMARY KEY (transaction_id)\n",
    "                                                        );\"\"\")\n",
    "except psycopg2.Error as e: \n",
    "    print(\"Error: Issue creating table\")\n",
    "    print (e)"
   ]
  },
  {
   "cell_type": "code",
   "execution_count": 28,
   "metadata": {},
   "outputs": [],
   "source": [
    "try: \n",
    "    cur.execute(\"\"\"CREATE TABLE IF NOT EXISTS Transaction_items (transaction_item_id integer NOT NULL ,\n",
    "                                                                 transaction_id integer NOT NULL, \n",
    "                                                                 album_id integer NOT NULL,\n",
    "                                                                 PRIMARY KEY (\"transaction_item_id\")\n",
    "                                                          );\"\"\")\n",
    "except psycopg2.Error as e: \n",
    "    print(\"Error: Issue creating table\")\n",
    "    print (e)"
   ]
  },
  {
   "cell_type": "code",
   "execution_count": 29,
   "metadata": {},
   "outputs": [],
   "source": [
    "query2 = \"INSERT INTO Albums (album_id, album_name) VALUES ( %s, %s)\"\n",
    "\n",
    "try: \n",
    "    cur.execute(query2, (1,  \"Nevermind\"))\n",
    "    cur.execute(query2, (2,  \"Lemondade\"))\n",
    "    cur.execute(query2, (3,  \"Pet Sounds\"))\n",
    "    cur.execute(query2, (4,  \"Lake Walkers\" ))\n",
    "    cur.execute(query2, (5,  \"The dark side of moon\"))\n",
    "    cur.execute(query2, (6,  \"Pretenders\"))\n",
    "except psycopg2.Error as e: \n",
    "    print(\"Error: Inserting Rows\")\n",
    "    print (e)"
   ]
  },
  {
   "cell_type": "code",
   "execution_count": 30,
   "metadata": {},
   "outputs": [
    {
     "name": "stdout",
     "output_type": "stream",
     "text": [
      "(1, 'Nevermind')\n",
      "(2, 'Lemondade')\n",
      "(3, 'Pet Sounds')\n",
      "(4, 'Lake Walkers')\n",
      "(5, 'The dark side of moon')\n",
      "(6, 'Pretenders')\n"
     ]
    }
   ],
   "source": [
    "try: \n",
    "    cur.execute(\"SELECT * FROM Albums;\")\n",
    "except psycopg2.Error as e: \n",
    "    print(\"Error: select *\")\n",
    "    print (e)\n",
    "\n",
    "row = cur.fetchone()\n",
    "while row:\n",
    "    print(row)\n",
    "    row = cur.fetchone()"
   ]
  },
  {
   "cell_type": "code",
   "execution_count": 33,
   "metadata": {},
   "outputs": [
    {
     "name": "stdout",
     "output_type": "stream",
     "text": [
      "Error: Inserting Rows\n",
      "duplicate key value violates unique constraint \"customers_pkey\"\n",
      "DETAIL:  Key (customer_id)=(1) already exists.\n",
      "\n",
      "(1, 'Ahmad')\n",
      "(2, 'Haseeb')\n",
      "(3, 'Maham')\n"
     ]
    }
   ],
   "source": [
    "query2 = \"INSERT INTO Customers (customer_id, customer_name) VALUES ( %s, %s)\"\n",
    "\n",
    "try: \n",
    "    cur.execute(query2, (1,  \"Ahmad\"))\n",
    "    cur.execute(query2, (2,  \"Haseeb\"))\n",
    "    cur.execute(query2, (3,  \"Maham\"))\n",
    "except psycopg2.Error as e: \n",
    "    print(\"Error: Inserting Rows\")\n",
    "    print (e)\n",
    "    \n",
    "try: \n",
    "    cur.execute(\"SELECT * FROM Customers;\")\n",
    "except psycopg2.Error as e: \n",
    "    print(\"Error: select *\")\n",
    "    print (e)\n",
    "\n",
    "row = cur.fetchone()\n",
    "while row:\n",
    "    print(row)\n",
    "    row = cur.fetchone()   "
   ]
  },
  {
   "cell_type": "code",
   "execution_count": 34,
   "metadata": {},
   "outputs": [
    {
     "name": "stdout",
     "output_type": "stream",
     "text": [
      "Error: Inserting Rows\n",
      "duplicate key value violates unique constraint \"cashiers_pkey\"\n",
      "DETAIL:  Key (cashier_id)=(1) already exists.\n",
      "\n",
      "(1, 'Bilal')\n",
      "(2, 'Usman')\n",
      "(3, 'Archer')\n"
     ]
    }
   ],
   "source": [
    "query2 = \"INSERT INTO Cashiers (cashier_id, cashier_name) VALUES ( %s, %s)\"\n",
    "\n",
    "try: \n",
    "    cur.execute(query2, (1,  \"Bilal\"))\n",
    "    cur.execute(query2, (2,  \"Usman\"))\n",
    "    cur.execute(query2, (3,  \"Archer\"))\n",
    "except psycopg2.Error as e: \n",
    "    print(\"Error: Inserting Rows\")\n",
    "    print (e)\n",
    "    \n",
    "try: \n",
    "    cur.execute(\"SELECT * FROM Cashiers;\")\n",
    "except psycopg2.Error as e: \n",
    "    print(\"Error: select *\")\n",
    "    print (e)\n",
    "\n",
    "row = cur.fetchone()\n",
    "while row:\n",
    "    print(row)\n",
    "    row = cur.fetchone()   "
   ]
  },
  {
   "cell_type": "code",
   "execution_count": 35,
   "metadata": {},
   "outputs": [
    {
     "name": "stdout",
     "output_type": "stream",
     "text": [
      "(1, 1, 1, 2006)\n",
      "(2, 2, 2, 2009)\n",
      "(3, 3, 3, 2012)\n"
     ]
    }
   ],
   "source": [
    "query2 = \"INSERT INTO Transaction_details (transaction_id,customer_id,cashier_id,year) VALUES ( %s, %s, %s, %s)\"\n",
    "\n",
    "try: \n",
    "    cur.execute(query2, (1,1,1,2006))\n",
    "    cur.execute(query2, (2,2,2,2009))\n",
    "    cur.execute(query2, (3,3,3,2012))\n",
    "except psycopg2.Error as e: \n",
    "    print(\"Error: Inserting Rows\")\n",
    "    print (e)\n",
    "    \n",
    "try: \n",
    "    cur.execute(\"SELECT * FROM Cashiers;\")\n",
    "except psycopg2.Error as e: \n",
    "    print(\"Error: select *\")\n",
    "    print (e)\n",
    "\n",
    "row = cur.fetchone()\n",
    "while row:\n",
    "    print(row)\n",
    "    row = cur.fetchone()   "
   ]
  },
  {
   "cell_type": "code",
   "execution_count": 37,
   "metadata": {},
   "outputs": [
    {
     "name": "stdout",
     "output_type": "stream",
     "text": [
      "(1, 1, 1)\n",
      "(2, 1, 4)\n",
      "(3, 1, 5)\n",
      "(4, 2, 2)\n",
      "(5, 3, 3)\n",
      "(6, 3, 6)\n"
     ]
    }
   ],
   "source": [
    "query2 = \"INSERT INTO Transaction_items (transaction_item_id,transaction_id,album_id) VALUES ( %s, %s, %s)\"\n",
    "\n",
    "try: \n",
    "    cur.execute(query2, (1,1,1))\n",
    "    cur.execute(query2, (2,1,4))\n",
    "    cur.execute(query2, (3,1,5))\n",
    "    cur.execute(query2, (4,2,2))\n",
    "    cur.execute(query2, (5,3,3))\n",
    "    cur.execute(query2, (6,3,6))\n",
    "except psycopg2.Error as e: \n",
    "    print(\"Error: Inserting Rows\")\n",
    "    print (e)\n",
    "    \n",
    "try: \n",
    "    cur.execute(\"SELECT * FROM Transaction_items;\")\n",
    "except psycopg2.Error as e: \n",
    "    print(\"Error: select *\")\n",
    "    print (e)\n",
    "\n",
    "row = cur.fetchone()\n",
    "while row:\n",
    "    print(row)\n",
    "    row = cur.fetchone()   "
   ]
  },
  {
   "cell_type": "markdown",
   "metadata": {},
   "source": [
    "**3rd Normal Form**\n",
    "There is No transitive Property Exist after 2nd Normal form "
   ]
  },
  {
   "cell_type": "markdown",
   "metadata": {},
   "source": [
    "# Q4:\n",
    "**Write a query to create the original table from normalized tables**"
   ]
  },
  {
   "cell_type": "code",
   "execution_count": 74,
   "metadata": {},
   "outputs": [
    {
     "name": "stdout",
     "output_type": "stream",
     "text": [
      "(1, ['Ahmad'], ['Bilal'], [2006], ['Nevermind', 'Lake Walkers', 'The dark side of moon'])\n",
      "(2, ['Haseeb'], ['Usman'], [2009], ['Lemondade'])\n",
      "(3, ['Maham'], ['Archer'], [2012], ['Pet Sounds', 'Pretenders'])\n"
     ]
    }
   ],
   "source": [
    "try: \n",
    "    cur.execute(\"SELECT ts.transaction_id, array_agg(distinct c.customer_name),array_agg(distinct cc.cashier_name), array_agg(distinct td.year), array_agg(al.album_name) FROM Transaction_items ts JOIN Transaction_details td ON td.transaction_id = ts.transaction_id JOIN Albums al ON al.album_id = ts.album_id  JOIN Customers c ON td.customer_id = c.customer_id JOIN Cashiers cc ON td.cashier_id = cc.cashier_id  GROUP BY ts.transaction_id  ORDER BY ts.transaction_id;\")\n",
    "except psycopg2.Error as e: \n",
    "    print(\"Error: select *\")\n",
    "    print (e)\n",
    "\n",
    "row = cur.fetchone()\n",
    "while row:\n",
    "    print(row)\n",
    "    row = cur.fetchone()   "
   ]
  },
  {
   "cell_type": "markdown",
   "metadata": {},
   "source": [
    "# Question 5\n",
    "**Find out all the customers who bought “The Dark Side of Moon” using the normalized tables.**\n"
   ]
  },
  {
   "cell_type": "code",
   "execution_count": 75,
   "metadata": {},
   "outputs": [
    {
     "name": "stdout",
     "output_type": "stream",
     "text": [
      "(1, ['Ahmad'], ['Bilal'], [2006], ['The dark side of moon'])\n"
     ]
    }
   ],
   "source": [
    "try: \n",
    "    cur.execute(\"SELECT ts.transaction_id, array_agg(distinct c.customer_name),array_agg(distinct cc.cashier_name), array_agg(distinct td.year), array_agg(al.album_name) FROM Transaction_items ts JOIN Transaction_details td ON td.transaction_id = ts.transaction_id JOIN Albums al ON al.album_id = ts.album_id  JOIN Customers c ON td.customer_id = c.customer_id JOIN Cashiers cc ON td.cashier_id = cc.cashier_id Where al.album_name='The dark side of moon'  GROUP BY ts.transaction_id  ORDER BY ts.transaction_id;\")\n",
    "except psycopg2.Error as e: \n",
    "    print(\"Error: select *\")\n",
    "    print (e)\n",
    "\n",
    "row = cur.fetchone()\n",
    "while row:\n",
    "    print(row)\n",
    "    row = cur.fetchone() "
   ]
  },
  {
   "cell_type": "code",
   "execution_count": null,
   "metadata": {},
   "outputs": [],
   "source": []
  }
 ],
 "metadata": {
  "kernelspec": {
   "display_name": "Python 3",
   "language": "python",
   "name": "python3"
  },
  "language_info": {
   "codemirror_mode": {
    "name": "ipython",
    "version": 3
   },
   "file_extension": ".py",
   "mimetype": "text/x-python",
   "name": "python",
   "nbconvert_exporter": "python",
   "pygments_lexer": "ipython3",
   "version": "3.6.12"
  }
 },
 "nbformat": 4,
 "nbformat_minor": 4
}

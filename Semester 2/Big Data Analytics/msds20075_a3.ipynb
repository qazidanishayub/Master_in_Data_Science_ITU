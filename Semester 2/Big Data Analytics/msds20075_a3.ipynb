{
  "nbformat": 4,
  "nbformat_minor": 0,
  "metadata": {
    "application/vnd.databricks.v1+notebook": {
      "notebookName": "Assignment3",
      "dashboards": [
        {
          "elements": [],
          "guid": "5220487f-2360-44e7-a6c2-a6c7e3ce31cc",
          "layoutOption": {
            "stack": true,
            "grid": true
          },
          "version": "DashboardViewV1",
          "nuid": "35f3d02d-05ac-4916-8a85-37a9467df41e",
          "origId": 2503589933486788,
          "title": "Untitled",
          "width": 1024,
          "globalVars": {}
        }
      ],
      "notebookMetadata": {
        "pythonIndentUnit": 2
      },
      "language": "python",
      "widgets": {},
      "notebookOrigID": 552582064511834
    },
    "colab": {
      "name": "msds20075_a3.ipynb",
      "provenance": []
    }
  },
  "cells": [
    {
      "cell_type": "markdown",
      "metadata": {
        "id": "e7TAoy2_e6dO"
      },
      "source": [
        "**Importing general libraries**"
      ]
    },
    {
      "cell_type": "code",
      "metadata": {
        "application/vnd.databricks.v1+cell": {
          "title": "",
          "showTitle": false,
          "inputWidgets": {},
          "nuid": "d68a4a61-fed4-4d09-abad-dc93535dd36b"
        },
        "id": "eLA-q4x6aWvK"
      },
      "source": [
        "from pyspark.sql.types import *\n",
        "import pyspark.sql.functions as func\n",
        "\n",
        "movies_df_schema = StructType(\n",
        "  [StructField('movieId', IntegerType()),\n",
        "   StructField('title', StringType()),\n",
        "   StructField('genres', StringType())\n",
        "  ]) \n",
        "\n",
        "# again for avoiding the action we are explicitly defining the schema\n",
        "ratings_df_schema = StructType(\n",
        "  [StructField('userId', IntegerType()),\n",
        "   StructField('movieId', IntegerType()),\n",
        "   StructField('rating', DoubleType()),\n",
        "   StructField('timestamp', StringType())\n",
        "  ]\n",
        ")              #we are dropping the Time Stamp column\n",
        "\n",
        "tags_df_schema = StructType(\n",
        "  [StructField('userId', IntegerType()),\n",
        "   StructField('movieId', IntegerType()),\n",
        "   StructField('tag', StringType()),\n",
        "   StructField('timestamp', StringType())\n",
        "  ]\n",
        ")  \n"
      ],
      "execution_count": null,
      "outputs": []
    },
    {
      "cell_type": "markdown",
      "metadata": {
        "id": "zoHD46nwdDqW"
      },
      "source": [
        "giving path of the dataset files"
      ]
    },
    {
      "cell_type": "code",
      "metadata": {
        "application/vnd.databricks.v1+cell": {
          "title": "",
          "showTitle": false,
          "inputWidgets": {},
          "nuid": "1188dd6f-dd4f-4211-8ec1-6d295b2cfe42"
        },
        "id": "ImVsUhixaWvS"
      },
      "source": [
        "movies_path=\"DataSet/movies.csv\"\n",
        "ratings_path=\"DataSet/ratings.csv\"\n",
        "tags_path=\"DataSet/tags.csv\"\n",
        "\n",
        "# Creating the dataframes \n",
        "Movies_DF = sqlContext.read.format('com.databricks.spark.csv').options(header=True, inferSchema=False).schema(movies_df_schema).load(movies_path)\n",
        "Ratings_DF = sqlContext.read.format('com.databricks.spark.csv').options(header=True, inferSchema=False).schema(ratings_df_schema).load(ratings_path)\n",
        "Tags_DF = sqlContext.read.format('com.databricks.spark.csv').options(header=True, inferSchema=False).schema(tags_df_schema).load(tags_path)"
      ],
      "execution_count": null,
      "outputs": []
    },
    {
      "cell_type": "code",
      "metadata": {
        "application/vnd.databricks.v1+cell": {
          "title": "",
          "showTitle": false,
          "inputWidgets": {},
          "nuid": "d2ccc901-defe-4b3d-902e-be2f62922216"
        },
        "id": "t2j9aGMTaWvT"
      },
      "source": [
        "Movies_DF.printSchema()\n",
        "Ratings_DF.printSchema()\n",
        "Tags_DF.printSchema()"
      ],
      "execution_count": null,
      "outputs": []
    },
    {
      "cell_type": "code",
      "metadata": {
        "application/vnd.databricks.v1+cell": {
          "title": "",
          "showTitle": false,
          "inputWidgets": {},
          "nuid": "0076efa9-8718-4e72-8dee-a5c4d40f4110"
        },
        "id": "zN8wFqxLaWvU"
      },
      "source": [
        "Movies_DF.show(5)\n",
        "Ratings_DF.show(5)\n",
        "Tags_DF.show(5)"
      ],
      "execution_count": null,
      "outputs": []
    },
    {
      "cell_type": "code",
      "metadata": {
        "application/vnd.databricks.v1+cell": {
          "title": "",
          "showTitle": false,
          "inputWidgets": {},
          "nuid": "38cf5ced-59b9-40ce-8e40-58d0ac0c9546"
        },
        "id": "U9ICM7fNaWvV"
      },
      "source": [
        "print(('Movies_DF',('rows',Movies_DF.count()), ('colums',len(Movies_DF.columns))))\n",
        "print(('Ratings_DF',('rows',Ratings_DF.count()), ('colums',len(Ratings_DF.columns))))\n",
        "print(('Tags_DF',('rows',Tags_DF.count()), ('colums',len(Tags_DF.columns))))"
      ],
      "execution_count": null,
      "outputs": []
    },
    {
      "cell_type": "markdown",
      "metadata": {
        "id": "sS9Uhpfpc4qF"
      },
      "source": [
        "# Part A\n"
      ]
    },
    {
      "cell_type": "markdown",
      "metadata": {
        "id": "bANbKnDqc6iq"
      },
      "source": [
        "**#Please solve the following questions using spark dataframes.**\n",
        "\n",
        "1- Find out all the movies that have ratings greater than 4.\n"
      ]
    },
    {
      "cell_type": "code",
      "metadata": {
        "application/vnd.databricks.v1+cell": {
          "title": "",
          "showTitle": false,
          "inputWidgets": {},
          "nuid": "722cf3b1-7ad9-4c87-a863-ba4f0b6d4d12"
        },
        "id": "3FC0mAdPaWvW"
      },
      "source": [
        "\n",
        "Movies_DF.join(Ratings_DF,Movies_DF.movieId==Ratings_DF.movieId,'inner').where(Ratings_DF['rating']>=4).show()"
      ],
      "execution_count": null,
      "outputs": []
    },
    {
      "cell_type": "markdown",
      "metadata": {
        "id": "1pupokRLcyz4"
      },
      "source": [
        "**2- Find out the average ratings of all movies and sort it in descending order**"
      ]
    },
    {
      "cell_type": "code",
      "metadata": {
        "application/vnd.databricks.v1+cell": {
          "title": "",
          "showTitle": false,
          "inputWidgets": {},
          "nuid": "68be1d56-74f8-4994-ac9f-1c1f0f80b722"
        },
        "id": "QhLV41ZLaWvX"
      },
      "source": [
        "Movies_DF.join(Ratings_DF,Movies_DF.movieId==Ratings_DF.movieId,'inner').groupBy(Movies_DF['movieId']).agg(func.avg(\"rating\").alias(\"rating_average\")).sort(func.col('rating_average').desc()).show()"
      ],
      "execution_count": null,
      "outputs": []
    },
    {
      "cell_type": "markdown",
      "metadata": {
        "id": "VlVr1HZXautl"
      },
      "source": [
        "**3-Find out the top 10 users that have rated the maximum number of movies.**"
      ]
    },
    {
      "cell_type": "code",
      "metadata": {
        "application/vnd.databricks.v1+cell": {
          "title": "",
          "showTitle": false,
          "inputWidgets": {},
          "nuid": "5105f759-7eba-46d3-a732-e27d082387bc"
        },
        "id": "5J0jUez3aWvY"
      },
      "source": [
        "Ratings_DF.groupBy('userId').agg(func.count(\"movieId\").alias(\"movies_rated_by_user\")).sort(func.col('movies_rated_by_user').desc()).show(10)"
      ],
      "execution_count": null,
      "outputs": []
    },
    {
      "cell_type": "markdown",
      "metadata": {
        "id": "Qg1z7QQUa2Gi"
      },
      "source": [
        "**4- Find out the top 5 genres with respect to movie counts. (Remember: Genres are concatenated by ‘|’)**"
      ]
    },
    {
      "cell_type": "code",
      "metadata": {
        "application/vnd.databricks.v1+cell": {
          "title": "",
          "showTitle": false,
          "inputWidgets": {},
          "nuid": "4c6d752a-4dd6-46d2-b7bc-e96ca471a10f"
        },
        "id": "RH94pxkfaWvZ"
      },
      "source": [
        "Movies_DF.withColumn(\"Genres\",func.explode(func.split(\"genres\",\"[|]\"))).groupBy('Genres').agg(func.count(\"movieId\").alias(\"movies\")).sort(func.col('movies').desc()).show(5)"
      ],
      "execution_count": null,
      "outputs": []
    },
    {
      "cell_type": "markdown",
      "metadata": {
        "id": "RytuJnI2a8cR"
      },
      "source": [
        "**5- Find out the movie id, movie name and all the tags given to that movie by all users. (Hint: Joins, Group by)**"
      ]
    },
    {
      "cell_type": "code",
      "metadata": {
        "application/vnd.databricks.v1+cell": {
          "title": "",
          "showTitle": false,
          "inputWidgets": {},
          "nuid": "e948d782-bd2f-43b6-b86a-420166674946"
        },
        "id": "edtxtiyTaWva"
      },
      "source": [
        "Tags_DF_Grouped=Tags_DF.groupBy(func.col('movieId')).agg(func.concat_ws(\",\", func.collect_set('tag')).alias(\"tags\"))\n",
        "Movies_DF.join(Tags_DF_Grouped,Movies_DF.movieId==Tags_DF_Grouped.movieId,'inner').select(Movies_DF.movieId,Movies_DF.title,Tags_DF_Grouped.tags).show()"
      ],
      "execution_count": null,
      "outputs": []
    },
    {
      "cell_type": "markdown",
      "metadata": {
        "id": "RSWKHxsLbBeP"
      },
      "source": [
        "**6- Find out the top 5 tags and their counts given by the users.**"
      ]
    },
    {
      "cell_type": "code",
      "metadata": {
        "application/vnd.databricks.v1+cell": {
          "title": "",
          "showTitle": false,
          "inputWidgets": {},
          "nuid": "6dc7f025-0792-4f61-bc7d-ed6987182e5b"
        },
        "id": "l_YIB8RmaWvb"
      },
      "source": [
        "Tags_DF.groupBy('tag').agg(func.count(\"userID\").alias(\"tag_counts\")).sort(func.col('tag_counts').desc()).show(5)"
      ],
      "execution_count": null,
      "outputs": []
    },
    {
      "cell_type": "markdown",
      "metadata": {
        "id": "O3LcaGUBbFo2"
      },
      "source": [
        "**7- In Ratings_DF, convert timestamp format to “YYYY-MM-DD HH:MM:SS” by creating a new column named “Tmstmp_Normalized”**"
      ]
    },
    {
      "cell_type": "code",
      "metadata": {
        "application/vnd.databricks.v1+cell": {
          "title": "",
          "showTitle": false,
          "inputWidgets": {},
          "nuid": "12a44cd4-5fd7-4609-af2c-239d764c1557"
        },
        "id": "BJ057jZsaWvc"
      },
      "source": [
        "Ratings_DF.withColumn(\"Tmstmp_Normalized\", func.from_unixtime(\"timestamp\",\"yyyy-MM-dd HH:mm:ss\")).show()"
      ],
      "execution_count": null,
      "outputs": []
    },
    {
      "cell_type": "markdown",
      "metadata": {
        "id": "rI28dBHbbNLq"
      },
      "source": [
        "**8- Find out the min and max date over this newly created column i.e. “Tmstmp_Normalized”.**"
      ]
    },
    {
      "cell_type": "code",
      "metadata": {
        "application/vnd.databricks.v1+cell": {
          "title": "",
          "showTitle": false,
          "inputWidgets": {},
          "nuid": "975790c3-4e55-47e1-9363-a15ed5c8ca73"
        },
        "id": "CR0uxBnIaWvd"
      },
      "source": [
        "Ratings_DF.withColumn(\"Tmstmp_Normalized\", func.from_unixtime(\"timestamp\",\"yyyy-MM-dd\")).select(func.min(\"Tmstmp_Normalized\").alias('min date'), func.max(\"Tmstmp_Normalized\").alias('max date')).show()"
      ],
      "execution_count": null,
      "outputs": []
    },
    {
      "cell_type": "markdown",
      "metadata": {
        "id": "53lse099bRk9"
      },
      "source": [
        "**9- Find out the min and max date of rating for each movie. (Hint: Group by over movies, then min max date)**"
      ]
    },
    {
      "cell_type": "code",
      "metadata": {
        "application/vnd.databricks.v1+cell": {
          "title": "",
          "showTitle": false,
          "inputWidgets": {},
          "nuid": "e7e0cc53-0302-4fe5-ba79-5683dc6d3d50"
        },
        "id": "rUc0QreYaWvd"
      },
      "source": [
        "Ratings_DF.withColumn(\"Tmstmp_Normalized\", func.from_unixtime(\"timestamp\",\"yyyy-MM-dd HH:mm:ss\")).groupby('movieID').agg(func.min(\"Tmstmp_Normalized\").alias('min date'),func.max(\"Tmstmp_Normalized\").alias('max date')).show()"
      ],
      "execution_count": null,
      "outputs": []
    },
    {
      "cell_type": "markdown",
      "metadata": {
        "id": "Ti689yg0bVZE"
      },
      "source": [
        "**10- Find out the top 10 movies that have the maximum rating count given by all users.**"
      ]
    },
    {
      "cell_type": "code",
      "metadata": {
        "application/vnd.databricks.v1+cell": {
          "title": "",
          "showTitle": false,
          "inputWidgets": {},
          "nuid": "cd8049ba-77aa-4363-8923-344e55b129fb"
        },
        "id": "vVfHR-ANaWve"
      },
      "source": [
        "Ratings_DF.groupby(Ratings_DF.movieId).agg(func.count(\"rating\").alias('rating_counts')).sort(func.col('rating_counts').desc()).show(10)"
      ],
      "execution_count": null,
      "outputs": []
    },
    {
      "cell_type": "markdown",
      "metadata": {
        "id": "GJBJJU-sbZxg"
      },
      "source": [
        "**11-Find out the movies, their average ratings, genres this movie belong to, all tags given by the users, maximum and minimum time of ratings. (Joins, Group By, Sum, Min ,Max)**"
      ]
    },
    {
      "cell_type": "code",
      "metadata": {
        "application/vnd.databricks.v1+cell": {
          "title": "",
          "showTitle": false,
          "inputWidgets": {},
          "nuid": "08c25c02-99d9-4d84-905a-c28a07402140"
        },
        "id": "6SnTHLQ1aWve"
      },
      "source": [
        "Tags_DF_Grouped=Tags_DF.groupBy(func.col('movieId')).agg(func.concat_ws(\",\", func.collect_set('tag')).alias(\"tags\"))\n",
        "Movies_DF_First=Movies_DF.join(Tags_DF_Grouped,Movies_DF.movieId==Tags_DF_Grouped.movieId,'inner').select(Movies_DF.movieId,Movies_DF.title,Movies_DF.genres,Tags_DF_Grouped.tags)\n",
        "Ratings_DF_Grouped=Ratings_DF.withColumn(\"Tmstmp_Normalized\", func.from_unixtime(\"timestamp\",\"yyyy-MM-dd HH:mm:ss\")).groupby('movieId').agg(func.min(\"Tmstmp_Normalized\").alias('min_date'),func.max(\"Tmstmp_Normalized\").alias('max_date'),func.avg(\"rating\").alias('avg_rating'))\n",
        "\n",
        "Movies_DF_Final=Movies_DF_First.join(Ratings_DF_Grouped,Movies_DF_First.movieId==Ratings_DF_Grouped.movieId,'inner').select(Movies_DF_First.movieId,Movies_DF_First.title,Movies_DF_First.genres,Movies_DF_First.tags,Ratings_DF_Grouped.min_date,Ratings_DF_Grouped.max_date,Ratings_DF_Grouped.avg_rating).show()"
      ],
      "execution_count": null,
      "outputs": []
    },
    {
      "cell_type": "markdown",
      "metadata": {
        "id": "wosER6Dgchqr"
      },
      "source": [
        "# Part B"
      ]
    },
    {
      "cell_type": "markdown",
      "metadata": {
        "id": "bk_Qc1yeckk8"
      },
      "source": [
        "**Solve the above questions using spark SQL.**"
      ]
    },
    {
      "cell_type": "code",
      "metadata": {
        "application/vnd.databricks.v1+cell": {
          "title": "",
          "showTitle": false,
          "inputWidgets": {},
          "nuid": "80d35f31-61b2-4ee6-adc9-8c6a2818632a"
        },
        "id": "IVH3ln5aaWvf"
      },
      "source": [
        "Movies_DF.createOrReplaceTempView(\"Movies_DF_View\")\n",
        "Ratings_DF.createOrReplaceTempView(\"Ratings_DF_View\")\n",
        "Tags_DF.createOrReplaceTempView(\"Tags_DF_View\")"
      ],
      "execution_count": null,
      "outputs": []
    },
    {
      "cell_type": "markdown",
      "metadata": {
        "id": "n2spugKybl33"
      },
      "source": [
        "# Part A\n"
      ]
    },
    {
      "cell_type": "markdown",
      "metadata": {
        "id": "omjy10cibrdX"
      },
      "source": [
        "**Please solve the following questions using spark dataframes.**\n",
        "\n",
        "\n",
        "1- Find out all the movies that have ratings greater than 4.\n"
      ]
    },
    {
      "cell_type": "code",
      "metadata": {
        "application/vnd.databricks.v1+cell": {
          "title": "",
          "showTitle": false,
          "inputWidgets": {},
          "nuid": "49918e57-fb18-42f6-a807-10db0586e794"
        },
        "id": "NZh1UaJtaWvf"
      },
      "source": [
        "df = spark.sql(\"Select r.*,m.title,m.genres from Ratings_DF_View r inner join Movies_DF_View m on r.movieId=m.movieId where r.rating > 4\")\n",
        "df.show()"
      ],
      "execution_count": null,
      "outputs": []
    },
    {
      "cell_type": "markdown",
      "metadata": {
        "id": "-j2I-jHhbhAM"
      },
      "source": [
        "**2- Find out the average ratings of all movies and sort it in descending order.**"
      ]
    },
    {
      "cell_type": "code",
      "metadata": {
        "application/vnd.databricks.v1+cell": {
          "title": "",
          "showTitle": false,
          "inputWidgets": {},
          "nuid": "e2321276-8fe0-4db2-9110-f09571f2c75f"
        },
        "id": "96Qm7pvEaWvg"
      },
      "source": [
        "df = spark.sql(\"Select r.movieID,AVG(r.rating) as rating_average from Ratings_DF_View r group by r.movieID  order by rating_average desc\")\n",
        "df.show()"
      ],
      "execution_count": null,
      "outputs": []
    },
    {
      "cell_type": "markdown",
      "metadata": {
        "id": "wLFzVuX7bzQz"
      },
      "source": [
        "**3-Find out the top 10 users that have rated the maximum number of movies.**\n",
        "\n",
        "\n",
        "Ratings_DF.groupBy('userId').agg(func.count(\"movieId\").alias(\"movies_rated_by_user\")).sort(func.col('movies_rated_by_user').desc()).show(10)\n"
      ]
    },
    {
      "cell_type": "code",
      "metadata": {
        "application/vnd.databricks.v1+cell": {
          "title": "",
          "showTitle": false,
          "inputWidgets": {},
          "nuid": "cdf135ec-624b-4d14-b5b4-595191ef9226"
        },
        "id": "VgFRmSPWaWvh"
      },
      "source": [
        "df = spark.sql(\"Select r.userId,COUNT(r.movieId) as movies_rated_by_user from Ratings_DF_View r group by r.userId  order by movies_rated_by_user desc\")\n",
        "df.show(10)"
      ],
      "execution_count": null,
      "outputs": []
    },
    {
      "cell_type": "markdown",
      "metadata": {
        "id": "JD_HOb7Ib7X_"
      },
      "source": [
        "**4- Find out the top 5 genres with respect to movie counts. (Remember: Genres are concatenated by ‘|’)**"
      ]
    },
    {
      "cell_type": "code",
      "metadata": {
        "application/vnd.databricks.v1+cell": {
          "title": "",
          "showTitle": false,
          "inputWidgets": {},
          "nuid": "232ee137-11fb-48f8-b9aa-6e33c2e46812"
        },
        "id": "vgpFrOYNaWvh"
      },
      "source": [
        "df = spark.sql(\"SELECT subtable.genres ,count(subtable.movieID) as movies from (SELECT m.movieId,explode(split(m.genres,'[|]')) as genres from Movies_DF_View m) subtable group by subtable.genres order by movies desc limit 5\")\n",
        "df.show()"
      ],
      "execution_count": null,
      "outputs": []
    },
    {
      "cell_type": "markdown",
      "metadata": {
        "id": "It_vgzcSb_qE"
      },
      "source": [
        "**5- Find out the movie id, movie name and all the tags given to that movie by all users. (Hint: Joins, Group by)**"
      ]
    },
    {
      "cell_type": "code",
      "metadata": {
        "application/vnd.databricks.v1+cell": {
          "title": "",
          "showTitle": false,
          "inputWidgets": {},
          "nuid": "79780343-184f-44be-8487-cbedae4dabe5"
        },
        "id": "0Vk8YwsyaWvi"
      },
      "source": [
        "DF_tags_temp = spark.sql(\"Select t.movieId, concat_ws(',', collect_list(t.tag)) as tags from Tags_DF_View t group by t.movieId\")\n",
        "DF_tags_temp.createOrReplaceTempView(\"DF_tags_temp_view\")\n",
        "df=spark.sql(\"Select m.movieId,m.title,tv.tags from Movies_DF_View m inner join DF_tags_temp_view tv on m.movieId=tv.movieId\")\n",
        "df.show()"
      ],
      "execution_count": null,
      "outputs": []
    },
    {
      "cell_type": "markdown",
      "metadata": {
        "id": "T_gDBzkscFTy"
      },
      "source": [
        "**6- Find out the top 5 tags and their counts given by the users.**"
      ]
    },
    {
      "cell_type": "code",
      "metadata": {
        "application/vnd.databricks.v1+cell": {
          "title": "",
          "showTitle": false,
          "inputWidgets": {},
          "nuid": "9bd7144a-373e-4884-b68d-225240107a2a"
        },
        "id": "G1QmpOpRaWvi"
      },
      "source": [
        "\n",
        "df=spark.sql(\"Select t.tag,count(t.userID) as tag_counts from Tags_DF_View t group by t.tag order by tag_counts desc limit 5\")\n",
        "df.show()"
      ],
      "execution_count": null,
      "outputs": []
    },
    {
      "cell_type": "markdown",
      "metadata": {
        "id": "9wL9nBnPcJLe"
      },
      "source": [
        "**7- In Ratings_DF, convert timestamp format to “YYYY-MM-DD HH:MM:SS” by creating a new column named “Tmstmp_Normalized”**"
      ]
    },
    {
      "cell_type": "code",
      "metadata": {
        "application/vnd.databricks.v1+cell": {
          "title": "",
          "showTitle": false,
          "inputWidgets": {},
          "nuid": "be73c625-a62c-4e40-a1f3-3a959e15b67a"
        },
        "id": "zmUozt0EaWvj"
      },
      "source": [
        "df=spark.sql(\"Select r.*,from_unixtime(r.timestamp, 'yyyy-MM-dd H:m:s') as Tmstmp_Normalized  from Ratings_DF_View r\")\n",
        "df.show()"
      ],
      "execution_count": null,
      "outputs": []
    },
    {
      "cell_type": "markdown",
      "metadata": {
        "id": "GOvjny3hcMdS"
      },
      "source": [
        "**8- Find out the min and max date over this newly created column i.e. “Tmstmp_Normalized”.**"
      ]
    },
    {
      "cell_type": "code",
      "metadata": {
        "application/vnd.databricks.v1+cell": {
          "title": "",
          "showTitle": false,
          "inputWidgets": {},
          "nuid": "0efadc4b-231a-4f0e-ac75-6dee8fc48873"
        },
        "id": "QrY47DwPaWvj"
      },
      "source": [
        "df=spark.sql(\"Select min(from_unixtime(r.timestamp, 'yyyy-MM-dd')) as min_date , max(from_unixtime(r.timestamp, 'yyyy-MM-dd')) as max_date  from Ratings_DF_View r\")\n",
        "df.show()"
      ],
      "execution_count": null,
      "outputs": []
    },
    {
      "cell_type": "markdown",
      "metadata": {
        "id": "o4p3-JwfcPvl"
      },
      "source": [
        "**9- Find out the min and max date of rating for each movie. (Hint: Group by over movies, then min max date)**"
      ]
    },
    {
      "cell_type": "code",
      "metadata": {
        "application/vnd.databricks.v1+cell": {
          "title": "",
          "showTitle": false,
          "inputWidgets": {},
          "nuid": "a6a5097f-1984-4ec2-886b-a370649842ed"
        },
        "id": "psJ9Z0pJaWvk"
      },
      "source": [
        "df=spark.sql(\"Select r.movieID, min(from_unixtime(r.timestamp, 'yyyy-MM-dd')) as min_date , max(from_unixtime(r.timestamp, 'yyyy-MM-dd')) as max_date  from Ratings_DF_View r group by r.movieID \")\n",
        "df.show()"
      ],
      "execution_count": null,
      "outputs": []
    },
    {
      "cell_type": "markdown",
      "metadata": {
        "id": "WtO6kLvzcTZf"
      },
      "source": [
        "**10- Find out the top 10 movies that have the maximum rating count given by all users.**"
      ]
    },
    {
      "cell_type": "code",
      "metadata": {
        "application/vnd.databricks.v1+cell": {
          "title": "",
          "showTitle": false,
          "inputWidgets": {},
          "nuid": "6cd950f6-057f-4a07-993e-83982ba409fe"
        },
        "id": "KJLAUwqHaWvk"
      },
      "source": [
        "df=spark.sql(\"Select r.movieID,count(r.rating) as rating_counts from Ratings_DF_View r  group by r.movieID order by rating_counts desc limit 10 \")\n",
        "df.show()"
      ],
      "execution_count": null,
      "outputs": []
    },
    {
      "cell_type": "markdown",
      "metadata": {
        "id": "6_Hjhf1fcWrU"
      },
      "source": [
        "**11-Find out the movies, their average ratings, genres this movie belong to, all tags given by the users, maximum and minimum time of ratings. (Joins, Group By, Sum, Min ,Max)**"
      ]
    },
    {
      "cell_type": "code",
      "metadata": {
        "application/vnd.databricks.v1+cell": {
          "title": "",
          "showTitle": false,
          "inputWidgets": {},
          "nuid": "65b409cf-e6aa-4915-9428-dfe359018d7b"
        },
        "id": "c28GaLbAaWvm"
      },
      "source": [
        "DF_tags_temp.createOrReplaceTempView(\"DF_tags_temp_view\")\n",
        "Movies_DF_First=spark.sql(\"Select m.movieId,m.title,m.genres,tv.tags from Movies_DF_View m inner join DF_tags_temp_view tv on m.movieId=tv.movieId\")\n",
        "\n",
        "Movies_DF_First.createOrReplaceTempView(\"Movies_DF_First_view\")\n",
        "\n",
        "Ratings_DF_Grouped=df=spark.sql(\"Select r.movieID, min(from_unixtime(r.timestamp, 'yyyy-MM-dd')) as min_date , max(from_unixtime(r.timestamp, 'yyyy-MM-dd')) as max_date, avg(r.rating) as avg_rating  from Ratings_DF_View r group by r.movieID \")\n",
        "Ratings_DF_Grouped.createOrReplaceTempView(\"Ratings_DF_Grouped_view\")\n",
        "\n",
        "Movies_DF_Final=spark.sql(\"Select m.movieId,m.title,m.genres,m.tags,r.min_date,r.max_date,r.avg_rating from Movies_DF_First_view m inner join Ratings_DF_Grouped_view r on m.movieId=r.movieId\").show()"
      ],
      "execution_count": null,
      "outputs": []
    }
  ]
}
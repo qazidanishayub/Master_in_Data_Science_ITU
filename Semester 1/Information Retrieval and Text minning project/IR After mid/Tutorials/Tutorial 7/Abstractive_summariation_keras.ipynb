{
  "nbformat": 4,
  "nbformat_minor": 0,
  "metadata": {
    "colab": {
      "name": "Abstractive_summariation_keras.ipynb",
      "provenance": [],
      "collapsed_sections": [],
      "toc_visible": true
    },
    "kernelspec": {
      "name": "python3",
      "display_name": "Python 3"
    },
    "accelerator": "GPU"
  },
  "cells": [
    {
      "cell_type": "code",
      "metadata": {
        "id": "fNuY7URROvqh"
      },
      "source": [
        "# from tensorflow.keras import Input, Model\r\n",
        "# from tensorflow.keras.layers import Embedding, Conv1D, Attention, GlobalAveragePooling1D, Concatenate, Dense"
      ],
      "execution_count": 87,
      "outputs": []
    },
    {
      "cell_type": "markdown",
      "metadata": {
        "id": "VOYzjI6GdbM9"
      },
      "source": [
        "### Import required libraries"
      ]
    },
    {
      "cell_type": "code",
      "metadata": {
        "colab": {
          "base_uri": "https://localhost:8080/"
        },
        "id": "SRs5DhmJQB2P",
        "outputId": "4c4e2e20-5175-49f5-df71-55e5382b2c47"
      },
      "source": [
        "import numpy as np\r\n",
        "import pandas as pd\r\n",
        "import re\r\n",
        "import json\r\n",
        "\r\n",
        "## from bs4 import BeautifulSoup\r\n",
        "\r\n",
        "from keras.preprocessing.text import Tokenizer\r\n",
        "\r\n",
        "from keras.preprocessing.sequence import pad_sequences\r\n",
        "\r\n",
        "from nltk.corpus import stopwords\r\n",
        "\r\n",
        "from tensorflow.keras.layers import Input, LSTM, Embedding, Dense, Concatenate, TimeDistributed\r\n",
        "from tensorflow.keras.models import Model\r\n",
        "\r\n",
        "from tensorflow.keras.callbacks import EarlyStopping\r\n",
        "\r\n",
        "\r\n",
        "\r\n",
        "import warnings\r\n",
        "pd.set_option(\"display.max_colwidth\", 200)\r\n",
        "\r\n",
        "warnings.filterwarnings(\"ignore\")\r\n",
        "\r\n",
        "import matplotlib.pyplot as plt\r\n",
        "\r\n",
        "import nltk\r\n",
        "nltk.download('stopwords')\r\n",
        "\r\n",
        "from sklearn.model_selection import train_test_split\r\n",
        "\r\n",
        "# from keras.preprocessing.text import Tokenizer \r\n",
        "# from keras.preprocessing.sequence import pad_sequences\r\n",
        "# from keras.layers.core import Reshape\r\n",
        "# from keras import backend as K\r\n",
        "####################\r\n",
        "import tensorflow as tf\r\n",
        "import os\r\n",
        "from tensorflow.python.keras.layers import Layer\r\n",
        "from tensorflow.python.keras import backend as K"
      ],
      "execution_count": 92,
      "outputs": [
        {
          "output_type": "stream",
          "text": [
            "[nltk_data] Downloading package stopwords to /root/nltk_data...\n",
            "[nltk_data]   Package stopwords is already up-to-date!\n"
          ],
          "name": "stdout"
        }
      ]
    },
    {
      "cell_type": "code",
      "metadata": {
        "id": "TddNP88kJ27P"
      },
      "source": [
        "import keras"
      ],
      "execution_count": 127,
      "outputs": []
    },
    {
      "cell_type": "code",
      "metadata": {
        "colab": {
          "base_uri": "https://localhost:8080/",
          "height": 35
        },
        "id": "7RomdrUtO5Yr",
        "outputId": "a7f13142-de33-469d-e0c3-d9e6c0905578"
      },
      "source": [
        "tf.__version__"
      ],
      "execution_count": null,
      "outputs": [
        {
          "output_type": "execute_result",
          "data": {
            "application/vnd.google.colaboratory.intrinsic+json": {
              "type": "string"
            },
            "text/plain": [
              "'2.4.0'"
            ]
          },
          "metadata": {
            "tags": []
          },
          "execution_count": 86
        }
      ]
    },
    {
      "cell_type": "markdown",
      "metadata": {
        "id": "6IhOJVeddhEb"
      },
      "source": [
        "#### Read the data into memory"
      ]
    },
    {
      "cell_type": "code",
      "metadata": {
        "id": "ME6iJDo3ZLca"
      },
      "source": [
        "data = pd.read_excel(\"/content/drive/MyDrive/abstractive_summarization_demo/Reviews.xlsx\", nrows=100000) ## nrows=100000"
      ],
      "execution_count": 93,
      "outputs": []
    },
    {
      "cell_type": "code",
      "metadata": {
        "id": "HI1cpAqvzPxI",
        "colab": {
          "base_uri": "https://localhost:8080/"
        },
        "outputId": "341f0dde-bfec-473a-8d4f-d8835ca5ac04"
      },
      "source": [
        "data.shape"
      ],
      "execution_count": 94,
      "outputs": [
        {
          "output_type": "execute_result",
          "data": {
            "text/plain": [
              "(100000, 10)"
            ]
          },
          "metadata": {
            "tags": []
          },
          "execution_count": 94
        }
      ]
    },
    {
      "cell_type": "code",
      "metadata": {
        "colab": {
          "base_uri": "https://localhost:8080/",
          "height": 1000
        },
        "id": "BoEv64IVAEeu",
        "outputId": "9cf9048b-5e02-4ca9-f0ae-23360e74342f"
      },
      "source": [
        "data.head()"
      ],
      "execution_count": 95,
      "outputs": [
        {
          "output_type": "execute_result",
          "data": {
            "text/html": [
              "<div>\n",
              "<style scoped>\n",
              "    .dataframe tbody tr th:only-of-type {\n",
              "        vertical-align: middle;\n",
              "    }\n",
              "\n",
              "    .dataframe tbody tr th {\n",
              "        vertical-align: top;\n",
              "    }\n",
              "\n",
              "    .dataframe thead th {\n",
              "        text-align: right;\n",
              "    }\n",
              "</style>\n",
              "<table border=\"1\" class=\"dataframe\">\n",
              "  <thead>\n",
              "    <tr style=\"text-align: right;\">\n",
              "      <th></th>\n",
              "      <th>Id</th>\n",
              "      <th>ProductId</th>\n",
              "      <th>UserId</th>\n",
              "      <th>ProfileName</th>\n",
              "      <th>HelpfulnessNumerator</th>\n",
              "      <th>HelpfulnessDenominator</th>\n",
              "      <th>Score</th>\n",
              "      <th>Time</th>\n",
              "      <th>Summary</th>\n",
              "      <th>Text</th>\n",
              "    </tr>\n",
              "  </thead>\n",
              "  <tbody>\n",
              "    <tr>\n",
              "      <th>0</th>\n",
              "      <td>1</td>\n",
              "      <td>B001E4KFG0</td>\n",
              "      <td>A3SGXH7AUHU8GW</td>\n",
              "      <td>delmartian</td>\n",
              "      <td>1</td>\n",
              "      <td>1</td>\n",
              "      <td>5</td>\n",
              "      <td>1303862400</td>\n",
              "      <td>Good Quality Dog Food</td>\n",
              "      <td>I have bought several of the Vitality canned dog food products and have found them all to be of good quality. The product looks more like a stew than a processed meat and it smells better. My Labr...</td>\n",
              "    </tr>\n",
              "    <tr>\n",
              "      <th>1</th>\n",
              "      <td>2</td>\n",
              "      <td>B00813GRG4</td>\n",
              "      <td>A1D87F6ZCVE5NK</td>\n",
              "      <td>dll pa</td>\n",
              "      <td>0</td>\n",
              "      <td>0</td>\n",
              "      <td>1</td>\n",
              "      <td>1346976000</td>\n",
              "      <td>Not as Advertised</td>\n",
              "      <td>Product arrived labeled as Jumbo Salted Peanuts...the peanuts were actually small sized unsalted. Not sure if this was an error or if the vendor intended to represent the product as \"Jumbo\".</td>\n",
              "    </tr>\n",
              "    <tr>\n",
              "      <th>2</th>\n",
              "      <td>3</td>\n",
              "      <td>B000LQOCH0</td>\n",
              "      <td>ABXLMWJIXXAIN</td>\n",
              "      <td>Natalia Corres \"Natalia Corres\"</td>\n",
              "      <td>1</td>\n",
              "      <td>1</td>\n",
              "      <td>4</td>\n",
              "      <td>1219017600</td>\n",
              "      <td>\"Delight\" says it all</td>\n",
              "      <td>This is a confection that has been around a few centuries.  It is a light, pillowy citrus gelatin with nuts - in this case Filberts. And it is cut into tiny squares and then liberally coated with ...</td>\n",
              "    </tr>\n",
              "    <tr>\n",
              "      <th>3</th>\n",
              "      <td>4</td>\n",
              "      <td>B000UA0QIQ</td>\n",
              "      <td>A395BORC6FGVXV</td>\n",
              "      <td>Karl</td>\n",
              "      <td>3</td>\n",
              "      <td>3</td>\n",
              "      <td>2</td>\n",
              "      <td>1307923200</td>\n",
              "      <td>Cough Medicine</td>\n",
              "      <td>If you are looking for the secret ingredient in Robitussin I believe I have found it.  I got this in addition to the Root Beer Extract I ordered (which was good) and made some cherry soda.  The fl...</td>\n",
              "    </tr>\n",
              "    <tr>\n",
              "      <th>4</th>\n",
              "      <td>5</td>\n",
              "      <td>B006K2ZZ7K</td>\n",
              "      <td>A1UQRSCLF8GW1T</td>\n",
              "      <td>Michael D. Bigham \"M. Wassir\"</td>\n",
              "      <td>0</td>\n",
              "      <td>0</td>\n",
              "      <td>5</td>\n",
              "      <td>1350777600</td>\n",
              "      <td>Great taffy</td>\n",
              "      <td>Great taffy at a great price.  There was a wide assortment of yummy taffy.  Delivery was very quick.  If your a taffy lover, this is a deal.</td>\n",
              "    </tr>\n",
              "  </tbody>\n",
              "</table>\n",
              "</div>"
            ],
            "text/plain": [
              "   Id  ...                                                                                                                                                                                                     Text\n",
              "0   1  ...  I have bought several of the Vitality canned dog food products and have found them all to be of good quality. The product looks more like a stew than a processed meat and it smells better. My Labr...\n",
              "1   2  ...           Product arrived labeled as Jumbo Salted Peanuts...the peanuts were actually small sized unsalted. Not sure if this was an error or if the vendor intended to represent the product as \"Jumbo\".\n",
              "2   3  ...  This is a confection that has been around a few centuries.  It is a light, pillowy citrus gelatin with nuts - in this case Filberts. And it is cut into tiny squares and then liberally coated with ...\n",
              "3   4  ...  If you are looking for the secret ingredient in Robitussin I believe I have found it.  I got this in addition to the Root Beer Extract I ordered (which was good) and made some cherry soda.  The fl...\n",
              "4   5  ...                                                             Great taffy at a great price.  There was a wide assortment of yummy taffy.  Delivery was very quick.  If your a taffy lover, this is a deal.\n",
              "\n",
              "[5 rows x 10 columns]"
            ]
          },
          "metadata": {
            "tags": []
          },
          "execution_count": 95
        }
      ]
    },
    {
      "cell_type": "markdown",
      "metadata": {
        "id": "gWUlwrRVdmZK"
      },
      "source": [
        "#### Drop duplicat rows and null rows"
      ]
    },
    {
      "cell_type": "code",
      "metadata": {
        "id": "Ja3O3wC9ZLjA"
      },
      "source": [
        "data.drop_duplicates(subset=['Text'], inplace=True)#dropping duplicates\r\n",
        "data.dropna(axis=0, inplace=True)#dropping na"
      ],
      "execution_count": 96,
      "outputs": []
    },
    {
      "cell_type": "code",
      "metadata": {
        "id": "3RjvbM93ZLuk"
      },
      "source": [
        "with open('contraction_mapping.json', 'r') as file_object:\r\n",
        "    contraction_mapping = json.load(file_object)"
      ],
      "execution_count": 97,
      "outputs": []
    },
    {
      "cell_type": "markdown",
      "metadata": {
        "id": "vXy4HLpnUtOH"
      },
      "source": [
        "#### load the short and full words map"
      ]
    },
    {
      "cell_type": "code",
      "metadata": {
        "id": "-KMJTG5olGBn",
        "colab": {
          "base_uri": "https://localhost:8080/"
        },
        "outputId": "126118d0-08c9-44bc-9276-108e727e34cf"
      },
      "source": [
        "for k, v in contraction_mapping.items():\r\n",
        "    print(k, \"=\", v)"
      ],
      "execution_count": 98,
      "outputs": [
        {
          "output_type": "stream",
          "text": [
            "'cause = because\n",
            "I'd = I would\n",
            "I'd've = I would have\n",
            "I'll = I will\n",
            "I'll've = I will have\n",
            "I'm = I am\n",
            "I've = I have\n",
            "ain't = is not\n",
            "aren't = are not\n",
            "can't = cannot\n",
            "could've = could have\n",
            "couldn't = could not\n",
            "didn't = did not\n",
            "doesn't = does not\n",
            "don't = do not\n",
            "hadn't = had not\n",
            "hasn't = has not\n",
            "haven't = have not\n",
            "he'd = he would\n",
            "he'll = he will\n",
            "he's = he is\n",
            "here's = here is\n",
            "how'd = how did\n",
            "how'd'y = how do you\n",
            "how'll = how will\n",
            "how's = how is\n",
            "i'd = i would\n",
            "i'd've = i would have\n",
            "i'll = i will\n",
            "i'll've = i will have\n",
            "i'm = i am\n",
            "i've = i have\n",
            "isn't = is not\n",
            "it'd = it would\n",
            "it'd've = it would have\n",
            "it'll = it will\n",
            "it'll've = it will have\n",
            "it's = it is\n",
            "let's = let us\n",
            "ma'am = madam\n",
            "mayn't = may not\n",
            "might've = might have\n",
            "mightn't = might not\n",
            "mightn't've = might not have\n",
            "must've = must have\n",
            "mustn't = must not\n",
            "mustn't've = must not have\n",
            "needn't = need not\n",
            "needn't've = need not have\n",
            "o'clock = of the clock\n",
            "oughtn't = ought not\n",
            "oughtn't've = ought not have\n",
            "sha'n't = shall not\n",
            "shan't = shall not\n",
            "shan't've = shall not have\n",
            "she'd = she would\n",
            "she'd've = she would have\n",
            "she'll = she will\n",
            "she'll've = she will have\n",
            "she's = she is\n",
            "should've = should have\n",
            "shouldn't = should not\n",
            "shouldn't've = should not have\n",
            "so's = so as\n",
            "so've = so have\n",
            "that'd = that would\n",
            "that'd've = that would have\n",
            "that's = that is\n",
            "there'd = there would\n",
            "there'd've = there would have\n",
            "there's = there is\n",
            "they'd = they would\n",
            "they'd've = they would have\n",
            "they'll = they will\n",
            "they'll've = they will have\n",
            "they're = they are\n",
            "they've = they have\n",
            "this's = this is\n",
            "to've = to have\n",
            "wasn't = was not\n",
            "we'd = we would\n",
            "we'd've = we would have\n",
            "we'll = we will\n",
            "we'll've = we will have\n",
            "we're = we are\n",
            "we've = we have\n",
            "weren't = were not\n",
            "what'll = what will\n",
            "what'll've = what will have\n",
            "what're = what are\n",
            "what's = what is\n",
            "what've = what have\n",
            "when's = when is\n",
            "when've = when have\n",
            "where'd = where did\n",
            "where's = where is\n",
            "where've = where have\n",
            "who'll = who will\n",
            "who'll've = who will have\n",
            "who's = who is\n",
            "who've = who have\n",
            "why's = why is\n",
            "why've = why have\n",
            "will've = will have\n",
            "won't = will not\n",
            "won't've = will not have\n",
            "would've = would have\n",
            "wouldn't = would not\n",
            "wouldn't've = would not have\n",
            "y'all = you all\n",
            "y'all'd = you all would\n",
            "y'all'd've = you all would have\n",
            "y'all're = you all are\n",
            "y'all've = you all have\n",
            "you'd = you would\n",
            "you'd've = you would have\n",
            "you'll = you will\n",
            "you'll've = you will have\n",
            "you're = you are\n",
            "you've = you have\n"
          ],
          "name": "stdout"
        }
      ]
    },
    {
      "cell_type": "markdown",
      "metadata": {
        "id": "qB3K91jfUzwy"
      },
      "source": [
        "#### text cleaning function"
      ]
    },
    {
      "cell_type": "code",
      "metadata": {
        "id": "cMTpRGW8lXl8"
      },
      "source": [
        "stop_words = set(stopwords.words('english'))\r\n",
        "\r\n",
        "def text_cleaner(text,num):\r\n",
        "    newString = text.lower()\r\n",
        "    newString = BeautifulSoup(newString, \"lxml\").text\r\n",
        "    newString = re.sub(r'\\([^)]*\\)', '', newString)\r\n",
        "    newString = re.sub('\"','', newString)\r\n",
        "    newString = ' '.join([contraction_mapping[t] if t in contraction_mapping else t for t in newString.split(\" \")])    \r\n",
        "    newString = re.sub(r\"'s\\b\",\"\",newString)\r\n",
        "    newString = re.sub(\"[^a-zA-Z]\", \" \", newString) \r\n",
        "    newString = re.sub('[m]{2,}', 'mm', newString)\r\n",
        "    if(num==0):\r\n",
        "        tokens = [w for w in newString.split() if not w in stop_words]\r\n",
        "    else:\r\n",
        "        tokens=newString.split()\r\n",
        "    long_words=[]\r\n",
        "    for i in tokens:\r\n",
        "        if len(i)>1:                                                 #removing short word\r\n",
        "            long_words.append(i)   \r\n",
        "    return (\" \".join(long_words)).strip()"
      ],
      "execution_count": 99,
      "outputs": []
    },
    {
      "cell_type": "markdown",
      "metadata": {
        "id": "_exB46cVU4hN"
      },
      "source": [
        "#### Filter the rows with empty cell under summary column"
      ]
    },
    {
      "cell_type": "code",
      "metadata": {
        "id": "iEkXFwtp1pKj"
      },
      "source": [
        "def filter_data(data):\r\n",
        "    cols = data.columns\r\n",
        "    data_2 = []\r\n",
        "    for row in data.values:\r\n",
        "        if(type(row[8]) is not str):\r\n",
        "            continue\r\n",
        "        else:\r\n",
        "            data_2.append(row)\r\n",
        "    data_2 = pd.DataFrame(data_2, columns=cols)\r\n",
        "    return data_2"
      ],
      "execution_count": 100,
      "outputs": []
    },
    {
      "cell_type": "code",
      "metadata": {
        "id": "hS0i8tSL19tz"
      },
      "source": [
        "data = filter_data(data)"
      ],
      "execution_count": 101,
      "outputs": []
    },
    {
      "cell_type": "markdown",
      "metadata": {
        "id": "7NvTQWtlZGUt"
      },
      "source": [
        "###### clean the text/ source docs"
      ]
    },
    {
      "cell_type": "code",
      "metadata": {
        "id": "FZqHhfNOlXpI"
      },
      "source": [
        "#call the function\r\n",
        "cleaned_text = []\r\n",
        "for t in data['Text']:\r\n",
        "    cleaned_text.append(text_cleaner(t,0))"
      ],
      "execution_count": 102,
      "outputs": []
    },
    {
      "cell_type": "markdown",
      "metadata": {
        "id": "Tq8DLfQbZAQB"
      },
      "source": [
        "###### clean the summary/ target docs"
      ]
    },
    {
      "cell_type": "code",
      "metadata": {
        "id": "wXKCl44klXrt"
      },
      "source": [
        "#call the function\r\n",
        "cleaned_summary = []\r\n",
        "for t in data['Summary']:\r\n",
        "    cleaned_summary.append(text_cleaner(t, 1))"
      ],
      "execution_count": 103,
      "outputs": []
    },
    {
      "cell_type": "code",
      "metadata": {
        "id": "vdAVIxB-l-9k"
      },
      "source": [
        "data['cleaned_text']=cleaned_text\r\n",
        "data['cleaned_summary']=cleaned_summary"
      ],
      "execution_count": 104,
      "outputs": []
    },
    {
      "cell_type": "markdown",
      "metadata": {
        "id": "uB6i2hvBVRaW"
      },
      "source": [
        "##### replace null strings with nan of type float and then drop rows with nan type"
      ]
    },
    {
      "cell_type": "code",
      "metadata": {
        "id": "67oWisnWl_BN"
      },
      "source": [
        "data.replace('', np.nan, inplace=True)\r\n",
        "data.dropna(axis=0,inplace=True)"
      ],
      "execution_count": 105,
      "outputs": []
    },
    {
      "cell_type": "markdown",
      "metadata": {
        "id": "mV7QJz_XVa-t"
      },
      "source": [
        "##### define text and summary length"
      ]
    },
    {
      "cell_type": "code",
      "metadata": {
        "id": "fkvHOJRmmOcB"
      },
      "source": [
        "max_text_len=30\r\n",
        "\r\n",
        "max_summary_len=8"
      ],
      "execution_count": 106,
      "outputs": []
    },
    {
      "cell_type": "markdown",
      "metadata": {
        "id": "5n5sVqPEVgw0"
      },
      "source": [
        "##### trim text and summary to the defined length"
      ]
    },
    {
      "cell_type": "code",
      "metadata": {
        "id": "1qcJvwF-mOfD"
      },
      "source": [
        "cleaned_text =np.array(data['cleaned_text'])\r\n",
        "cleaned_summary=np.array(data['cleaned_summary'])\r\n",
        "\r\n",
        "short_text=[]\r\n",
        "short_summary=[]\r\n",
        "\r\n",
        "for i in range(len(cleaned_text)):\r\n",
        "    if(len(cleaned_summary[i].split())<=max_summary_len and len(cleaned_text[i].split())<=max_text_len):\r\n",
        "        short_text.append(cleaned_text[i])\r\n",
        "        short_summary.append(cleaned_summary[i])\r\n",
        "        \r\n",
        "df=pd.DataFrame({'text':short_text,'summary':short_summary})"
      ],
      "execution_count": 107,
      "outputs": []
    },
    {
      "cell_type": "markdown",
      "metadata": {
        "id": "o2MwtpMtVnaV"
      },
      "source": [
        "##### append start of token and end of tokens"
      ]
    },
    {
      "cell_type": "code",
      "metadata": {
        "id": "1yOBb2WRmOhl"
      },
      "source": [
        "df['summary'] = df['summary'].apply(lambda x : 'sostok '+ x + ' eostok')"
      ],
      "execution_count": 108,
      "outputs": []
    },
    {
      "cell_type": "markdown",
      "metadata": {
        "id": "Uzm2r8klVuZ7"
      },
      "source": [
        "##### split the data into train and test sets"
      ]
    },
    {
      "cell_type": "code",
      "metadata": {
        "id": "yePDsJf59xQH"
      },
      "source": [
        "x_tr, x_val, y_tr, y_val = train_test_split(np.array(df['text']),np.array(df['summary']),test_size=0.1,random_state=0,shuffle=True)"
      ],
      "execution_count": 109,
      "outputs": []
    },
    {
      "cell_type": "markdown",
      "metadata": {
        "id": "GzXQRoY9V0sI"
      },
      "source": [
        "##### tokenize the text into words"
      ]
    },
    {
      "cell_type": "code",
      "metadata": {
        "id": "_nYtHWkc9xTB"
      },
      "source": [
        "#prepare a tokenizer for reviews on training data\r\n",
        "x_tokenizer = Tokenizer()\r\n",
        "\r\n",
        "x_tokenizer.fit_on_texts(list(x_tr))"
      ],
      "execution_count": 110,
      "outputs": []
    },
    {
      "cell_type": "code",
      "metadata": {
        "id": "nfOsz_TP9xVN",
        "colab": {
          "base_uri": "https://localhost:8080/"
        },
        "outputId": "5f64b318-8030-4b9e-ab6f-1aa6f85eab84"
      },
      "source": [
        "thresh=4\r\n",
        "\r\n",
        "cnt=0\r\n",
        "tot_cnt=0\r\n",
        "freq=0\r\n",
        "tot_freq=0\r\n",
        "\r\n",
        "for key, value in x_tokenizer.word_counts.items():\r\n",
        "    tot_cnt  = tot_cnt+1\r\n",
        "    tot_freq = tot_freq+value\r\n",
        "    if(value < thresh):\r\n",
        "        cnt+=1\r\n",
        "        freq+=value\r\n",
        "\r\n",
        "print(\"% of rare words in vocabulary:\",(cnt/tot_cnt)*100)\r\n",
        "print(\"Total Coverage of rare words:\",(freq/tot_freq)*100)"
      ],
      "execution_count": 111,
      "outputs": [
        {
          "output_type": "stream",
          "text": [
            "% of rare words in vocabulary: 66.19559980729083\n",
            "Total Coverage of rare words: 2.961371107036306\n"
          ],
          "name": "stdout"
        }
      ]
    },
    {
      "cell_type": "markdown",
      "metadata": {
        "id": "AW-qdWKaWCua"
      },
      "source": [
        "##### retrain the tokenizer with more parameters"
      ]
    },
    {
      "cell_type": "code",
      "metadata": {
        "id": "e8CLt6d7-FtU",
        "colab": {
          "base_uri": "https://localhost:8080/"
        },
        "outputId": "5573d089-638b-42f8-a05d-6704d106ea58"
      },
      "source": [
        "#prepare a tokenizer for reviews on training data\r\n",
        "x_tokenizer = Tokenizer(num_words=tot_cnt-cnt) \r\n",
        "x_tokenizer.fit_on_texts(list(x_tr))\r\n",
        "\r\n",
        "#convert text sequences into integer sequences\r\n",
        "x_tr_seq    =   x_tokenizer.texts_to_sequences(x_tr) \r\n",
        "x_val_seq   =   x_tokenizer.texts_to_sequences(x_val)\r\n",
        "\r\n",
        "#padding zero upto maximum length\r\n",
        "x_tr    =   pad_sequences(x_tr_seq,  maxlen=max_text_len, padding='post')\r\n",
        "x_val   =   pad_sequences(x_val_seq, maxlen=max_text_len, padding='post')\r\n",
        "\r\n",
        "#size of vocabulary ( +1 for padding token)\r\n",
        "x_voc   =  x_tokenizer.num_words + 1\r\n",
        "print(\"vocabulary size for source documents:\", x_voc)"
      ],
      "execution_count": 112,
      "outputs": [
        {
          "output_type": "stream",
          "text": [
            "vocabulary size for source documents: 8421\n"
          ],
          "name": "stdout"
        }
      ]
    },
    {
      "cell_type": "markdown",
      "metadata": {
        "id": "aVryuQ3VWTyK"
      },
      "source": [
        "###### create a tokenizer for summaries"
      ]
    },
    {
      "cell_type": "code",
      "metadata": {
        "id": "IWZGwVvm-qWU"
      },
      "source": [
        "#prepare a tokenizer for reviews on training data\r\n",
        "y_tokenizer = Tokenizer()\r\n",
        "y_tokenizer.fit_on_texts(list(y_tr))"
      ],
      "execution_count": 113,
      "outputs": []
    },
    {
      "cell_type": "code",
      "metadata": {
        "id": "Fclaoh2h-qZj",
        "colab": {
          "base_uri": "https://localhost:8080/"
        },
        "outputId": "0d130faf-f3d2-4bc3-84d1-2cc92f4c2d69"
      },
      "source": [
        "thresh=6\r\n",
        "\r\n",
        "cnt=0\r\n",
        "tot_cnt=0\r\n",
        "freq=0\r\n",
        "tot_freq=0\r\n",
        "\r\n",
        "for key,value in y_tokenizer.word_counts.items():\r\n",
        "    tot_cnt=tot_cnt+1\r\n",
        "    tot_freq=tot_freq+value\r\n",
        "    if(value<thresh):\r\n",
        "        cnt=cnt+1\r\n",
        "        freq=freq+value\r\n",
        "    \r\n",
        "print(\"% of rare words in vocabulary:\",(cnt/tot_cnt)*100)\r\n",
        "print(\"Total Coverage of rare words:\",(freq/tot_freq)*100)"
      ],
      "execution_count": 114,
      "outputs": [
        {
          "output_type": "stream",
          "text": [
            "% of rare words in vocabulary: 78.10259238830668\n",
            "Total Coverage of rare words: 5.375710585018349\n"
          ],
          "name": "stdout"
        }
      ]
    },
    {
      "cell_type": "markdown",
      "metadata": {
        "id": "nClGzMFwWdZb"
      },
      "source": [
        "##### retrained with contraints of number of words"
      ]
    },
    {
      "cell_type": "code",
      "metadata": {
        "id": "Wdx0qQoN-FwT",
        "colab": {
          "base_uri": "https://localhost:8080/"
        },
        "outputId": "d735d634-ec13-477c-d406-aecec78fc5bd"
      },
      "source": [
        "#prepare a tokenizer for reviews on training data\r\n",
        "y_tokenizer = Tokenizer(num_words=tot_cnt-cnt) \r\n",
        "y_tokenizer.fit_on_texts(list(y_tr))\r\n",
        "\r\n",
        "#convert text sequences into integer sequences\r\n",
        "y_tr_seq    =   y_tokenizer.texts_to_sequences(y_tr) \r\n",
        "y_val_seq   =   y_tokenizer.texts_to_sequences(y_val) \r\n",
        "\r\n",
        "#padding zero upto maximum length\r\n",
        "y_tr    =   pad_sequences(y_tr_seq, maxlen=max_summary_len, padding='post')\r\n",
        "y_val   =   pad_sequences(y_val_seq, maxlen=max_summary_len, padding='post')\r\n",
        "\r\n",
        "#size of vocabulary\r\n",
        "y_voc  =   y_tokenizer.num_words +1\r\n",
        "print(\"vocabulary size for target summaries:\", y_voc)"
      ],
      "execution_count": 115,
      "outputs": [
        {
          "output_type": "stream",
          "text": [
            "vocabulary size for target summaries: 1986\n"
          ],
          "name": "stdout"
        }
      ]
    },
    {
      "cell_type": "code",
      "metadata": {
        "id": "v6SBUms7ahum",
        "colab": {
          "base_uri": "https://localhost:8080/"
        },
        "outputId": "f9f3611d-6318-48cb-8435-16ebc4eb1ae0"
      },
      "source": [
        "y_tokenizer.word_counts['sostok'],  len(y_tr)"
      ],
      "execution_count": 116,
      "outputs": [
        {
          "output_type": "execute_result",
          "data": {
            "text/plain": [
              "(42452, 42452)"
            ]
          },
          "metadata": {
            "tags": []
          },
          "execution_count": 116
        }
      ]
    },
    {
      "cell_type": "markdown",
      "metadata": {
        "id": "h9oPPQGSW9x2"
      },
      "source": [
        "##### filterout sequences of length 2 | hint: such sequences only consists of start and end tokens no data"
      ]
    },
    {
      "cell_type": "code",
      "metadata": {
        "id": "Z9WdRjONahyK"
      },
      "source": [
        "ind=[]\r\n",
        "for i in range(len(y_tr)):\r\n",
        "    cnt=0\r\n",
        "    for j in y_tr[i]:\r\n",
        "        if j!=0:\r\n",
        "            cnt=cnt+1\r\n",
        "    if(cnt==2):\r\n",
        "        ind.append(i)\r\n",
        "\r\n",
        "y_tr=np.delete(y_tr,ind, axis=0)\r\n",
        "x_tr=np.delete(x_tr,ind, axis=0)"
      ],
      "execution_count": 118,
      "outputs": []
    },
    {
      "cell_type": "code",
      "metadata": {
        "id": "opgJv64Iah1i"
      },
      "source": [
        "ind=[]\r\n",
        "for i in range(len(y_val)):\r\n",
        "    cnt=0\r\n",
        "    for j in y_val[i]:\r\n",
        "        if j!=0:\r\n",
        "            cnt=cnt+1\r\n",
        "    if(cnt==2):\r\n",
        "        ind.append(i)\r\n",
        "\r\n",
        "y_val=np.delete(y_val,ind, axis=0)\r\n",
        "x_val=np.delete(x_val,ind, axis=0)"
      ],
      "execution_count": 119,
      "outputs": []
    },
    {
      "cell_type": "markdown",
      "metadata": {
        "id": "ShPpIK80XQB7"
      },
      "source": [
        "#### custom Attention Layer inherited from Super class Layer"
      ]
    },
    {
      "cell_type": "code",
      "metadata": {
        "id": "TAlCk-XpeCql"
      },
      "source": [
        "class AttentionLayer(Layer):\r\n",
        "    \"\"\"\r\n",
        "    This class implements Bahdanau attention (https://arxiv.org/pdf/1409.0473.pdf).\r\n",
        "    There are three sets of weights introduced W_a, U_a, and V_a\r\n",
        "     \"\"\"\r\n",
        "    \r\n",
        "    def __init__(self, **kwargs):\r\n",
        "        super(AttentionLayer, self).__init__(**kwargs)\r\n",
        "\r\n",
        "    def build(self, input_shape):\r\n",
        "        assert isinstance(input_shape, list)\r\n",
        "        # Create a trainable weight variable for this layer.\r\n",
        "        self.W_a = self.add_weight(name='W_a', shape=tf.TensorShape((input_shape[0][2], input_shape[0][2])), initializer='uniform', trainable=True)\r\n",
        "        self.U_a = self.add_weight(name='U_a', shape=tf.TensorShape((input_shape[1][2], input_shape[0][2])), initializer='uniform', trainable=True)\r\n",
        "        self.V_a = self.add_weight(name='V_a', shape=tf.TensorShape((input_shape[0][2], 1)), initializer='uniform', trainable=True)\r\n",
        "        super(AttentionLayer, self).build(input_shape)  # Be sure to call this at the end\r\n",
        "\r\n",
        "    def call(self, inputs, verbose=False):\r\n",
        "        \"\"\"\r\n",
        "        inputs: [encoder_output_sequence, decoder_output_sequence]\r\n",
        "        \"\"\"\r\n",
        "        assert type(inputs) == list\r\n",
        "        encoder_out_seq, decoder_out_seq = inputs\r\n",
        "        if verbose:\r\n",
        "            print('encoder_out_seq>', encoder_out_seq.shape)\r\n",
        "            print('decoder_out_seq>', decoder_out_seq.shape)\r\n",
        "\r\n",
        "        def energy_step(inputs, states):\r\n",
        "            \"\"\" Step function for computing energy for a single decoder state\r\n",
        "            inputs: (batchsize * 1 * de_in_dim)\r\n",
        "            states: (batchsize * 1 * de_latent_dim)\r\n",
        "            \"\"\"\r\n",
        "\r\n",
        "            assert_msg = \"States must be an iterable. Got {} of type {}\".format(states, type(states))\r\n",
        "            assert isinstance(states, list) or isinstance(states, tuple), assert_msg\r\n",
        "\r\n",
        "            \"\"\" Some parameters required for shaping tensors\"\"\"\r\n",
        "            en_seq_len, en_hidden = encoder_out_seq.shape[1], encoder_out_seq.shape[2]\r\n",
        "            de_hidden = inputs.shape[-1]\r\n",
        "\r\n",
        "            \"\"\" Computing S.Wa where S=[s0, s1, ..., si]\"\"\"\r\n",
        "            # <= batch size * en_seq_len * latent_dim\r\n",
        "            W_a_dot_s = K.dot(encoder_out_seq, self.W_a)\r\n",
        "\r\n",
        "            \"\"\" Computing hj.Ua \"\"\"\r\n",
        "            U_a_dot_h = K.expand_dims(K.dot(inputs, self.U_a), 1)  # <= batch_size, 1, latent_dim\r\n",
        "            if verbose:\r\n",
        "                print('Ua.h>', U_a_dot_h.shape)\r\n",
        "\r\n",
        "            \"\"\" tanh(S.Wa + hj.Ua) \"\"\"\r\n",
        "            # <= batch_size*en_seq_len, latent_dim\r\n",
        "            Ws_plus_Uh = K.tanh(W_a_dot_s + U_a_dot_h)\r\n",
        "            if verbose:\r\n",
        "                print('Ws+Uh>', Ws_plus_Uh.shape)\r\n",
        "\r\n",
        "            \"\"\" softmax(va.tanh(S.Wa + hj.Ua)) \"\"\"\r\n",
        "            # <= batch_size, en_seq_len\r\n",
        "            e_i = K.squeeze(K.dot(Ws_plus_Uh, self.V_a), axis=-1)\r\n",
        "            # <= batch_size, en_seq_len\r\n",
        "            e_i = K.softmax(e_i)\r\n",
        "\r\n",
        "            if verbose:\r\n",
        "                print('ei>', e_i.shape)\r\n",
        "\r\n",
        "            return e_i, [e_i]\r\n",
        "\r\n",
        "        def context_step(inputs, states):\r\n",
        "            \"\"\" Step function for computing ci using ei \"\"\"\r\n",
        "\r\n",
        "            assert_msg = \"States must be an iterable. Got {} of type {}\".format(states, type(states))\r\n",
        "            assert isinstance(states, list) or isinstance(states, tuple), assert_msg\r\n",
        "\r\n",
        "            # <= batch_size, hidden_size\r\n",
        "            c_i = K.sum(encoder_out_seq * K.expand_dims(inputs, -1), axis=1)\r\n",
        "            if verbose:\r\n",
        "                print('ci>', c_i.shape)\r\n",
        "            return c_i, [c_i]\r\n",
        "\r\n",
        "        fake_state_c = K.sum(encoder_out_seq, axis=1)\r\n",
        "        fake_state_e = K.sum(encoder_out_seq, axis=2)  # <= (batch_size, enc_seq_len, latent_dim\r\n",
        "\r\n",
        "        \"\"\" Computing energy outputs \"\"\"\r\n",
        "        # e_outputs => (batch_size, de_seq_len, en_seq_len)\r\n",
        "        last_out, e_outputs, _ = K.rnn(energy_step, decoder_out_seq, [fake_state_e],)\r\n",
        "\r\n",
        "        \"\"\" Computing context vectors \"\"\"\r\n",
        "        last_out, c_outputs, _ = K.rnn(context_step, e_outputs, [fake_state_c],)\r\n",
        "        return c_outputs, e_outputs\r\n",
        "\r\n",
        "    def compute_output_shape(self, input_shape):\r\n",
        "        \"\"\" Outputs produced by the layer \"\"\"\r\n",
        "        return [tf.TensorShape((input_shape[1][0], input_shape[1][1], input_shape[1][2])),\r\n",
        "                tf.TensorShape((input_shape[1][0], input_shape[1][1], input_shape[0][1]))]"
      ],
      "execution_count": 120,
      "outputs": []
    },
    {
      "cell_type": "markdown",
      "metadata": {
        "id": "eLK9yfJwXY1O"
      },
      "source": [
        "##### Define the model"
      ]
    },
    {
      "cell_type": "code",
      "metadata": {
        "id": "-is4szNUazdl",
        "colab": {
          "base_uri": "https://localhost:8080/"
        },
        "outputId": "f9acb552-401a-4987-f222-ad9a79b1ccf8"
      },
      "source": [
        "\r\n",
        "K.clear_session()\r\n",
        "\r\n",
        "latent_dim = 300\r\n",
        "embedding_dim=100\r\n",
        "\r\n",
        "# Encoder\r\n",
        "encoder_inputs = Input(shape=(max_text_len,))\r\n",
        "\r\n",
        "#embedding layer\r\n",
        "enc_emb =  Embedding(x_voc, embedding_dim, trainable=True)(encoder_inputs)\r\n",
        "\r\n",
        "#encoder lstm 1\r\n",
        "encoder_lstm1 = LSTM(latent_dim, return_sequences=True, return_state=True,dropout=0.4,recurrent_dropout=0.4)\r\n",
        "encoder_output1, state_h1, state_c1 = encoder_lstm1(enc_emb)\r\n",
        "\r\n",
        "#encoder lstm 2\r\n",
        "encoder_lstm2 = LSTM(latent_dim,return_sequences=True,return_state=True,dropout=0.4,recurrent_dropout=0.4)\r\n",
        "encoder_output2, state_h2, state_c2 = encoder_lstm2(encoder_output1)\r\n",
        "\r\n",
        "#encoder lstm 3\r\n",
        "encoder_lstm3=LSTM(latent_dim, return_state=True, return_sequences=True,dropout=0.4,recurrent_dropout=0.4)\r\n",
        "encoder_outputs, state_h, state_c= encoder_lstm3(encoder_output2)\r\n",
        "\r\n",
        "# Set up the decoder, using `encoder_states` as initial state.\r\n",
        "decoder_inputs = Input(shape=(None,))\r\n",
        "\r\n",
        "#embedding layer\r\n",
        "dec_emb_layer = Embedding(y_voc, embedding_dim,trainable=True)\r\n",
        "dec_emb = dec_emb_layer(decoder_inputs)\r\n",
        "\r\n",
        "decoder_lstm = LSTM(latent_dim, return_sequences=True, return_state=True,dropout=0.4,recurrent_dropout=0.2)\r\n",
        "decoder_outputs,decoder_fwd_state, decoder_back_state = decoder_lstm(dec_emb,initial_state=[state_h, state_c])\r\n",
        "\r\n",
        "# Attention layer\r\n",
        "attn_layer = AttentionLayer(name='attention_layer')\r\n",
        "# attention       = Attention(name=\"attention_layer\")\r\n",
        "attn_out, attn_states = attn_layer([encoder_outputs, decoder_outputs])\r\n",
        "\r\n",
        "# attn_out = Reshape((30, 300))(attn_out)\r\n",
        "# decoder_outputs = Reshape((30, 70))(decoder_outputs)\r\n",
        "\r\n",
        "# Concat attention input and decoder LSTM output\r\n",
        "decoder_concat_input = Concatenate(axis=-1, name='concat_layer')([decoder_outputs, attn_out])\r\n",
        "decoder_dense = TimeDistributed(Dense(y_voc, activation='softmax'))\r\n",
        "#dense layer\r\n",
        "decoder_outputs =  decoder_dense(decoder_concat_input)\r\n",
        "\r\n",
        "# Define the model\r\n",
        "model = Model([encoder_inputs, decoder_inputs], decoder_outputs)\r\n",
        "\r\n",
        "model.summary()\r\n"
      ],
      "execution_count": 121,
      "outputs": [
        {
          "output_type": "stream",
          "text": [
            "WARNING:tensorflow:Layer lstm will not use cuDNN kernel since it doesn't meet the cuDNN kernel criteria. It will use generic GPU kernel as fallback when running on GPU\n",
            "WARNING:tensorflow:Layer lstm_1 will not use cuDNN kernel since it doesn't meet the cuDNN kernel criteria. It will use generic GPU kernel as fallback when running on GPU\n",
            "WARNING:tensorflow:Layer lstm_2 will not use cuDNN kernel since it doesn't meet the cuDNN kernel criteria. It will use generic GPU kernel as fallback when running on GPU\n",
            "WARNING:tensorflow:Layer lstm_3 will not use cuDNN kernel since it doesn't meet the cuDNN kernel criteria. It will use generic GPU kernel as fallback when running on GPU\n",
            "Model: \"model\"\n",
            "__________________________________________________________________________________________________\n",
            "Layer (type)                    Output Shape         Param #     Connected to                     \n",
            "==================================================================================================\n",
            "input_1 (InputLayer)            [(None, 30)]         0                                            \n",
            "__________________________________________________________________________________________________\n",
            "embedding (Embedding)           (None, 30, 100)      842100      input_1[0][0]                    \n",
            "__________________________________________________________________________________________________\n",
            "lstm (LSTM)                     [(None, 30, 300), (N 481200      embedding[0][0]                  \n",
            "__________________________________________________________________________________________________\n",
            "input_2 (InputLayer)            [(None, None)]       0                                            \n",
            "__________________________________________________________________________________________________\n",
            "lstm_1 (LSTM)                   [(None, 30, 300), (N 721200      lstm[0][0]                       \n",
            "__________________________________________________________________________________________________\n",
            "embedding_1 (Embedding)         (None, None, 100)    198600      input_2[0][0]                    \n",
            "__________________________________________________________________________________________________\n",
            "lstm_2 (LSTM)                   [(None, 30, 300), (N 721200      lstm_1[0][0]                     \n",
            "__________________________________________________________________________________________________\n",
            "lstm_3 (LSTM)                   [(None, None, 300),  481200      embedding_1[0][0]                \n",
            "                                                                 lstm_2[0][1]                     \n",
            "                                                                 lstm_2[0][2]                     \n",
            "__________________________________________________________________________________________________\n",
            "attention_layer (AttentionLayer ((None, None, 300),  180300      lstm_2[0][0]                     \n",
            "                                                                 lstm_3[0][0]                     \n",
            "__________________________________________________________________________________________________\n",
            "concat_layer (Concatenate)      (None, None, 600)    0           lstm_3[0][0]                     \n",
            "                                                                 attention_layer[0][0]            \n",
            "__________________________________________________________________________________________________\n",
            "time_distributed (TimeDistribut (None, None, 1986)   1193586     concat_layer[0][0]               \n",
            "==================================================================================================\n",
            "Total params: 4,819,386\n",
            "Trainable params: 4,819,386\n",
            "Non-trainable params: 0\n",
            "__________________________________________________________________________________________________\n"
          ],
          "name": "stdout"
        }
      ]
    },
    {
      "cell_type": "markdown",
      "metadata": {
        "id": "AFEq8C6gXcrW"
      },
      "source": [
        "#### compile the model"
      ]
    },
    {
      "cell_type": "code",
      "metadata": {
        "id": "xdqnOyuBa9HN"
      },
      "source": [
        "model.compile(optimizer='rmsprop', loss='sparse_categorical_crossentropy') ###  metrics=[\"accuracy\"]"
      ],
      "execution_count": 122,
      "outputs": []
    },
    {
      "cell_type": "code",
      "metadata": {
        "id": "b8piQkiVa9K8"
      },
      "source": [
        "es = EarlyStopping(monitor='val_loss', mode='min', verbose=1, patience=2)"
      ],
      "execution_count": 123,
      "outputs": []
    },
    {
      "cell_type": "markdown",
      "metadata": {
        "id": "pgnj77yLXhi3"
      },
      "source": [
        "##### train the model"
      ]
    },
    {
      "cell_type": "code",
      "metadata": {
        "id": "12Uz6qquazg8",
        "colab": {
          "base_uri": "https://localhost:8080/"
        },
        "outputId": "8a443f52-e3ec-4637-d6c9-ab6590a2751d"
      },
      "source": [
        "history=model.fit([x_tr,y_tr[:,:-1]],\r\n",
        "                  y_tr.reshape(y_tr.shape[0],\r\n",
        "                   y_tr.shape[1], 1)[:,1:],\r\n",
        "                  epochs=50,\r\n",
        "                  callbacks=[es],\r\n",
        "                  batch_size=128,\r\n",
        "                  validation_data=([x_val, y_val[:,:-1]], y_val.reshape(y_val.shape[0],y_val.shape[1], 1)[:,1:]))"
      ],
      "execution_count": null,
      "outputs": [
        {
          "output_type": "stream",
          "text": [
            "Epoch 1/50\n",
            "324/324 [==============================] - 139s 399ms/step - loss: 3.1921 - val_loss: 2.5806\n",
            "Epoch 2/50\n",
            "324/324 [==============================] - 127s 391ms/step - loss: 2.5378 - val_loss: 2.4344\n",
            "Epoch 3/50\n",
            "324/324 [==============================] - 126s 387ms/step - loss: 2.3748 - val_loss: 2.3356\n",
            "Epoch 4/50\n",
            "324/324 [==============================] - 124s 382ms/step - loss: 2.2450 - val_loss: 2.2236\n",
            "Epoch 5/50\n",
            "324/324 [==============================] - 123s 380ms/step - loss: 2.1675 - val_loss: 2.1872\n",
            "Epoch 6/50\n",
            "324/324 [==============================] - 122s 378ms/step - loss: 2.1095 - val_loss: 2.1742\n",
            "Epoch 7/50\n",
            "324/324 [==============================] - 126s 388ms/step - loss: 2.0598 - val_loss: 2.1572\n",
            "Epoch 8/50\n",
            "324/324 [==============================] - 125s 386ms/step - loss: 2.0154 - val_loss: 2.1189\n",
            "Epoch 9/50\n",
            "324/324 [==============================] - 124s 384ms/step - loss: 1.9796 - val_loss: 2.0937\n",
            "Epoch 10/50\n",
            "324/324 [==============================] - 124s 384ms/step - loss: 1.9263 - val_loss: 2.0741\n",
            "Epoch 11/50\n",
            "324/324 [==============================] - 123s 379ms/step - loss: 1.9016 - val_loss: 2.0689\n",
            "Epoch 12/50\n",
            "324/324 [==============================] - 123s 380ms/step - loss: 1.8764 - val_loss: 2.0708\n",
            "Epoch 13/50\n",
            "324/324 [==============================] - 123s 378ms/step - loss: 1.8274 - val_loss: 2.0519\n",
            "Epoch 14/50\n",
            "324/324 [==============================] - 122s 376ms/step - loss: 1.8018 - val_loss: 2.0576\n",
            "Epoch 15/50\n",
            "324/324 [==============================] - 121s 373ms/step - loss: 1.7773 - val_loss: 2.0485\n",
            "Epoch 16/50\n",
            "324/324 [==============================] - 120s 371ms/step - loss: 1.7387 - val_loss: 2.0501\n",
            "Epoch 17/50\n",
            "324/324 [==============================] - 120s 371ms/step - loss: 1.7192 - val_loss: 2.0539\n",
            "Epoch 00017: early stopping\n"
          ],
          "name": "stdout"
        }
      ]
    },
    {
      "cell_type": "code",
      "metadata": {
        "colab": {
          "base_uri": "https://localhost:8080/"
        },
        "id": "xXoDochIIDwA",
        "outputId": "97c820a2-a9ea-4261-cef2-d327c5ebaf97"
      },
      "source": [
        "model.save(\"model.hd5\")"
      ],
      "execution_count": 125,
      "outputs": [
        {
          "output_type": "stream",
          "text": [
            "INFO:tensorflow:Assets written to: model.hd5/assets\n"
          ],
          "name": "stdout"
        }
      ]
    },
    {
      "cell_type": "code",
      "metadata": {
        "colab": {
          "base_uri": "https://localhost:8080/"
        },
        "id": "GgX6UtizJXsj",
        "outputId": "e36448b1-5640-4937-9aef-b1c7f3f264b6"
      },
      "source": [
        "model_new = keras.models.load_model(\"model.hd5\")"
      ],
      "execution_count": 131,
      "outputs": [
        {
          "output_type": "stream",
          "text": [
            "WARNING:tensorflow:Layer lstm will not use cuDNN kernel since it doesn't meet the cuDNN kernel criteria. It will use generic GPU kernel as fallback when running on GPU\n",
            "WARNING:tensorflow:Layer lstm_1 will not use cuDNN kernel since it doesn't meet the cuDNN kernel criteria. It will use generic GPU kernel as fallback when running on GPU\n",
            "WARNING:tensorflow:Layer lstm_2 will not use cuDNN kernel since it doesn't meet the cuDNN kernel criteria. It will use generic GPU kernel as fallback when running on GPU\n",
            "WARNING:tensorflow:Layer lstm_3 will not use cuDNN kernel since it doesn't meet the cuDNN kernel criteria. It will use generic GPU kernel as fallback when running on GPU\n"
          ],
          "name": "stdout"
        }
      ]
    },
    {
      "cell_type": "code",
      "metadata": {
        "colab": {
          "base_uri": "https://localhost:8080/"
        },
        "id": "oCEjQSl2JO2h",
        "outputId": "bb114652-027d-4181-8c52-d5bd2daa83db"
      },
      "source": [
        "model_new.summary()"
      ],
      "execution_count": 132,
      "outputs": [
        {
          "output_type": "stream",
          "text": [
            "Model: \"model\"\n",
            "__________________________________________________________________________________________________\n",
            "Layer (type)                    Output Shape         Param #     Connected to                     \n",
            "==================================================================================================\n",
            "input_1 (InputLayer)            [(None, 30)]         0                                            \n",
            "__________________________________________________________________________________________________\n",
            "embedding (Embedding)           (None, 30, 100)      842100      input_1[0][0]                    \n",
            "__________________________________________________________________________________________________\n",
            "lstm (LSTM)                     [(None, 30, 300), (N 481200      embedding[0][0]                  \n",
            "__________________________________________________________________________________________________\n",
            "input_2 (InputLayer)            [(None, None)]       0                                            \n",
            "__________________________________________________________________________________________________\n",
            "lstm_1 (LSTM)                   [(None, 30, 300), (N 721200      lstm[0][0]                       \n",
            "__________________________________________________________________________________________________\n",
            "embedding_1 (Embedding)         (None, None, 100)    198600      input_2[0][0]                    \n",
            "__________________________________________________________________________________________________\n",
            "lstm_2 (LSTM)                   [(None, 30, 300), (N 721200      lstm_1[0][0]                     \n",
            "__________________________________________________________________________________________________\n",
            "lstm_3 (LSTM)                   [(None, None, 300),  481200      embedding_1[0][0]                \n",
            "                                                                 lstm_2[0][1]                     \n",
            "                                                                 lstm_2[0][2]                     \n",
            "__________________________________________________________________________________________________\n",
            "attention_layer (AttentionLayer ((None, None, 300),  180300      lstm_2[0][0]                     \n",
            "                                                                 lstm_3[0][0]                     \n",
            "__________________________________________________________________________________________________\n",
            "concat_layer (Concatenate)      (None, None, 600)    0           lstm_3[0][0]                     \n",
            "                                                                 attention_layer[0][0]            \n",
            "__________________________________________________________________________________________________\n",
            "time_distributed (TimeDistribut (None, None, 1986)   1193586     concat_layer[0][0]               \n",
            "==================================================================================================\n",
            "Total params: 4,819,386\n",
            "Trainable params: 4,819,386\n",
            "Non-trainable params: 0\n",
            "__________________________________________________________________________________________________\n"
          ],
          "name": "stdout"
        }
      ]
    },
    {
      "cell_type": "markdown",
      "metadata": {
        "id": "JjJDibClXkta"
      },
      "source": [
        "##### plot the summary"
      ]
    },
    {
      "cell_type": "code",
      "metadata": {
        "colab": {
          "base_uri": "https://localhost:8080/",
          "height": 265
        },
        "id": "7xXVyBXyor1G",
        "outputId": "369936a3-525f-422f-b859-4b5a5dd96626"
      },
      "source": [
        "from matplotlib import pyplot \r\n",
        "pyplot.plot(history.history['loss'], label='train') \r\n",
        "pyplot.plot(history.history['val_loss'], label='test') \r\n",
        "pyplot.legend()\r\n",
        "pyplot.show()"
      ],
      "execution_count": null,
      "outputs": [
        {
          "output_type": "display_data",
          "data": {
            "image/png": "[encoded data removed]",
            "text/plain": [
              "<Figure size 432x288 with 1 Axes>"
            ]
          },
          "metadata": {
            "tags": [],
            "needs_background": "light"
          }
        }
      ]
    },
    {
      "cell_type": "markdown",
      "metadata": {
        "id": "v2mhNea8XncV"
      },
      "source": [
        "##### for reverse integers indices to strings/ words"
      ]
    },
    {
      "cell_type": "code",
      "metadata": {
        "id": "ou8UhNbPor3_"
      },
      "source": [
        "reverse_target_word_index = y_tokenizer.index_word\r\n",
        "reverse_source_word_index = x_tokenizer.index_word\r\n",
        "target_word_index = y_tokenizer.word_index"
      ],
      "execution_count": 124,
      "outputs": []
    },
    {
      "cell_type": "code",
      "metadata": {
        "id": "DmgIVCTlSGZF"
      },
      "source": [
        "# Encode the input sequence to get the feature vector\r\n",
        "encoder_model = Model(inputs=encoder_inputs, outputs=[encoder_outputs, state_h, state_c])\r\n",
        "\r\n",
        "# Decoder setup\r\n",
        "# Below tensors will hold the states of the previous time step\r\n",
        "decoder_state_input_h = Input(shape=(latent_dim,))\r\n",
        "decoder_state_input_c = Input(shape=(latent_dim,))\r\n",
        "\r\n",
        "decoder_hidden_state_input = Input(shape=(max_text_len,latent_dim))\r\n",
        "\r\n",
        "# Get the embeddings of the decoder sequence\r\n",
        "dec_emb2= dec_emb_layer(decoder_inputs) \r\n",
        "# To predict the next word in the sequence, set the initial states to the states from the previous time step\r\n",
        "decoder_outputs2, state_h2, state_c2 = decoder_lstm(dec_emb2, initial_state=[decoder_state_input_h, decoder_state_input_c])\r\n",
        "\r\n",
        "#attention inference\r\n",
        "attn_out_inf, attn_states_inf = attn_layer([decoder_hidden_state_input, decoder_outputs2])\r\n",
        "decoder_inf_concat = Concatenate(axis=-1, name='concat')([decoder_outputs2, attn_out_inf])\r\n",
        "\r\n",
        "# A dense softmax layer to generate prob dist. over the target vocabulary\r\n",
        "decoder_outputs2 = decoder_dense(decoder_inf_concat) \r\n",
        "\r\n",
        "# Final decoder model\r\n",
        "decoder_model = Model([decoder_inputs] + [decoder_hidden_state_input,decoder_state_input_h, decoder_state_input_c], [decoder_outputs2] + [state_h2, state_c2])"
      ],
      "execution_count": null,
      "outputs": []
    },
    {
      "cell_type": "markdown",
      "metadata": {
        "id": "SWKMv4ziX3lm"
      },
      "source": [
        "##### function to generate summary sequences"
      ]
    },
    {
      "cell_type": "code",
      "metadata": {
        "id": "igFscG3rSGcY"
      },
      "source": [
        "def decode_sequence(input_seq):\r\n",
        "    # Encode the input as state vectors.\r\n",
        "    e_out, e_h, e_c = encoder_model.predict(input_seq)\r\n",
        "    \r\n",
        "    # Generate empty target sequence of length 1.\r\n",
        "    target_seq = np.zeros((1,1))\r\n",
        "    \r\n",
        "    # Populate the first word of target sequence with the start word.\r\n",
        "    target_seq[0, 0] = target_word_index['sostok']\r\n",
        "\r\n",
        "    stop_condition = False\r\n",
        "    decoded_sentence = ''\r\n",
        "    while not stop_condition:\r\n",
        "      \r\n",
        "        output_tokens, h, c = decoder_model.predict([target_seq] + [e_out, e_h, e_c])\r\n",
        "\r\n",
        "        # Sample a token\r\n",
        "        sampled_token_index = np.argmax(output_tokens[0, -1, :])\r\n",
        "        sampled_token = reverse_target_word_index[sampled_token_index]\r\n",
        "        \r\n",
        "        if(sampled_token!='eostok'):\r\n",
        "            decoded_sentence += ' '+sampled_token\r\n",
        "\r\n",
        "        # Exit condition: either hit max length or find stop word.\r\n",
        "        if (sampled_token == 'eostok'  or len(decoded_sentence.split()) >= (max_summary_len-1)):\r\n",
        "            stop_condition = True\r\n",
        "\r\n",
        "        # Update the target sequence (of length 1).\r\n",
        "        target_seq = np.zeros((1,1))\r\n",
        "        target_seq[0, 0] = sampled_token_index\r\n",
        "\r\n",
        "        # Update internal states\r\n",
        "        e_h, e_c = h, c\r\n",
        "\r\n",
        "    return decoded_sentence"
      ],
      "execution_count": null,
      "outputs": []
    },
    {
      "cell_type": "markdown",
      "metadata": {
        "id": "ZJgKuxIMX8-G"
      },
      "source": [
        "###### convert sequences to back to strings"
      ]
    },
    {
      "cell_type": "code",
      "metadata": {
        "id": "bL1YfLq2SGj7"
      },
      "source": [
        "def seq2summary(input_seq):\r\n",
        "    newString=''\r\n",
        "    for i in input_seq:\r\n",
        "        if((i!=0 and i!=target_word_index['sostok']) and i!=target_word_index['eostok']):\r\n",
        "            newString=newString+reverse_target_word_index[i]+' '\r\n",
        "    return newString\r\n",
        "\r\n",
        "def seq2text(input_seq):\r\n",
        "    newString=''\r\n",
        "    for i in input_seq:\r\n",
        "        if(i!=0):\r\n",
        "            newString=newString+reverse_source_word_index[i]+' '\r\n",
        "    return newString"
      ],
      "execution_count": 133,
      "outputs": []
    },
    {
      "cell_type": "code",
      "metadata": {
        "colab": {
          "base_uri": "https://localhost:8080/"
        },
        "id": "FbtGcMvA0Acm",
        "outputId": "87940af8-2462-473f-f79f-059e1bc755ce"
      },
      "source": [
        "for i in range(0, 10):\r\n",
        "    print(\"Review:\",seq2text(x_tr[i]))\r\n",
        "    print(\"Original summary:\",seq2summary(y_tr[i]))\r\n",
        "    print(\"Predicted summary:\",decode_sequence(x_tr[i].reshape(1,max_text_len)))\r\n",
        "    print(\"\\n\")"
      ],
      "execution_count": 134,
      "outputs": [
        {
          "output_type": "stream",
          "text": [
            "Review: tried bottle today waste money drank whole bottle tasted gross almost gagged even though chased water felt tiny energy boost less normal coffee crash slight still advertise one \n",
            "Original summary: this is nasty \n",
            "Predicted summary:  bad aftertaste\n",
            "\n",
            "\n",
            "Review: got great course good belgian chocolates better \n",
            "Original summary: would like to give it stars but \n",
            "Predicted summary:  great\n",
            "\n",
            "\n",
            "Review: one best flavored coffees tried usually like flavored coffees one great serve company love \n",
            "Original summary: delicious \n",
            "Predicted summary:  great coffee\n",
            "\n",
            "\n",
            "Review: salt separate area pain makes hard regulate salt putting like salt go ahead get product \n",
            "Original summary: tastes ok packaging \n",
            "Predicted summary:  great salt\n",
            "\n",
            "\n",
            "Review: really like product super easy order online delivered much cheaper buying gas station stocking good long drives \n",
            "Original summary: turkey jerky is great \n",
            "Predicted summary:  great taste\n",
            "\n",
            "\n",
            "Review: best salad dressing delivered promptly quantities last vidalia onion dressing compares made oak hill farms sometimes find costco order front door want even orders cut shipping costs \n",
            "Original summary: my favorite salad dressing \n",
            "Predicted summary:  great dressing\n",
            "\n",
            "\n",
            "Review: think sitting around warehouse long time took long time send got tea tasted like cardboard red rasberry leaf tea know supposed taste like \n",
            "Original summary: stale \n",
            "Predicted summary:  not what expected\n",
            "\n",
            "\n",
            "Review: year old cat special diet digestive problems also diabetes stopped eating usual special formula food tried different kinds catfood one liked easy digestion diabetes thank newman \n",
            "Original summary: wonderful \n",
            "Predicted summary:  cat loves it\n",
            "\n",
            "\n",
            "Review: always perfect snack dog loves knows exactly starts ask time evening gets greenie snack thank excellent product fast delivery \n",
            "Original summary: greenies buddy treat \n",
            "Predicted summary:  great for training\n",
            "\n",
            "\n",
            "Review: noticed flavor substituting almond flour regular flour many recipes call grinding almonds grateful hand looked flour brown bits see bugs product expensive requires storage refrigerator \n",
            "Original summary: where are these almonds from \n",
            "Predicted summary:  where is the best\n",
            "\n",
            "\n"
          ],
          "name": "stdout"
        }
      ]
    },
    {
      "cell_type": "markdown",
      "metadata": {
        "id": "HqIRkNKfYED-"
      },
      "source": [
        "##### generate summaries"
      ]
    },
    {
      "cell_type": "code",
      "metadata": {
        "colab": {
          "base_uri": "https://localhost:8080/"
        },
        "id": "pztgZcoWSGnX",
        "outputId": "e4b8596d-6189-4c2b-cbdc-ba92143f6128"
      },
      "source": [
        "for i in range(0, 100):\r\n",
        "    print(\"Review:\",seq2text(x_tr[i]))\r\n",
        "    print(\"Original summary:\",seq2summary(y_tr[i]))\r\n",
        "    print(\"Predicted summary:\",decode_sequence(x_tr[i].reshape(1,max_text_len)))\r\n",
        "    print(\"\\n\")"
      ],
      "execution_count": null,
      "outputs": [
        {
          "output_type": "stream",
          "text": [
            "Review: tried bottle today waste money drank whole bottle tasted gross almost gagged even though chased water felt tiny energy boost less normal coffee crash slight still advertise one \n",
            "Original summary: this is nasty \n",
            "Predicted summary:  bad aftertaste\n",
            "\n",
            "\n",
            "Review: got great course good belgian chocolates better \n",
            "Original summary: would like to give it stars but \n",
            "Predicted summary:  great\n",
            "\n",
            "\n",
            "Review: one best flavored coffees tried usually like flavored coffees one great serve company love \n",
            "Original summary: delicious \n",
            "Predicted summary:  great coffee\n",
            "\n",
            "\n",
            "Review: salt separate area pain makes hard regulate salt putting like salt go ahead get product \n",
            "Original summary: tastes ok packaging \n",
            "Predicted summary:  great salt\n",
            "\n",
            "\n",
            "Review: really like product super easy order online delivered much cheaper buying gas station stocking good long drives \n",
            "Original summary: turkey jerky is great \n",
            "Predicted summary:  great taste\n",
            "\n",
            "\n",
            "Review: best salad dressing delivered promptly quantities last vidalia onion dressing compares made oak hill farms sometimes find costco order front door want even orders cut shipping costs \n",
            "Original summary: my favorite salad dressing \n",
            "Predicted summary:  great dressing\n",
            "\n",
            "\n",
            "Review: think sitting around warehouse long time took long time send got tea tasted like cardboard red rasberry leaf tea know supposed taste like \n",
            "Original summary: stale \n",
            "Predicted summary:  not what expected\n",
            "\n",
            "\n",
            "Review: year old cat special diet digestive problems also diabetes stopped eating usual special formula food tried different kinds catfood one liked easy digestion diabetes thank newman \n",
            "Original summary: wonderful \n",
            "Predicted summary:  cat loves it\n",
            "\n",
            "\n",
            "Review: always perfect snack dog loves knows exactly starts ask time evening gets greenie snack thank excellent product fast delivery \n",
            "Original summary: greenies buddy treat \n",
            "Predicted summary:  great for training\n",
            "\n",
            "\n",
            "Review: noticed flavor substituting almond flour regular flour many recipes call grinding almonds grateful hand looked flour brown bits see bugs product expensive requires storage refrigerator \n",
            "Original summary: where are these almonds from \n",
            "Predicted summary:  where is the best\n",
            "\n",
            "\n",
            "Review: liked coffee much subscribing dark rich smooth \n",
            "Original summary: makes great cup of java \n",
            "Predicted summary:  good coffee\n",
            "\n",
            "\n",
            "Review: second bag treats dog loves cut half bag lasts longer dog three tricks knows get one treats \n",
            "Original summary: great treats \n",
            "Predicted summary:  my dog loves these\n",
            "\n",
            "\n",
            "Review: absolutely delicious satisfy something sweet really filling great early morning time make breakfast great afternoon snack work feeling sluggish \n",
            "Original summary: protein bar \n",
            "Predicted summary:  great for breakfast\n",
            "\n",
            "\n",
            "Review: aware decaf coffee although showed search decaf cups intended purchase gift kept recipient drink caffeine favorite means \n",
            "Original summary: not decaf \n",
            "Predicted summary:  not the best\n",
            "\n",
            "\n",
            "Review: wonderful wrote perfect iced cookie one pen writing cookies names happy ca \n",
            "Original summary: cookie \n",
            "Predicted summary:  great cookies\n",
            "\n",
            "\n",
            "Review: truffle oil quite good prefer brand france urbani italy expensive oh delicious tried black white good black bit stronger pungent event healthy alternative butter enjoy \n",
            "Original summary: delicious but not the best \n",
            "Predicted summary:  great product\n",
            "\n",
            "\n",
            "Review: first got brewer bought sampler pack different flavors one favorite far every morning get tired aroma flavor top notch little sweetner little milk like mocha \n",
            "Original summary: my favorite cup \n",
            "Predicted summary:  great flavor\n",
            "\n",
            "\n",
            "Review: husband gluten free food several years tried several different bread mixes first actually enjoys buying amazon saves loaf \n",
            "Original summary: really good gluten free bread \n",
            "Predicted summary:  great gluten free pasta\n",
            "\n",
            "\n",
            "Review: hubby eats says good snacks morning done apple flavor \n",
            "Original summary: really good nice snack \n",
            "Predicted summary:  great snack\n",
            "\n",
            "\n",
            "Review: waste money disgusting product chocolate taste tastes like plastic lining paper carton using milk treated ultra high temperatures like fresh milk go get fresh milk hershey syrup want chocolate milk \n",
            "Original summary: please do not waste your money \n",
            "Predicted summary:  bad taste\n",
            "\n",
            "\n",
            "Review: absolutely loves apple chicken happy hips looks forward one morning one night gets soooo excited would eat allowed \n",
            "Original summary: healthy treats \n",
            "Predicted summary:  my dog loves these\n",
            "\n",
            "\n",
            "Review: strong much flavor little aroma tried purchase another time similiar brands met standards expected \n",
            "Original summary: no flavor \n",
            "Predicted summary:  good coffee\n",
            "\n",
            "\n",
            "Review: company wanted chose order anyway \n",
            "Original summary: water \n",
            "Predicted summary:  great product\n",
            "\n",
            "\n",
            "Review: introduced number people hooked best sour gummy ever great flavors got great price \n",
            "Original summary: new favorite \n",
            "Predicted summary:  delicious\n",
            "\n",
            "\n",
            "Review: new price attractive however tastes horrible maybe old zico coconut water brands might find acceptable \n",
            "Original summary: do not be by the price \n",
            "Predicted summary:  bad taste\n",
            "\n",
            "\n",
            "Review: sure ever going buy product way expensive market price \n",
            "Original summary: too expensive \n",
            "Predicted summary:  price\n",
            "\n",
            "\n",
            "Review: cannot believe order amazon cannot find flavor locally even world flavor best ramen ever way better anything yakisoba offer beats ramen flavor hands \n",
            "Original summary: best ramen ever \n",
            "Predicted summary:  the best\n",
            "\n",
            "\n",
            "Review: order tea labeled decaff must caffeine residue levels tested tea caffeine decaff non decaff tea anywhere caffeine caffeine caffeinated tea caffeine slightly less naturally present tea leaf \n",
            "Original summary: caffeine is not \n",
            "Predicted summary:  not what expected\n",
            "\n",
            "\n",
            "Review: excellent babies toddler really best offer little one delicious rich vitamins calcium protein low fat sorry products available website \n",
            "Original summary: excellent product for babies and toddler \n",
            "Predicted summary:  great product\n",
            "\n",
            "\n",
            "Review: purchased item dented would bet run dented product clearing ship ones \n",
            "Original summary: sometimes dented \n",
            "Predicted summary:  dented cans\n",
            "\n",
            "\n",
            "Review: almost tastes like mini blueberry pie love one favorite thoroughly fallen love \n",
            "Original summary: excellent love the blueberry pecan \n",
            "Predicted summary:  great taste\n",
            "\n",
            "\n",
            "Review: dog loves keeps busy minutes long time chew hound \n",
            "Original summary: chew away \n",
            "Predicted summary:  great product\n",
            "\n",
            "\n",
            "Review: plant came quickly looks great office nice pot plant thriving well \n",
            "Original summary: very nice office plant \n",
            "Predicted summary:  great plant\n",
            "\n",
            "\n",
            "Review: dog loves lickety stik bacon flavor since likes much plan getting flavors great liquid treat dog highly recommend lickety stik \n",
            "Original summary: great dog treat \n",
            "Predicted summary:  my dog loves these\n",
            "\n",
            "\n",
            "Review: treats sounded great unfortunately dog really care offered cats really want either maybe pets picky dog love zuke pb blueberry treats though \n",
            "Original summary: my dog does not like \n",
            "Predicted summary:  my dog loves these\n",
            "\n",
            "\n",
            "Review: really search good deals tea tea great price tea amazon almost cup price cup coffee herbal varieties low caffine good option wife used dinner coffe \n",
            "Original summary: great price for great tea \n",
            "Predicted summary:  great tea\n",
            "\n",
            "\n",
            "Review: pricey essentially small bag hard crumbs maybe dog spoiled treats like third class treats definitely bottom doggie treat often simply walk away glad people like buying \n",
            "Original summary: waste of money \n",
            "Predicted summary:  my dog loves these treats\n",
            "\n",
            "\n",
            "Review: special slim jim live advanced simply delicious special also nutricious tasty add pleasure day \n",
            "Original summary: delicious \n",
            "Predicted summary:  delicious\n",
            "\n",
            "\n",
            "Review: loves taste beef freeze dried dog treats use training really works \n",
            "Original summary: dog lover \n",
            "Predicted summary:  great training treat\n",
            "\n",
            "\n",
            "Review: three dogs cairn terriers year old border collie proud greenies like taste helps keep gums teeth good shape \n",
            "Original summary: our dogs love greenies \n",
            "Predicted summary:  greenies\n",
            "\n",
            "\n",
            "Review: cashews nice size mostly whole pieces small broken chunks fresh roasted taste nicely seasoned ample black pepper pieces however salty slightly less salty would better \n",
            "Original summary: good pepper too salty \n",
            "Predicted summary:  too salty\n",
            "\n",
            "\n",
            "Review: following recommendation based tried tea varieties last years smells terrific tastes okay find sale holidays try \n",
            "Original summary: this one is okay \n",
            "Predicted summary:  not so good\n",
            "\n",
            "\n",
            "Review: like strong coffee coffee rated found weak sickening taste \n",
            "Original summary: disapointed \n",
            "Predicted summary:  weak coffee\n",
            "\n",
            "\n",
            "Review: saw peanut butter chocolate cereal knew try pleased eat chocolate breakfast feel guilty two kids love cereal well great eat alone favorite milk product yogurt mix homemade granola well \n",
            "Original summary: the yummy \n",
            "Predicted summary:  great for breakfast\n",
            "\n",
            "\n",
            "Review: begging time loves used buy small bottle buying every weeks since saw oz buying last lot longer gas money cheaper buy online \n",
            "Original summary: my dog loves it \n",
            "Predicted summary:  great product\n",
            "\n",
            "\n",
            "Review: true also need decent scale tried caviar recipe everything worked perfectly first try fun easy make kit comes large enough samples looks like good uses \n",
            "Original summary: great to \n",
            "Predicted summary:  great for cooking\n",
            "\n",
            "\n",
            "Review: dog really likes treats like buy run mill treats loaded fat fillers continue buy \n",
            "Original summary: buddy biscuits \n",
            "Predicted summary:  my dog loves these\n",
            "\n",
            "\n",
            "Review: tulsi green tea great good iced tea well \n",
            "Original summary: green tea \n",
            "Predicted summary:  great tea\n",
            "\n",
            "\n",
            "Review: always put something market couple poof gone best tasting product pepsi \n",
            "Original summary: best taste \n",
            "Predicted summary:  great\n",
            "\n",
            "\n",
            "Review: like tomatoes fresh flavorful also come carton welcome alternative metal cans impart flavor sometimes lined plastic containing \n",
            "Original summary: yummy tomatoes good packaging \n",
            "Predicted summary:  great taste but overpriced\n",
            "\n",
            "\n",
            "Review: great get habit forming careful bought whole case save overall versus going supermarket rich dark chocolate crisp cookie worth every penny oreo eat heart \n",
            "Original summary: delicious decadence \n",
            "Predicted summary:  delicious\n",
            "\n",
            "\n",
            "Review: else say arrived promptly perhaps time expected expiration date like next day good go \n",
            "Original summary: baby loves it \n",
            "Predicted summary:  not what was looking for\n",
            "\n",
            "\n",
            "Review: bought local recently advertised cheesy flavor detectable product even salt flavor avoid product \n",
            "Original summary: no cheese flavor \n",
            "Predicted summary:  not what expected\n",
            "\n",
            "\n",
            "Review: wonderful french applesauce great lunchboxes kinds snacks glad buy us healthy affordable love \n",
            "Original summary: french finally in the us \n",
            "Predicted summary:  great for traveling\n",
            "\n",
            "\n",
            "Review: addicted smart fries used get veggie straws type texture love chips tried change eating habits healthy low fat items smart fries give cheese crunchy saltiness guilt free book yummy \n",
            "Original summary: addicted \n",
            "Predicted summary:  great snack\n",
            "\n",
            "\n",
            "Review: drink cups day verona italian french roast coffee wanted try lower acid version brand coffee smells tastes like vinegar totally unpalatable better drinking water acid coffee bothers \n",
            "Original summary: single worst coffee ever \n",
            "Predicted summary:  my favorite coffee\n",
            "\n",
            "\n",
            "Review: getting price however afraid stocking anymore reduced price think one trying eat crackers low calorie string cheese breakfast every total calories put breakfast baggie go \n",
            "Original summary: am addicted to these \n",
            "Predicted summary:  great product\n",
            "\n",
            "\n",
            "Review: first time using fondarific fondant general one really easy use baby shower cake worked indicated also colored made two tier cake final product looked great greasy \n",
            "Original summary: easy to use \n",
            "Predicted summary:  great product\n",
            "\n",
            "\n",
            "Review: warning ingrediants wrong contain erythritol dextrose instead strong taste even though taste like regular stevia sweetener \n",
            "Original summary: wrong \n",
            "Predicted summary:  not bad\n",
            "\n",
            "\n",
            "Review: work home drink cups cup coffee day good tasting coffee lowest price cup market \n",
            "Original summary: great coffee great price \n",
            "Predicted summary:  great coffee\n",
            "\n",
            "\n",
            "Review: guys say natural really tastes great pleasantly surprised stand flavor carbonated think would even better product time come fed sweet juices aftertaste make obvious really natural switch really gets vote \n",
            "Original summary: great taste all natural \n",
            "Predicted summary:  great tasting juice\n",
            "\n",
            "\n",
            "Review: product good goes long way quite good one dd good product less \n",
            "Original summary: very good \n",
            "Predicted summary:  good value\n",
            "\n",
            "\n",
            "Review: tea wonderful soothing even soothing get shipped house found hard find decaffeinated tea grocery store much easier \n",
            "Original summary: decaffeinated french vanilla tea yummy \n",
            "Predicted summary:  great tea\n",
            "\n",
            "\n",
            "Review: found chips tasty filling would recommend highly light crunchy good banana taste \n",
            "Original summary: very tasty and filling \n",
            "Predicted summary:  great chips\n",
            "\n",
            "\n",
            "Review: real food truly quality product extremely small amount hard unusable pieces pleased purchase cats continue buying product finicky kitties thanks money well spent \n",
            "Original summary: superior product \n",
            "Predicted summary:  cats love it\n",
            "\n",
            "\n",
            "Review: love medium full flavored roast smooth taste bitter acidic taste excellent coffee good value also try timothy kona good also \n",
            "Original summary: wonderful coffee \n",
            "Predicted summary:  great coffee\n",
            "\n",
            "\n",
            "Review: nice item chunks meat good gravy cat fond varieties nice little treat nonetheless think item bit pricy per ounce \n",
            "Original summary: nice but pricey \n",
            "Predicted summary:  good stuff\n",
            "\n",
            "\n",
            "Review: bought cookies gifts open last long good make great gifts would definitely buy \n",
            "Original summary: mouth watery cookies \n",
            "Predicted summary:  great cookies\n",
            "\n",
            "\n",
            "Review: great price fast shipping best chips better ingredients less calories snack foods plus taste like real chips \n",
            "Original summary: pop chips are the best \n",
            "Predicted summary:  great chips\n",
            "\n",
            "\n",
            "Review: taco bell chipotle sauce bold flavorful tried chicken wings tacos salad made dish extremely tasty glad sampled new sauce staple condiment \n",
            "Original summary: bold flavor \n",
            "Predicted summary:  great coffee\n",
            "\n",
            "\n",
            "Review: bought seeds make centerpieces really surprised fast grow planted seeds potting soil without ny preparation anything kept watering days super tall ready displayed centerpieces perfect \n",
            "Original summary: perfect for in days \n",
            "Predicted summary:  seeds\n",
            "\n",
            "\n",
            "Review: bought assuming label information complete packages allergen statement ingredients says tomatoes packed equipment wheat milk peanuts tree nuts soy \n",
            "Original summary: information \n",
            "Predicted summary:  not the same as advertised\n",
            "\n",
            "\n",
            "Review: love soup eat plain use recipe cannot find area glad amazon \n",
            "Original summary: soup chicken cheese \n",
            "Predicted summary:  soup\n",
            "\n",
            "\n",
            "Review: favorite dressing stays mixed dijon spicy enough spicy flavor delicous try \n",
            "Original summary: best dressing ever \n",
            "Predicted summary:  delicious\n",
            "\n",
            "\n",
            "Review: love chips auto order every months taste great whole bag calories bag every day sure helped weight loss little bags eat huge amount \n",
            "Original summary: great purchase \n",
            "Predicted summary:  great chips\n",
            "\n",
            "\n",
            "Review: mayonnaise delicious side side taste test would give hellman edge hellman richer taste \n",
            "Original summary: excellent but \n",
            "Predicted summary:  good but not great\n",
            "\n",
            "\n",
            "Review: toddler son loves melts great way get child extra calcium fond drinking milk wonderful go snack times feeding child real yogurt way messy \n",
            "Original summary: great way for my son to extra \n",
            "Predicted summary:  my son loves it\n",
            "\n",
            "\n",
            "Review: loved brand best vanilla flavor others tried would buy better price \n",
            "Original summary: wolfgang puck coffee vanilla \n",
            "Predicted summary:  great coffee\n",
            "\n",
            "\n",
            "Review: another brand cinammon carried amazon much better tasting brand maybe packaging part problem simple plastic bag tie amazon brand comes carefully set plastic box \n",
            "Original summary: edible have had much better \n",
            "Predicted summary:  not as good as expected\n",
            "\n",
            "\n",
            "Review: best blend healthy snacks found without typical high sodium content cranberries add sweetness makes perfect pick used carried warehouse retailer thrilled found amazon \n",
            "Original summary: great snack \n",
            "Predicted summary:  great flavor\n",
            "\n",
            "\n",
            "Review: daughter drinking since months old months old still loves snack time healthy delicious great addition menu \n",
            "Original summary: great snack \n",
            "Predicted summary:  great for babies\n",
            "\n",
            "\n",
            "Review: live guinea africa order products delivered boat every months sometimes disappointed time zero calories zero carbs taste great price zero delivery costs prime ordered different flavors one favorite love \n",
            "Original summary: love it \n",
            "Predicted summary:  great product\n",
            "\n",
            "\n",
            "Review: great treats tear one small pieces training lb week puggle problem treats dry quickly within hour outside dry hard rip fingers imagine easy little puppy \n",
            "Original summary: good training treats \n",
            "Predicted summary:  great training treats\n",
            "\n",
            "\n",
            "Review: always house drink favorite mix sprite oh good every day mind larger bottles use much bring \n",
            "Original summary: am an adult still love this \n",
            "Predicted summary:  great product\n",
            "\n",
            "\n",
            "Review: delightful product buying pretty easy absolutely addicting everyone wants carmel corn product made packages last weeks yummy \n",
            "Original summary: scrumptious \n",
            "Predicted summary:  great\n",
            "\n",
            "\n",
            "Review: give squid one star use might thoroughly disappointed quite possibly call crazy \n",
            "Original summary: can for your \n",
            "Predicted summary:  not what expected\n",
            "\n",
            "\n",
            "Review: quality seeds excellent begin germinate hours days ready use never sprouted seeds results good easily recommend sprouter whether human consumption four legged friends \n",
            "Original summary: wheat grass seeds \n",
            "Predicted summary:  seeds\n",
            "\n",
            "\n",
            "Review: love stuff great store bought homemade baked goods kicking things professional level works colored dark light frosting also used dusting powdered sugar pretty fine texture \n",
            "Original summary: fun like dust \n",
            "Predicted summary:  great\n",
            "\n",
            "\n",
            "Review: bought jumbo greenies black lab loved way expensive regular use notice difference breath primary reason buying \n",
            "Original summary: jumbo greenies good but very expensive \n",
            "Predicted summary:  greenies\n",
            "\n",
            "\n",
            "Review: bought mistake thinking maxwell house ok drink anyway taste wise much prefer maxwell house oz disc lot cheaper also however apparently amazon cannot sell maxwell house yet waiting \n",
            "Original summary: to maxwell house \n",
            "Predicted summary:  not bad\n",
            "\n",
            "\n",
            "Review: originally found mints whole foods taste superb get lot money plus comes cute little tin uses dog loves go organic \n",
            "Original summary: wonderful \n",
            "Predicted summary:  great product\n",
            "\n",
            "\n",
            "Review: love cooking brands high quality coconut oil stable higher temperatures evoo add foods per day patients improvement functions could ask \n",
            "Original summary: healthy virgin coconut oil \n",
            "Predicted summary:  great product\n",
            "\n",
            "\n",
            "Review: really need know many cans also whitefish tuna buffet canned cat food thanks \n",
            "Original summary: need to know how many in case \n",
            "Predicted summary:  cat food\n",
            "\n",
            "\n",
            "Review: great tasting rich flavor perfect making nice hot cup mocha bought test hershey syrup mocha incredible distinct taste difference noticeable much richer tastes like chocolate less sugary hershey syrup \n",
            "Original summary: great taste \n",
            "Predicted summary:  great for\n",
            "\n",
            "\n",
            "Review: want unadulterated iced green tea like citrus added flavored iced tea one best plain iced green teas available hope amazon starts stock robust variation brand one liter bottles \n",
            "Original summary: plain iced green tea \n",
            "Predicted summary:  great tea\n",
            "\n",
            "\n",
            "Review: bought item read best mayo sold yes even better worlds favorite hellman well review good bit better hellman fact put empty hellman jar said nothing family never knew difference \n",
            "Original summary: blue mayo \n",
            "Predicted summary:  not the best\n",
            "\n",
            "\n",
            "Review: gum great makes car smell good leave refreshing sweet tart smooth \n",
            "Original summary: love the gum and the price \n",
            "Predicted summary:  great gum\n",
            "\n",
            "\n",
            "Review: flavorful smells like heaven great price compared stores arrived fast \n",
            "Original summary: divine \n",
            "Predicted summary:  great product\n",
            "\n",
            "\n",
            "Review: love low calorie organic doctors recommend grams fiber daily smart bran grams per serving fruits veggies set day eat dry vanilla frozen yogurt cinnamon \n",
            "Original summary: yes to smart bran \n",
            "Predicted summary:  great cereal\n",
            "\n",
            "\n",
            "Review: found spice blend dallas years back tell restaurant using grilled shrimp like cajun spice grilling fish recommend store dry place replace every year least lose flavor \n",
            "Original summary: good stuff \n",
            "Predicted summary:  great flavor\n",
            "\n",
            "\n"
          ],
          "name": "stdout"
        }
      ]
    },
    {
      "cell_type": "code",
      "metadata": {
        "id": "2igHv3kZSGqa"
      },
      "source": [
        ""
      ],
      "execution_count": null,
      "outputs": []
    },
    {
      "cell_type": "code",
      "metadata": {
        "id": "LnCvOiFbSGtE"
      },
      "source": [
        ""
      ],
      "execution_count": null,
      "outputs": []
    }
  ]
}
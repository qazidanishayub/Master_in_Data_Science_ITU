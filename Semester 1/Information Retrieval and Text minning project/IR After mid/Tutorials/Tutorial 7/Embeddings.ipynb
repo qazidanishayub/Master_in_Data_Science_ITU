{
  "nbformat": 4,
  "nbformat_minor": 0,
  "metadata": {
    "colab": {
      "name": "Embeddings.ipynb",
      "provenance": [],
      "collapsed_sections": [],
      "toc_visible": true
    },
    "kernelspec": {
      "name": "python3",
      "display_name": "Python 3"
    }
  },
  "cells": [
    {
      "cell_type": "code",
      "metadata": {
        "colab": {
          "base_uri": "https://localhost:8080/"
        },
        "id": "uHuGZ__x7Gkr",
        "outputId": "f24f6e17-5116-47f8-f461-ff048b1efb8b"
      },
      "source": [
        "pip install --upgrade gensim"
      ],
      "execution_count": null,
      "outputs": [
        {
          "output_type": "stream",
          "text": [
            "Requirement already up-to-date: gensim in /usr/local/lib/python3.6/dist-packages (3.8.3)\n",
            "Requirement already satisfied, skipping upgrade: six>=1.5.0 in /usr/local/lib/python3.6/dist-packages (from gensim) (1.15.0)\n",
            "Requirement already satisfied, skipping upgrade: smart-open>=1.8.1 in /usr/local/lib/python3.6/dist-packages (from gensim) (4.1.0)\n",
            "Requirement already satisfied, skipping upgrade: numpy>=1.11.3 in /usr/local/lib/python3.6/dist-packages (from gensim) (1.19.5)\n",
            "Requirement already satisfied, skipping upgrade: scipy>=0.18.1 in /usr/local/lib/python3.6/dist-packages (from gensim) (1.4.1)\n"
          ],
          "name": "stdout"
        }
      ]
    },
    {
      "cell_type": "markdown",
      "metadata": {
        "id": "5iRg7mhRnyNe"
      },
      "source": [
        "#### imports"
      ]
    },
    {
      "cell_type": "code",
      "metadata": {
        "id": "DVVA8pSrax-y"
      },
      "source": [
        "from gensim.models import Word2Vec\r\n",
        "from gensim.scripts.glove2word2vec import glove2word2vec\r\n",
        "from gensim.models import KeyedVectors\r\n",
        "\r\n",
        "from sklearn.decomposition import PCA\r\n",
        "from matplotlib import pyplot"
      ],
      "execution_count": 32,
      "outputs": []
    },
    {
      "cell_type": "markdown",
      "metadata": {
        "id": "13OQ4s4Hn3_U"
      },
      "source": [
        "#### training data a toy example"
      ]
    },
    {
      "cell_type": "code",
      "metadata": {
        "id": "DRwDc6MZ9Qke"
      },
      "source": [
        "# sent2 =\"aslam eats mangoes\"\r\n",
        "# sent2 = \"umer eats apples\""
      ],
      "execution_count": null,
      "outputs": []
    },
    {
      "cell_type": "code",
      "metadata": {
        "id": "ZdIg9lFxa1PJ"
      },
      "source": [
        "# define training data\r\n",
        "sentences = [['this', 'is', 'the', 'first', 'sentence', 'for', 'word2vec'],\r\n",
        "\t\t\t['this', 'is', 'the', 'second', 'sentence'],\r\n",
        "\t\t\t['yet', 'another', 'sentence'],\r\n",
        "\t\t\t['one', 'more', 'sentence'],\r\n",
        "\t\t\t['and', 'the', 'final', 'sentence']]"
      ],
      "execution_count": 33,
      "outputs": []
    },
    {
      "cell_type": "markdown",
      "metadata": {
        "id": "eIDOCBmIn7tU"
      },
      "source": [
        "##### train the Word2Vec model on our custom training data "
      ]
    },
    {
      "cell_type": "code",
      "metadata": {
        "id": "Yu4lnLMzbPpY"
      },
      "source": [
        "# train model\r\n",
        "model = Word2Vec(sentences, min_count=1)"
      ],
      "execution_count": 34,
      "outputs": []
    },
    {
      "cell_type": "markdown",
      "metadata": {
        "id": "USojKazwoYmE"
      },
      "source": [
        "###### save the model"
      ]
    },
    {
      "cell_type": "code",
      "metadata": {
        "id": "AQ9WVCOGoaW6"
      },
      "source": [
        "# save model\r\n",
        "model.save('model.bin')"
      ],
      "execution_count": 35,
      "outputs": []
    },
    {
      "cell_type": "markdown",
      "metadata": {
        "id": "Z_LK_Y6NoGnk"
      },
      "source": [
        "#### see all the words in model vocab"
      ]
    },
    {
      "cell_type": "code",
      "metadata": {
        "id": "gbgEjZwhoE8c",
        "colab": {
          "base_uri": "https://localhost:8080/"
        },
        "outputId": "31ec27dc-ecf4-4027-d73a-f36104e2619f"
      },
      "source": [
        "# summarize vocabulary\r\n",
        "words = list(model.wv.vocab)\r\n",
        "print(words)"
      ],
      "execution_count": 36,
      "outputs": [
        {
          "output_type": "stream",
          "text": [
            "['this', 'is', 'the', 'first', 'sentence', 'for', 'word2vec', 'second', 'yet', 'another', 'one', 'more', 'and', 'final']\n"
          ],
          "name": "stdout"
        }
      ]
    },
    {
      "cell_type": "markdown",
      "metadata": {
        "id": "g6XB_AD9oMXb"
      },
      "source": [
        "#### an Example embedding vector for word \"Sentence\""
      ]
    },
    {
      "cell_type": "code",
      "metadata": {
        "colab": {
          "base_uri": "https://localhost:8080/"
        },
        "id": "gT-IrWmm7PID",
        "outputId": "b3c67866-0508-431f-c229-175835835455"
      },
      "source": [
        "# access vector for one word\r\n",
        "v = model['this']"
      ],
      "execution_count": 43,
      "outputs": [
        {
          "output_type": "stream",
          "text": [
            "/usr/local/lib/python3.6/dist-packages/ipykernel_launcher.py:2: DeprecationWarning: Call to deprecated `__getitem__` (Method will be removed in 4.0.0, use self.wv.__getitem__() instead).\n",
            "  \n"
          ],
          "name": "stderr"
        }
      ]
    },
    {
      "cell_type": "code",
      "metadata": {
        "colab": {
          "base_uri": "https://localhost:8080/"
        },
        "id": "Ha-tx4Yl7xYE",
        "outputId": "9b1ef74b-48cd-43e3-b546-76e168911c0c"
      },
      "source": [
        "v"
      ],
      "execution_count": 44,
      "outputs": [
        {
          "output_type": "execute_result",
          "data": {
            "text/plain": [
              "array([ 2.4284278e-03,  4.7863335e-03, -4.6885805e-03, -1.2018940e-03,\n",
              "       -4.9088341e-03, -2.0151150e-03,  3.1286296e-03,  4.0538195e-03,\n",
              "       -3.3671325e-03,  4.4593457e-03, -1.2210426e-03,  4.8918673e-03,\n",
              "        3.1376563e-03, -1.5320862e-03,  6.8143732e-04, -2.0239300e-03,\n",
              "        2.4805644e-03, -1.4793721e-03,  2.7027423e-03, -3.9219423e-03,\n",
              "       -4.9876967e-03, -2.1524657e-03, -1.9710073e-03, -3.6863163e-03,\n",
              "       -2.1749460e-03, -4.8628240e-03,  3.6525085e-05, -2.4629503e-03,\n",
              "       -4.6458961e-03,  4.9690087e-03,  3.5416209e-03,  2.7944357e-04,\n",
              "        1.0626793e-03, -3.7390729e-03, -1.7868351e-03, -8.2909962e-04,\n",
              "        2.4975054e-03, -1.3729067e-03,  4.0963995e-03,  4.0384238e-03,\n",
              "       -2.2893625e-03,  1.3018409e-03, -2.9749356e-03, -3.2854770e-04,\n",
              "        4.2451150e-03,  1.9684434e-03, -4.9156888e-04, -7.3167513e-07,\n",
              "        1.6653425e-03,  4.5468067e-03, -1.7516448e-03, -3.7307446e-03,\n",
              "       -2.2908377e-03,  4.6808044e-03,  3.2812208e-03,  4.0333634e-03,\n",
              "        2.9143346e-03,  4.1848384e-03,  9.4525545e-04,  1.0968951e-03,\n",
              "        2.3067773e-03,  3.6481400e-03,  9.9769630e-04, -3.4440926e-03,\n",
              "        4.6772868e-03,  4.2730011e-03, -4.6125022e-03, -2.5515491e-03,\n",
              "        4.5293923e-03, -2.7856203e-03,  3.1036069e-03, -4.1118632e-03,\n",
              "       -1.9393857e-03,  4.5532125e-04,  3.5611317e-03, -2.0294620e-03,\n",
              "       -3.4137431e-03,  2.9617022e-03, -4.4833026e-03, -1.0388468e-03,\n",
              "        7.0233876e-04, -3.9001463e-03,  4.5402025e-04, -2.9498534e-03,\n",
              "        4.1077696e-03,  3.6884297e-03, -4.3842439e-03,  2.9385323e-03,\n",
              "       -2.5425013e-03,  2.6154565e-03,  8.6022587e-04, -2.8052663e-03,\n",
              "       -1.6061382e-03,  2.4316385e-03, -4.0173540e-03,  2.6160700e-03,\n",
              "        2.5250201e-04,  2.7064797e-03,  3.5851978e-04, -4.1700928e-03],\n",
              "      dtype=float32)"
            ]
          },
          "metadata": {
            "tags": []
          },
          "execution_count": 44
        }
      ]
    },
    {
      "cell_type": "markdown",
      "metadata": {
        "id": "J1eFQOUpoVFa"
      },
      "source": [
        "##### load the model"
      ]
    },
    {
      "cell_type": "code",
      "metadata": {
        "colab": {
          "base_uri": "https://localhost:8080/"
        },
        "id": "lymowFjk7PLZ",
        "outputId": "e5879d16-ad5b-4d4a-a685-d10325b68046"
      },
      "source": [
        "# load model\r\n",
        "new_model = Word2Vec.load('/content/model.bin')\r\n",
        "print(new_model)"
      ],
      "execution_count": 45,
      "outputs": [
        {
          "output_type": "stream",
          "text": [
            "Word2Vec(vocab=14, size=100, alpha=0.025)\n"
          ],
          "name": "stdout"
        }
      ]
    },
    {
      "cell_type": "markdown",
      "metadata": {
        "id": "j_-x383OocQr"
      },
      "source": [
        "#### Visualize the model words with the help of PCA and pyplot"
      ]
    },
    {
      "cell_type": "code",
      "metadata": {
        "colab": {
          "base_uri": "https://localhost:8080/",
          "height": 319
        },
        "id": "2o70SjLO7PRK",
        "outputId": "01e518fd-b50e-4795-d76c-c341d78b74cd"
      },
      "source": [
        "X = model[model.wv.vocab]\r\n",
        "\r\n",
        "# fit a 2d PCA model to the vectors\r\n",
        "pca = PCA(n_components=2)\r\n",
        "result = pca.fit_transform(X)\r\n",
        "\r\n",
        "# create a scatter plot of the projection\r\n",
        "pyplot.scatter(result[:, 0], result[:, 1])\r\n",
        "words = list(model.wv.vocab)\r\n",
        "for i, word in enumerate(words):\r\n",
        "\tpyplot.annotate(word, xy=(result[i, 0], result[i, 1]))\r\n",
        "pyplot.show()"
      ],
      "execution_count": 46,
      "outputs": [
        {
          "output_type": "stream",
          "text": [
            "/usr/local/lib/python3.6/dist-packages/ipykernel_launcher.py:1: DeprecationWarning: Call to deprecated `__getitem__` (Method will be removed in 4.0.0, use self.wv.__getitem__() instead).\n",
            "  \"\"\"Entry point for launching an IPython kernel.\n"
          ],
          "name": "stderr"
        },
        {
          "output_type": "display_data",
          "data": {
            "image/png": "[encoded data removed]",
            "text/plain": [
              "<Figure size 432x288 with 1 Axes>"
            ]
          },
          "metadata": {
            "tags": [],
            "needs_background": "light"
          }
        }
      ]
    },
    {
      "cell_type": "code",
      "metadata": {
        "colab": {
          "base_uri": "https://localhost:8080/"
        },
        "id": "nqCxmXku8geV",
        "outputId": "5c44f831-966b-40c8-a389-8f05eb65627a"
      },
      "source": [
        "result"
      ],
      "execution_count": 48,
      "outputs": [
        {
          "output_type": "execute_result",
          "data": {
            "text/plain": [
              "array([[ 0.01814157,  0.01634976],\n",
              "       [-0.00030698, -0.00327373],\n",
              "       [-0.00362506, -0.00997845],\n",
              "       [ 0.01184711, -0.01586572],\n",
              "       [-0.00353278, -0.0005793 ],\n",
              "       [ 0.00168133,  0.01292889],\n",
              "       [-0.00931714,  0.00852165],\n",
              "       [-0.00924243,  0.01457822],\n",
              "       [-0.0167725 , -0.0055995 ],\n",
              "       [-0.00751752, -0.00797401],\n",
              "       [-0.01030718,  0.00446152],\n",
              "       [ 0.00534641, -0.00082915],\n",
              "       [ 0.0049214 , -0.01301502],\n",
              "       [ 0.01868379,  0.00027483]], dtype=float32)"
            ]
          },
          "metadata": {
            "tags": []
          },
          "execution_count": 48
        }
      ]
    },
    {
      "cell_type": "markdown",
      "metadata": {
        "id": "YuEHplBYoh8y"
      },
      "source": [
        "##### download Glove embeddings from Stanford university"
      ]
    },
    {
      "cell_type": "code",
      "metadata": {
        "colab": {
          "base_uri": "https://localhost:8080/"
        },
        "id": "3BAjBSad7yIT",
        "outputId": "bdaa2dbd-c977-4d07-aa1b-1889a49d6648"
      },
      "source": [
        "!wget \"http://nlp.stanford.edu/data/glove.6B.zip\""
      ],
      "execution_count": null,
      "outputs": [
        {
          "output_type": "stream",
          "text": [
            "--2021-01-14 10:13:57--  http://nlp.stanford.edu/data/glove.6B.zip\n",
            "Resolving nlp.stanford.edu (nlp.stanford.edu)... 171.64.67.140\n",
            "Connecting to nlp.stanford.edu (nlp.stanford.edu)|171.64.67.140|:80... connected.\n",
            "HTTP request sent, awaiting response... 302 Found\n",
            "Location: https://nlp.stanford.edu/data/glove.6B.zip [following]\n",
            "--2021-01-14 10:13:57--  https://nlp.stanford.edu/data/glove.6B.zip\n",
            "Connecting to nlp.stanford.edu (nlp.stanford.edu)|171.64.67.140|:443... connected.\n",
            "HTTP request sent, awaiting response... 301 Moved Permanently\n",
            "Location: http://downloads.cs.stanford.edu/nlp/data/glove.6B.zip [following]\n",
            "--2021-01-14 10:13:57--  http://downloads.cs.stanford.edu/nlp/data/glove.6B.zip\n",
            "Resolving downloads.cs.stanford.edu (downloads.cs.stanford.edu)... 171.64.64.22\n",
            "Connecting to downloads.cs.stanford.edu (downloads.cs.stanford.edu)|171.64.64.22|:80... connected.\n",
            "HTTP request sent, awaiting response... 200 OK\n",
            "Length: 862182613 (822M) [application/zip]\n",
            "Saving to: ‘glove.6B.zip’\n",
            "\n",
            "glove.6B.zip        100%[===================>] 822.24M  2.00MB/s    in 6m 33s  \n",
            "\n",
            "2021-01-14 10:20:30 (2.09 MB/s) - ‘glove.6B.zip’ saved [862182613/862182613]\n",
            "\n"
          ],
          "name": "stdout"
        }
      ]
    },
    {
      "cell_type": "markdown",
      "metadata": {
        "id": "S0feqWloom2k"
      },
      "source": [
        "##### Unzip"
      ]
    },
    {
      "cell_type": "code",
      "metadata": {
        "colab": {
          "base_uri": "https://localhost:8080/"
        },
        "id": "ha6keSMYabsm",
        "outputId": "3ef1c25d-81f1-4c91-d2b6-417b7d334351"
      },
      "source": [
        "!unzip \"/content/glove.6B.zip\""
      ],
      "execution_count": null,
      "outputs": [
        {
          "output_type": "stream",
          "text": [
            "Archive:  /content/glove.6B.zip\n",
            "  inflating: glove.6B.50d.txt        \n",
            "  inflating: glove.6B.100d.txt       \n",
            "  inflating: glove.6B.200d.txt       \n",
            "  inflating: glove.6B.300d.txt       \n"
          ],
          "name": "stdout"
        }
      ]
    },
    {
      "cell_type": "markdown",
      "metadata": {
        "id": "a2xoh1VUoo5j"
      },
      "source": [
        "#### Load Glove Embeddings vectords and save it as a model"
      ]
    },
    {
      "cell_type": "code",
      "metadata": {
        "colab": {
          "base_uri": "https://localhost:8080/"
        },
        "id": "yElTH9EC8FnT",
        "outputId": "826d73e8-5bcd-4a9b-dfae-886d583084ae"
      },
      "source": [
        "glove_input_file = 'glove.6B.100d.txt'\r\n",
        "word2vec_output_file = 'glove.6B.100d.txt.word2vec'\r\n",
        "glove2word2vec(glove_input_file, word2vec_output_file)"
      ],
      "execution_count": null,
      "outputs": [
        {
          "output_type": "execute_result",
          "data": {
            "text/plain": [
              "(400000, 100)"
            ]
          },
          "metadata": {
            "tags": []
          },
          "execution_count": 18
        }
      ]
    },
    {
      "cell_type": "markdown",
      "metadata": {
        "id": "KXmt3wUyoux5"
      },
      "source": [
        "##### the Load the newly populated model"
      ]
    },
    {
      "cell_type": "code",
      "metadata": {
        "id": "geDKDPMecMrY"
      },
      "source": [
        "# load the Stanford GloVe model\r\n",
        "filename = 'glove.6B.100d.txt.word2vec'\r\n",
        "model = KeyedVectors.load_word2vec_format(filename, binary=False)"
      ],
      "execution_count": 49,
      "outputs": []
    },
    {
      "cell_type": "markdown",
      "metadata": {
        "id": "MEBGj7dIoy9y"
      },
      "source": [
        "###### apply some arithematics"
      ]
    },
    {
      "cell_type": "code",
      "metadata": {
        "colab": {
          "base_uri": "https://localhost:8080/"
        },
        "id": "YaGIzlZjY4rw",
        "outputId": "17577c74-275e-4867-dee8-dc2f6621b1be"
      },
      "source": [
        "# calculate: (king - man) + woman = ?\r\n",
        "\r\n",
        "result = model.most_similar(positive=['woman', 'king'], negative=['man'], topn=1)\r\n",
        "print(result)"
      ],
      "execution_count": 50,
      "outputs": [
        {
          "output_type": "stream",
          "text": [
            "[('queen', 0.7698541283607483)]\n"
          ],
          "name": "stdout"
        }
      ]
    },
    {
      "cell_type": "code",
      "metadata": {
        "id": "oPuQ3yTFamUU"
      },
      "source": [
        ""
      ],
      "execution_count": null,
      "outputs": []
    }
  ]
}
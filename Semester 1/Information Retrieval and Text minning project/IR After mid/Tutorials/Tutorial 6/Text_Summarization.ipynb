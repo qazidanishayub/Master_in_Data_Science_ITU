{
  "nbformat": 4,
  "nbformat_minor": 0,
  "metadata": {
    "colab": {
      "name": "Text Summarization.ipynb",
      "provenance": [],
      "collapsed_sections": [],
      "toc_visible": true
    },
    "kernelspec": {
      "name": "python3",
      "display_name": "Python 3"
    },
    "widgets": {
      "application/vnd.jupyter.widget-state+json": {
        "ae296dc01518438a8f797499ba9a5909": {
          "model_module": "@jupyter-widgets/controls",
          "model_name": "HBoxModel",
          "state": {
            "_view_name": "HBoxView",
            "_dom_classes": [],
            "_model_name": "HBoxModel",
            "_view_module": "@jupyter-widgets/controls",
            "_model_module_version": "1.5.0",
            "_view_count": null,
            "_view_module_version": "1.5.0",
            "box_style": "",
            "layout": "IPY_MODEL_6af7300fc539412bba983b23eda9687a",
            "_model_module": "@jupyter-widgets/controls",
            "children": [
              "IPY_MODEL_1d32fdc1f0cd46ba9807211f778e6c7e",
              "IPY_MODEL_8bdbe049bd214c5c88d01e9aa3d8a0a2"
            ]
          }
        },
        "6af7300fc539412bba983b23eda9687a": {
          "model_module": "@jupyter-widgets/base",
          "model_name": "LayoutModel",
          "state": {
            "_view_name": "LayoutView",
            "grid_template_rows": null,
            "right": null,
            "justify_content": null,
            "_view_module": "@jupyter-widgets/base",
            "overflow": null,
            "_model_module_version": "1.2.0",
            "_view_count": null,
            "flex_flow": null,
            "width": null,
            "min_width": null,
            "border": null,
            "align_items": null,
            "bottom": null,
            "_model_module": "@jupyter-widgets/base",
            "top": null,
            "grid_column": null,
            "overflow_y": null,
            "overflow_x": null,
            "grid_auto_flow": null,
            "grid_area": null,
            "grid_template_columns": null,
            "flex": null,
            "_model_name": "LayoutModel",
            "justify_items": null,
            "grid_row": null,
            "max_height": null,
            "align_content": null,
            "visibility": null,
            "align_self": null,
            "height": null,
            "min_height": null,
            "padding": null,
            "grid_auto_rows": null,
            "grid_gap": null,
            "max_width": null,
            "order": null,
            "_view_module_version": "1.2.0",
            "grid_template_areas": null,
            "object_position": null,
            "object_fit": null,
            "grid_auto_columns": null,
            "margin": null,
            "display": null,
            "left": null
          }
        },
        "1d32fdc1f0cd46ba9807211f778e6c7e": {
          "model_module": "@jupyter-widgets/controls",
          "model_name": "FloatProgressModel",
          "state": {
            "_view_name": "ProgressView",
            "style": "IPY_MODEL_5a39ee0072c54f2b9624b769d06c487d",
            "_dom_classes": [],
            "description": "Dl Completed...: 100%",
            "_model_name": "FloatProgressModel",
            "bar_style": "success",
            "max": 1,
            "_view_module": "@jupyter-widgets/controls",
            "_model_module_version": "1.5.0",
            "value": 1,
            "_view_count": null,
            "_view_module_version": "1.5.0",
            "orientation": "horizontal",
            "min": 0,
            "description_tooltip": null,
            "_model_module": "@jupyter-widgets/controls",
            "layout": "IPY_MODEL_2fea763a87f84cdd8749afb019cb5500"
          }
        },
        "8bdbe049bd214c5c88d01e9aa3d8a0a2": {
          "model_module": "@jupyter-widgets/controls",
          "model_name": "HTMLModel",
          "state": {
            "_view_name": "HTMLView",
            "style": "IPY_MODEL_cc03af2d251d47f480560d4a5ed20b2f",
            "_dom_classes": [],
            "description": "",
            "_model_name": "HTMLModel",
            "placeholder": "​",
            "_view_module": "@jupyter-widgets/controls",
            "_model_module_version": "1.5.0",
            "value": " 5/5 [01:49&lt;00:00, 21.86s/ url]",
            "_view_count": null,
            "_view_module_version": "1.5.0",
            "description_tooltip": null,
            "_model_module": "@jupyter-widgets/controls",
            "layout": "IPY_MODEL_3460e1a149e74eda989fe1a0a6ce32a3"
          }
        },
        "5a39ee0072c54f2b9624b769d06c487d": {
          "model_module": "@jupyter-widgets/controls",
          "model_name": "ProgressStyleModel",
          "state": {
            "_view_name": "StyleView",
            "_model_name": "ProgressStyleModel",
            "description_width": "initial",
            "_view_module": "@jupyter-widgets/base",
            "_model_module_version": "1.5.0",
            "_view_count": null,
            "_view_module_version": "1.2.0",
            "bar_color": null,
            "_model_module": "@jupyter-widgets/controls"
          }
        },
        "2fea763a87f84cdd8749afb019cb5500": {
          "model_module": "@jupyter-widgets/base",
          "model_name": "LayoutModel",
          "state": {
            "_view_name": "LayoutView",
            "grid_template_rows": null,
            "right": null,
            "justify_content": null,
            "_view_module": "@jupyter-widgets/base",
            "overflow": null,
            "_model_module_version": "1.2.0",
            "_view_count": null,
            "flex_flow": null,
            "width": null,
            "min_width": null,
            "border": null,
            "align_items": null,
            "bottom": null,
            "_model_module": "@jupyter-widgets/base",
            "top": null,
            "grid_column": null,
            "overflow_y": null,
            "overflow_x": null,
            "grid_auto_flow": null,
            "grid_area": null,
            "grid_template_columns": null,
            "flex": null,
            "_model_name": "LayoutModel",
            "justify_items": null,
            "grid_row": null,
            "max_height": null,
            "align_content": null,
            "visibility": null,
            "align_self": null,
            "height": null,
            "min_height": null,
            "padding": null,
            "grid_auto_rows": null,
            "grid_gap": null,
            "max_width": null,
            "order": null,
            "_view_module_version": "1.2.0",
            "grid_template_areas": null,
            "object_position": null,
            "object_fit": null,
            "grid_auto_columns": null,
            "margin": null,
            "display": null,
            "left": null
          }
        },
        "cc03af2d251d47f480560d4a5ed20b2f": {
          "model_module": "@jupyter-widgets/controls",
          "model_name": "DescriptionStyleModel",
          "state": {
            "_view_name": "StyleView",
            "_model_name": "DescriptionStyleModel",
            "description_width": "",
            "_view_module": "@jupyter-widgets/base",
            "_model_module_version": "1.5.0",
            "_view_count": null,
            "_view_module_version": "1.2.0",
            "_model_module": "@jupyter-widgets/controls"
          }
        },
        "3460e1a149e74eda989fe1a0a6ce32a3": {
          "model_module": "@jupyter-widgets/base",
          "model_name": "LayoutModel",
          "state": {
            "_view_name": "LayoutView",
            "grid_template_rows": null,
            "right": null,
            "justify_content": null,
            "_view_module": "@jupyter-widgets/base",
            "overflow": null,
            "_model_module_version": "1.2.0",
            "_view_count": null,
            "flex_flow": null,
            "width": null,
            "min_width": null,
            "border": null,
            "align_items": null,
            "bottom": null,
            "_model_module": "@jupyter-widgets/base",
            "top": null,
            "grid_column": null,
            "overflow_y": null,
            "overflow_x": null,
            "grid_auto_flow": null,
            "grid_area": null,
            "grid_template_columns": null,
            "flex": null,
            "_model_name": "LayoutModel",
            "justify_items": null,
            "grid_row": null,
            "max_height": null,
            "align_content": null,
            "visibility": null,
            "align_self": null,
            "height": null,
            "min_height": null,
            "padding": null,
            "grid_auto_rows": null,
            "grid_gap": null,
            "max_width": null,
            "order": null,
            "_view_module_version": "1.2.0",
            "grid_template_areas": null,
            "object_position": null,
            "object_fit": null,
            "grid_auto_columns": null,
            "margin": null,
            "display": null,
            "left": null
          }
        },
        "77d4ea2e10e84c5885539c40f7185ac1": {
          "model_module": "@jupyter-widgets/controls",
          "model_name": "HBoxModel",
          "state": {
            "_view_name": "HBoxView",
            "_dom_classes": [],
            "_model_name": "HBoxModel",
            "_view_module": "@jupyter-widgets/controls",
            "_model_module_version": "1.5.0",
            "_view_count": null,
            "_view_module_version": "1.5.0",
            "box_style": "",
            "layout": "IPY_MODEL_c45f50962d354f1fb6d0a690d8b151a4",
            "_model_module": "@jupyter-widgets/controls",
            "children": [
              "IPY_MODEL_6473206b157f44458e0900f34940a16d",
              "IPY_MODEL_1718894966ce492482e7b12a1b4004df"
            ]
          }
        },
        "c45f50962d354f1fb6d0a690d8b151a4": {
          "model_module": "@jupyter-widgets/base",
          "model_name": "LayoutModel",
          "state": {
            "_view_name": "LayoutView",
            "grid_template_rows": null,
            "right": null,
            "justify_content": null,
            "_view_module": "@jupyter-widgets/base",
            "overflow": null,
            "_model_module_version": "1.2.0",
            "_view_count": null,
            "flex_flow": null,
            "width": null,
            "min_width": null,
            "border": null,
            "align_items": null,
            "bottom": null,
            "_model_module": "@jupyter-widgets/base",
            "top": null,
            "grid_column": null,
            "overflow_y": null,
            "overflow_x": null,
            "grid_auto_flow": null,
            "grid_area": null,
            "grid_template_columns": null,
            "flex": null,
            "_model_name": "LayoutModel",
            "justify_items": null,
            "grid_row": null,
            "max_height": null,
            "align_content": null,
            "visibility": null,
            "align_self": null,
            "height": null,
            "min_height": null,
            "padding": null,
            "grid_auto_rows": null,
            "grid_gap": null,
            "max_width": null,
            "order": null,
            "_view_module_version": "1.2.0",
            "grid_template_areas": null,
            "object_position": null,
            "object_fit": null,
            "grid_auto_columns": null,
            "margin": null,
            "display": null,
            "left": null
          }
        },
        "6473206b157f44458e0900f34940a16d": {
          "model_module": "@jupyter-widgets/controls",
          "model_name": "FloatProgressModel",
          "state": {
            "_view_name": "ProgressView",
            "style": "IPY_MODEL_b359be01c12c4743b4944cb75f4eb65d",
            "_dom_classes": [],
            "description": "Dl Size...: ",
            "_model_name": "FloatProgressModel",
            "bar_style": "success",
            "max": 1,
            "_view_module": "@jupyter-widgets/controls",
            "_model_module_version": "1.5.0",
            "value": 1,
            "_view_count": null,
            "_view_module_version": "1.5.0",
            "orientation": "horizontal",
            "min": 0,
            "description_tooltip": null,
            "_model_module": "@jupyter-widgets/controls",
            "layout": "IPY_MODEL_4357892490b64f5687b6acda931dd151"
          }
        },
        "1718894966ce492482e7b12a1b4004df": {
          "model_module": "@jupyter-widgets/controls",
          "model_name": "HTMLModel",
          "state": {
            "_view_name": "HTMLView",
            "style": "IPY_MODEL_7eb00c7a41b446b7b69c67ec3add6d6a",
            "_dom_classes": [],
            "description": "",
            "_model_name": "HTMLModel",
            "placeholder": "​",
            "_view_module": "@jupyter-widgets/controls",
            "_model_module_version": "1.5.0",
            "value": " 557/? [01:49&lt;00:00,  5.10 MiB/s]",
            "_view_count": null,
            "_view_module_version": "1.5.0",
            "description_tooltip": null,
            "_model_module": "@jupyter-widgets/controls",
            "layout": "IPY_MODEL_b1929ea50c114c0a813a86384f1909eb"
          }
        },
        "b359be01c12c4743b4944cb75f4eb65d": {
          "model_module": "@jupyter-widgets/controls",
          "model_name": "ProgressStyleModel",
          "state": {
            "_view_name": "StyleView",
            "_model_name": "ProgressStyleModel",
            "description_width": "initial",
            "_view_module": "@jupyter-widgets/base",
            "_model_module_version": "1.5.0",
            "_view_count": null,
            "_view_module_version": "1.2.0",
            "bar_color": null,
            "_model_module": "@jupyter-widgets/controls"
          }
        },
        "4357892490b64f5687b6acda931dd151": {
          "model_module": "@jupyter-widgets/base",
          "model_name": "LayoutModel",
          "state": {
            "_view_name": "LayoutView",
            "grid_template_rows": null,
            "right": null,
            "justify_content": null,
            "_view_module": "@jupyter-widgets/base",
            "overflow": null,
            "_model_module_version": "1.2.0",
            "_view_count": null,
            "flex_flow": null,
            "width": null,
            "min_width": null,
            "border": null,
            "align_items": null,
            "bottom": null,
            "_model_module": "@jupyter-widgets/base",
            "top": null,
            "grid_column": null,
            "overflow_y": null,
            "overflow_x": null,
            "grid_auto_flow": null,
            "grid_area": null,
            "grid_template_columns": null,
            "flex": null,
            "_model_name": "LayoutModel",
            "justify_items": null,
            "grid_row": null,
            "max_height": null,
            "align_content": null,
            "visibility": null,
            "align_self": null,
            "height": null,
            "min_height": null,
            "padding": null,
            "grid_auto_rows": null,
            "grid_gap": null,
            "max_width": null,
            "order": null,
            "_view_module_version": "1.2.0",
            "grid_template_areas": null,
            "object_position": null,
            "object_fit": null,
            "grid_auto_columns": null,
            "margin": null,
            "display": null,
            "left": null
          }
        },
        "7eb00c7a41b446b7b69c67ec3add6d6a": {
          "model_module": "@jupyter-widgets/controls",
          "model_name": "DescriptionStyleModel",
          "state": {
            "_view_name": "StyleView",
            "_model_name": "DescriptionStyleModel",
            "description_width": "",
            "_view_module": "@jupyter-widgets/base",
            "_model_module_version": "1.5.0",
            "_view_count": null,
            "_view_module_version": "1.2.0",
            "_model_module": "@jupyter-widgets/controls"
          }
        },
        "b1929ea50c114c0a813a86384f1909eb": {
          "model_module": "@jupyter-widgets/base",
          "model_name": "LayoutModel",
          "state": {
            "_view_name": "LayoutView",
            "grid_template_rows": null,
            "right": null,
            "justify_content": null,
            "_view_module": "@jupyter-widgets/base",
            "overflow": null,
            "_model_module_version": "1.2.0",
            "_view_count": null,
            "flex_flow": null,
            "width": null,
            "min_width": null,
            "border": null,
            "align_items": null,
            "bottom": null,
            "_model_module": "@jupyter-widgets/base",
            "top": null,
            "grid_column": null,
            "overflow_y": null,
            "overflow_x": null,
            "grid_auto_flow": null,
            "grid_area": null,
            "grid_template_columns": null,
            "flex": null,
            "_model_name": "LayoutModel",
            "justify_items": null,
            "grid_row": null,
            "max_height": null,
            "align_content": null,
            "visibility": null,
            "align_self": null,
            "height": null,
            "min_height": null,
            "padding": null,
            "grid_auto_rows": null,
            "grid_gap": null,
            "max_width": null,
            "order": null,
            "_view_module_version": "1.2.0",
            "grid_template_areas": null,
            "object_position": null,
            "object_fit": null,
            "grid_auto_columns": null,
            "margin": null,
            "display": null,
            "left": null
          }
        },
        "6c4e19c832924af982bc30f6d96f1f2f": {
          "model_module": "@jupyter-widgets/controls",
          "model_name": "HBoxModel",
          "state": {
            "_view_name": "HBoxView",
            "_dom_classes": [],
            "_model_name": "HBoxModel",
            "_view_module": "@jupyter-widgets/controls",
            "_model_module_version": "1.5.0",
            "_view_count": null,
            "_view_module_version": "1.5.0",
            "box_style": "",
            "layout": "IPY_MODEL_975b452baf284a8d93f32848e7f0cd44",
            "_model_module": "@jupyter-widgets/controls",
            "children": [
              "IPY_MODEL_aea367baea67462d80562aa5c4eaea25",
              "IPY_MODEL_00521ca99a394bd69d4521ed229895d0"
            ]
          }
        },
        "975b452baf284a8d93f32848e7f0cd44": {
          "model_module": "@jupyter-widgets/base",
          "model_name": "LayoutModel",
          "state": {
            "_view_name": "LayoutView",
            "grid_template_rows": null,
            "right": null,
            "justify_content": null,
            "_view_module": "@jupyter-widgets/base",
            "overflow": null,
            "_model_module_version": "1.2.0",
            "_view_count": null,
            "flex_flow": null,
            "width": null,
            "min_width": null,
            "border": null,
            "align_items": null,
            "bottom": null,
            "_model_module": "@jupyter-widgets/base",
            "top": null,
            "grid_column": null,
            "overflow_y": null,
            "overflow_x": null,
            "grid_auto_flow": null,
            "grid_area": null,
            "grid_template_columns": null,
            "flex": null,
            "_model_name": "LayoutModel",
            "justify_items": null,
            "grid_row": null,
            "max_height": null,
            "align_content": null,
            "visibility": null,
            "align_self": null,
            "height": null,
            "min_height": null,
            "padding": null,
            "grid_auto_rows": null,
            "grid_gap": null,
            "max_width": null,
            "order": null,
            "_view_module_version": "1.2.0",
            "grid_template_areas": null,
            "object_position": null,
            "object_fit": null,
            "grid_auto_columns": null,
            "margin": null,
            "display": null,
            "left": null
          }
        },
        "aea367baea67462d80562aa5c4eaea25": {
          "model_module": "@jupyter-widgets/controls",
          "model_name": "FloatProgressModel",
          "state": {
            "_view_name": "ProgressView",
            "style": "IPY_MODEL_04359122945544a1961bc7c2aefb5c64",
            "_dom_classes": [],
            "description": "Extraction completed...: 100%",
            "_model_name": "FloatProgressModel",
            "bar_style": "success",
            "max": 1,
            "_view_module": "@jupyter-widgets/controls",
            "_model_module_version": "1.5.0",
            "value": 1,
            "_view_count": null,
            "_view_module_version": "1.5.0",
            "orientation": "horizontal",
            "min": 0,
            "description_tooltip": null,
            "_model_module": "@jupyter-widgets/controls",
            "layout": "IPY_MODEL_4d921717c3364b7da15c89829a05b2e0"
          }
        },
        "00521ca99a394bd69d4521ed229895d0": {
          "model_module": "@jupyter-widgets/controls",
          "model_name": "HTMLModel",
          "state": {
            "_view_name": "HTMLView",
            "style": "IPY_MODEL_828d3a11c3ed4fb58cf66c7505b6eba7",
            "_dom_classes": [],
            "description": "",
            "_model_name": "HTMLModel",
            "placeholder": "​",
            "_view_module": "@jupyter-widgets/controls",
            "_model_module_version": "1.5.0",
            "value": " 2/2 [01:49&lt;00:00, 54.61s/ file]",
            "_view_count": null,
            "_view_module_version": "1.5.0",
            "description_tooltip": null,
            "_model_module": "@jupyter-widgets/controls",
            "layout": "IPY_MODEL_5aed460520d2416fbbf66a2e31efe460"
          }
        },
        "04359122945544a1961bc7c2aefb5c64": {
          "model_module": "@jupyter-widgets/controls",
          "model_name": "ProgressStyleModel",
          "state": {
            "_view_name": "StyleView",
            "_model_name": "ProgressStyleModel",
            "description_width": "initial",
            "_view_module": "@jupyter-widgets/base",
            "_model_module_version": "1.5.0",
            "_view_count": null,
            "_view_module_version": "1.2.0",
            "bar_color": null,
            "_model_module": "@jupyter-widgets/controls"
          }
        },
        "4d921717c3364b7da15c89829a05b2e0": {
          "model_module": "@jupyter-widgets/base",
          "model_name": "LayoutModel",
          "state": {
            "_view_name": "LayoutView",
            "grid_template_rows": null,
            "right": null,
            "justify_content": null,
            "_view_module": "@jupyter-widgets/base",
            "overflow": null,
            "_model_module_version": "1.2.0",
            "_view_count": null,
            "flex_flow": null,
            "width": null,
            "min_width": null,
            "border": null,
            "align_items": null,
            "bottom": null,
            "_model_module": "@jupyter-widgets/base",
            "top": null,
            "grid_column": null,
            "overflow_y": null,
            "overflow_x": null,
            "grid_auto_flow": null,
            "grid_area": null,
            "grid_template_columns": null,
            "flex": null,
            "_model_name": "LayoutModel",
            "justify_items": null,
            "grid_row": null,
            "max_height": null,
            "align_content": null,
            "visibility": null,
            "align_self": null,
            "height": null,
            "min_height": null,
            "padding": null,
            "grid_auto_rows": null,
            "grid_gap": null,
            "max_width": null,
            "order": null,
            "_view_module_version": "1.2.0",
            "grid_template_areas": null,
            "object_position": null,
            "object_fit": null,
            "grid_auto_columns": null,
            "margin": null,
            "display": null,
            "left": null
          }
        },
        "828d3a11c3ed4fb58cf66c7505b6eba7": {
          "model_module": "@jupyter-widgets/controls",
          "model_name": "DescriptionStyleModel",
          "state": {
            "_view_name": "StyleView",
            "_model_name": "DescriptionStyleModel",
            "description_width": "",
            "_view_module": "@jupyter-widgets/base",
            "_model_module_version": "1.5.0",
            "_view_count": null,
            "_view_module_version": "1.2.0",
            "_model_module": "@jupyter-widgets/controls"
          }
        },
        "5aed460520d2416fbbf66a2e31efe460": {
          "model_module": "@jupyter-widgets/base",
          "model_name": "LayoutModel",
          "state": {
            "_view_name": "LayoutView",
            "grid_template_rows": null,
            "right": null,
            "justify_content": null,
            "_view_module": "@jupyter-widgets/base",
            "overflow": null,
            "_model_module_version": "1.2.0",
            "_view_count": null,
            "flex_flow": null,
            "width": null,
            "min_width": null,
            "border": null,
            "align_items": null,
            "bottom": null,
            "_model_module": "@jupyter-widgets/base",
            "top": null,
            "grid_column": null,
            "overflow_y": null,
            "overflow_x": null,
            "grid_auto_flow": null,
            "grid_area": null,
            "grid_template_columns": null,
            "flex": null,
            "_model_name": "LayoutModel",
            "justify_items": null,
            "grid_row": null,
            "max_height": null,
            "align_content": null,
            "visibility": null,
            "align_self": null,
            "height": null,
            "min_height": null,
            "padding": null,
            "grid_auto_rows": null,
            "grid_gap": null,
            "max_width": null,
            "order": null,
            "_view_module_version": "1.2.0",
            "grid_template_areas": null,
            "object_position": null,
            "object_fit": null,
            "grid_auto_columns": null,
            "margin": null,
            "display": null,
            "left": null
          }
        },
        "294f780e3f724500981902e540d89c6a": {
          "model_module": "@jupyter-widgets/controls",
          "model_name": "HBoxModel",
          "state": {
            "_view_name": "HBoxView",
            "_dom_classes": [],
            "_model_name": "HBoxModel",
            "_view_module": "@jupyter-widgets/controls",
            "_model_module_version": "1.5.0",
            "_view_count": null,
            "_view_module_version": "1.5.0",
            "box_style": "",
            "layout": "IPY_MODEL_53519079a559499aabc1ea1f1d1d6787",
            "_model_module": "@jupyter-widgets/controls",
            "children": [
              "IPY_MODEL_86e16daa03a7479d89188b92f86f2011",
              "IPY_MODEL_cc9325b65d5446129ac20301a6398ac0"
            ]
          }
        },
        "53519079a559499aabc1ea1f1d1d6787": {
          "model_module": "@jupyter-widgets/base",
          "model_name": "LayoutModel",
          "state": {
            "_view_name": "LayoutView",
            "grid_template_rows": null,
            "right": null,
            "justify_content": null,
            "_view_module": "@jupyter-widgets/base",
            "overflow": null,
            "_model_module_version": "1.2.0",
            "_view_count": null,
            "flex_flow": null,
            "width": null,
            "min_width": null,
            "border": null,
            "align_items": null,
            "bottom": null,
            "_model_module": "@jupyter-widgets/base",
            "top": null,
            "grid_column": null,
            "overflow_y": null,
            "overflow_x": null,
            "grid_auto_flow": null,
            "grid_area": null,
            "grid_template_columns": null,
            "flex": null,
            "_model_name": "LayoutModel",
            "justify_items": null,
            "grid_row": null,
            "max_height": null,
            "align_content": null,
            "visibility": null,
            "align_self": null,
            "height": null,
            "min_height": null,
            "padding": null,
            "grid_auto_rows": null,
            "grid_gap": null,
            "max_width": null,
            "order": null,
            "_view_module_version": "1.2.0",
            "grid_template_areas": null,
            "object_position": null,
            "object_fit": null,
            "grid_auto_columns": null,
            "margin": null,
            "display": null,
            "left": null
          }
        },
        "86e16daa03a7479d89188b92f86f2011": {
          "model_module": "@jupyter-widgets/controls",
          "model_name": "FloatProgressModel",
          "state": {
            "_view_name": "ProgressView",
            "style": "IPY_MODEL_2987bde761874aa29e2284e807b6eada",
            "_dom_classes": [],
            "description": "",
            "_model_name": "FloatProgressModel",
            "bar_style": "info",
            "max": 1,
            "_view_module": "@jupyter-widgets/controls",
            "_model_module_version": "1.5.0",
            "value": 1,
            "_view_count": null,
            "_view_module_version": "1.5.0",
            "orientation": "horizontal",
            "min": 0,
            "description_tooltip": null,
            "_model_module": "@jupyter-widgets/controls",
            "layout": "IPY_MODEL_c97370ed5cba4426b838aa90eaad6991"
          }
        },
        "cc9325b65d5446129ac20301a6398ac0": {
          "model_module": "@jupyter-widgets/controls",
          "model_name": "HTMLModel",
          "state": {
            "_view_name": "HTMLView",
            "style": "IPY_MODEL_cb4d09506266415cabbf27952350884c",
            "_dom_classes": [],
            "description": "",
            "_model_name": "HTMLModel",
            "placeholder": "​",
            "_view_module": "@jupyter-widgets/controls",
            "_model_module_version": "1.5.0",
            "value": " 287113/0 [03:35&lt;00:00, 669.78 examples/s]",
            "_view_count": null,
            "_view_module_version": "1.5.0",
            "description_tooltip": null,
            "_model_module": "@jupyter-widgets/controls",
            "layout": "IPY_MODEL_49a2a5f892524f2b8af42f2976a31b37"
          }
        },
        "2987bde761874aa29e2284e807b6eada": {
          "model_module": "@jupyter-widgets/controls",
          "model_name": "ProgressStyleModel",
          "state": {
            "_view_name": "StyleView",
            "_model_name": "ProgressStyleModel",
            "description_width": "initial",
            "_view_module": "@jupyter-widgets/base",
            "_model_module_version": "1.5.0",
            "_view_count": null,
            "_view_module_version": "1.2.0",
            "bar_color": null,
            "_model_module": "@jupyter-widgets/controls"
          }
        },
        "c97370ed5cba4426b838aa90eaad6991": {
          "model_module": "@jupyter-widgets/base",
          "model_name": "LayoutModel",
          "state": {
            "_view_name": "LayoutView",
            "grid_template_rows": null,
            "right": null,
            "justify_content": null,
            "_view_module": "@jupyter-widgets/base",
            "overflow": null,
            "_model_module_version": "1.2.0",
            "_view_count": null,
            "flex_flow": null,
            "width": null,
            "min_width": null,
            "border": null,
            "align_items": null,
            "bottom": null,
            "_model_module": "@jupyter-widgets/base",
            "top": null,
            "grid_column": null,
            "overflow_y": null,
            "overflow_x": null,
            "grid_auto_flow": null,
            "grid_area": null,
            "grid_template_columns": null,
            "flex": null,
            "_model_name": "LayoutModel",
            "justify_items": null,
            "grid_row": null,
            "max_height": null,
            "align_content": null,
            "visibility": null,
            "align_self": null,
            "height": null,
            "min_height": null,
            "padding": null,
            "grid_auto_rows": null,
            "grid_gap": null,
            "max_width": null,
            "order": null,
            "_view_module_version": "1.2.0",
            "grid_template_areas": null,
            "object_position": null,
            "object_fit": null,
            "grid_auto_columns": null,
            "margin": null,
            "display": null,
            "left": null
          }
        },
        "cb4d09506266415cabbf27952350884c": {
          "model_module": "@jupyter-widgets/controls",
          "model_name": "DescriptionStyleModel",
          "state": {
            "_view_name": "StyleView",
            "_model_name": "DescriptionStyleModel",
            "description_width": "",
            "_view_module": "@jupyter-widgets/base",
            "_model_module_version": "1.5.0",
            "_view_count": null,
            "_view_module_version": "1.2.0",
            "_model_module": "@jupyter-widgets/controls"
          }
        },
        "49a2a5f892524f2b8af42f2976a31b37": {
          "model_module": "@jupyter-widgets/base",
          "model_name": "LayoutModel",
          "state": {
            "_view_name": "LayoutView",
            "grid_template_rows": null,
            "right": null,
            "justify_content": null,
            "_view_module": "@jupyter-widgets/base",
            "overflow": null,
            "_model_module_version": "1.2.0",
            "_view_count": null,
            "flex_flow": null,
            "width": null,
            "min_width": null,
            "border": null,
            "align_items": null,
            "bottom": null,
            "_model_module": "@jupyter-widgets/base",
            "top": null,
            "grid_column": null,
            "overflow_y": null,
            "overflow_x": null,
            "grid_auto_flow": null,
            "grid_area": null,
            "grid_template_columns": null,
            "flex": null,
            "_model_name": "LayoutModel",
            "justify_items": null,
            "grid_row": null,
            "max_height": null,
            "align_content": null,
            "visibility": null,
            "align_self": null,
            "height": null,
            "min_height": null,
            "padding": null,
            "grid_auto_rows": null,
            "grid_gap": null,
            "max_width": null,
            "order": null,
            "_view_module_version": "1.2.0",
            "grid_template_areas": null,
            "object_position": null,
            "object_fit": null,
            "grid_auto_columns": null,
            "margin": null,
            "display": null,
            "left": null
          }
        },
        "2493c59adad54860a82677f174c5541b": {
          "model_module": "@jupyter-widgets/controls",
          "model_name": "HBoxModel",
          "state": {
            "_view_name": "HBoxView",
            "_dom_classes": [],
            "_model_name": "HBoxModel",
            "_view_module": "@jupyter-widgets/controls",
            "_model_module_version": "1.5.0",
            "_view_count": null,
            "_view_module_version": "1.5.0",
            "box_style": "",
            "layout": "IPY_MODEL_d10a67d5a505418ca7a522ab556dd259",
            "_model_module": "@jupyter-widgets/controls",
            "children": [
              "IPY_MODEL_6a897d9636f548d1bfd743e02c4234e4",
              "IPY_MODEL_765cb735ba2b4b3588c707ebb94316a0"
            ]
          }
        },
        "d10a67d5a505418ca7a522ab556dd259": {
          "model_module": "@jupyter-widgets/base",
          "model_name": "LayoutModel",
          "state": {
            "_view_name": "LayoutView",
            "grid_template_rows": null,
            "right": null,
            "justify_content": null,
            "_view_module": "@jupyter-widgets/base",
            "overflow": null,
            "_model_module_version": "1.2.0",
            "_view_count": null,
            "flex_flow": null,
            "width": null,
            "min_width": null,
            "border": null,
            "align_items": null,
            "bottom": null,
            "_model_module": "@jupyter-widgets/base",
            "top": null,
            "grid_column": null,
            "overflow_y": null,
            "overflow_x": null,
            "grid_auto_flow": null,
            "grid_area": null,
            "grid_template_columns": null,
            "flex": null,
            "_model_name": "LayoutModel",
            "justify_items": null,
            "grid_row": null,
            "max_height": null,
            "align_content": null,
            "visibility": null,
            "align_self": null,
            "height": null,
            "min_height": null,
            "padding": null,
            "grid_auto_rows": null,
            "grid_gap": null,
            "max_width": null,
            "order": null,
            "_view_module_version": "1.2.0",
            "grid_template_areas": null,
            "object_position": null,
            "object_fit": null,
            "grid_auto_columns": null,
            "margin": null,
            "display": null,
            "left": null
          }
        },
        "6a897d9636f548d1bfd743e02c4234e4": {
          "model_module": "@jupyter-widgets/controls",
          "model_name": "FloatProgressModel",
          "state": {
            "_view_name": "ProgressView",
            "style": "IPY_MODEL_271e226a06b14991ac58ebf3541f17e1",
            "_dom_classes": [],
            "description": " 99%",
            "_model_name": "FloatProgressModel",
            "bar_style": "danger",
            "max": 287113,
            "_view_module": "@jupyter-widgets/controls",
            "_model_module_version": "1.5.0",
            "value": 282918,
            "_view_count": null,
            "_view_module_version": "1.5.0",
            "orientation": "horizontal",
            "min": 0,
            "description_tooltip": null,
            "_model_module": "@jupyter-widgets/controls",
            "layout": "IPY_MODEL_580bc3883e89432da10918c9ab971fc7"
          }
        },
        "765cb735ba2b4b3588c707ebb94316a0": {
          "model_module": "@jupyter-widgets/controls",
          "model_name": "HTMLModel",
          "state": {
            "_view_name": "HTMLView",
            "style": "IPY_MODEL_0529e9b734ad4cd89916d129c0b531af",
            "_dom_classes": [],
            "description": "",
            "_model_name": "HTMLModel",
            "placeholder": "​",
            "_view_module": "@jupyter-widgets/controls",
            "_model_module_version": "1.5.0",
            "value": " 282918/287113 [00:20&lt;00:00, 34555.49 examples/s]",
            "_view_count": null,
            "_view_module_version": "1.5.0",
            "description_tooltip": null,
            "_model_module": "@jupyter-widgets/controls",
            "layout": "IPY_MODEL_700017f800844baeb71bfc4f4ac18878"
          }
        },
        "271e226a06b14991ac58ebf3541f17e1": {
          "model_module": "@jupyter-widgets/controls",
          "model_name": "ProgressStyleModel",
          "state": {
            "_view_name": "StyleView",
            "_model_name": "ProgressStyleModel",
            "description_width": "initial",
            "_view_module": "@jupyter-widgets/base",
            "_model_module_version": "1.5.0",
            "_view_count": null,
            "_view_module_version": "1.2.0",
            "bar_color": null,
            "_model_module": "@jupyter-widgets/controls"
          }
        },
        "580bc3883e89432da10918c9ab971fc7": {
          "model_module": "@jupyter-widgets/base",
          "model_name": "LayoutModel",
          "state": {
            "_view_name": "LayoutView",
            "grid_template_rows": null,
            "right": null,
            "justify_content": null,
            "_view_module": "@jupyter-widgets/base",
            "overflow": null,
            "_model_module_version": "1.2.0",
            "_view_count": null,
            "flex_flow": null,
            "width": null,
            "min_width": null,
            "border": null,
            "align_items": null,
            "bottom": null,
            "_model_module": "@jupyter-widgets/base",
            "top": null,
            "grid_column": null,
            "overflow_y": null,
            "overflow_x": null,
            "grid_auto_flow": null,
            "grid_area": null,
            "grid_template_columns": null,
            "flex": null,
            "_model_name": "LayoutModel",
            "justify_items": null,
            "grid_row": null,
            "max_height": null,
            "align_content": null,
            "visibility": null,
            "align_self": null,
            "height": null,
            "min_height": null,
            "padding": null,
            "grid_auto_rows": null,
            "grid_gap": null,
            "max_width": null,
            "order": null,
            "_view_module_version": "1.2.0",
            "grid_template_areas": null,
            "object_position": null,
            "object_fit": null,
            "grid_auto_columns": null,
            "margin": null,
            "display": null,
            "left": null
          }
        },
        "0529e9b734ad4cd89916d129c0b531af": {
          "model_module": "@jupyter-widgets/controls",
          "model_name": "DescriptionStyleModel",
          "state": {
            "_view_name": "StyleView",
            "_model_name": "DescriptionStyleModel",
            "description_width": "",
            "_view_module": "@jupyter-widgets/base",
            "_model_module_version": "1.5.0",
            "_view_count": null,
            "_view_module_version": "1.2.0",
            "_model_module": "@jupyter-widgets/controls"
          }
        },
        "700017f800844baeb71bfc4f4ac18878": {
          "model_module": "@jupyter-widgets/base",
          "model_name": "LayoutModel",
          "state": {
            "_view_name": "LayoutView",
            "grid_template_rows": null,
            "right": null,
            "justify_content": null,
            "_view_module": "@jupyter-widgets/base",
            "overflow": null,
            "_model_module_version": "1.2.0",
            "_view_count": null,
            "flex_flow": null,
            "width": null,
            "min_width": null,
            "border": null,
            "align_items": null,
            "bottom": null,
            "_model_module": "@jupyter-widgets/base",
            "top": null,
            "grid_column": null,
            "overflow_y": null,
            "overflow_x": null,
            "grid_auto_flow": null,
            "grid_area": null,
            "grid_template_columns": null,
            "flex": null,
            "_model_name": "LayoutModel",
            "justify_items": null,
            "grid_row": null,
            "max_height": null,
            "align_content": null,
            "visibility": null,
            "align_self": null,
            "height": null,
            "min_height": null,
            "padding": null,
            "grid_auto_rows": null,
            "grid_gap": null,
            "max_width": null,
            "order": null,
            "_view_module_version": "1.2.0",
            "grid_template_areas": null,
            "object_position": null,
            "object_fit": null,
            "grid_auto_columns": null,
            "margin": null,
            "display": null,
            "left": null
          }
        },
        "c374775c55a74d1fa4b1c57bb4f7bd04": {
          "model_module": "@jupyter-widgets/controls",
          "model_name": "HBoxModel",
          "state": {
            "_view_name": "HBoxView",
            "_dom_classes": [],
            "_model_name": "HBoxModel",
            "_view_module": "@jupyter-widgets/controls",
            "_model_module_version": "1.5.0",
            "_view_count": null,
            "_view_module_version": "1.5.0",
            "box_style": "",
            "layout": "IPY_MODEL_c4fcd8f210dd43509311d21dcb181c2f",
            "_model_module": "@jupyter-widgets/controls",
            "children": [
              "IPY_MODEL_dfbbb630bde34654a8449a30109f905a",
              "IPY_MODEL_bb38da59ceda4a9587666aa5377bb1b6"
            ]
          }
        },
        "c4fcd8f210dd43509311d21dcb181c2f": {
          "model_module": "@jupyter-widgets/base",
          "model_name": "LayoutModel",
          "state": {
            "_view_name": "LayoutView",
            "grid_template_rows": null,
            "right": null,
            "justify_content": null,
            "_view_module": "@jupyter-widgets/base",
            "overflow": null,
            "_model_module_version": "1.2.0",
            "_view_count": null,
            "flex_flow": null,
            "width": null,
            "min_width": null,
            "border": null,
            "align_items": null,
            "bottom": null,
            "_model_module": "@jupyter-widgets/base",
            "top": null,
            "grid_column": null,
            "overflow_y": null,
            "overflow_x": null,
            "grid_auto_flow": null,
            "grid_area": null,
            "grid_template_columns": null,
            "flex": null,
            "_model_name": "LayoutModel",
            "justify_items": null,
            "grid_row": null,
            "max_height": null,
            "align_content": null,
            "visibility": null,
            "align_self": null,
            "height": null,
            "min_height": null,
            "padding": null,
            "grid_auto_rows": null,
            "grid_gap": null,
            "max_width": null,
            "order": null,
            "_view_module_version": "1.2.0",
            "grid_template_areas": null,
            "object_position": null,
            "object_fit": null,
            "grid_auto_columns": null,
            "margin": null,
            "display": null,
            "left": null
          }
        },
        "dfbbb630bde34654a8449a30109f905a": {
          "model_module": "@jupyter-widgets/controls",
          "model_name": "FloatProgressModel",
          "state": {
            "_view_name": "ProgressView",
            "style": "IPY_MODEL_1ef75eba1c9d4c7ca68d7ca4826a83f0",
            "_dom_classes": [],
            "description": "",
            "_model_name": "FloatProgressModel",
            "bar_style": "info",
            "max": 1,
            "_view_module": "@jupyter-widgets/controls",
            "_model_module_version": "1.5.0",
            "value": 1,
            "_view_count": null,
            "_view_module_version": "1.5.0",
            "orientation": "horizontal",
            "min": 0,
            "description_tooltip": null,
            "_model_module": "@jupyter-widgets/controls",
            "layout": "IPY_MODEL_9d06ec3dba7c483bab75e81703000d96"
          }
        },
        "bb38da59ceda4a9587666aa5377bb1b6": {
          "model_module": "@jupyter-widgets/controls",
          "model_name": "HTMLModel",
          "state": {
            "_view_name": "HTMLView",
            "style": "IPY_MODEL_cad4af0a31a84f23a809e015933aef66",
            "_dom_classes": [],
            "description": "",
            "_model_name": "HTMLModel",
            "placeholder": "​",
            "_view_module": "@jupyter-widgets/controls",
            "_model_module_version": "1.5.0",
            "value": " 13368/0 [00:09&lt;00:00, 1435.49 examples/s]",
            "_view_count": null,
            "_view_module_version": "1.5.0",
            "description_tooltip": null,
            "_model_module": "@jupyter-widgets/controls",
            "layout": "IPY_MODEL_c7e6c60871a54bea9fd4a711465fcb41"
          }
        },
        "1ef75eba1c9d4c7ca68d7ca4826a83f0": {
          "model_module": "@jupyter-widgets/controls",
          "model_name": "ProgressStyleModel",
          "state": {
            "_view_name": "StyleView",
            "_model_name": "ProgressStyleModel",
            "description_width": "initial",
            "_view_module": "@jupyter-widgets/base",
            "_model_module_version": "1.5.0",
            "_view_count": null,
            "_view_module_version": "1.2.0",
            "bar_color": null,
            "_model_module": "@jupyter-widgets/controls"
          }
        },
        "9d06ec3dba7c483bab75e81703000d96": {
          "model_module": "@jupyter-widgets/base",
          "model_name": "LayoutModel",
          "state": {
            "_view_name": "LayoutView",
            "grid_template_rows": null,
            "right": null,
            "justify_content": null,
            "_view_module": "@jupyter-widgets/base",
            "overflow": null,
            "_model_module_version": "1.2.0",
            "_view_count": null,
            "flex_flow": null,
            "width": null,
            "min_width": null,
            "border": null,
            "align_items": null,
            "bottom": null,
            "_model_module": "@jupyter-widgets/base",
            "top": null,
            "grid_column": null,
            "overflow_y": null,
            "overflow_x": null,
            "grid_auto_flow": null,
            "grid_area": null,
            "grid_template_columns": null,
            "flex": null,
            "_model_name": "LayoutModel",
            "justify_items": null,
            "grid_row": null,
            "max_height": null,
            "align_content": null,
            "visibility": null,
            "align_self": null,
            "height": null,
            "min_height": null,
            "padding": null,
            "grid_auto_rows": null,
            "grid_gap": null,
            "max_width": null,
            "order": null,
            "_view_module_version": "1.2.0",
            "grid_template_areas": null,
            "object_position": null,
            "object_fit": null,
            "grid_auto_columns": null,
            "margin": null,
            "display": null,
            "left": null
          }
        },
        "cad4af0a31a84f23a809e015933aef66": {
          "model_module": "@jupyter-widgets/controls",
          "model_name": "DescriptionStyleModel",
          "state": {
            "_view_name": "StyleView",
            "_model_name": "DescriptionStyleModel",
            "description_width": "",
            "_view_module": "@jupyter-widgets/base",
            "_model_module_version": "1.5.0",
            "_view_count": null,
            "_view_module_version": "1.2.0",
            "_model_module": "@jupyter-widgets/controls"
          }
        },
        "c7e6c60871a54bea9fd4a711465fcb41": {
          "model_module": "@jupyter-widgets/base",
          "model_name": "LayoutModel",
          "state": {
            "_view_name": "LayoutView",
            "grid_template_rows": null,
            "right": null,
            "justify_content": null,
            "_view_module": "@jupyter-widgets/base",
            "overflow": null,
            "_model_module_version": "1.2.0",
            "_view_count": null,
            "flex_flow": null,
            "width": null,
            "min_width": null,
            "border": null,
            "align_items": null,
            "bottom": null,
            "_model_module": "@jupyter-widgets/base",
            "top": null,
            "grid_column": null,
            "overflow_y": null,
            "overflow_x": null,
            "grid_auto_flow": null,
            "grid_area": null,
            "grid_template_columns": null,
            "flex": null,
            "_model_name": "LayoutModel",
            "justify_items": null,
            "grid_row": null,
            "max_height": null,
            "align_content": null,
            "visibility": null,
            "align_self": null,
            "height": null,
            "min_height": null,
            "padding": null,
            "grid_auto_rows": null,
            "grid_gap": null,
            "max_width": null,
            "order": null,
            "_view_module_version": "1.2.0",
            "grid_template_areas": null,
            "object_position": null,
            "object_fit": null,
            "grid_auto_columns": null,
            "margin": null,
            "display": null,
            "left": null
          }
        },
        "4f9cc46209a0406ebf764b6013100561": {
          "model_module": "@jupyter-widgets/controls",
          "model_name": "HBoxModel",
          "state": {
            "_view_name": "HBoxView",
            "_dom_classes": [],
            "_model_name": "HBoxModel",
            "_view_module": "@jupyter-widgets/controls",
            "_model_module_version": "1.5.0",
            "_view_count": null,
            "_view_module_version": "1.5.0",
            "box_style": "",
            "layout": "IPY_MODEL_6971801c736b4e12b51cf947357ce148",
            "_model_module": "@jupyter-widgets/controls",
            "children": [
              "IPY_MODEL_2e1d1fc5067645bc86cd26a34628ac5b",
              "IPY_MODEL_513357f88339474baee3b718d4aa8dbb"
            ]
          }
        },
        "6971801c736b4e12b51cf947357ce148": {
          "model_module": "@jupyter-widgets/base",
          "model_name": "LayoutModel",
          "state": {
            "_view_name": "LayoutView",
            "grid_template_rows": null,
            "right": null,
            "justify_content": null,
            "_view_module": "@jupyter-widgets/base",
            "overflow": null,
            "_model_module_version": "1.2.0",
            "_view_count": null,
            "flex_flow": null,
            "width": null,
            "min_width": null,
            "border": null,
            "align_items": null,
            "bottom": null,
            "_model_module": "@jupyter-widgets/base",
            "top": null,
            "grid_column": null,
            "overflow_y": null,
            "overflow_x": null,
            "grid_auto_flow": null,
            "grid_area": null,
            "grid_template_columns": null,
            "flex": null,
            "_model_name": "LayoutModel",
            "justify_items": null,
            "grid_row": null,
            "max_height": null,
            "align_content": null,
            "visibility": null,
            "align_self": null,
            "height": null,
            "min_height": null,
            "padding": null,
            "grid_auto_rows": null,
            "grid_gap": null,
            "max_width": null,
            "order": null,
            "_view_module_version": "1.2.0",
            "grid_template_areas": null,
            "object_position": null,
            "object_fit": null,
            "grid_auto_columns": null,
            "margin": null,
            "display": null,
            "left": null
          }
        },
        "2e1d1fc5067645bc86cd26a34628ac5b": {
          "model_module": "@jupyter-widgets/controls",
          "model_name": "FloatProgressModel",
          "state": {
            "_view_name": "ProgressView",
            "style": "IPY_MODEL_276d04714e5045d7ae8bdb9dc0b7a251",
            "_dom_classes": [],
            "description": " 36%",
            "_model_name": "FloatProgressModel",
            "bar_style": "danger",
            "max": 13368,
            "_view_module": "@jupyter-widgets/controls",
            "_model_module_version": "1.5.0",
            "value": 4832,
            "_view_count": null,
            "_view_module_version": "1.5.0",
            "orientation": "horizontal",
            "min": 0,
            "description_tooltip": null,
            "_model_module": "@jupyter-widgets/controls",
            "layout": "IPY_MODEL_5b2a4359e5c34402a3297a4d79ab40c3"
          }
        },
        "513357f88339474baee3b718d4aa8dbb": {
          "model_module": "@jupyter-widgets/controls",
          "model_name": "HTMLModel",
          "state": {
            "_view_name": "HTMLView",
            "style": "IPY_MODEL_56ac012c9daf42a5acf824b41f16f901",
            "_dom_classes": [],
            "description": "",
            "_model_name": "HTMLModel",
            "placeholder": "​",
            "_view_module": "@jupyter-widgets/controls",
            "_model_module_version": "1.5.0",
            "value": " 4832/13368 [00:00&lt;00:00, 48318.32 examples/s]",
            "_view_count": null,
            "_view_module_version": "1.5.0",
            "description_tooltip": null,
            "_model_module": "@jupyter-widgets/controls",
            "layout": "IPY_MODEL_b207bbec0aeb4b9aa2cb87c588b369d0"
          }
        },
        "276d04714e5045d7ae8bdb9dc0b7a251": {
          "model_module": "@jupyter-widgets/controls",
          "model_name": "ProgressStyleModel",
          "state": {
            "_view_name": "StyleView",
            "_model_name": "ProgressStyleModel",
            "description_width": "initial",
            "_view_module": "@jupyter-widgets/base",
            "_model_module_version": "1.5.0",
            "_view_count": null,
            "_view_module_version": "1.2.0",
            "bar_color": null,
            "_model_module": "@jupyter-widgets/controls"
          }
        },
        "5b2a4359e5c34402a3297a4d79ab40c3": {
          "model_module": "@jupyter-widgets/base",
          "model_name": "LayoutModel",
          "state": {
            "_view_name": "LayoutView",
            "grid_template_rows": null,
            "right": null,
            "justify_content": null,
            "_view_module": "@jupyter-widgets/base",
            "overflow": null,
            "_model_module_version": "1.2.0",
            "_view_count": null,
            "flex_flow": null,
            "width": null,
            "min_width": null,
            "border": null,
            "align_items": null,
            "bottom": null,
            "_model_module": "@jupyter-widgets/base",
            "top": null,
            "grid_column": null,
            "overflow_y": null,
            "overflow_x": null,
            "grid_auto_flow": null,
            "grid_area": null,
            "grid_template_columns": null,
            "flex": null,
            "_model_name": "LayoutModel",
            "justify_items": null,
            "grid_row": null,
            "max_height": null,
            "align_content": null,
            "visibility": null,
            "align_self": null,
            "height": null,
            "min_height": null,
            "padding": null,
            "grid_auto_rows": null,
            "grid_gap": null,
            "max_width": null,
            "order": null,
            "_view_module_version": "1.2.0",
            "grid_template_areas": null,
            "object_position": null,
            "object_fit": null,
            "grid_auto_columns": null,
            "margin": null,
            "display": null,
            "left": null
          }
        },
        "56ac012c9daf42a5acf824b41f16f901": {
          "model_module": "@jupyter-widgets/controls",
          "model_name": "DescriptionStyleModel",
          "state": {
            "_view_name": "StyleView",
            "_model_name": "DescriptionStyleModel",
            "description_width": "",
            "_view_module": "@jupyter-widgets/base",
            "_model_module_version": "1.5.0",
            "_view_count": null,
            "_view_module_version": "1.2.0",
            "_model_module": "@jupyter-widgets/controls"
          }
        },
        "b207bbec0aeb4b9aa2cb87c588b369d0": {
          "model_module": "@jupyter-widgets/base",
          "model_name": "LayoutModel",
          "state": {
            "_view_name": "LayoutView",
            "grid_template_rows": null,
            "right": null,
            "justify_content": null,
            "_view_module": "@jupyter-widgets/base",
            "overflow": null,
            "_model_module_version": "1.2.0",
            "_view_count": null,
            "flex_flow": null,
            "width": null,
            "min_width": null,
            "border": null,
            "align_items": null,
            "bottom": null,
            "_model_module": "@jupyter-widgets/base",
            "top": null,
            "grid_column": null,
            "overflow_y": null,
            "overflow_x": null,
            "grid_auto_flow": null,
            "grid_area": null,
            "grid_template_columns": null,
            "flex": null,
            "_model_name": "LayoutModel",
            "justify_items": null,
            "grid_row": null,
            "max_height": null,
            "align_content": null,
            "visibility": null,
            "align_self": null,
            "height": null,
            "min_height": null,
            "padding": null,
            "grid_auto_rows": null,
            "grid_gap": null,
            "max_width": null,
            "order": null,
            "_view_module_version": "1.2.0",
            "grid_template_areas": null,
            "object_position": null,
            "object_fit": null,
            "grid_auto_columns": null,
            "margin": null,
            "display": null,
            "left": null
          }
        },
        "049a6ac75a3e4a5e91d2b852e90e6c30": {
          "model_module": "@jupyter-widgets/controls",
          "model_name": "HBoxModel",
          "state": {
            "_view_name": "HBoxView",
            "_dom_classes": [],
            "_model_name": "HBoxModel",
            "_view_module": "@jupyter-widgets/controls",
            "_model_module_version": "1.5.0",
            "_view_count": null,
            "_view_module_version": "1.5.0",
            "box_style": "",
            "layout": "IPY_MODEL_e5724a1d93054c9bbad2b3e9505f187d",
            "_model_module": "@jupyter-widgets/controls",
            "children": [
              "IPY_MODEL_7ee38b0f7b5346909bb497f8482fb0b9",
              "IPY_MODEL_5fe30110c39e47198e0ac48684fb697e"
            ]
          }
        },
        "e5724a1d93054c9bbad2b3e9505f187d": {
          "model_module": "@jupyter-widgets/base",
          "model_name": "LayoutModel",
          "state": {
            "_view_name": "LayoutView",
            "grid_template_rows": null,
            "right": null,
            "justify_content": null,
            "_view_module": "@jupyter-widgets/base",
            "overflow": null,
            "_model_module_version": "1.2.0",
            "_view_count": null,
            "flex_flow": null,
            "width": null,
            "min_width": null,
            "border": null,
            "align_items": null,
            "bottom": null,
            "_model_module": "@jupyter-widgets/base",
            "top": null,
            "grid_column": null,
            "overflow_y": null,
            "overflow_x": null,
            "grid_auto_flow": null,
            "grid_area": null,
            "grid_template_columns": null,
            "flex": null,
            "_model_name": "LayoutModel",
            "justify_items": null,
            "grid_row": null,
            "max_height": null,
            "align_content": null,
            "visibility": null,
            "align_self": null,
            "height": null,
            "min_height": null,
            "padding": null,
            "grid_auto_rows": null,
            "grid_gap": null,
            "max_width": null,
            "order": null,
            "_view_module_version": "1.2.0",
            "grid_template_areas": null,
            "object_position": null,
            "object_fit": null,
            "grid_auto_columns": null,
            "margin": null,
            "display": null,
            "left": null
          }
        },
        "7ee38b0f7b5346909bb497f8482fb0b9": {
          "model_module": "@jupyter-widgets/controls",
          "model_name": "FloatProgressModel",
          "state": {
            "_view_name": "ProgressView",
            "style": "IPY_MODEL_3e30117a04024afbb12b1d354c6c18e2",
            "_dom_classes": [],
            "description": "",
            "_model_name": "FloatProgressModel",
            "bar_style": "info",
            "max": 1,
            "_view_module": "@jupyter-widgets/controls",
            "_model_module_version": "1.5.0",
            "value": 1,
            "_view_count": null,
            "_view_module_version": "1.5.0",
            "orientation": "horizontal",
            "min": 0,
            "description_tooltip": null,
            "_model_module": "@jupyter-widgets/controls",
            "layout": "IPY_MODEL_6ecff0e24a75438f9df4f19363874178"
          }
        },
        "5fe30110c39e47198e0ac48684fb697e": {
          "model_module": "@jupyter-widgets/controls",
          "model_name": "HTMLModel",
          "state": {
            "_view_name": "HTMLView",
            "style": "IPY_MODEL_225d94ad34ed43a7845c950798154f88",
            "_dom_classes": [],
            "description": "",
            "_model_name": "HTMLModel",
            "placeholder": "​",
            "_view_module": "@jupyter-widgets/controls",
            "_model_module_version": "1.5.0",
            "value": " 11490/0 [00:08&lt;00:00, 1481.49 examples/s]",
            "_view_count": null,
            "_view_module_version": "1.5.0",
            "description_tooltip": null,
            "_model_module": "@jupyter-widgets/controls",
            "layout": "IPY_MODEL_776ef1beaaa343c4ace854c481ec30db"
          }
        },
        "3e30117a04024afbb12b1d354c6c18e2": {
          "model_module": "@jupyter-widgets/controls",
          "model_name": "ProgressStyleModel",
          "state": {
            "_view_name": "StyleView",
            "_model_name": "ProgressStyleModel",
            "description_width": "initial",
            "_view_module": "@jupyter-widgets/base",
            "_model_module_version": "1.5.0",
            "_view_count": null,
            "_view_module_version": "1.2.0",
            "bar_color": null,
            "_model_module": "@jupyter-widgets/controls"
          }
        },
        "6ecff0e24a75438f9df4f19363874178": {
          "model_module": "@jupyter-widgets/base",
          "model_name": "LayoutModel",
          "state": {
            "_view_name": "LayoutView",
            "grid_template_rows": null,
            "right": null,
            "justify_content": null,
            "_view_module": "@jupyter-widgets/base",
            "overflow": null,
            "_model_module_version": "1.2.0",
            "_view_count": null,
            "flex_flow": null,
            "width": null,
            "min_width": null,
            "border": null,
            "align_items": null,
            "bottom": null,
            "_model_module": "@jupyter-widgets/base",
            "top": null,
            "grid_column": null,
            "overflow_y": null,
            "overflow_x": null,
            "grid_auto_flow": null,
            "grid_area": null,
            "grid_template_columns": null,
            "flex": null,
            "_model_name": "LayoutModel",
            "justify_items": null,
            "grid_row": null,
            "max_height": null,
            "align_content": null,
            "visibility": null,
            "align_self": null,
            "height": null,
            "min_height": null,
            "padding": null,
            "grid_auto_rows": null,
            "grid_gap": null,
            "max_width": null,
            "order": null,
            "_view_module_version": "1.2.0",
            "grid_template_areas": null,
            "object_position": null,
            "object_fit": null,
            "grid_auto_columns": null,
            "margin": null,
            "display": null,
            "left": null
          }
        },
        "225d94ad34ed43a7845c950798154f88": {
          "model_module": "@jupyter-widgets/controls",
          "model_name": "DescriptionStyleModel",
          "state": {
            "_view_name": "StyleView",
            "_model_name": "DescriptionStyleModel",
            "description_width": "",
            "_view_module": "@jupyter-widgets/base",
            "_model_module_version": "1.5.0",
            "_view_count": null,
            "_view_module_version": "1.2.0",
            "_model_module": "@jupyter-widgets/controls"
          }
        },
        "776ef1beaaa343c4ace854c481ec30db": {
          "model_module": "@jupyter-widgets/base",
          "model_name": "LayoutModel",
          "state": {
            "_view_name": "LayoutView",
            "grid_template_rows": null,
            "right": null,
            "justify_content": null,
            "_view_module": "@jupyter-widgets/base",
            "overflow": null,
            "_model_module_version": "1.2.0",
            "_view_count": null,
            "flex_flow": null,
            "width": null,
            "min_width": null,
            "border": null,
            "align_items": null,
            "bottom": null,
            "_model_module": "@jupyter-widgets/base",
            "top": null,
            "grid_column": null,
            "overflow_y": null,
            "overflow_x": null,
            "grid_auto_flow": null,
            "grid_area": null,
            "grid_template_columns": null,
            "flex": null,
            "_model_name": "LayoutModel",
            "justify_items": null,
            "grid_row": null,
            "max_height": null,
            "align_content": null,
            "visibility": null,
            "align_self": null,
            "height": null,
            "min_height": null,
            "padding": null,
            "grid_auto_rows": null,
            "grid_gap": null,
            "max_width": null,
            "order": null,
            "_view_module_version": "1.2.0",
            "grid_template_areas": null,
            "object_position": null,
            "object_fit": null,
            "grid_auto_columns": null,
            "margin": null,
            "display": null,
            "left": null
          }
        },
        "0508dbf52cd244529906cd468666fe0b": {
          "model_module": "@jupyter-widgets/controls",
          "model_name": "HBoxModel",
          "state": {
            "_view_name": "HBoxView",
            "_dom_classes": [],
            "_model_name": "HBoxModel",
            "_view_module": "@jupyter-widgets/controls",
            "_model_module_version": "1.5.0",
            "_view_count": null,
            "_view_module_version": "1.5.0",
            "box_style": "",
            "layout": "IPY_MODEL_f1944f394039458b98111ae7a3c9e572",
            "_model_module": "@jupyter-widgets/controls",
            "children": [
              "IPY_MODEL_452cfc3f371841c192ebc6a9e7f59e15",
              "IPY_MODEL_545d8841a8c5424dba4ebcedc16aba6a"
            ]
          }
        },
        "f1944f394039458b98111ae7a3c9e572": {
          "model_module": "@jupyter-widgets/base",
          "model_name": "LayoutModel",
          "state": {
            "_view_name": "LayoutView",
            "grid_template_rows": null,
            "right": null,
            "justify_content": null,
            "_view_module": "@jupyter-widgets/base",
            "overflow": null,
            "_model_module_version": "1.2.0",
            "_view_count": null,
            "flex_flow": null,
            "width": null,
            "min_width": null,
            "border": null,
            "align_items": null,
            "bottom": null,
            "_model_module": "@jupyter-widgets/base",
            "top": null,
            "grid_column": null,
            "overflow_y": null,
            "overflow_x": null,
            "grid_auto_flow": null,
            "grid_area": null,
            "grid_template_columns": null,
            "flex": null,
            "_model_name": "LayoutModel",
            "justify_items": null,
            "grid_row": null,
            "max_height": null,
            "align_content": null,
            "visibility": null,
            "align_self": null,
            "height": null,
            "min_height": null,
            "padding": null,
            "grid_auto_rows": null,
            "grid_gap": null,
            "max_width": null,
            "order": null,
            "_view_module_version": "1.2.0",
            "grid_template_areas": null,
            "object_position": null,
            "object_fit": null,
            "grid_auto_columns": null,
            "margin": null,
            "display": null,
            "left": null
          }
        },
        "452cfc3f371841c192ebc6a9e7f59e15": {
          "model_module": "@jupyter-widgets/controls",
          "model_name": "FloatProgressModel",
          "state": {
            "_view_name": "ProgressView",
            "style": "IPY_MODEL_3b0935ad19154bf18f8e768948c7705b",
            "_dom_classes": [],
            "description": " 52%",
            "_model_name": "FloatProgressModel",
            "bar_style": "danger",
            "max": 11490,
            "_view_module": "@jupyter-widgets/controls",
            "_model_module_version": "1.5.0",
            "value": 5959,
            "_view_count": null,
            "_view_module_version": "1.5.0",
            "orientation": "horizontal",
            "min": 0,
            "description_tooltip": null,
            "_model_module": "@jupyter-widgets/controls",
            "layout": "IPY_MODEL_76ed4158f69d4f19967f803d0349d631"
          }
        },
        "545d8841a8c5424dba4ebcedc16aba6a": {
          "model_module": "@jupyter-widgets/controls",
          "model_name": "HTMLModel",
          "state": {
            "_view_name": "HTMLView",
            "style": "IPY_MODEL_8edfca41a3d647b78940b522460a905f",
            "_dom_classes": [],
            "description": "",
            "_model_name": "HTMLModel",
            "placeholder": "​",
            "_view_module": "@jupyter-widgets/controls",
            "_model_module_version": "1.5.0",
            "value": " 5959/11490 [00:00&lt;00:00, 59589.63 examples/s]",
            "_view_count": null,
            "_view_module_version": "1.5.0",
            "description_tooltip": null,
            "_model_module": "@jupyter-widgets/controls",
            "layout": "IPY_MODEL_466751ada08c4327ada022b6383d893f"
          }
        },
        "3b0935ad19154bf18f8e768948c7705b": {
          "model_module": "@jupyter-widgets/controls",
          "model_name": "ProgressStyleModel",
          "state": {
            "_view_name": "StyleView",
            "_model_name": "ProgressStyleModel",
            "description_width": "initial",
            "_view_module": "@jupyter-widgets/base",
            "_model_module_version": "1.5.0",
            "_view_count": null,
            "_view_module_version": "1.2.0",
            "bar_color": null,
            "_model_module": "@jupyter-widgets/controls"
          }
        },
        "76ed4158f69d4f19967f803d0349d631": {
          "model_module": "@jupyter-widgets/base",
          "model_name": "LayoutModel",
          "state": {
            "_view_name": "LayoutView",
            "grid_template_rows": null,
            "right": null,
            "justify_content": null,
            "_view_module": "@jupyter-widgets/base",
            "overflow": null,
            "_model_module_version": "1.2.0",
            "_view_count": null,
            "flex_flow": null,
            "width": null,
            "min_width": null,
            "border": null,
            "align_items": null,
            "bottom": null,
            "_model_module": "@jupyter-widgets/base",
            "top": null,
            "grid_column": null,
            "overflow_y": null,
            "overflow_x": null,
            "grid_auto_flow": null,
            "grid_area": null,
            "grid_template_columns": null,
            "flex": null,
            "_model_name": "LayoutModel",
            "justify_items": null,
            "grid_row": null,
            "max_height": null,
            "align_content": null,
            "visibility": null,
            "align_self": null,
            "height": null,
            "min_height": null,
            "padding": null,
            "grid_auto_rows": null,
            "grid_gap": null,
            "max_width": null,
            "order": null,
            "_view_module_version": "1.2.0",
            "grid_template_areas": null,
            "object_position": null,
            "object_fit": null,
            "grid_auto_columns": null,
            "margin": null,
            "display": null,
            "left": null
          }
        },
        "8edfca41a3d647b78940b522460a905f": {
          "model_module": "@jupyter-widgets/controls",
          "model_name": "DescriptionStyleModel",
          "state": {
            "_view_name": "StyleView",
            "_model_name": "DescriptionStyleModel",
            "description_width": "",
            "_view_module": "@jupyter-widgets/base",
            "_model_module_version": "1.5.0",
            "_view_count": null,
            "_view_module_version": "1.2.0",
            "_model_module": "@jupyter-widgets/controls"
          }
        },
        "466751ada08c4327ada022b6383d893f": {
          "model_module": "@jupyter-widgets/base",
          "model_name": "LayoutModel",
          "state": {
            "_view_name": "LayoutView",
            "grid_template_rows": null,
            "right": null,
            "justify_content": null,
            "_view_module": "@jupyter-widgets/base",
            "overflow": null,
            "_model_module_version": "1.2.0",
            "_view_count": null,
            "flex_flow": null,
            "width": null,
            "min_width": null,
            "border": null,
            "align_items": null,
            "bottom": null,
            "_model_module": "@jupyter-widgets/base",
            "top": null,
            "grid_column": null,
            "overflow_y": null,
            "overflow_x": null,
            "grid_auto_flow": null,
            "grid_area": null,
            "grid_template_columns": null,
            "flex": null,
            "_model_name": "LayoutModel",
            "justify_items": null,
            "grid_row": null,
            "max_height": null,
            "align_content": null,
            "visibility": null,
            "align_self": null,
            "height": null,
            "min_height": null,
            "padding": null,
            "grid_auto_rows": null,
            "grid_gap": null,
            "max_width": null,
            "order": null,
            "_view_module_version": "1.2.0",
            "grid_template_areas": null,
            "object_position": null,
            "object_fit": null,
            "grid_auto_columns": null,
            "margin": null,
            "display": null,
            "left": null
          }
        }
      }
    }
  },
  "cells": [
    {
      "cell_type": "markdown",
      "metadata": {
        "id": "kWSqxyxOTLib"
      },
      "source": [
        "### Extrative text summarization using Graphical representation "
      ]
    },
    {
      "cell_type": "code",
      "metadata": {
        "colab": {
          "base_uri": "https://localhost:8080/"
        },
        "id": "7MciMpoRqfCd",
        "outputId": "392a2e48-25e6-442b-c8ae-a4c868357ca1"
      },
      "source": [
        "import numpy as np\r\n",
        "import pandas as pd\r\n",
        "import nltk\r\n",
        "nltk.download('punkt')\r\n",
        "import re\r\n",
        "from nltk.tokenize import sent_tokenize\r\n",
        "from nltk.corpus import stopwords\r\n",
        "from sklearn.metrics.pairwise import cosine_similarity\r\n",
        "import matplotlib.pyplot as plt"
      ],
      "execution_count": 150,
      "outputs": [
        {
          "output_type": "stream",
          "text": [
            "[nltk_data] Downloading package punkt to /root/nltk_data...\n",
            "[nltk_data]   Package punkt is already up-to-date!\n"
          ],
          "name": "stdout"
        }
      ]
    },
    {
      "cell_type": "markdown",
      "metadata": {
        "id": "O8RmD_iNTime"
      },
      "source": [
        "## Dataset\r\n",
        "Scraped articles regarding Tennis matches\r\n",
        "\r\n",
        "\r\n"
      ]
    },
    {
      "cell_type": "code",
      "metadata": {
        "id": "Fxv1ZVNLqgtd"
      },
      "source": [
        "df = pd.read_excel(\"/content/tennis_articles.xlsx\")\r\n",
        "df.drop([\"source\"], axis=1, inplace=True)"
      ],
      "execution_count": 151,
      "outputs": []
    },
    {
      "cell_type": "code",
      "metadata": {
        "colab": {
          "base_uri": "https://localhost:8080/",
          "height": 204
        },
        "id": "Ru_Y42m3q0id",
        "outputId": "3ecf4632-c6b9-4e40-af3c-8e2ea37511bf"
      },
      "source": [
        "df.head()"
      ],
      "execution_count": 152,
      "outputs": [
        {
          "output_type": "execute_result",
          "data": {
            "text/html": [
              "<div>\n",
              "<style scoped>\n",
              "    .dataframe tbody tr th:only-of-type {\n",
              "        vertical-align: middle;\n",
              "    }\n",
              "\n",
              "    .dataframe tbody tr th {\n",
              "        vertical-align: top;\n",
              "    }\n",
              "\n",
              "    .dataframe thead th {\n",
              "        text-align: right;\n",
              "    }\n",
              "</style>\n",
              "<table border=\"1\" class=\"dataframe\">\n",
              "  <thead>\n",
              "    <tr style=\"text-align: right;\">\n",
              "      <th></th>\n",
              "      <th>article_id</th>\n",
              "      <th>article_title</th>\n",
              "      <th>article_text</th>\n",
              "    </tr>\n",
              "  </thead>\n",
              "  <tbody>\n",
              "    <tr>\n",
              "      <th>0</th>\n",
              "      <td>1</td>\n",
              "      <td>I do not have friends in tennis, says Maria Sh...</td>\n",
              "      <td>Maria Sharapova has basically no friends as te...</td>\n",
              "    </tr>\n",
              "    <tr>\n",
              "      <th>1</th>\n",
              "      <td>2</td>\n",
              "      <td>Federer defeats Medvedev to advance to 14th Sw...</td>\n",
              "      <td>BASEL, Switzerland (AP) — Roger Federer advanc...</td>\n",
              "    </tr>\n",
              "    <tr>\n",
              "      <th>2</th>\n",
              "      <td>3</td>\n",
              "      <td>Tennis: Roger Federer ignored deadline set by ...</td>\n",
              "      <td>Roger Federer has revealed that organisers of ...</td>\n",
              "    </tr>\n",
              "    <tr>\n",
              "      <th>3</th>\n",
              "      <td>4</td>\n",
              "      <td>Nishikori to face off against Anderson in Vien...</td>\n",
              "      <td>Kei Nishikori will try to end his long losing ...</td>\n",
              "    </tr>\n",
              "    <tr>\n",
              "      <th>4</th>\n",
              "      <td>5</td>\n",
              "      <td>Roger Federer has made this huge change to ten...</td>\n",
              "      <td>Federer, 37, first broke through on tour over ...</td>\n",
              "    </tr>\n",
              "  </tbody>\n",
              "</table>\n",
              "</div>"
            ],
            "text/plain": [
              "   article_id  ...                                       article_text\n",
              "0           1  ...  Maria Sharapova has basically no friends as te...\n",
              "1           2  ...  BASEL, Switzerland (AP) — Roger Federer advanc...\n",
              "2           3  ...  Roger Federer has revealed that organisers of ...\n",
              "3           4  ...  Kei Nishikori will try to end his long losing ...\n",
              "4           5  ...  Federer, 37, first broke through on tour over ...\n",
              "\n",
              "[5 rows x 3 columns]"
            ]
          },
          "metadata": {
            "tags": []
          },
          "execution_count": 152
        }
      ]
    },
    {
      "cell_type": "markdown",
      "metadata": {
        "id": "YLmISwWXU0-K"
      },
      "source": [
        "Below, we are extracting sentences from the data to check similarity among them."
      ]
    },
    {
      "cell_type": "code",
      "metadata": {
        "id": "CK7uw5lzsoXE"
      },
      "source": [
        "sentences = []\r\n",
        "for s in df['article_text']:\r\n",
        "    sent = sent_tokenize(s)\r\n",
        "    sentences.append(sent)\r\n",
        "\r\n",
        "sentences = [y for x in sentences for y in x] # flatten list"
      ],
      "execution_count": 154,
      "outputs": []
    },
    {
      "cell_type": "code",
      "metadata": {
        "colab": {
          "base_uri": "https://localhost:8080/"
        },
        "id": "-imNYGIkyxBW",
        "outputId": "410f96c4-090c-440d-b9c6-a8403f4bf5a2"
      },
      "source": [
        "sentences[0:3]"
      ],
      "execution_count": 156,
      "outputs": [
        {
          "output_type": "execute_result",
          "data": {
            "text/plain": [
              "['Maria Sharapova has basically no friends as tennis players on the WTA Tour.',\n",
              " \"The Russian player has no problems in openly speaking about it and in a recent interview she said: 'I don't really hide any feelings too much.\",\n",
              " 'I think everyone knows this is my job here.']"
            ]
          },
          "metadata": {
            "tags": []
          },
          "execution_count": 156
        }
      ]
    },
    {
      "cell_type": "markdown",
      "metadata": {
        "id": "J6fnP3XwVJcB"
      },
      "source": [
        "##Word Embeddings\r\n"
      ]
    },
    {
      "cell_type": "code",
      "metadata": {
        "colab": {
          "base_uri": "https://localhost:8080/"
        },
        "id": "sGDBSLfwygr5",
        "outputId": "70e1b6b8-32ca-4184-bf88-f20f6fee66b3"
      },
      "source": [
        "!wget http://nlp.stanford.edu/data/glove.6B.zip\r\n",
        "!unzip glove*.zip"
      ],
      "execution_count": null,
      "outputs": [
        {
          "output_type": "stream",
          "text": [
            "--2021-01-12 08:56:59--  http://nlp.stanford.edu/data/glove.6B.zip\n",
            "Resolving nlp.stanford.edu (nlp.stanford.edu)... 171.64.67.140\n",
            "Connecting to nlp.stanford.edu (nlp.stanford.edu)|171.64.67.140|:80... connected.\n",
            "HTTP request sent, awaiting response... 302 Found\n",
            "Location: https://nlp.stanford.edu/data/glove.6B.zip [following]\n",
            "--2021-01-12 08:57:00--  https://nlp.stanford.edu/data/glove.6B.zip\n",
            "Connecting to nlp.stanford.edu (nlp.stanford.edu)|171.64.67.140|:443... connected.\n",
            "HTTP request sent, awaiting response... 301 Moved Permanently\n",
            "Location: http://downloads.cs.stanford.edu/nlp/data/glove.6B.zip [following]\n",
            "--2021-01-12 08:57:00--  http://downloads.cs.stanford.edu/nlp/data/glove.6B.zip\n",
            "Resolving downloads.cs.stanford.edu (downloads.cs.stanford.edu)... 171.64.64.22\n",
            "Connecting to downloads.cs.stanford.edu (downloads.cs.stanford.edu)|171.64.64.22|:80... connected.\n",
            "HTTP request sent, awaiting response... 200 OK\n",
            "Length: 862182613 (822M) [application/zip]\n",
            "Saving to: ‘glove.6B.zip’\n",
            "\n",
            "glove.6B.zip        100%[===================>] 822.24M  1.80MB/s    in 6m 30s  \n",
            "\n",
            "2021-01-12 09:03:31 (2.11 MB/s) - ‘glove.6B.zip’ saved [862182613/862182613]\n",
            "\n",
            "Archive:  glove.6B.zip\n",
            "  inflating: glove.6B.50d.txt        \n",
            "  inflating: glove.6B.100d.txt       \n",
            "  inflating: glove.6B.200d.txt       \n",
            "  inflating: glove.6B.300d.txt       \n"
          ],
          "name": "stdout"
        }
      ]
    },
    {
      "cell_type": "code",
      "metadata": {
        "id": "EfGxINlT0AZR"
      },
      "source": [
        "word_embeddings = {}\r\n",
        "f = open('glove.6B.100d.txt', encoding='utf-8')\r\n",
        "for line in f:\r\n",
        "    values = line.split()\r\n",
        "    word = values[0]\r\n",
        "    coefs = np.asarray(values[1:], dtype='float32')\r\n",
        "    word_embeddings[word] = coefs\r\n",
        "f.close()\r\n",
        "\r\n",
        "sent1 =\"umar is going to school\"\r\n",
        "sent2  =\"ali is going to home\"\r\n",
        "\r\n",
        "# vocab = {\r\n",
        "#     \"umar\":0,\r\n",
        "#  \"is\": 1\r\n",
        "#  \"going\": 2\r\n",
        "#  \"to\": 3\r\n",
        "#  \"school\": 4\r\n",
        "#  \"ali\": 5\r\n",
        "#  \"home\": 6\r\n",
        "# }\r\n",
        "\r\n",
        "# sent1 = [0, 1, 2, 3, 5]\r\n",
        "# sent2 = [5, 1, 2, 3, 6]\r\n",
        "\r\n",
        "# [1, 1, 0.5, 0.9, 0.6, 0]\r\n",
        "\r\n",
        "# [0, 1, 1, 1, 1, 0]"
      ],
      "execution_count": 159,
      "outputs": []
    },
    {
      "cell_type": "code",
      "metadata": {
        "colab": {
          "base_uri": "https://localhost:8080/"
        },
        "id": "tGjUPw3_0K3A",
        "outputId": "0861a449-4a79-4206-f62e-49300430db65"
      },
      "source": [
        "len(word_embeddings)"
      ],
      "execution_count": 158,
      "outputs": [
        {
          "output_type": "execute_result",
          "data": {
            "text/plain": [
              "400000"
            ]
          },
          "metadata": {
            "tags": []
          },
          "execution_count": 158
        }
      ]
    },
    {
      "cell_type": "markdown",
      "metadata": {
        "id": "-P6eu2C6VWNo"
      },
      "source": [
        "#### Dataset Preprocessing"
      ]
    },
    {
      "cell_type": "code",
      "metadata": {
        "id": "1bA7RG9A0LT-"
      },
      "source": [
        "# remove punctuations, numbers and special characters\r\n",
        "clean_sentences = pd.Series(sentences).str.replace(\"[^a-zA-Z]\", \" \")\r\n",
        "\r\n",
        "# make alphabets lowercase\r\n",
        "clean_sentences = [s.lower() for s in clean_sentences]"
      ],
      "execution_count": 160,
      "outputs": []
    },
    {
      "cell_type": "code",
      "metadata": {
        "colab": {
          "base_uri": "https://localhost:8080/"
        },
        "id": "QmTy4F5s0PFN",
        "outputId": "fc8998ac-f9f7-4f1c-b1c6-1504c0635db2"
      },
      "source": [
        "nltk.download('stopwords')"
      ],
      "execution_count": 161,
      "outputs": [
        {
          "output_type": "stream",
          "text": [
            "[nltk_data] Downloading package stopwords to /root/nltk_data...\n",
            "[nltk_data]   Package stopwords is already up-to-date!\n"
          ],
          "name": "stdout"
        },
        {
          "output_type": "execute_result",
          "data": {
            "text/plain": [
              "True"
            ]
          },
          "metadata": {
            "tags": []
          },
          "execution_count": 161
        }
      ]
    },
    {
      "cell_type": "code",
      "metadata": {
        "id": "h5Dy5BS00PvP"
      },
      "source": [
        "stop_words = stopwords.words('english')"
      ],
      "execution_count": 162,
      "outputs": []
    },
    {
      "cell_type": "code",
      "metadata": {
        "id": "ddOgjLDz0PyI"
      },
      "source": [
        "# function to remove stopwords\r\n",
        "def remove_stopwords(sen):\r\n",
        "    sen_new = \" \".join([i for i in sen if i not in stop_words])\r\n",
        "    return sen_new"
      ],
      "execution_count": 163,
      "outputs": []
    },
    {
      "cell_type": "code",
      "metadata": {
        "id": "i6w3dl-j0UHQ"
      },
      "source": [
        "# remove stopwords from the sentences\r\n",
        "clean_sentences = [remove_stopwords(r.split()) for r in clean_sentences]"
      ],
      "execution_count": 164,
      "outputs": []
    },
    {
      "cell_type": "code",
      "metadata": {
        "id": "dFYQhBLq0P1O"
      },
      "source": [
        "sentence_vectors = []\r\n",
        "for i in clean_sentences:\r\n",
        "  if len(i) != 0:\r\n",
        "    v = sum([word_embeddings.get(w, np.zeros((100,))) for w in i.split()])/(len(i.split())+0.001)\r\n",
        "  else:\r\n",
        "    v = np.zeros((100,))\r\n",
        "  sentence_vectors.append(v)"
      ],
      "execution_count": 165,
      "outputs": []
    },
    {
      "cell_type": "code",
      "metadata": {
        "colab": {
          "base_uri": "https://localhost:8080/"
        },
        "id": "cR12E0N32d6u",
        "outputId": "5f5c452f-6b76-479d-f92d-6b41ca38ce65"
      },
      "source": [
        "len(sentences)"
      ],
      "execution_count": 166,
      "outputs": [
        {
          "output_type": "execute_result",
          "data": {
            "text/plain": [
              "130"
            ]
          },
          "metadata": {
            "tags": []
          },
          "execution_count": 166
        }
      ]
    },
    {
      "cell_type": "code",
      "metadata": {
        "id": "Lzoiyt-i0Z82"
      },
      "source": [
        "# similarity matrix\r\n",
        "sim_mat = np.zeros([len(sentences), len(sentences)])"
      ],
      "execution_count": 167,
      "outputs": []
    },
    {
      "cell_type": "code",
      "metadata": {
        "id": "SUiHXSxF0aRw"
      },
      "source": [
        "for i in range(len(sentences)):\r\n",
        "  for j in range(len(sentences)):\r\n",
        "    if i != j:\r\n",
        "      sim_mat[i][j] = cosine_similarity(sentence_vectors[i].reshape(1,100), sentence_vectors[j].reshape(1,100))[0,0]"
      ],
      "execution_count": 171,
      "outputs": []
    },
    {
      "cell_type": "code",
      "metadata": {
        "id": "oxiBPaI5LJ0V"
      },
      "source": [
        "sim_mat[sim_mat>0.8] =1\r\n",
        "sim_mat[sim_mat<=0.8] =0"
      ],
      "execution_count": 173,
      "outputs": []
    },
    {
      "cell_type": "code",
      "metadata": {
        "colab": {
          "base_uri": "https://localhost:8080/"
        },
        "id": "Z4lTv7alNmkO",
        "outputId": "90337763-9f91-423b-d7e5-775445e3d76c"
      },
      "source": [
        "sim_mat[:10,:10]"
      ],
      "execution_count": 174,
      "outputs": [
        {
          "output_type": "execute_result",
          "data": {
            "text/plain": [
              "array([[0., 0., 0., 0., 0., 0., 0., 0., 0., 0.],\n",
              "       [0., 0., 1., 1., 1., 0., 1., 1., 1., 1.],\n",
              "       [0., 1., 0., 1., 0., 0., 0., 0., 1., 1.],\n",
              "       [0., 1., 1., 0., 1., 0., 1., 1., 1., 1.],\n",
              "       [0., 1., 0., 1., 0., 0., 0., 1., 1., 1.],\n",
              "       [0., 0., 0., 0., 0., 0., 0., 0., 0., 0.],\n",
              "       [0., 1., 0., 1., 0., 0., 0., 1., 1., 1.],\n",
              "       [0., 1., 0., 1., 1., 0., 1., 0., 1., 1.],\n",
              "       [0., 1., 1., 1., 1., 0., 1., 1., 0., 1.],\n",
              "       [0., 1., 1., 1., 1., 0., 1., 1., 1., 0.]])"
            ]
          },
          "metadata": {
            "tags": []
          },
          "execution_count": 174
        }
      ]
    },
    {
      "cell_type": "code",
      "metadata": {
        "id": "qVWfKtsqLoyS"
      },
      "source": [
        "graph = nx.Graph()\r\n",
        "graph = nx.from_numpy_array(sim_mat)\r\n",
        "scores = nx.pagerank(graph)"
      ],
      "execution_count": 175,
      "outputs": []
    },
    {
      "cell_type": "code",
      "metadata": {
        "colab": {
          "base_uri": "https://localhost:8080/",
          "height": 466
        },
        "id": "6JbPtx2aLzpa",
        "outputId": "5526099e-f5c3-4e73-fb8f-c2f540a32b63"
      },
      "source": [
        "fig = plt.figure(figsize = (8,8))\r\n",
        "nx.draw_networkx(graph, with_labels = True, node_size = 300)"
      ],
      "execution_count": 176,
      "outputs": [
        {
          "output_type": "display_data",
          "data": {
            "image/png": "[encoded data removed]",
            "text/plain": [
              "<Figure size 576x576 with 1 Axes>"
            ]
          },
          "metadata": {
            "tags": []
          }
        }
      ]
    },
    {
      "cell_type": "code",
      "metadata": {
        "id": "CYOonxytMXUB"
      },
      "source": [
        "nx.write_graphml(graph,\"graph2.graphml\")"
      ],
      "execution_count": 131,
      "outputs": []
    },
    {
      "cell_type": "code",
      "metadata": {
        "colab": {
          "base_uri": "https://localhost:8080/",
          "height": 35
        },
        "id": "4obMTO60Mqug",
        "outputId": "c830715e-94f9-4716-fd0b-af24fcde8cd1"
      },
      "source": [
        "nx.info(graph)"
      ],
      "execution_count": 177,
      "outputs": [
        {
          "output_type": "execute_result",
          "data": {
            "application/vnd.google.colaboratory.intrinsic+json": {
              "type": "string"
            },
            "text/plain": [
              "'Name: \\nType: Graph\\nNumber of nodes: 130\\nNumber of edges: 3070\\nAverage degree:  47.2308'"
            ]
          },
          "metadata": {
            "tags": []
          },
          "execution_count": 177
        }
      ]
    },
    {
      "cell_type": "code",
      "metadata": {
        "id": "J9jbBahO0iU3"
      },
      "source": [
        "ranked_sentences = ((scores[i], s) for i, s in enumerate(sentences))\r\n",
        "ranked_sentences = sorted(ranked_sentences, reverse=True)"
      ],
      "execution_count": 178,
      "outputs": []
    },
    {
      "cell_type": "markdown",
      "metadata": {
        "id": "DaaHL5TpddEA"
      },
      "source": [
        "### Extract top top k sentences as the summary"
      ]
    },
    {
      "cell_type": "code",
      "metadata": {
        "colab": {
          "base_uri": "https://localhost:8080/"
        },
        "id": "YWwLj95d0kRG",
        "outputId": "f2d876bc-df83-4299-bcc0-ebfe89d68ec2"
      },
      "source": [
        "top_k = 3\r\n",
        "\r\n",
        "for i in range(top_k):\r\n",
        "  print(ranked_sentences[i][1])"
      ],
      "execution_count": 179,
      "outputs": [
        {
          "output_type": "stream",
          "text": [
            "“I was on a nice trajectorythen,” Reid recalled.“If I hadn’t got sick, I think I could have started pushing towards the second week at the slams and then who knows.” Duringa comeback attempt some five years later, Reid added Bernard Tomic and 2018 US Open Federer slayer John Millman to his list of career scalps.\n",
            "Exhausted after spending half his round deep in the bushes searching for my ball, as well as those of two other golfers he’d never met before, our incredibly giving designated driver asked if we didn’t mind going straight home after signing off so he could rest up a little before heading to work.\n",
            "The former Wimbledon junior champion was full of hope, excited about getting his life back together after a troubled few years and a touch-and-go battle with pancreatitis.\n"
          ],
          "name": "stdout"
        }
      ]
    },
    {
      "cell_type": "markdown",
      "metadata": {
        "id": "3R55VBZQdqS5"
      },
      "source": [
        "### CNN-DM dataset"
      ]
    },
    {
      "cell_type": "code",
      "metadata": {
        "colab": {
          "base_uri": "https://localhost:8080/",
          "height": 430,
          "referenced_widgets": [
            "ae296dc01518438a8f797499ba9a5909",
            "6af7300fc539412bba983b23eda9687a",
            "1d32fdc1f0cd46ba9807211f778e6c7e",
            "8bdbe049bd214c5c88d01e9aa3d8a0a2",
            "5a39ee0072c54f2b9624b769d06c487d",
            "2fea763a87f84cdd8749afb019cb5500",
            "cc03af2d251d47f480560d4a5ed20b2f",
            "3460e1a149e74eda989fe1a0a6ce32a3",
            "77d4ea2e10e84c5885539c40f7185ac1",
            "c45f50962d354f1fb6d0a690d8b151a4",
            "6473206b157f44458e0900f34940a16d",
            "1718894966ce492482e7b12a1b4004df",
            "b359be01c12c4743b4944cb75f4eb65d",
            "4357892490b64f5687b6acda931dd151",
            "7eb00c7a41b446b7b69c67ec3add6d6a",
            "b1929ea50c114c0a813a86384f1909eb",
            "6c4e19c832924af982bc30f6d96f1f2f",
            "975b452baf284a8d93f32848e7f0cd44",
            "aea367baea67462d80562aa5c4eaea25",
            "00521ca99a394bd69d4521ed229895d0",
            "04359122945544a1961bc7c2aefb5c64",
            "4d921717c3364b7da15c89829a05b2e0",
            "828d3a11c3ed4fb58cf66c7505b6eba7",
            "5aed460520d2416fbbf66a2e31efe460",
            "294f780e3f724500981902e540d89c6a",
            "53519079a559499aabc1ea1f1d1d6787",
            "86e16daa03a7479d89188b92f86f2011",
            "cc9325b65d5446129ac20301a6398ac0",
            "2987bde761874aa29e2284e807b6eada",
            "c97370ed5cba4426b838aa90eaad6991",
            "cb4d09506266415cabbf27952350884c",
            "49a2a5f892524f2b8af42f2976a31b37",
            "2493c59adad54860a82677f174c5541b",
            "d10a67d5a505418ca7a522ab556dd259",
            "6a897d9636f548d1bfd743e02c4234e4",
            "765cb735ba2b4b3588c707ebb94316a0",
            "271e226a06b14991ac58ebf3541f17e1",
            "580bc3883e89432da10918c9ab971fc7",
            "0529e9b734ad4cd89916d129c0b531af",
            "700017f800844baeb71bfc4f4ac18878",
            "c374775c55a74d1fa4b1c57bb4f7bd04",
            "c4fcd8f210dd43509311d21dcb181c2f",
            "dfbbb630bde34654a8449a30109f905a",
            "bb38da59ceda4a9587666aa5377bb1b6",
            "1ef75eba1c9d4c7ca68d7ca4826a83f0",
            "9d06ec3dba7c483bab75e81703000d96",
            "cad4af0a31a84f23a809e015933aef66",
            "c7e6c60871a54bea9fd4a711465fcb41",
            "4f9cc46209a0406ebf764b6013100561",
            "6971801c736b4e12b51cf947357ce148",
            "2e1d1fc5067645bc86cd26a34628ac5b",
            "513357f88339474baee3b718d4aa8dbb",
            "276d04714e5045d7ae8bdb9dc0b7a251",
            "5b2a4359e5c34402a3297a4d79ab40c3",
            "56ac012c9daf42a5acf824b41f16f901",
            "b207bbec0aeb4b9aa2cb87c588b369d0",
            "049a6ac75a3e4a5e91d2b852e90e6c30",
            "e5724a1d93054c9bbad2b3e9505f187d",
            "7ee38b0f7b5346909bb497f8482fb0b9",
            "5fe30110c39e47198e0ac48684fb697e",
            "3e30117a04024afbb12b1d354c6c18e2",
            "6ecff0e24a75438f9df4f19363874178",
            "225d94ad34ed43a7845c950798154f88",
            "776ef1beaaa343c4ace854c481ec30db",
            "0508dbf52cd244529906cd468666fe0b",
            "f1944f394039458b98111ae7a3c9e572",
            "452cfc3f371841c192ebc6a9e7f59e15",
            "545d8841a8c5424dba4ebcedc16aba6a",
            "3b0935ad19154bf18f8e768948c7705b",
            "76ed4158f69d4f19967f803d0349d631",
            "8edfca41a3d647b78940b522460a905f",
            "466751ada08c4327ada022b6383d893f"
          ]
        },
        "id": "52I6sUio5nLW",
        "outputId": "53c78f5d-e567-47e7-f1f7-7fde747775a4"
      },
      "source": [
        "cnn_dm = tfds.load(\"CnnDailymail\", split='train', shuffle_files=True)"
      ],
      "execution_count": null,
      "outputs": [
        {
          "output_type": "stream",
          "text": [
            "\u001b[1mDownloading and preparing dataset cnn_dailymail/plain_text/3.0.0 (download: 558.32 MiB, generated: 1.27 GiB, total: 1.82 GiB) to /root/tensorflow_datasets/cnn_dailymail/plain_text/3.0.0...\u001b[0m\n"
          ],
          "name": "stdout"
        },
        {
          "output_type": "display_data",
          "data": {
            "application/vnd.jupyter.widget-view+json": {
              "model_id": "ae296dc01518438a8f797499ba9a5909",
              "version_minor": 0,
              "version_major": 2
            },
            "text/plain": [
              "HBox(children=(FloatProgress(value=1.0, bar_style='info', description='Dl Completed...', max=1.0, style=Progre…"
            ]
          },
          "metadata": {
            "tags": []
          }
        },
        {
          "output_type": "display_data",
          "data": {
            "application/vnd.jupyter.widget-view+json": {
              "model_id": "77d4ea2e10e84c5885539c40f7185ac1",
              "version_minor": 0,
              "version_major": 2
            },
            "text/plain": [
              "HBox(children=(FloatProgress(value=1.0, bar_style='info', description='Dl Size...', max=1.0, style=ProgressSty…"
            ]
          },
          "metadata": {
            "tags": []
          }
        },
        {
          "output_type": "display_data",
          "data": {
            "application/vnd.jupyter.widget-view+json": {
              "model_id": "6c4e19c832924af982bc30f6d96f1f2f",
              "version_minor": 0,
              "version_major": 2
            },
            "text/plain": [
              "HBox(children=(FloatProgress(value=1.0, bar_style='info', description='Extraction completed...', max=1.0, styl…"
            ]
          },
          "metadata": {
            "tags": []
          }
        },
        {
          "output_type": "stream",
          "text": [
            "\n",
            "\n",
            "\n",
            "\n",
            "\n",
            "\n"
          ],
          "name": "stdout"
        },
        {
          "output_type": "display_data",
          "data": {
            "application/vnd.jupyter.widget-view+json": {
              "model_id": "294f780e3f724500981902e540d89c6a",
              "version_minor": 0,
              "version_major": 2
            },
            "text/plain": [
              "HBox(children=(FloatProgress(value=1.0, bar_style='info', max=1.0), HTML(value='')))"
            ]
          },
          "metadata": {
            "tags": []
          }
        },
        {
          "output_type": "stream",
          "text": [
            "\rShuffling and writing examples to /root/tensorflow_datasets/cnn_dailymail/plain_text/3.0.0.incompleteJU910H/cnn_dailymail-train.tfrecord\n"
          ],
          "name": "stdout"
        },
        {
          "output_type": "display_data",
          "data": {
            "application/vnd.jupyter.widget-view+json": {
              "model_id": "2493c59adad54860a82677f174c5541b",
              "version_minor": 0,
              "version_major": 2
            },
            "text/plain": [
              "HBox(children=(FloatProgress(value=0.0, max=287113.0), HTML(value='')))"
            ]
          },
          "metadata": {
            "tags": []
          }
        },
        {
          "output_type": "display_data",
          "data": {
            "application/vnd.jupyter.widget-view+json": {
              "model_id": "c374775c55a74d1fa4b1c57bb4f7bd04",
              "version_minor": 0,
              "version_major": 2
            },
            "text/plain": [
              "HBox(children=(FloatProgress(value=1.0, bar_style='info', max=1.0), HTML(value='')))"
            ]
          },
          "metadata": {
            "tags": []
          }
        },
        {
          "output_type": "stream",
          "text": [
            "Shuffling and writing examples to /root/tensorflow_datasets/cnn_dailymail/plain_text/3.0.0.incompleteJU910H/cnn_dailymail-validation.tfrecord\n"
          ],
          "name": "stdout"
        },
        {
          "output_type": "display_data",
          "data": {
            "application/vnd.jupyter.widget-view+json": {
              "model_id": "4f9cc46209a0406ebf764b6013100561",
              "version_minor": 0,
              "version_major": 2
            },
            "text/plain": [
              "HBox(children=(FloatProgress(value=0.0, max=13368.0), HTML(value='')))"
            ]
          },
          "metadata": {
            "tags": []
          }
        },
        {
          "output_type": "display_data",
          "data": {
            "application/vnd.jupyter.widget-view+json": {
              "model_id": "049a6ac75a3e4a5e91d2b852e90e6c30",
              "version_minor": 0,
              "version_major": 2
            },
            "text/plain": [
              "HBox(children=(FloatProgress(value=1.0, bar_style='info', max=1.0), HTML(value='')))"
            ]
          },
          "metadata": {
            "tags": []
          }
        },
        {
          "output_type": "stream",
          "text": [
            "Shuffling and writing examples to /root/tensorflow_datasets/cnn_dailymail/plain_text/3.0.0.incompleteJU910H/cnn_dailymail-test.tfrecord\n"
          ],
          "name": "stdout"
        },
        {
          "output_type": "display_data",
          "data": {
            "application/vnd.jupyter.widget-view+json": {
              "model_id": "0508dbf52cd244529906cd468666fe0b",
              "version_minor": 0,
              "version_major": 2
            },
            "text/plain": [
              "HBox(children=(FloatProgress(value=0.0, max=11490.0), HTML(value='')))"
            ]
          },
          "metadata": {
            "tags": []
          }
        },
        {
          "output_type": "stream",
          "text": [
            "WARNING:absl:Dataset is using deprecated text encoder API which will be removed soon. Please use the plain_text version of the dataset and migrate to `tensorflow_text`.\n",
            "WARNING:absl:Dataset is using deprecated text encoder API which will be removed soon. Please use the plain_text version of the dataset and migrate to `tensorflow_text`.\n"
          ],
          "name": "stderr"
        },
        {
          "output_type": "stream",
          "text": [
            "\u001b[1mDataset cnn_dailymail downloaded and prepared to /root/tensorflow_datasets/cnn_dailymail/plain_text/3.0.0. Subsequent calls will reuse this data.\u001b[0m\n"
          ],
          "name": "stdout"
        }
      ]
    },
    {
      "cell_type": "code",
      "metadata": {
        "colab": {
          "base_uri": "https://localhost:8080/"
        },
        "id": "w_Gflena50Xs",
        "outputId": "6569bbd3-8375-4bab-a71e-420162f7c578"
      },
      "source": [
        "data_set = cnn_dm.shuffle(1024).batch(10).prefetch(100)\r\n",
        "for example in data_set.take(10):\r\n",
        "    article = example[\"article\"]\r\n",
        "    print(article.numpy()[0].decode()[4:])"
      ],
      "execution_count": 180,
      "outputs": [
        {
          "output_type": "stream",
          "text": [
            "French government has in the past repeatedly rejected demands to sell the Mona Lisa (pictured), but a parliamentary report has suggested it sell thousands of pieces of art to pay off national debt . Cash-strapped France could sell thousands of artworks to pay off its vast national debt, a parliamentary report has suggested. The radical plan to flog paintings and sculptures from the nation's prized collections was mooted by MPs studying ways help clear France's £150billion deficit. It comes after state-run news channel France 24 last year even suggested selling the Mona Lisa - the world's most famous painting which hangs in the Louvre museum in Paris. Now lawmakers have consulted Guillaume Cerutti, the head of Sotheby's auctioneers in France, for his opinion on the sale of publicly-owned art. He said France should move closer to a model used in the United States, where museums sometimes sell unseen parts of their collections to free up resources for the purchase of more relevant artworks. Cerutti told the BFM news channel: 'Action is needed to tackle the grotesque waste in national collections. In the Louvre alone, some 250,000 works are currently hidden away in overflow rooms. 'Museums should also be given the option of selling works that have been in public collections for at least 50 years.' It would not be the first time France has sold off treasures to prop up its finances. In 2013 the presidential Elysee Palace in Paris announced it was selling 1,000 bottles of fine wine to fund renovations. Last summer, France also said it was selling a luxury state-owned apartment on New York's 5th Avenue for around £40million. In December, the government faced accusations of treason when it announced plans to sell half of Toulouse's airport, the country's fourth largest and home of aircraft maker Airbus, to a Chinese-led consortium. The government has repeatedly rejected demands to sell Leonardo da Vinci's painting the Mona Lisa, which is often called 'priceless' but was valued at £60m in 1962 for insurance purposes. Tourists clamour to see and photograph the Mona Lisa at the Louvre museum in Paris . The Louvre (pictured) stores a vast amount of artwork and is the most visited art museum in the world .\n",
            " Sophie Jane Evans . From terrifying roars to anguished snarls and evil laughs, it can instantly transform any actor's voice into a monster's. This incredible software was created by Orfeas Boteas, 27, during a project for his sound design degree at the University of Edinburgh. And his creation has been a great success - having been used in an array of TV series, films and computer games. Scroll down for video . Software: Orfeas Boteas, 27, created this sound effect software during a project at the University of Edinburgh . Successful: The software (pictured, left, with Mr Boteas) instantly transforms actors' voices into monsters'. It has been a great success - having produced the voice of 'Blurry man' (right) for American drama Sleepy Hollow . The software, dubbed the Dehumaniser, produced the voice of 'Blurry man' for American drama Sleepy Hollow, as well as sounds for 666 Park Avenue and Animal Planet's Finding Big Foot. 'Creature . and monster sounds exist in many mediums, including sci-fi, horror and . animated films as well as video games,' said Mr Boteas. 'Dehumaniser lets you perform in real time. It has 35 pre-designed presets for creatures, monsters, experimental voices and dialogue. 'I . have worked with some of the largest game companies, sound . post-production companies and distinguished sound designers in the . world. Technology: Mr Boteas's creation, dubbed the Dehumaniser, has also been used in a range of computer games . Complex: 'Dehumaniser lets you perform in real time,' said Mr Boteas, who studied sound design at university . 'It has also been used in many TV series, feature films and video games worldwide.' The . former student, who is originally from Athens, came up with the notion . of the Dehumaniser, before creating a prototype of it during the . university project. He . soon received hundreds of phone calls about the impressive technology, . including calls from film, TV and video game professionals. 'After . posting a video demonstration online, sound designers started showing . great interest on the project so I put it on my webpage for free to . download,' said Mr Boteas. Talented designer: Mr Boteas, who is originally from Athens, poses with a street artist dressed as a monster . 'Afterwards . I started receiving e-mails from acknowledged professionals in the . industry that used the software for many films and games all over the . world. 'I . was very excited about that and after getting feedback from all these . professionals I started working on the commercial version - and the rest . as they say is history.' Among . the professionals to have praised Mr Boteas's creation is Dave . Whitehead, who worked as a sound designer on The Lord Of The Rings, The . Hobbit and District 9. In a short review, he wrote: 'I downloaded Dehumanizer prototype last year and had a play . with it. Drama: The software has been used in 666 Park Avenue (pictured) and Animal Planet's Finding Big Foot . 'It’s got great potential. [The] settings are pretty cool. I had a laugh looking through them.' Mr Boteas offers a Lite version of his software for £49, while the pro version costs £199. This year, he was awarded the Encouraging Dynamic Growth Entrepreneurs 2014 award.\n",
            " Sarah Dean . and Candace Sutton . and Sarah Michael . Murdered Sydney student Jamie Gao was reportedly in 'secret talks with police' in the weeks before he was killed. The 20-year-old had allegedly been called to give evidence before the Australian Crime Commission, the country's peak intelligence-gathering agency. When asked why Mr Gao was recently questioned by ACC investigators at its Sydney headquarters, the commission said it had 'nothing to add', The Daily Telegraph claims. Scroll down for video . Murdered: Jamie Gao 'was in secret talks with police' before his death, according to the latest reports . Federal police have publicly denied claims that Mr Gao, who is thought to have been caught up in a Hong Kong-based Asian organised crime group, was acting as an informant when he delivered $3 million of methamphetamine to former detectives Roger Rogerson and Glen McNamara. Mr Gao had reportedly told his close friends about the hearing but the commission has denied these claims. On Saturday, it was revealed federal police were watching over murdered student Jamie Gao for a staggering three years before his death. Friends' claims that he was just a social and naturally smart pupil have been shattered by revelations that he has long been a suspected drug importer. Suggesting that he was far from simply a straight-A student at the University of Technology Sydney, federal officers have provided a 20-page document about his dealings to NSW authorities, who say Mr Gao had been a 'person of interest' since as far back as 2011. Police say that on the day of his murder Mr Gao was carrying the 3kg worth of methamphetamine. Watched: Federal police were reportedly monitoring Jamie Gao for three years before his death . 'He was not some lowly delivery boy,' one senior detective told The Daily Telegraph. 'No syndicate is going to trust some underling with 3kg of gear and you don't get trusted with that much for your first deal.' It is believed Mr Gao was caught up in organised crime group, at the same time as living an active social life and being loved-up with his new girlfriend. He still lived at home with his mother Catherin Sui Ying Gao and grandmother in a $1.5 million house in Hurstville. Police have alleged that before he was killed on Tuesday May 20, he got inside a car with  former detectives Glen McNamara and Roger Rogerson and was driven to a storage unit nearby. Police claim Mr Gao was killed for his bag's contents just before 2.30pm. CCTV footage showed Mr Gao last getting out of his car holding a large bag in Padstow. Friends of the murdered 20-year-old say 'his intention was not to be bad' and he was swayed by peer pressure . Earlier this week, MailOnline revealed details of an incident in January where Mr Gao abducted and bashed a teenager  on behalf of a scorned friend in a terrifying 90-minute ordeal. Jaiwei Yu, 19, said he was kidnapped, taken to a park and bashed in the head and chest by Mr Gao and two accomplices. Mr Gao had been called in as an enforcer to 'get revenge' on 18-year-old Alex Li on behalf of a female friend, who had been dumped by the victim's flatmate, the intended target of the assault. But when Mr Gao arrived at the flat at Carlton in Sydney's south on January 9, Mr Li was not at home – so he abducted Mr Yu instead. Abducted:  The flat (left) at Carlton in Sydney's south that Jaiwei Yu (right) was kidnapped from by Jamie Gao . Detained after dark: It was to this park, Tindale Reserve, in southern Sydney where Jamie Gao and two teenage accomplices took 19-year-old Jiawei Yu after kidnapping and beating him and driving him around in his car on the night of Thursday January 9 as part of a revenge attempt gone wrong . 'It was because Alex and his girlfriend' broke up,' Mr Yu told MailOnline at his home in Sydney's southern suburbs. '[She] wanted revenge on Alex. She used Jamie to do it ... to come around and kidnap me.' During the terrifying 90-minute ordeal Mr Yu was driven around nearby suburbs, taken to Tindale Reserve, a local park, and bashed around the head and chest by Mr Gao, who he had never previously met. 'They drove around, through the park and they beat him up with fists in the head,' Mr Li said. Meanwhile Mr Li, the intended target, was staying at a house just one street away when Mr Gao arrived sometime after 10pm. Jamie Gao's girlfriend (pictured kissing him) is in shock over his death . 'They think I am with Jaiwei. We are friends,' Mr Li said. 'They thought I would be at his house. I'm not at home and they thought he might be here.' Police interviewed Mr Yu at his home in February and on March 22 charged Mr Gao with taking and detaining Mr Yu in company with intent to get advantage and occasioning actual bodily harm. Mr Gao was also charged with conspiring with the two teenagers to assault Alex Li and cause him actual bodily harm. The girl and the third friend, who were minors at the time, will face Sutherland Children's Court on July 1 on charges relating to the kidnap and assault. Meanwhile, a 19-year-old friend of Mr Gao's, who had lunch with him the day before he was murdered, told MailOnline his involvement in a drug deal seemed completely out of character, describing him as a 'nice guy' who was swayed by peer pressure. 'People say he's dealing drugs and he's bad. But his intention is not to be bad,' she said. 'He doesn't do anything on purpose to hurt anyone, I think he was just persuaded by his friends and by peer pressure.' 'He doesn't tell us about all the stuff he does,' she said. 'He does tell us about his private life, family and girlfriend but not about the illegal stuff.' Mr Gao (left) and his girlfriend (right) started dating at the beginning of the year . The day before his murder was reportedly as normal for Mr Gao as any other. He went to his morning university classes before stopping for lunch at a nearby cafe with a uni friend. At no stage, his friend told MailOnline, did he seem nervous or on edge. Nor did he mention his plans for the following day. Instead he spent his time gushing about his new girlfriend - a young woman he'd had a crush on for some time and had been dating for just 'a couple of months'. Pictures posted to Mr Gao's girlfriend's Facebook page show the couple hugging and kissing. Mr Gao's girlfriend told MailOnline she was struggling to cope with the news. She declined to comment in detail, saying it was a 'very hard time' for her. On Monday May 19, the UTS business student went to class in the morning and afternoon as normal. During a break between 11am and 1pm he lunched with a friend at Caffe Tiamo on Pitt St in Sydney's CBD. Mr Gao's girlfriend told the MailOnline it was a 'very hard time' for her . His female friend, who did not want to be named, said Mr Gao did not talk about his plans for the next day. 'He was fine, normal. we had lunch,' she said. 'He didn't tell me about the meeting.' Mr Gao's friend told MailOnline that, before the body was formally identified, his girlfriend was still hopeful he'd return, saying she 'still expects him to come back'. 'They've only officially been together a couple of months, but he liked her for a while,' she said. The friend described Mr Gao as social and naturally smart. 'He wasn't crazy about study, he wasn't the nerdy type that studies every day, he was more social,' she said. Mr Gao's body was found floating off Sydney's Shelly Beach, near Cronulla, wrapped in a blue tarp on Monday morning. The discovery triggered a nation-wide manhunt for Rogerson, which ended in his arrest in a blaze of publicity at his Sydney home. McNamara, a former police colleague of Rogerson's, was charged with Mr Gao's murder on Sunday night. A body found floating off Shelly Beach near Cronulla was formally identified as Mr Gao on Tuesday afternoon . Sorry we are not currently accepting comments on this article.\n",
            "ia's government has pushed the country into an economic crisis by not tackling its financial problems fast enough, former finance minister Alexei Kudrin has said . Russia's government has pushed the country into an economic crisis by not tackling its financial problems fast enough, former finance minister Alexei Kudrin has said. His comments came as the central bank bailed out its first victim of the collapsing currency and authorities announced a tax on grain exports to protect domestic stocks. A poll of 11 economists also predicted that Russia's gross domestic product would fall 3.6 per cent next year. Russia has been hit by what Economy Minister Alexei Ulyukayev recently called a 'perfect storm' of plummeting oil prices, sanctions related to its military action in Ukraine, and a flight of investors' capital. A lack of structural reforms has compounded the problem, making the economy overwhelmingly dependent on oil revenues. Kudrin, one of few to criticise President Vladimir Putin, said he believed the decline in the rouble could be attributed primarily to the sanctions, imposed following Russia's annexation of Ukraine's Crimea region and its subsequent support for loyalist fighters in the east. In a move to contain the ruble crisis, the government today instructed five of the country's biggest state-controlled exporters to reduce their foreign currency assets to October levels and to not raise them again until March. The companies targeted were gas giant Gazprom, oil companies Rosneft and Zarubezhneft and diamond producers Alrosa and Kristall. Today the ruble was steady as it has been for the past few trading sessions, floating around the 55 mark against the dollar. That's certainly an improvement on last week when the ruble plunged at one point to near 80 against the dollar. With retailers, particularly of imported products, looking to pass costs onto consumers in light of the ruble's fall, jittery consumers rushed to buy cars and emptied shelves at electronics and home appliances stores to pre-empt the price rises. Others besieged bank offices to withdraw their deposits and buy dollars or euros - the panic that raised the threat of a full-fledged banking crisis if it's not contained quickly. In response to the falling ruble, Russia's central bank last week increased its key interest rate to a whopping 17 per cent. Though that may help ease the selling pressure on the ruble by encouraging traders to hold onto the currency in anticipation of big returns, it is going to hobble Russian businesses and households. Scroll down for video . Russian Prime Minister Dmitry Medvedev said Russia's current economic difficulties were exacerbated by Western sanctions, 'There are hopes to turn Russia into a pariah and reduce it to lower ranks in the ratings. This will never happen.' Russian Prime Minister Dmitry Medvedev promised that the interest rate will be reduced once the ruble stabilizes, but acknowledged that the country faces the risk of a 'deep recession.' Medvedev said Russia's current economic difficulties were exacerbated by Western sanctions. He said the economy is in a worse place now than in the 2008 crisis because 'a number of countries are effectively hampering the development of our economy.' He said: 'There are hopes to turn Russia into a pariah and reduce it to lower ranks in the ratings. This will never happen.' Putin discussed the Ukraine crisis with the leaders of Germany, France and Ukraine by telephone yesterday, the Kremlin said, noting that a ceasefire had largely held in eastern Ukraine in recent days. It said the leaders had emphasised the importance of removing heavy weapons and exchanging prisoners, but gave no indication of whether a breakthrough had been reached. Government officials have tried to minimise the impact of sanctions on the country and its currency, which plunged 80 per cent against the dollar last week despite a hike in interest rates to 17 per cent. Putin has claimed 'external factors' like oil were the key factor behind the country's 'tough times'. Kudrin warned that Russia risked having its debt downgraded to junk status in 2015. He said: 'We have entered or are entering a real, full-fledged economic crisis. Next year we will feel it clearly. Putin, seen above during a Russian press conference last week, discussed the Ukraine crisis with the leaders of Germany, France and Ukraine by telephone yesterday, the Kremlin said. It said the leaders had emphasised the importance of removing heavy weapons and exchanging prisoners, but gave no indication of whether a breakthrough had been reached. 'The government has not been quick enough to address the situation ... I am yet to hear ... its clear assessment of the current situation.' Kudrin quit in 2011 in protest at proposals to increase defence spending, although he and Putin are still believed to be close. Mounting evidence suggested that Russia's economic pain and isolation were starting to bite. The country announced plans to impose a heavy tax on grain exports since rouble volatility and high global prices have caused exports to spike: . And Russia's central bank said it would have to bail out mid-sized Trust Bank with 30 billion roubles (£347 million) to stop it going bankrupt. The country's largest lender Sberbank was forced to deny a report from RIA news agency that it had suspended taking new requests for auto loans and mortgages. Though Russia's biggest oil firm Rosneft partially eased some worries by saying it had made a £4.5 billion debt repayment from its own cash reserves - investors had been concerned it could default because the sanctions cut off its access to Western finance. It announced separately that a deal to acquire an oil trading business from Morgan Stanley had been terminated due to a refusal by regulators in the U.S. to clear it. Russia has been hit by what Economy Minister Alexei Ulyukayev recently called a 'perfect storm' of plummeting oil prices, sanctions related to its military action in Ukraine, and a flight of investors' capital. A lack of structural reforms has compounded the problem, making the economy overwhelmingly dependent on oil revenues . The termination of the deal is another blow for Rosneft after its partners including ExxonMobil withdrew from projects to develop Arctic offshore oil deposits after the sanctions were introduced. Kudrin forecast a series of defaults among both medium and large companies, though he said banks would probably be supported by the state which was likely to result in rating agencies downgrading Russia's debt to 'junk' status. The rouble firmed against the dollar yesterday, with exporters responding to Putin's urge to sell their foreign currency revenues on the market, and Brent crude prices stood close to £38 a barrel. While the currency, down some 45 per cent against the dollar so far this year, may stabilise in the first quarter of next year, its decline will likely help to push inflation to a rate of 12-15 per cent in 2015, Kudrin said. The central bank envisages next year's inflation at around 8 per cent. Economists have predicted it would be as high as 9.2 percent. Kudrin said he believed that between 25 and 35 per cent of the decline in the rouble could be attributed to sanctions. The rest, he said, was down to a stronger dollar and investors' mistrust of Russian authorities and their actions. His outlook for the economy next year was bleak: Even if the price of oil rose to £51 per barrel, gross domestic product was still likely to fall by more than 2 per cent in 2015, Kudrin said. At £38 per barrel GDP would decline by 4 per cent or more, he added, echoing the central bank's latest assessment, published last week.\n",
            " Lucy Crossley . The son-in-law of a Monaco heiress shot dead as she left a hospital has withdrawn his confession to the killing, saying he did not understand 'all the nuances' of the French language. Wojciech Janowski, 64, last week confessed to playing a role in the shooting of Helene Pastor, the 77-year-old billionaire mother of his partner Sylvia Pastor, according to prosecutors. However, as Janowski appeared before a bail judge, his lawyer Erick Campana said that he had 'retracted his statements made while in custody' and 'denies having ordered' the killing. Withdrawn: Wojciech Janowski, 64, (left) has withdrawn his confession to killing Helene Pastor, 77, (right) saying he did not understand 'all the nuances' of the French language . Mr Campana said Janowski, who has served as Poland's honorary consul in Monaco, had 'misunderstood the meanings of the terms used by police and was speaking in French while he does not understand all the nuances of our language'. Mr Campana said he would demand that an appeal court nullify Janowski's detention - and the statements made while in custody - because he did not have access to a lawyer or interpreter during his 96 hours in custody. However, the judge ruled that Cambridge graduate Janowski must remain in custody pending trial. Janowski was arrested early last week by police on suspicion of 'masterminding' the killing of Mrs Pastor, who was shot multiple times with a sawn-off shotgun as she was leaving a hospital in the French Riviera city of Nice. Her driver, Mohammed Darwich, 64, also died from injuries sustained in attack on May 6. Probe: A police officer investigates a car at the site where Helene Pastor and her driver were shot . Questioned: Wojciech Janowski, hides his face as he leaves a police station in Nice, France, by car last week . Janowski was charged after prosecutors said he confessed to the contract killing, for which he allegedly spent some 250,000 euros (£198,000) to hire two alleged contract killers. The two men - a 31-year-old and a 24-year-old originally from the Comoros islands and living in Marseille's rough northern districts - were also apprehended last week and charged. Janowski's personal trainer was also charged with allegedly organising the murder and acting as a go-between with the killers. Prosecutors had alleged Janowski ordered the killing 'to lay his hands on the inheritance' due to Sylvia, Pastor's eldest daughter on her death. Sylvia was initially detained in the case but later released without charge. The two have been in a relationship for 28 years and have a teenage daughter. Couple: Janowski and Sylvia Pastor (right) have been in a relationship for 28 years and have a teenage daughter . Helene Pastor had inherited a huge real estate and construction business set up by her Italian grandfather Jean-Baptiste Pastor, a stone mason who moved to Monaco in 1880. As the sleepy principality on the French Riviera slowly grew into a playground for the world's rich and famous, the family's fortune skyrocketed. The real jackpot came in 1966 when Prince Rainier, whose fairytale wedding to Hollywood actress Grace Kelly helped catapult Monaco to international fame, gave permission to Helene Pastor's father Gildo to build high-rise buildings along the seafront. Janowski heads a Monaco nanotechnology firm and an oil business, and is involved in numerous charities in the principality. After he was charged, Poland announced it was stripping Janowski of his title of honorary consul 'because of the loss of the irreproachable reputation that is essential for this role'. It also noted that as an honorary official Janowski did not enjoy diplomatic immunity from criminal prosecution.\n",
            " were best friends to the very end. So it is no surprise that Danny the German Shepherd could be heard whimpering during his master's funeral. His crime-fighting partner Mountie Constable Dave Ross was gunned down along with two of his colleagues in Moncton, New Brunswick, last week. SCROLL DOWN FOR VIDEO . Grief: Danny, the canine partner of Mountie Constable Dave Ross looks around at the start of the RCMP regimental funeral for three slain officers killed last week . During the funeral procession Danny . could be heard whimpering by the side of his partner's casket during the . emotional ceremony. He always stayed close to the hearse carrying the casket and was even photographed sniffing his master's stetson. According to Constable Ross's brother, Olivier Juneau-Rousseau, the Mountie loved working with Danny. He said at a news conference last week: 'He always wanted to work with dogs and he died doing what he loved.' Tribute: An officer holds Const. David Ross' dog Danny at the funeral procession for the three RCMP officers who were killed on duty in Moncton, Canada . Sombre: Danny looks around as he sits next to the casket of his partner RCMP Constable Dave Joseph Ross during the funeral procession for the three murdered Mounties . An officer keeps hold of Royal Canadian Mounted Police dog Danny (left) who sniffs the Stetson of his partner Constable David Ross (right) An officer holds the hat of Const. Dave Joseph Ross as he walks with Ross' K9 partner Danny to the Moncton Coliseum for the RCMP regimental funeral on Tuesday . Mourning: An officer pats the head of David Ross' K9 partner Danny at the Moncton Coliseum for the RCMP regimental funeral on Tuesday . Thousands . of police officers from across Canada on Tuesday attended the funeral . of three Mounties killed by a gunman last week in what was the deadliest . attack on Canada's national police force in nearly a decade. Pipers . and drummers led mourners at the funeral in Moncton, New Brunswick, . which was paralyzed by last week's massive manhunt for 24-year-old . Justin Bourque. Bourque was caught on Friday and charged with three murders and two attempted murders. Procession: Royal Canadian Mounted Police officers march before the funeral for Constables Dave Ross, Douglas Larche and Fabrice Gevaudan . Honoured: RCMP officers wore their famed red uniforms and Stetson hats for the funeral . Standing guard: RCMP officers on horseback take part in a funeral procession as the hearses for Ross, Larche and Gevaudan pass . March: Officers gathered on Monday dressed in red serge and wearing their Stetson hats . The . three officers from the Royal Canadian Mounted Police were killed after . responding to a report of a man with firearms. The victims were . Constables Fabrice Gevaudan, Douglas Larche and Dave Ross. Canadian Prime Minister Stephen Harper acknowledged a 'searing grief.' 'Together, we struggle for answers,' Harper said. 'We ask what in God's name happened here and why. We may never know.' Patriotic: Onlookers, many of whom were dressed in the colors of the Canadian flag, observed the procession . Salute: Royal Canadian Sea Cadets salute the procession . Service:P Canada's Prime Minister Stephen Harper (2nd R) watches as pallbearers carry the casket of one of the RCMP officers . Never forget: Officers and government officials are seen in the packed Moncton Coliseum for the funeral . Memory: A Royal Canadian Mounted Police officers march hold his Steston close to his heart at the regimental funeral . Public visitation: RCMP officers stand guard over the caskets of (L - R) Dave Ross, Douglas Larche and Fabrice Gevaudan on Monday . Members . of the RCMP and municipal police forces, as well as correctional . officers and U.S. border patrol officers, were among the more than 2,700 . who marched. A beige RCMP Stetson was placed atop each casket at the front of the service. Ross's . brother-in-law, Adrian Vander Ploeg, recalled how the officer was . making dinner but dropped everything, including leaving the barbecue lid . up and the garage door open, to be among the first to respond to a . report of a gunman. 'For . those closest to Dave, that barbecue left still open says everything . about who Dave was and his devotion to those around him,' Vander Ploeg . said. So many people were expected for the funeral that 10 other sites in and around Moncton were set up for mourners to gather. A man suspected of gunning down three Royal Canadian Mounted Police was caught and charged Friday, ending a 30-hour manhunt that closed schools and forced residents to hide inside their homes of this eastern Canadian city. 'I'm done,' a witness heard him say to police. Police said at a news conference that they received a tip that led them to a wooded residential part of Moncton, New Brunswick, where they found 24-year-old Justin Bourque, suspected in the deadliest attack on Canada's national police force in nearly a decade. Suspect: Justin Bourque, pictured, has been charged with three counts of first-degree murder and two counts of attempted murder . Constables David Ross, 32, Fabrice Georges Gevaudan, 45, and Douglas James Larche, 40, were killed in the shooting. Armed with high-powered long firearms, Bourque was spotted three times Thursday as he evaded the manhunt that all but shut down the normally tranquil city about of about 60,000 people east of the Maine border. Nearly 300 police officers searched for Bourque, who was seen going in and out of a wooded area. RCMP Supt. Marlene Snowman said Bourque was arrested at 12:10 a.m. She said he wasn't carrying any weapons, but some were found nearby. Prosecutors and police declined to comment when asked if the guns were acquired legally. Bourque turned himself over without incident. Bearded and shaggy-haired, Bourque made a brief court appearance Friday afternoon, where he was charged with three counts of first-degree murder and two counts of attempted murder. In aqua-colored jail clothes, he stared ahead intently, clearly paying attention but showing little emotion. He nodded when the judge said his name. He will be back in court July 3 as he seeks a lawyer. A court appointed legal aid attorney represented him Friday. Prosecutors say they were not requesting a psychiatric evaluation, seeing no need for one. The defence agreed. There was a high-level security at the appearance, including officers with drawn weapons outside the courtroom. Two other officers - Constables Éric Stéphane Dubois and Marie Darlene Goguen - were injured in the shootings and rushed to a local hospital for surgery but neither condition was life-threatening.\n",
            " Daily Mail Reporter . PUBLISHED: . 09:31 EST, 29 June 2012 . | . UPDATED: . 18:21 EST, 29 June 2012 . 'Worrying': Iain Gilmour complained that the noise of 110 children talking loudly in the dinner hall was a health risk . A head teacher ordered pupils to  whisper at lunchtime – because their talking was so loud it ‘broke health and safety laws’. Iain Gilmour complained that the children’s cacophonous chatting could give staff migraines. But parents say the move was overly strict and prevented pupils at Isambard Brunel Junior School from relaxing between lessons. The mother of an eight-year-old pupil said: ‘It seems a strange thing for the headmaster to come up with. ‘Part of education is learning social skills. Children need to learn how to relax with their peers. ‘I was in disbelief when I heard about this . . . [the lunch break is] their time to relax and converse with friends and not have to worry about doing as they are told in class.’ Another parent added: ‘The head teacher [told me] he asked the children to whisper. When I asked why he said he gets a headache. ‘It’s not fair on the kids. They should be able to talk to their friends. If they don’t talk they aren’t able to socialise properly.’ Mr Gilmour said pupils had complained about behaviour in the dining hall in a survey, which had influenced the school’s actions. 'Strange': Parents of pupils at Isambard Brunel Junior School argue the move was overly strict and stopped their children being able to relax between lessons . However, he added that children at the Portsmouth school were no longer required to whisper. ‘In our lunch hall we had 110 children shouting. It was breaking the health and safety laws in terms of decibels,’ he claimed. ‘We said to them “please talk quietly, and if you can’t talk quietly then don’t talk at all”. ‘I did say whisper to begin with. Now it’s a quiet chat – everybody can hear everybody talk. Our teachers and dinner staff were having problems making themselves heard. But it’s a lovely atmosphere now.’ 'The idea of children being seen and . not heard is definitely not what we are doing. We are just trying to . make dinner time nice.' Mr . Gilmour said pupils had previously complained about the behaviour in the . school hall in a children’s survey and this had influenced the school’s . actions. U-turn: But Mr Gilmour says he has now relaxed the ruling at the school in North End, Portsmouth, Hants, and children are no longer required to whisper but have to 'talk quietly'\n",
            " Damien Gayle . A Palestinian man was arrested today in connection with the murders of three Israeli teenagers as warplanes hammered 10 targets in Gaza. Soldiers swooped on a home just after midnight in the West Bank city of Hebron, where Israeli forces have concentrated their search for the killers. The arrest came after protests over the apparent revenge killing of a Palestinian teenager spread yesterday from Jerusalem to Arab towns in northern Israel. Scroll down for video . An Israeli military vehicle patrols the West bank city of Hebron this morning, around the same time that soldiers arrested a Palestinian man in connection with the murders of three Jewish teenagers killed near the city . The man arrested in connection with the murder of the Jewish teenagers was identified by his family as Hossam Dufesh, the Associated Press reports. The Israeli Defence Force would not elaborate on the arrest . An American teenager - the cousin of the murdered Palestinian boy - who was beaten and detained by police during the protests in east Jerusalem was today brought before an Israeli court. Overnight, Israeli airstrikes targeted what the Israelis claimed were rocket launchers and a weapons workshop in the Gaza Strip, after 29 rockets and mortars were fired into Israeli territory. Relations between Israel and Palestine have been tense since Eyal Yifrach, 19, and 16-year-olds Gilad Shaar and Naftali Frenkel were abducted on June 12, leading to a massive Israeli military operation in Palestinian areas. They were later found dead in a shallow grave, a discovery quickly followed by the the apparent revenge killing of a Palestinian boy, Mohammed Abu Khdeir, who was snatched from his home in East Jerusalem. His burned body was found in a forest. Palestinian officials said a post-mortem indicated the 16-year old had been burned alive. Israeli police say they are still investigating the killing of Mohammed Abu Khdeir, but Palestinians say Israeli extremists murdered him to avenge the deaths of the three Israelis. The three Israeli seminary students (from L-R) Naftali Fraenkel, 16, who also holds U.S. citizenship, Gil-Ad Shaer, 16, and Eyal Yifrah, 19, whose killings have sparked the current round of violence . The man arrested in connection with the murder of the Jewish teenagers was identified by his family as Hossam Dufesh, the Associated Press reports. His arrest came as violence spread from Jerusalem to Arab communities across northern Israel, with with hundreds of people throwing rocks and fire bombs at police who responded with tear gas and stun grenades. Police spokeswoman Luba Samri said police had arrested 22 Israeli Arabs. Unlike Palestinians in the West Bank and Gaza Strip, Israeli Arabs hold citizenship rights, but still face discrimination from the 'Jewish State'. Even so, violent riots like those that occurred yesterday are rare. Clashes had mostly subsided by early this morning, but the situation remained tense. U.S. citizen Tariq Abu Khdeir, left, 15, was beaten by police when he was arrested on Thursday after a protest over the murder of his cousin, Mohammed Abu Khdeir, 16, right, became a violent clash with Israeli police . Police today asked a Jerusalem court to extend the detention of 15-year-old U.S. citizen Tariq Abu Khdeir, who was badly beaten by police during the clashes. He is the cousin of murdered Palestinian teenager Mohammed Abu Khdeir. His parents say their son, who goes to school in Florida, was the last person with Mohammed shortly before he was snatched. They said Tariq left Mohammed to eat before the Ramadan fast began at dawn Wednesday, and Mohammed was seized shortly afterward. The feared Israeli border police charge at Israeli Arab protesters during clashes in Ar'Ara, northern Israel . Police said Tariq Abu Khdeir resisted arrest, attacked officers, and was captured with a slingshot for lobbing stones. Abu Khdeir's face was masked in a keffiyeh, an Arab headscarf that some Palestinian protesters wore during the clashes to conceal their identity, police added. He was detained along with six other protesters, police said, including some armed with knives, adding that several officers were hurt in that specific protest, one of many that day. Amateur video of what Tariq's father Salah said was the beating aired on a local television station, and he said he could recognize his son from his clothing. Pictures of the boy taken after his arrest showed his face badly swollen. The U.S. State Department said it was 'profoundly troubled' by reports of his beating and demanded an investigation. Israel's Justice Ministry quickly launched a formal investigation.\n",
            " Moore collapsed after taking nitrous oxide, also known as laughing gas, while at her LA home, it has been claimed. The 49-year-old allegedly inhaled the chemical out of a canister commonly used in whipping cream cans. She allegedly collapsed after having a bad reaction, according to TMZ. A source told the website the actress started to show symptoms of a seizure after ingesting large amounts of the substance. However estranged husband Ashton Kutcher failed to respond when asked if Demi was okay, after he was caught on camera by US site TMZ as he was leaving a nightclub in Sao Paulo, Brazil. Dangerous high? Demi Moore was rushed to hospital on Monday night after reportedly inhaling Nitrous Oxide out of . a canister used in whipping cream cans . 'Whip-it' is the street name for nitrous . oxide contained in a small metal canister and usually used for . recharging whipping cream cans in restaurants. According to TMZ, a female friend who was with the actress while she was inhaling gas told hospital staff she became distressed when Demi had a reaction and was rendered semi-unconscious. The 'whip-it' charger is sold separately and users inhale it from the canister to receive a 'quick high'. It is typically used by young teenagers and is popular because it can easily be bought over the counter from the supermarket. Prescription medication is also said to have played a part in her hospitalization and that her consistent use was one of the causes of her marriage collapse. 'It was a sticking point for Ashton,' a source told People magazine. 'He wanted her to take care of herself and get a hold of things, and she wouldn't. Quick high: 'Whip-it' is the street name for Nitrous . Oxide contained in a small metal canister similar to this one, and usually used for . recharging whipping cream cans in restaurants . 'Her family and friends have been really worried.' Insiders have also told the publication that Demi was troubled and not looking after herself long before Monday night's hospital dash. They say the problems began as she endured her break-up with Kutcher. 'Really, it was over the last year her friends saw a change,' a source told the magazine. 'She wasn't sleeping as well, didn't seem to be eating and looked really gaunt.' Demi was rushed to hospital on Monday night. The actress, who has appeared increasingly frail in recent weeks, was taken to hospital by ambulance following a call to 911 just before 11pm. Shortly after being admitted to hospital, website Radar claimed she was being treated for anorexia, among other substance abuse issues. The news emerged as her young . husband, 33, from whom she is estranged, was pictured enjoying a beer as he . partied with friends at a Bruno Mars gig in Brazil. Ashton has been in the South American country for its fashion week. Seeking help: Demi, seen here earlier this month with her daughter Rumer was admitted to hospital on Monday night . Demi has become . frighteningly thin since her split with Ashton, and a . source close to the actress described what happened to her. A source told Radar: 'She collapsed after having an epileptic seizure... she has not taken care of her health at all lately and has lost a ton of weight.' 'Demi is in getting treated for anorexia, as well as other issues that caused her seizure,' the source added. In the weeks before her hospitalisation, Demi was spotted letting loose on a wild night out with her daughter Rumer, 23. On the night of January 11 she joined her eldest child at Hollywood hot spot Beacher's Madhouse where sources tell Us Weekly magazine she was 'table . dancing while three guys sat there watching.' At least one onlooker claims she appeared intoxicated, although others only saw her drinking Red Bull. Representatives for the star refused to directly comment on the substance abuse allegations. But her spokesperson said the actress is seeking 'professional assistance' after the stresses of recent months. Moving on: The Two And A Half Men star is said to be dating someone his own age . Demi and Ashton's six year marriage . foundered in 2011 after Star magazine's shock report that Ashton cheated . on Demi with starlet Sara Leal the weekend of their wedding . anniversary. She announced that she was separating from him but has yet to file divorce papers. According to TMZ a 911 call was . placed at 10:45pm last night. The actress was assessed at home before . being taken to a local hospital. Her spokesperson told . MailOnline in a statement: ‘Because of the stresses in her life right now, Demi has . chosen to seek professional assistance to treat her exhaustion and . improve her overall health. 'She looks forward to getting well and is . grateful for the support of her family and friends.’ Unaware: Demi's estranged husband Ashton was seen out drinking beer at a Bruno Mars Concert in Brazil last night while Demi was rushed to hospital . Demi's frail and gaunt appearance in recent weeks has caused considerable concern. The . actress, who announced last November that she was divorcing husband . Ashton Kutcher, has lost a considerable amount of weight over the past . four . months. And today it was announced she has pulled out of a cameo appearance in the film about porn star Linda Lovelace  in which she had been cast as feminist icon Gloria Steinem. While Demi is seeking treatment her estranged husband is currently in Sao Paulo where he has been attending the Fashion Week. He was seen enjoying a beer with friends at a Bruno Mars concert, oblivious to the drama involving his wife. The Two And A Half Men star is also said to have moved on following the breakdown of his marriage. Ashton frolics in a 'summer storm' in Sao Paulo, Brazil . Party hard: Ashton seen leaving the concert in Sao Paulo with a female friend . Demi last appeared in public on January 14 at the Cinema For Peace event at the Montage Hotel in Beverly Hills. Her frail appearance shocked fans, . although she appears to have been losing weight steadily since claims . emerged Ashton had cheated on her with 22-year-old Sara Leal. Demi, . who looked a shadow of her former self, wore a slim fitting black dress . which showed just how much weight she had lost from her usually toned . physique. On November 17 2011, Demi announced that she was filing for divorce from her toyboy husband after six years of marriage. In happier and healthier times: Demi and her estranged husband Ashton Kutcher in February last year before they split . In a statement she said: 'It is with great sadness and a heavy heart that I have decided to end my six-year marriage to Ashton. 'As a woman, a mother and a wife there are certain values and vows that I hold sacred, and it is in this spirit that I have chosen to move forward with my life.' He is now reportedly dating screenwriter Lorene Scafaria, who, at 33, is his own age. The pair spent Christmas together in Europe. Earlier this month Demi was seen in a parking lot with a 26-year-old actor and personal trainer Blake Corl-Baietti. Her representatives refused to comment on speculation that the actress was in a relationship with the younger man. Demi recently opened up about her fears and heartache in an interview with US Harper's Bazaar. Changing shape: Demi was looking frail in October in the wake of news . her husband had cheated on her, seen looking healthier in 2009 . She admitted: ‘What scares me is that I’m going to ultimately find out at the end of my life that I’m really not lovable, that I’m not worthy of being loved. 'That there’s something fundamentally wrong with me.’ As well as speaking out about her anxieties, she also opened up about her body image. The actress - who went through a gruelling fitness regime for her role in GI Jane - admitted to having had a ‘love-hate relationship’ with her body but said she had a more positive view of it now. She said: ‘I sit today in a place of greater acceptance of my body and that includes not just my weight but all of the things that come with your changing body as you age to now experiencing my body as extremely thin.’ Demi added: ‘Thin in a way that I never imagined somebody would be saying to me, “You’re too thin, and you don’t look good\".'\n",
            ") -- When I became one of Bill Clinton's earliest and chief accusers for the sexual harassment charges against him, two things were eminently true about my motives: (a) I did not become an accuser because Bill Clinton was a Democrat and I was a Republican, I didn't care one whit what the partisan fallout would be; and (b) I spoke out because the charges were plentiful enough and serious enough (I repeat, charges, not facts) to degrade not only all of our politics but all of our country, and because there are certain codes of honor, written and unwritten, for all men, Democrat and Republican. Indeed I wrote a book on this, laying it out, even before we knew the full extent of Bill Clinton's lies. It is hypocritical in the extreme for those members of the media who didn't take the charges and allegations against Bill Clinton seriously to be taking the allegations against Herman Cain that we now have as seriously as they are. Hypocritical is probably too soft a word, frankly. That said, Herman Cain and his campaign chief of staff, Mark Block, cannot go on as they have. There has been a pattern now that is both unhealthy for our politics and unhealthy for our polity. Four women are not an insignificant number. One or two anonymous charges, perhaps. Three anonymous charges (where, as I understand the story, Cain knows of at least two of the women) plus one woman who went very public and opened herself up to all manner of investigation are a lot. It is no longer insignificant. Neither is it insignificant that the Cain campaign discounted the charges in the initial stories, saying they were based on anonymous sources, only to make a mockery by blaming other campaigns with less substantiation than the original stories. If Herman Cain wants to be taken seriously as a public advocate for anything, never mind running for the chief executive and commander in chief of the most powerful and important and blessed country in the world, he needs to give a full press conference dedicated exclusively to this issue and these allegations. I have watched long enough and held my tongue long enough to give him the benefit of the doubt, but can no longer say this is a witch hunt, \"a lynching\" to use his word, or any other euphemism. There are allegations out there that matter and they have stacked up. For we who led the charge against Bill Clinton on a number of related issues to continue to blame the media or other campaigns or say it simply doesn't matter makes us the hypocrites as well. As I say, all of this is bad for our politics and polity. If Herman Cain cannot stand up to these charges, if he refuses to, then he should step out of the race. A man big enough to run for president should be big enough to have a full and candid press conference on all of this -- he wants us to elect him president after all, he's asking us to trust our lives and the country's life to him. This could be one of his finest moments and it could be one of his worst. But either way, he must confront the moment candidly and manfully. The opinions expressed in this commentary are solely those of William J. Bennett.\n"
          ],
          "name": "stdout"
        }
      ]
    },
    {
      "cell_type": "code",
      "metadata": {
        "id": "QGa2w1OtkLfq"
      },
      "source": [
        ""
      ],
      "execution_count": null,
      "outputs": []
    }
  ]
}
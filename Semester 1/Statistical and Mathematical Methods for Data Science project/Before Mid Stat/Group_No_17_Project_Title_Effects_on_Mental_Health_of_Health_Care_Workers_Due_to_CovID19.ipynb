{
  "nbformat": 4,
  "nbformat_minor": 0,
  "metadata": {
    "colab": {
      "name": "Group No: 17_Project Title: Effects on Mental Health of Health Care Workers Due to CovID19.ipynb",
      "provenance": [],
      "collapsed_sections": []
    },
    "kernelspec": {
      "name": "python3",
      "display_name": "Python 3"
    }
  },
  "cells": [
    {
      "cell_type": "markdown",
      "metadata": {
        "id": "vBx81luuXGl2"
      },
      "source": [
        "Import Imoprtant Libraries\r\n",
        "\r\n",
        "\r\n"
      ]
    },
    {
      "cell_type": "code",
      "metadata": {
        "id": "zCwbpGo2CbbG"
      },
      "source": [
        "import numpy as np\r\n",
        "import pandas as pd\r\n",
        "from sklearn.tree import DecisionTreeClassifier\r\n",
        "from sklearn import metrics\r\n",
        "import matplotlib.pyplot as plt\r\n",
        "from sklearn import tree\r\n",
        "from sklearn.tree import plot_tree\r\n",
        "from sklearn.metrics import classification_report, confusion_matrix\r\n",
        "import seaborn as sns"
      ],
      "execution_count": 79,
      "outputs": []
    },
    {
      "cell_type": "markdown",
      "metadata": {
        "id": "V2zBzC64XIsl"
      },
      "source": [
        ""
      ]
    },
    {
      "cell_type": "markdown",
      "metadata": {
        "id": "RhbcKjVXXOfv"
      },
      "source": [
        "Read the questionnaire responses csv file\r\n"
      ]
    },
    {
      "cell_type": "code",
      "metadata": {
        "id": "_2b6chXMClvP"
      },
      "source": [
        "df = pd.read_excel ('/content/Dass  Questionaries (Responses).xlsx')\r\n"
      ],
      "execution_count": 80,
      "outputs": []
    },
    {
      "cell_type": "code",
      "metadata": {
        "colab": {
          "base_uri": "https://localhost:8080/",
          "height": 585
        },
        "id": "mcKrDiCjDdNK",
        "outputId": "a847e9a6-eda6-4a79-b2d5-399021399445"
      },
      "source": [
        "df.head()"
      ],
      "execution_count": 25,
      "outputs": [
        {
          "output_type": "execute_result",
          "data": {
            "text/html": [
              "<div>\n",
              "<style scoped>\n",
              "    .dataframe tbody tr th:only-of-type {\n",
              "        vertical-align: middle;\n",
              "    }\n",
              "\n",
              "    .dataframe tbody tr th {\n",
              "        vertical-align: top;\n",
              "    }\n",
              "\n",
              "    .dataframe thead th {\n",
              "        text-align: right;\n",
              "    }\n",
              "</style>\n",
              "<table border=\"1\" class=\"dataframe\">\n",
              "  <thead>\n",
              "    <tr style=\"text-align: right;\">\n",
              "      <th></th>\n",
              "      <th>Timestamp</th>\n",
              "      <th>City of Work</th>\n",
              "      <th>Age</th>\n",
              "      <th>Gender</th>\n",
              "      <th>Marital Status</th>\n",
              "      <th>Education level</th>\n",
              "      <th>Staff Type</th>\n",
              "      <th>Current working department</th>\n",
              "      <th>Living situation</th>\n",
              "      <th>I found it hard to relax after a long day.(S)</th>\n",
              "      <th>I was aware of dryness of my mouth.(A)</th>\n",
              "      <th>I couldn’t seem to experience any positive feeling at all. (D)</th>\n",
              "      <th>I experienced breathing difficulty (e.g. excessively rapid breathing, breathlessness in the absence of physical exertion)(A)</th>\n",
              "      <th>I found it difficult to work up the initiative to do things.(D)</th>\n",
              "      <th>I tended to over-react to situations.(S)</th>\n",
              "      <th>I experienced trembling (e.g. in the hands)(A)</th>\n",
              "      <th>felt that I was using a lot of nervous energy.(S)</th>\n",
              "      <th>I was worried about situations in which I might panic and make a fool of myself.(A)</th>\n",
              "      <th>I felt that I had nothing to look forward to.(D)</th>\n",
              "      <th>I found myself getting agitated.(S)</th>\n",
              "      <th>I found it difficult to relax.(S)</th>\n",
              "      <th>I felt down-hearted and sad.(D)</th>\n",
              "      <th>I was intolerant of anything that kept me from getting on with what I was doing.(S)</th>\n",
              "      <th>I felt I was close to panic.(A)</th>\n",
              "      <th>I was unable to become enthusiastic about anything.(D)</th>\n",
              "      <th>I felt I wasn’t worth much as a person.(D)</th>\n",
              "      <th>I felt that I was rather touchy.(S)</th>\n",
              "      <th>I was aware of the action of my heart in the absence of physical exertion (e.g. sense of heart rate increase, heart missing a beat)(A)</th>\n",
              "      <th>I felt scared without any good reason.(A)</th>\n",
              "      <th>I felt that life was meaningless.(D)</th>\n",
              "    </tr>\n",
              "  </thead>\n",
              "  <tbody>\n",
              "    <tr>\n",
              "      <th>0</th>\n",
              "      <td>2020-11-12 19:27:12.680</td>\n",
              "      <td>Lahore</td>\n",
              "      <td>20-30</td>\n",
              "      <td>Male</td>\n",
              "      <td>Single</td>\n",
              "      <td>Bachelars</td>\n",
              "      <td>Paramedics</td>\n",
              "      <td>Medical ER</td>\n",
              "      <td>With Family</td>\n",
              "      <td>3</td>\n",
              "      <td>2</td>\n",
              "      <td>1</td>\n",
              "      <td>1</td>\n",
              "      <td>1</td>\n",
              "      <td>1</td>\n",
              "      <td>2</td>\n",
              "      <td>1</td>\n",
              "      <td>1</td>\n",
              "      <td>0</td>\n",
              "      <td>2</td>\n",
              "      <td>2</td>\n",
              "      <td>1</td>\n",
              "      <td>0</td>\n",
              "      <td>0</td>\n",
              "      <td>2</td>\n",
              "      <td>1</td>\n",
              "      <td>2</td>\n",
              "      <td>2</td>\n",
              "      <td>1</td>\n",
              "      <td>1</td>\n",
              "    </tr>\n",
              "    <tr>\n",
              "      <th>1</th>\n",
              "      <td>2020-11-12 19:27:18.520</td>\n",
              "      <td>rawat</td>\n",
              "      <td>40-50</td>\n",
              "      <td>Female</td>\n",
              "      <td>Married</td>\n",
              "      <td>Post Graduation</td>\n",
              "      <td>Doctor</td>\n",
              "      <td>Others</td>\n",
              "      <td>Hostel</td>\n",
              "      <td>2</td>\n",
              "      <td>1</td>\n",
              "      <td>1</td>\n",
              "      <td>0</td>\n",
              "      <td>3</td>\n",
              "      <td>2</td>\n",
              "      <td>0</td>\n",
              "      <td>1</td>\n",
              "      <td>3</td>\n",
              "      <td>1</td>\n",
              "      <td>0</td>\n",
              "      <td>3</td>\n",
              "      <td>0</td>\n",
              "      <td>3</td>\n",
              "      <td>2</td>\n",
              "      <td>3</td>\n",
              "      <td>0</td>\n",
              "      <td>0</td>\n",
              "      <td>0</td>\n",
              "      <td>0</td>\n",
              "      <td>0</td>\n",
              "    </tr>\n",
              "    <tr>\n",
              "      <th>2</th>\n",
              "      <td>2020-11-12 19:30:01.217</td>\n",
              "      <td>rawat</td>\n",
              "      <td>40-50</td>\n",
              "      <td>Male</td>\n",
              "      <td>Single</td>\n",
              "      <td>Post Graduation</td>\n",
              "      <td>Doctor</td>\n",
              "      <td>Isolation/Intensive care unit</td>\n",
              "      <td>Alone</td>\n",
              "      <td>3</td>\n",
              "      <td>0</td>\n",
              "      <td>3</td>\n",
              "      <td>0</td>\n",
              "      <td>0</td>\n",
              "      <td>2</td>\n",
              "      <td>0</td>\n",
              "      <td>3</td>\n",
              "      <td>0</td>\n",
              "      <td>3</td>\n",
              "      <td>2</td>\n",
              "      <td>0</td>\n",
              "      <td>0</td>\n",
              "      <td>3</td>\n",
              "      <td>0</td>\n",
              "      <td>0</td>\n",
              "      <td>3</td>\n",
              "      <td>0</td>\n",
              "      <td>3</td>\n",
              "      <td>0</td>\n",
              "      <td>2</td>\n",
              "    </tr>\n",
              "    <tr>\n",
              "      <th>3</th>\n",
              "      <td>2020-12-12 11:20:19.944</td>\n",
              "      <td>Lahore</td>\n",
              "      <td>20-30</td>\n",
              "      <td>Male</td>\n",
              "      <td>Married</td>\n",
              "      <td>PG Resident</td>\n",
              "      <td>Doctor</td>\n",
              "      <td>Surgical and allied</td>\n",
              "      <td>With Family</td>\n",
              "      <td>0</td>\n",
              "      <td>1</td>\n",
              "      <td>2</td>\n",
              "      <td>0</td>\n",
              "      <td>2</td>\n",
              "      <td>0</td>\n",
              "      <td>0</td>\n",
              "      <td>0</td>\n",
              "      <td>1</td>\n",
              "      <td>0</td>\n",
              "      <td>0</td>\n",
              "      <td>0</td>\n",
              "      <td>0</td>\n",
              "      <td>0</td>\n",
              "      <td>0</td>\n",
              "      <td>0</td>\n",
              "      <td>0</td>\n",
              "      <td>0</td>\n",
              "      <td>0</td>\n",
              "      <td>0</td>\n",
              "      <td>0</td>\n",
              "    </tr>\n",
              "    <tr>\n",
              "      <th>4</th>\n",
              "      <td>2020-12-12 11:55:44.584</td>\n",
              "      <td>Lahore</td>\n",
              "      <td>20-30</td>\n",
              "      <td>Male</td>\n",
              "      <td>Single</td>\n",
              "      <td>PG Resident</td>\n",
              "      <td>Doctor</td>\n",
              "      <td>Medical ER</td>\n",
              "      <td>With Family</td>\n",
              "      <td>2</td>\n",
              "      <td>2</td>\n",
              "      <td>1</td>\n",
              "      <td>3</td>\n",
              "      <td>2</td>\n",
              "      <td>3</td>\n",
              "      <td>2</td>\n",
              "      <td>2</td>\n",
              "      <td>0</td>\n",
              "      <td>0</td>\n",
              "      <td>1</td>\n",
              "      <td>2</td>\n",
              "      <td>2</td>\n",
              "      <td>3</td>\n",
              "      <td>2</td>\n",
              "      <td>0</td>\n",
              "      <td>0</td>\n",
              "      <td>2</td>\n",
              "      <td>2</td>\n",
              "      <td>0</td>\n",
              "      <td>0</td>\n",
              "    </tr>\n",
              "  </tbody>\n",
              "</table>\n",
              "</div>"
            ],
            "text/plain": [
              "                Timestamp  ... I felt that life was meaningless.(D)\n",
              "0 2020-11-12 19:27:12.680  ...                                    1\n",
              "1 2020-11-12 19:27:18.520  ...                                    0\n",
              "2 2020-11-12 19:30:01.217  ...                                    2\n",
              "3 2020-12-12 11:20:19.944  ...                                    0\n",
              "4 2020-12-12 11:55:44.584  ...                                    0\n",
              "\n",
              "[5 rows x 30 columns]"
            ]
          },
          "metadata": {
            "tags": []
          },
          "execution_count": 25
        }
      ]
    },
    {
      "cell_type": "markdown",
      "metadata": {
        "id": "j6-_Lhq-XVL_"
      },
      "source": [
        "Analyze the data and remove the columns that do not contribute in statistical analysis, in this case it is the Date time column"
      ]
    },
    {
      "cell_type": "code",
      "metadata": {
        "id": "QzFXOtcKD84W"
      },
      "source": [
        "df = df.drop('Timestamp', 1)"
      ],
      "execution_count": 81,
      "outputs": []
    },
    {
      "cell_type": "code",
      "metadata": {
        "colab": {
          "base_uri": "https://localhost:8080/",
          "height": 585
        },
        "id": "pPf3iwJWEGvl",
        "outputId": "ecdd0bce-ec79-42b9-d60f-7219a91fbb38"
      },
      "source": [
        "df.head()"
      ],
      "execution_count": 27,
      "outputs": [
        {
          "output_type": "execute_result",
          "data": {
            "text/html": [
              "<div>\n",
              "<style scoped>\n",
              "    .dataframe tbody tr th:only-of-type {\n",
              "        vertical-align: middle;\n",
              "    }\n",
              "\n",
              "    .dataframe tbody tr th {\n",
              "        vertical-align: top;\n",
              "    }\n",
              "\n",
              "    .dataframe thead th {\n",
              "        text-align: right;\n",
              "    }\n",
              "</style>\n",
              "<table border=\"1\" class=\"dataframe\">\n",
              "  <thead>\n",
              "    <tr style=\"text-align: right;\">\n",
              "      <th></th>\n",
              "      <th>City of Work</th>\n",
              "      <th>Age</th>\n",
              "      <th>Gender</th>\n",
              "      <th>Marital Status</th>\n",
              "      <th>Education level</th>\n",
              "      <th>Staff Type</th>\n",
              "      <th>Current working department</th>\n",
              "      <th>Living situation</th>\n",
              "      <th>I found it hard to relax after a long day.(S)</th>\n",
              "      <th>I was aware of dryness of my mouth.(A)</th>\n",
              "      <th>I couldn’t seem to experience any positive feeling at all. (D)</th>\n",
              "      <th>I experienced breathing difficulty (e.g. excessively rapid breathing, breathlessness in the absence of physical exertion)(A)</th>\n",
              "      <th>I found it difficult to work up the initiative to do things.(D)</th>\n",
              "      <th>I tended to over-react to situations.(S)</th>\n",
              "      <th>I experienced trembling (e.g. in the hands)(A)</th>\n",
              "      <th>felt that I was using a lot of nervous energy.(S)</th>\n",
              "      <th>I was worried about situations in which I might panic and make a fool of myself.(A)</th>\n",
              "      <th>I felt that I had nothing to look forward to.(D)</th>\n",
              "      <th>I found myself getting agitated.(S)</th>\n",
              "      <th>I found it difficult to relax.(S)</th>\n",
              "      <th>I felt down-hearted and sad.(D)</th>\n",
              "      <th>I was intolerant of anything that kept me from getting on with what I was doing.(S)</th>\n",
              "      <th>I felt I was close to panic.(A)</th>\n",
              "      <th>I was unable to become enthusiastic about anything.(D)</th>\n",
              "      <th>I felt I wasn’t worth much as a person.(D)</th>\n",
              "      <th>I felt that I was rather touchy.(S)</th>\n",
              "      <th>I was aware of the action of my heart in the absence of physical exertion (e.g. sense of heart rate increase, heart missing a beat)(A)</th>\n",
              "      <th>I felt scared without any good reason.(A)</th>\n",
              "      <th>I felt that life was meaningless.(D)</th>\n",
              "    </tr>\n",
              "  </thead>\n",
              "  <tbody>\n",
              "    <tr>\n",
              "      <th>0</th>\n",
              "      <td>Lahore</td>\n",
              "      <td>20-30</td>\n",
              "      <td>Male</td>\n",
              "      <td>Single</td>\n",
              "      <td>Bachelars</td>\n",
              "      <td>Paramedics</td>\n",
              "      <td>Medical ER</td>\n",
              "      <td>With Family</td>\n",
              "      <td>3</td>\n",
              "      <td>2</td>\n",
              "      <td>1</td>\n",
              "      <td>1</td>\n",
              "      <td>1</td>\n",
              "      <td>1</td>\n",
              "      <td>2</td>\n",
              "      <td>1</td>\n",
              "      <td>1</td>\n",
              "      <td>0</td>\n",
              "      <td>2</td>\n",
              "      <td>2</td>\n",
              "      <td>1</td>\n",
              "      <td>0</td>\n",
              "      <td>0</td>\n",
              "      <td>2</td>\n",
              "      <td>1</td>\n",
              "      <td>2</td>\n",
              "      <td>2</td>\n",
              "      <td>1</td>\n",
              "      <td>1</td>\n",
              "    </tr>\n",
              "    <tr>\n",
              "      <th>1</th>\n",
              "      <td>rawat</td>\n",
              "      <td>40-50</td>\n",
              "      <td>Female</td>\n",
              "      <td>Married</td>\n",
              "      <td>Post Graduation</td>\n",
              "      <td>Doctor</td>\n",
              "      <td>Others</td>\n",
              "      <td>Hostel</td>\n",
              "      <td>2</td>\n",
              "      <td>1</td>\n",
              "      <td>1</td>\n",
              "      <td>0</td>\n",
              "      <td>3</td>\n",
              "      <td>2</td>\n",
              "      <td>0</td>\n",
              "      <td>1</td>\n",
              "      <td>3</td>\n",
              "      <td>1</td>\n",
              "      <td>0</td>\n",
              "      <td>3</td>\n",
              "      <td>0</td>\n",
              "      <td>3</td>\n",
              "      <td>2</td>\n",
              "      <td>3</td>\n",
              "      <td>0</td>\n",
              "      <td>0</td>\n",
              "      <td>0</td>\n",
              "      <td>0</td>\n",
              "      <td>0</td>\n",
              "    </tr>\n",
              "    <tr>\n",
              "      <th>2</th>\n",
              "      <td>rawat</td>\n",
              "      <td>40-50</td>\n",
              "      <td>Male</td>\n",
              "      <td>Single</td>\n",
              "      <td>Post Graduation</td>\n",
              "      <td>Doctor</td>\n",
              "      <td>Isolation/Intensive care unit</td>\n",
              "      <td>Alone</td>\n",
              "      <td>3</td>\n",
              "      <td>0</td>\n",
              "      <td>3</td>\n",
              "      <td>0</td>\n",
              "      <td>0</td>\n",
              "      <td>2</td>\n",
              "      <td>0</td>\n",
              "      <td>3</td>\n",
              "      <td>0</td>\n",
              "      <td>3</td>\n",
              "      <td>2</td>\n",
              "      <td>0</td>\n",
              "      <td>0</td>\n",
              "      <td>3</td>\n",
              "      <td>0</td>\n",
              "      <td>0</td>\n",
              "      <td>3</td>\n",
              "      <td>0</td>\n",
              "      <td>3</td>\n",
              "      <td>0</td>\n",
              "      <td>2</td>\n",
              "    </tr>\n",
              "    <tr>\n",
              "      <th>3</th>\n",
              "      <td>Lahore</td>\n",
              "      <td>20-30</td>\n",
              "      <td>Male</td>\n",
              "      <td>Married</td>\n",
              "      <td>PG Resident</td>\n",
              "      <td>Doctor</td>\n",
              "      <td>Surgical and allied</td>\n",
              "      <td>With Family</td>\n",
              "      <td>0</td>\n",
              "      <td>1</td>\n",
              "      <td>2</td>\n",
              "      <td>0</td>\n",
              "      <td>2</td>\n",
              "      <td>0</td>\n",
              "      <td>0</td>\n",
              "      <td>0</td>\n",
              "      <td>1</td>\n",
              "      <td>0</td>\n",
              "      <td>0</td>\n",
              "      <td>0</td>\n",
              "      <td>0</td>\n",
              "      <td>0</td>\n",
              "      <td>0</td>\n",
              "      <td>0</td>\n",
              "      <td>0</td>\n",
              "      <td>0</td>\n",
              "      <td>0</td>\n",
              "      <td>0</td>\n",
              "      <td>0</td>\n",
              "    </tr>\n",
              "    <tr>\n",
              "      <th>4</th>\n",
              "      <td>Lahore</td>\n",
              "      <td>20-30</td>\n",
              "      <td>Male</td>\n",
              "      <td>Single</td>\n",
              "      <td>PG Resident</td>\n",
              "      <td>Doctor</td>\n",
              "      <td>Medical ER</td>\n",
              "      <td>With Family</td>\n",
              "      <td>2</td>\n",
              "      <td>2</td>\n",
              "      <td>1</td>\n",
              "      <td>3</td>\n",
              "      <td>2</td>\n",
              "      <td>3</td>\n",
              "      <td>2</td>\n",
              "      <td>2</td>\n",
              "      <td>0</td>\n",
              "      <td>0</td>\n",
              "      <td>1</td>\n",
              "      <td>2</td>\n",
              "      <td>2</td>\n",
              "      <td>3</td>\n",
              "      <td>2</td>\n",
              "      <td>0</td>\n",
              "      <td>0</td>\n",
              "      <td>2</td>\n",
              "      <td>2</td>\n",
              "      <td>0</td>\n",
              "      <td>0</td>\n",
              "    </tr>\n",
              "  </tbody>\n",
              "</table>\n",
              "</div>"
            ],
            "text/plain": [
              "  City of Work  ... I felt that life was meaningless.(D)\n",
              "0       Lahore  ...                                    1\n",
              "1        rawat  ...                                    0\n",
              "2        rawat  ...                                    2\n",
              "3       Lahore  ...                                    0\n",
              "4       Lahore  ...                                    0\n",
              "\n",
              "[5 rows x 29 columns]"
            ]
          },
          "metadata": {
            "tags": []
          },
          "execution_count": 27
        }
      ]
    },
    {
      "cell_type": "markdown",
      "metadata": {
        "id": "SyzmlNtFXlFE"
      },
      "source": [
        "Look for null values in the dataset"
      ]
    },
    {
      "cell_type": "code",
      "metadata": {
        "colab": {
          "base_uri": "https://localhost:8080/"
        },
        "id": "3ne6kLWsEveH",
        "outputId": "5c99c861-3d58-4e71-b262-6d366292cdfb"
      },
      "source": [
        "df.isna().sum().sum()"
      ],
      "execution_count": 82,
      "outputs": [
        {
          "output_type": "execute_result",
          "data": {
            "text/plain": [
              "0"
            ]
          },
          "metadata": {
            "tags": []
          },
          "execution_count": 82
        }
      ]
    },
    {
      "cell_type": "code",
      "metadata": {
        "colab": {
          "base_uri": "https://localhost:8080/"
        },
        "id": "WgkY4UrvE25-",
        "outputId": "7b1962b7-a8d8-4284-957b-481c2ced93be"
      },
      "source": [
        "df['City of Work']\r\n"
      ],
      "execution_count": 29,
      "outputs": [
        {
          "output_type": "execute_result",
          "data": {
            "text/plain": [
              "0           Lahore\n",
              "1            rawat\n",
              "2            rawat\n",
              "3           Lahore\n",
              "4           Lahore\n",
              "          ...     \n",
              "127         multan\n",
              "128         multan\n",
              "129         multan\n",
              "130            Rwp\n",
              "131    Rawalpindi \n",
              "Name: City of Work, Length: 132, dtype: object"
            ]
          },
          "metadata": {
            "tags": []
          },
          "execution_count": 29
        }
      ]
    },
    {
      "cell_type": "markdown",
      "metadata": {
        "id": "9ZXvrncMYFzD"
      },
      "source": [
        "After analysisng the City of work column in our dataset it is found that different people used differetn spellings to speel their cities. Some paramedics used short form spellings of their cities. So it was normalized and standard spellings were used for each city"
      ]
    },
    {
      "cell_type": "code",
      "metadata": {
        "id": "XdDXdaeKXboo"
      },
      "source": [
        "df['City of Work'] = df['City of Work'].replace(['multan', 'mulltan','Layyah','Kahror Pacca'], 'Multan')"
      ],
      "execution_count": 83,
      "outputs": []
    },
    {
      "cell_type": "code",
      "metadata": {
        "id": "2B0WRu-UFBU3"
      },
      "source": [
        "df['City of Work'] = df['City of Work'].replace(['lahore', 'Lahorw', 'Lhr','Lahore '], 'Lahore')"
      ],
      "execution_count": 84,
      "outputs": []
    },
    {
      "cell_type": "code",
      "metadata": {
        "id": "BpOGZpiamzI3"
      },
      "source": [
        "df['City of Work'] = df['City of Work'].replace(['Rawalpindi ', 'Rawalpindi','Rawal pindi ','rawalpindu', 'Rwp','Rawalpi di', 'Pindi','Chakwal ','rawat'], 'Rawalpindi')"
      ],
      "execution_count": 85,
      "outputs": []
    },
    {
      "cell_type": "code",
      "metadata": {
        "id": "qobFD6l1nqPG"
      },
      "source": [
        "df['City of Work'] = df['City of Work'].replace(['Islambad ','Islamabad ', 'Isb','islamabad'], 'Islamabad')"
      ],
      "execution_count": 86,
      "outputs": []
    },
    {
      "cell_type": "code",
      "metadata": {
        "id": "w7KsLfMKpkIm"
      },
      "source": [
        "df['City of Work'] = df['City of Work'].replace(['mirpur azad kashmir ', 'Bhimber  AJK'],'AJK')"
      ],
      "execution_count": 87,
      "outputs": []
    },
    {
      "cell_type": "code",
      "metadata": {
        "id": "swkfUqOYqSj9"
      },
      "source": [
        "df['City of Work'] = df['City of Work'].replace(['Sialkot ','Gujrat'], 'Sialkot')"
      ],
      "execution_count": 88,
      "outputs": []
    },
    {
      "cell_type": "code",
      "metadata": {
        "id": "slaEzV5RrZj_"
      },
      "source": [
        "df['City of Work'] = df['City of Work'].replace(['Khushab ', 'Sargodha '], 'Sargodha')"
      ],
      "execution_count": 89,
      "outputs": []
    },
    {
      "cell_type": "code",
      "metadata": {
        "id": "E42m9P1OtHKw"
      },
      "source": [
        "df['City of Work'] = df['City of Work'].replace(['Karachi '], 'Karachi')"
      ],
      "execution_count": 90,
      "outputs": []
    },
    {
      "cell_type": "code",
      "metadata": {
        "colab": {
          "base_uri": "https://localhost:8080/"
        },
        "id": "6Ymk5GFAdF4_",
        "outputId": "48a2d0e9-94df-4bf8-dead-36fc111be5d3"
      },
      "source": [
        "df['City of Work'].unique()"
      ],
      "execution_count": 91,
      "outputs": [
        {
          "output_type": "execute_result",
          "data": {
            "text/plain": [
              "array(['Lahore', 'Rawalpindi', 'Sialkot', 'Islamabad', 'Karachi',\n",
              "       'Rahim Yar Khan', 'Peshawar', 'Sargodha', 'Multan', 'AJK'],\n",
              "      dtype=object)"
            ]
          },
          "metadata": {
            "tags": []
          },
          "execution_count": 91
        }
      ]
    },
    {
      "cell_type": "code",
      "metadata": {
        "id": "bAHvtj9MWvls"
      },
      "source": [
        "# remaining cities \r\n",
        "# 'Rahim Yar Khan', 'Peshawar' "
      ],
      "execution_count": null,
      "outputs": []
    },
    {
      "cell_type": "code",
      "metadata": {
        "colab": {
          "base_uri": "https://localhost:8080/"
        },
        "id": "PjZoGyzXfR9Z",
        "outputId": "c678f53c-a3a5-4813-ff1d-344aa7cb17c1"
      },
      "source": [
        "df.columns"
      ],
      "execution_count": 92,
      "outputs": [
        {
          "output_type": "execute_result",
          "data": {
            "text/plain": [
              "Index(['City of Work', 'Age', 'Gender', 'Marital Status', 'Education level',\n",
              "       'Staff Type', 'Current working department', 'Living situation',\n",
              "       'I found it hard to relax after a long day.(S)',\n",
              "       'I was aware of dryness of my mouth.(A)',\n",
              "       'I couldn’t seem to experience any positive feeling at all. (D)',\n",
              "       'I experienced breathing difficulty (e.g. excessively rapid breathing, breathlessness in the absence of physical exertion)(A)',\n",
              "       'I found it difficult to work up the initiative to do things.(D)',\n",
              "       'I tended to over-react to situations.(S)',\n",
              "       'I experienced trembling (e.g. in the hands)(A)',\n",
              "       ' felt that I was using a lot of nervous energy.(S)',\n",
              "       'I was worried about situations in which I might panic and make a fool of myself.(A)',\n",
              "       'I felt that I had nothing to look forward to.(D)',\n",
              "       'I found myself getting agitated.(S)',\n",
              "       'I found it difficult to relax.(S)', 'I felt down-hearted and sad.(D)',\n",
              "       'I was intolerant of anything that kept me from getting on with what I was doing.(S)',\n",
              "       'I felt I was close to panic.(A)',\n",
              "       'I was unable to become enthusiastic about anything.(D)',\n",
              "       'I felt I wasn’t worth much as a person.(D)',\n",
              "       'I felt that I was rather touchy.(S)',\n",
              "       'I was aware of the action of my heart in the absence of physical exertion (e.g. sense of heart rate increase, heart missing a beat)(A)',\n",
              "       'I felt scared without any good reason.(A)',\n",
              "       'I felt that life was meaningless.(D)'],\n",
              "      dtype='object')"
            ]
          },
          "metadata": {
            "tags": []
          },
          "execution_count": 92
        }
      ]
    },
    {
      "cell_type": "code",
      "metadata": {
        "id": "lgdOe41iW7bh"
      },
      "source": [
        "df.rename(columns={'I found it hard to relax after a long day.(S)':'S1',\r\n",
        "       'I was aware of dryness of my mouth.(A)':'A1',\r\n",
        "       'I couldn’t seem to experience any positive feeling at all. (D)':'D1',\r\n",
        "       'I experienced breathing difficulty (e.g. excessively rapid breathing, breathlessness in the absence of physical exertion)(A)':'A2',\r\n",
        "       'I found it difficult to work up the initiative to do things.(D)':'D2',\r\n",
        "       'I tended to over-react to situations.(S)':'S2',\r\n",
        "       'I experienced trembling (e.g. in the hands)(A)':'A3',\r\n",
        "       ' felt that I was using a lot of nervous energy.(S)':'S3',\r\n",
        "       'I was worried about situations in which I might panic and make a fool of myself.(A)':'A4',\r\n",
        "       'I felt that I had nothing to look forward to.(D)':'D3',\r\n",
        "       'I found myself getting agitated.(S)':'S4',\r\n",
        "       'I found it difficult to relax.(S)':'S5', 'I felt down-hearted and sad.(D)':'D4',\r\n",
        "       'I was intolerant of anything that kept me from getting on with what I was doing.(S)':'S6',\r\n",
        "       'I felt I was close to panic.(A)':'A5',\r\n",
        "       'I was unable to become enthusiastic about anything.(D)':'D5',\r\n",
        "       'I felt I wasn’t worth much as a person.(D)':'D6',\r\n",
        "       'I felt that I was rather touchy.(S)':'S7',\r\n",
        "       'I was aware of the action of my heart in the absence of physical exertion (e.g. sense of heart rate increase, heart missing a beat)(A)':'A6',\r\n",
        "       'I felt scared without any good reason.(A)':'A7',\r\n",
        "       'I felt that life was meaningless.(D)':'D7'}, inplace=True)"
      ],
      "execution_count": 93,
      "outputs": []
    },
    {
      "cell_type": "markdown",
      "metadata": {
        "id": "tix57PH2YKPm"
      },
      "source": [
        "The columns were renamed and representations were made for them. S=STress, D=Dpression, A=Anxiety; each category having the 7 questions for evalustion."
      ]
    },
    {
      "cell_type": "code",
      "metadata": {
        "colab": {
          "base_uri": "https://localhost:8080/"
        },
        "id": "RL9lKz88gYDR",
        "outputId": "626b51e7-5916-49a5-828f-f617794eaa6a"
      },
      "source": [
        "df.columns"
      ],
      "execution_count": 94,
      "outputs": [
        {
          "output_type": "execute_result",
          "data": {
            "text/plain": [
              "Index(['City of Work', 'Age', 'Gender', 'Marital Status', 'Education level',\n",
              "       'Staff Type', 'Current working department', 'Living situation', 'S1',\n",
              "       'A1', 'D1', 'A2', 'D2', 'S2', 'A3', 'S3', 'A4', 'D3', 'S4', 'S5', 'D4',\n",
              "       'S6', 'A5', 'D5', 'D6', 'S7', 'A6', 'A7', 'D7'],\n",
              "      dtype='object')"
            ]
          },
          "metadata": {
            "tags": []
          },
          "execution_count": 94
        }
      ]
    },
    {
      "cell_type": "code",
      "metadata": {
        "colab": {
          "base_uri": "https://localhost:8080/",
          "height": 333
        },
        "id": "O4nLLjbrgZCK",
        "outputId": "caf5a329-6bbc-48a0-8196-11325e226147"
      },
      "source": [
        "df.head()"
      ],
      "execution_count": 95,
      "outputs": [
        {
          "output_type": "execute_result",
          "data": {
            "text/html": [
              "<div>\n",
              "<style scoped>\n",
              "    .dataframe tbody tr th:only-of-type {\n",
              "        vertical-align: middle;\n",
              "    }\n",
              "\n",
              "    .dataframe tbody tr th {\n",
              "        vertical-align: top;\n",
              "    }\n",
              "\n",
              "    .dataframe thead th {\n",
              "        text-align: right;\n",
              "    }\n",
              "</style>\n",
              "<table border=\"1\" class=\"dataframe\">\n",
              "  <thead>\n",
              "    <tr style=\"text-align: right;\">\n",
              "      <th></th>\n",
              "      <th>City of Work</th>\n",
              "      <th>Age</th>\n",
              "      <th>Gender</th>\n",
              "      <th>Marital Status</th>\n",
              "      <th>Education level</th>\n",
              "      <th>Staff Type</th>\n",
              "      <th>Current working department</th>\n",
              "      <th>Living situation</th>\n",
              "      <th>S1</th>\n",
              "      <th>A1</th>\n",
              "      <th>D1</th>\n",
              "      <th>A2</th>\n",
              "      <th>D2</th>\n",
              "      <th>S2</th>\n",
              "      <th>A3</th>\n",
              "      <th>S3</th>\n",
              "      <th>A4</th>\n",
              "      <th>D3</th>\n",
              "      <th>S4</th>\n",
              "      <th>S5</th>\n",
              "      <th>D4</th>\n",
              "      <th>S6</th>\n",
              "      <th>A5</th>\n",
              "      <th>D5</th>\n",
              "      <th>D6</th>\n",
              "      <th>S7</th>\n",
              "      <th>A6</th>\n",
              "      <th>A7</th>\n",
              "      <th>D7</th>\n",
              "    </tr>\n",
              "  </thead>\n",
              "  <tbody>\n",
              "    <tr>\n",
              "      <th>0</th>\n",
              "      <td>Lahore</td>\n",
              "      <td>20-30</td>\n",
              "      <td>Male</td>\n",
              "      <td>Single</td>\n",
              "      <td>Bachelars</td>\n",
              "      <td>Paramedics</td>\n",
              "      <td>Medical ER</td>\n",
              "      <td>With Family</td>\n",
              "      <td>3</td>\n",
              "      <td>2</td>\n",
              "      <td>1</td>\n",
              "      <td>1</td>\n",
              "      <td>1</td>\n",
              "      <td>1</td>\n",
              "      <td>2</td>\n",
              "      <td>1</td>\n",
              "      <td>1</td>\n",
              "      <td>0</td>\n",
              "      <td>2</td>\n",
              "      <td>2</td>\n",
              "      <td>1</td>\n",
              "      <td>0</td>\n",
              "      <td>0</td>\n",
              "      <td>2</td>\n",
              "      <td>1</td>\n",
              "      <td>2</td>\n",
              "      <td>2</td>\n",
              "      <td>1</td>\n",
              "      <td>1</td>\n",
              "    </tr>\n",
              "    <tr>\n",
              "      <th>1</th>\n",
              "      <td>Rawalpindi</td>\n",
              "      <td>40-50</td>\n",
              "      <td>Female</td>\n",
              "      <td>Married</td>\n",
              "      <td>Post Graduation</td>\n",
              "      <td>Doctor</td>\n",
              "      <td>Others</td>\n",
              "      <td>Hostel</td>\n",
              "      <td>2</td>\n",
              "      <td>1</td>\n",
              "      <td>1</td>\n",
              "      <td>0</td>\n",
              "      <td>3</td>\n",
              "      <td>2</td>\n",
              "      <td>0</td>\n",
              "      <td>1</td>\n",
              "      <td>3</td>\n",
              "      <td>1</td>\n",
              "      <td>0</td>\n",
              "      <td>3</td>\n",
              "      <td>0</td>\n",
              "      <td>3</td>\n",
              "      <td>2</td>\n",
              "      <td>3</td>\n",
              "      <td>0</td>\n",
              "      <td>0</td>\n",
              "      <td>0</td>\n",
              "      <td>0</td>\n",
              "      <td>0</td>\n",
              "    </tr>\n",
              "    <tr>\n",
              "      <th>2</th>\n",
              "      <td>Rawalpindi</td>\n",
              "      <td>40-50</td>\n",
              "      <td>Male</td>\n",
              "      <td>Single</td>\n",
              "      <td>Post Graduation</td>\n",
              "      <td>Doctor</td>\n",
              "      <td>Isolation/Intensive care unit</td>\n",
              "      <td>Alone</td>\n",
              "      <td>3</td>\n",
              "      <td>0</td>\n",
              "      <td>3</td>\n",
              "      <td>0</td>\n",
              "      <td>0</td>\n",
              "      <td>2</td>\n",
              "      <td>0</td>\n",
              "      <td>3</td>\n",
              "      <td>0</td>\n",
              "      <td>3</td>\n",
              "      <td>2</td>\n",
              "      <td>0</td>\n",
              "      <td>0</td>\n",
              "      <td>3</td>\n",
              "      <td>0</td>\n",
              "      <td>0</td>\n",
              "      <td>3</td>\n",
              "      <td>0</td>\n",
              "      <td>3</td>\n",
              "      <td>0</td>\n",
              "      <td>2</td>\n",
              "    </tr>\n",
              "    <tr>\n",
              "      <th>3</th>\n",
              "      <td>Lahore</td>\n",
              "      <td>20-30</td>\n",
              "      <td>Male</td>\n",
              "      <td>Married</td>\n",
              "      <td>PG Resident</td>\n",
              "      <td>Doctor</td>\n",
              "      <td>Surgical and allied</td>\n",
              "      <td>With Family</td>\n",
              "      <td>0</td>\n",
              "      <td>1</td>\n",
              "      <td>2</td>\n",
              "      <td>0</td>\n",
              "      <td>2</td>\n",
              "      <td>0</td>\n",
              "      <td>0</td>\n",
              "      <td>0</td>\n",
              "      <td>1</td>\n",
              "      <td>0</td>\n",
              "      <td>0</td>\n",
              "      <td>0</td>\n",
              "      <td>0</td>\n",
              "      <td>0</td>\n",
              "      <td>0</td>\n",
              "      <td>0</td>\n",
              "      <td>0</td>\n",
              "      <td>0</td>\n",
              "      <td>0</td>\n",
              "      <td>0</td>\n",
              "      <td>0</td>\n",
              "    </tr>\n",
              "    <tr>\n",
              "      <th>4</th>\n",
              "      <td>Lahore</td>\n",
              "      <td>20-30</td>\n",
              "      <td>Male</td>\n",
              "      <td>Single</td>\n",
              "      <td>PG Resident</td>\n",
              "      <td>Doctor</td>\n",
              "      <td>Medical ER</td>\n",
              "      <td>With Family</td>\n",
              "      <td>2</td>\n",
              "      <td>2</td>\n",
              "      <td>1</td>\n",
              "      <td>3</td>\n",
              "      <td>2</td>\n",
              "      <td>3</td>\n",
              "      <td>2</td>\n",
              "      <td>2</td>\n",
              "      <td>0</td>\n",
              "      <td>0</td>\n",
              "      <td>1</td>\n",
              "      <td>2</td>\n",
              "      <td>2</td>\n",
              "      <td>3</td>\n",
              "      <td>2</td>\n",
              "      <td>0</td>\n",
              "      <td>0</td>\n",
              "      <td>2</td>\n",
              "      <td>2</td>\n",
              "      <td>0</td>\n",
              "      <td>0</td>\n",
              "    </tr>\n",
              "  </tbody>\n",
              "</table>\n",
              "</div>"
            ],
            "text/plain": [
              "  City of Work    Age  Gender Marital Status  ... S7 A6 A7 D7\n",
              "0       Lahore  20-30    Male         Single  ...  2  2  1  1\n",
              "1   Rawalpindi  40-50  Female        Married  ...  0  0  0  0\n",
              "2   Rawalpindi  40-50    Male         Single  ...  0  3  0  2\n",
              "3       Lahore  20-30    Male        Married  ...  0  0  0  0\n",
              "4       Lahore  20-30    Male         Single  ...  2  2  0  0\n",
              "\n",
              "[5 rows x 29 columns]"
            ]
          },
          "metadata": {
            "tags": []
          },
          "execution_count": 95
        }
      ]
    },
    {
      "cell_type": "code",
      "metadata": {
        "id": "9uAORvuShF-3",
        "colab": {
          "base_uri": "https://localhost:8080/"
        },
        "outputId": "e8fb3345-7856-457d-be62-c63b4e7edc89"
      },
      "source": [
        "df.columns"
      ],
      "execution_count": null,
      "outputs": [
        {
          "output_type": "execute_result",
          "data": {
            "text/plain": [
              "Index(['City of Work', 'Age', 'Gender', 'Marital Status', 'Education level',\n",
              "       'Staff Type', 'Current working department', 'Living situation', 'S1',\n",
              "       'A1', 'D1', 'A2', 'D2', 'S2', 'A3', 'S3', 'A4', 'D3', 'S4', 'S5', 'D4',\n",
              "       'S6', 'A5', 'D5', 'D6', 'S7', 'A6', 'A7', 'D7'],\n",
              "      dtype='object')"
            ]
          },
          "metadata": {
            "tags": []
          },
          "execution_count": 24
        }
      ]
    },
    {
      "cell_type": "code",
      "metadata": {
        "id": "Hdl3y-jAfDMY"
      },
      "source": [
        "stress = ['S1', 'S2', 'S3', 'S4', 'S5', 'S6', 'S7']\r\n",
        "anxiety = ['A1', 'A2', 'A3', 'A4', 'A5', 'A6', 'A7']\r\n",
        "depression = ['D1', 'D2', 'D3', 'D4', 'D5', 'D6', 'D7']"
      ],
      "execution_count": 96,
      "outputs": []
    },
    {
      "cell_type": "code",
      "metadata": {
        "id": "lwIwskCsfu-M"
      },
      "source": [
        "stress_calculation = df[stress].sum(axis =1) * 2\r\n",
        "df['stress_calculation'] = stress_calculation"
      ],
      "execution_count": 97,
      "outputs": []
    },
    {
      "cell_type": "code",
      "metadata": {
        "id": "TV_7-V_Of-pP"
      },
      "source": [
        "anxiety_calculation = df[anxiety].sum(axis=1) * 2\r\n",
        "df['anxiety_calculation'] = anxiety_calculation"
      ],
      "execution_count": 98,
      "outputs": []
    },
    {
      "cell_type": "code",
      "metadata": {
        "id": "Zg64b1vUhIpc"
      },
      "source": [
        "depression_calculation = df[depression].sum(axis=1) * 2\r\n",
        "df['depression_calculation'] = depression_calculation"
      ],
      "execution_count": 99,
      "outputs": []
    },
    {
      "cell_type": "code",
      "metadata": {
        "id": "y21kP511c_JX",
        "colab": {
          "base_uri": "https://localhost:8080/",
          "height": 333
        },
        "outputId": "a097a62f-f733-4380-fde0-ec8f3c7bd9a2"
      },
      "source": [
        "df.head()"
      ],
      "execution_count": 47,
      "outputs": [
        {
          "output_type": "execute_result",
          "data": {
            "text/html": [
              "<div>\n",
              "<style scoped>\n",
              "    .dataframe tbody tr th:only-of-type {\n",
              "        vertical-align: middle;\n",
              "    }\n",
              "\n",
              "    .dataframe tbody tr th {\n",
              "        vertical-align: top;\n",
              "    }\n",
              "\n",
              "    .dataframe thead th {\n",
              "        text-align: right;\n",
              "    }\n",
              "</style>\n",
              "<table border=\"1\" class=\"dataframe\">\n",
              "  <thead>\n",
              "    <tr style=\"text-align: right;\">\n",
              "      <th></th>\n",
              "      <th>City of Work</th>\n",
              "      <th>Age</th>\n",
              "      <th>Gender</th>\n",
              "      <th>Marital Status</th>\n",
              "      <th>Education level</th>\n",
              "      <th>Staff Type</th>\n",
              "      <th>Current working department</th>\n",
              "      <th>Living situation</th>\n",
              "      <th>S1</th>\n",
              "      <th>A1</th>\n",
              "      <th>D1</th>\n",
              "      <th>A2</th>\n",
              "      <th>D2</th>\n",
              "      <th>S2</th>\n",
              "      <th>A3</th>\n",
              "      <th>S3</th>\n",
              "      <th>A4</th>\n",
              "      <th>D3</th>\n",
              "      <th>S4</th>\n",
              "      <th>S5</th>\n",
              "      <th>D4</th>\n",
              "      <th>S6</th>\n",
              "      <th>A5</th>\n",
              "      <th>D5</th>\n",
              "      <th>D6</th>\n",
              "      <th>S7</th>\n",
              "      <th>A6</th>\n",
              "      <th>A7</th>\n",
              "      <th>D7</th>\n",
              "      <th>stress_calculation</th>\n",
              "      <th>anxiety_calculation</th>\n",
              "      <th>depression_calculation</th>\n",
              "    </tr>\n",
              "  </thead>\n",
              "  <tbody>\n",
              "    <tr>\n",
              "      <th>0</th>\n",
              "      <td>Lahore</td>\n",
              "      <td>20-30</td>\n",
              "      <td>Male</td>\n",
              "      <td>Single</td>\n",
              "      <td>Bachelars</td>\n",
              "      <td>Paramedics</td>\n",
              "      <td>Medical ER</td>\n",
              "      <td>With Family</td>\n",
              "      <td>3</td>\n",
              "      <td>2</td>\n",
              "      <td>1</td>\n",
              "      <td>1</td>\n",
              "      <td>1</td>\n",
              "      <td>1</td>\n",
              "      <td>2</td>\n",
              "      <td>1</td>\n",
              "      <td>1</td>\n",
              "      <td>0</td>\n",
              "      <td>2</td>\n",
              "      <td>2</td>\n",
              "      <td>1</td>\n",
              "      <td>0</td>\n",
              "      <td>0</td>\n",
              "      <td>2</td>\n",
              "      <td>1</td>\n",
              "      <td>2</td>\n",
              "      <td>2</td>\n",
              "      <td>1</td>\n",
              "      <td>1</td>\n",
              "      <td>22</td>\n",
              "      <td>18</td>\n",
              "      <td>14</td>\n",
              "    </tr>\n",
              "    <tr>\n",
              "      <th>1</th>\n",
              "      <td>Rawalpindi</td>\n",
              "      <td>40-50</td>\n",
              "      <td>Female</td>\n",
              "      <td>Married</td>\n",
              "      <td>Post Graduation</td>\n",
              "      <td>Doctor</td>\n",
              "      <td>Others</td>\n",
              "      <td>Hostel</td>\n",
              "      <td>2</td>\n",
              "      <td>1</td>\n",
              "      <td>1</td>\n",
              "      <td>0</td>\n",
              "      <td>3</td>\n",
              "      <td>2</td>\n",
              "      <td>0</td>\n",
              "      <td>1</td>\n",
              "      <td>3</td>\n",
              "      <td>1</td>\n",
              "      <td>0</td>\n",
              "      <td>3</td>\n",
              "      <td>0</td>\n",
              "      <td>3</td>\n",
              "      <td>2</td>\n",
              "      <td>3</td>\n",
              "      <td>0</td>\n",
              "      <td>0</td>\n",
              "      <td>0</td>\n",
              "      <td>0</td>\n",
              "      <td>0</td>\n",
              "      <td>22</td>\n",
              "      <td>12</td>\n",
              "      <td>16</td>\n",
              "    </tr>\n",
              "    <tr>\n",
              "      <th>2</th>\n",
              "      <td>Rawalpindi</td>\n",
              "      <td>40-50</td>\n",
              "      <td>Male</td>\n",
              "      <td>Single</td>\n",
              "      <td>Post Graduation</td>\n",
              "      <td>Doctor</td>\n",
              "      <td>Isolation/Intensive care unit</td>\n",
              "      <td>Alone</td>\n",
              "      <td>3</td>\n",
              "      <td>0</td>\n",
              "      <td>3</td>\n",
              "      <td>0</td>\n",
              "      <td>0</td>\n",
              "      <td>2</td>\n",
              "      <td>0</td>\n",
              "      <td>3</td>\n",
              "      <td>0</td>\n",
              "      <td>3</td>\n",
              "      <td>2</td>\n",
              "      <td>0</td>\n",
              "      <td>0</td>\n",
              "      <td>3</td>\n",
              "      <td>0</td>\n",
              "      <td>0</td>\n",
              "      <td>3</td>\n",
              "      <td>0</td>\n",
              "      <td>3</td>\n",
              "      <td>0</td>\n",
              "      <td>2</td>\n",
              "      <td>26</td>\n",
              "      <td>6</td>\n",
              "      <td>22</td>\n",
              "    </tr>\n",
              "    <tr>\n",
              "      <th>3</th>\n",
              "      <td>Lahore</td>\n",
              "      <td>20-30</td>\n",
              "      <td>Male</td>\n",
              "      <td>Married</td>\n",
              "      <td>PG Resident</td>\n",
              "      <td>Doctor</td>\n",
              "      <td>Surgical and allied</td>\n",
              "      <td>With Family</td>\n",
              "      <td>0</td>\n",
              "      <td>1</td>\n",
              "      <td>2</td>\n",
              "      <td>0</td>\n",
              "      <td>2</td>\n",
              "      <td>0</td>\n",
              "      <td>0</td>\n",
              "      <td>0</td>\n",
              "      <td>1</td>\n",
              "      <td>0</td>\n",
              "      <td>0</td>\n",
              "      <td>0</td>\n",
              "      <td>0</td>\n",
              "      <td>0</td>\n",
              "      <td>0</td>\n",
              "      <td>0</td>\n",
              "      <td>0</td>\n",
              "      <td>0</td>\n",
              "      <td>0</td>\n",
              "      <td>0</td>\n",
              "      <td>0</td>\n",
              "      <td>0</td>\n",
              "      <td>4</td>\n",
              "      <td>8</td>\n",
              "    </tr>\n",
              "    <tr>\n",
              "      <th>4</th>\n",
              "      <td>Lahore</td>\n",
              "      <td>20-30</td>\n",
              "      <td>Male</td>\n",
              "      <td>Single</td>\n",
              "      <td>PG Resident</td>\n",
              "      <td>Doctor</td>\n",
              "      <td>Medical ER</td>\n",
              "      <td>With Family</td>\n",
              "      <td>2</td>\n",
              "      <td>2</td>\n",
              "      <td>1</td>\n",
              "      <td>3</td>\n",
              "      <td>2</td>\n",
              "      <td>3</td>\n",
              "      <td>2</td>\n",
              "      <td>2</td>\n",
              "      <td>0</td>\n",
              "      <td>0</td>\n",
              "      <td>1</td>\n",
              "      <td>2</td>\n",
              "      <td>2</td>\n",
              "      <td>3</td>\n",
              "      <td>2</td>\n",
              "      <td>0</td>\n",
              "      <td>0</td>\n",
              "      <td>2</td>\n",
              "      <td>2</td>\n",
              "      <td>0</td>\n",
              "      <td>0</td>\n",
              "      <td>30</td>\n",
              "      <td>22</td>\n",
              "      <td>10</td>\n",
              "    </tr>\n",
              "  </tbody>\n",
              "</table>\n",
              "</div>"
            ],
            "text/plain": [
              "  City of Work    Age  ... anxiety_calculation depression_calculation\n",
              "0       Lahore  20-30  ...                  18                     14\n",
              "1   Rawalpindi  40-50  ...                  12                     16\n",
              "2   Rawalpindi  40-50  ...                   6                     22\n",
              "3       Lahore  20-30  ...                   4                      8\n",
              "4       Lahore  20-30  ...                  22                     10\n",
              "\n",
              "[5 rows x 32 columns]"
            ]
          },
          "metadata": {
            "tags": []
          },
          "execution_count": 47
        }
      ]
    },
    {
      "cell_type": "code",
      "metadata": {
        "colab": {
          "base_uri": "https://localhost:8080/"
        },
        "id": "pQSP1zZqrGXf",
        "outputId": "01b78a72-1f48-405b-e0f2-bdd9f7968655"
      },
      "source": [
        "print('mean',df['stress_calculation'].mean(),'STD',df['stress_calculation'].std(), 'median', df['stress_calculation'].median() )"
      ],
      "execution_count": 100,
      "outputs": [
        {
          "output_type": "stream",
          "text": [
            "mean 17.060606060606062 STD 9.708544733957849 median 16.0\n"
          ],
          "name": "stdout"
        }
      ]
    },
    {
      "cell_type": "code",
      "metadata": {
        "colab": {
          "base_uri": "https://localhost:8080/"
        },
        "id": "1t117OQ0rRHt",
        "outputId": "d510fd62-da0f-41b5-9cc1-74e4e2d89e93"
      },
      "source": [
        "print('mean',df['anxiety_calculation'].mean(),'STD',df['anxiety_calculation'].std(),'median', df['anxiety_calculation'].median() )"
      ],
      "execution_count": 101,
      "outputs": [
        {
          "output_type": "stream",
          "text": [
            "mean 12.636363636363637 STD 9.067408904045932 median 12.0\n"
          ],
          "name": "stdout"
        }
      ]
    },
    {
      "cell_type": "code",
      "metadata": {
        "colab": {
          "base_uri": "https://localhost:8080/"
        },
        "id": "SwtG-ykGrGTZ",
        "outputId": "2d685b04-f648-41b5-9c51-abc0c8e87354"
      },
      "source": [
        "print('mean',df['depression_calculation'].mean(),'STD',df['depression_calculation'].std(),'median', df['depression_calculation'].median() )"
      ],
      "execution_count": 102,
      "outputs": [
        {
          "output_type": "stream",
          "text": [
            "mean 14.43939393939394 STD 9.38836178651349 median 14.0\n"
          ],
          "name": "stdout"
        }
      ]
    },
    {
      "cell_type": "code",
      "metadata": {
        "colab": {
          "base_uri": "https://localhost:8080/",
          "height": 282
        },
        "id": "CktOp12RrGPk",
        "outputId": "12991782-4825-49d0-ef13-2863a9f9df51"
      },
      "source": [
        "df['stress_calculation'].hist()"
      ],
      "execution_count": 103,
      "outputs": [
        {
          "output_type": "execute_result",
          "data": {
            "text/plain": [
              "<matplotlib.axes._subplots.AxesSubplot at 0x7f57f562a358>"
            ]
          },
          "metadata": {
            "tags": []
          },
          "execution_count": 103
        },
        {
          "output_type": "display_data",
          "data": {
            "image/png": "[encoded data removed]",
            "text/plain": [
              "<Figure size 432x288 with 1 Axes>"
            ]
          },
          "metadata": {
            "tags": [],
            "needs_background": "light"
          }
        }
      ]
    },
    {
      "cell_type": "code",
      "metadata": {
        "colab": {
          "base_uri": "https://localhost:8080/",
          "height": 282
        },
        "id": "EQLabVIr2z5t",
        "outputId": "79087354-a96d-4c87-ad43-ef69b793f6dd"
      },
      "source": [
        "df['depression_calculation'].hist()"
      ],
      "execution_count": 104,
      "outputs": [
        {
          "output_type": "execute_result",
          "data": {
            "text/plain": [
              "<matplotlib.axes._subplots.AxesSubplot at 0x7f57ec47e7f0>"
            ]
          },
          "metadata": {
            "tags": []
          },
          "execution_count": 104
        },
        {
          "output_type": "display_data",
          "data": {
            "image/png": "[encoded data removed]",
            "text/plain": [
              "<Figure size 432x288 with 1 Axes>"
            ]
          },
          "metadata": {
            "tags": [],
            "needs_background": "light"
          }
        }
      ]
    },
    {
      "cell_type": "code",
      "metadata": {
        "colab": {
          "base_uri": "https://localhost:8080/",
          "height": 282
        },
        "id": "prKo4x3N25DC",
        "outputId": "5bfb17b7-681f-4685-d8d2-af4da18df63b"
      },
      "source": [
        "df['anxiety_calculation'].hist()"
      ],
      "execution_count": 105,
      "outputs": [
        {
          "output_type": "execute_result",
          "data": {
            "text/plain": [
              "<matplotlib.axes._subplots.AxesSubplot at 0x7f57ec2b0f28>"
            ]
          },
          "metadata": {
            "tags": []
          },
          "execution_count": 105
        },
        {
          "output_type": "display_data",
          "data": {
            "image/png": "[encoded data removed]",
            "text/plain": [
              "<Figure size 432x288 with 1 Axes>"
            ]
          },
          "metadata": {
            "tags": [],
            "needs_background": "light"
          }
        }
      ]
    },
    {
      "cell_type": "code",
      "metadata": {
        "colab": {
          "base_uri": "https://localhost:8080/",
          "height": 283
        },
        "id": "36qzdowtrGLS",
        "outputId": "e14341fd-e246-4f61-d52d-1a0f4edf9595"
      },
      "source": [
        "df['anxiety_calculation'].plot(kind='box')"
      ],
      "execution_count": 106,
      "outputs": [
        {
          "output_type": "execute_result",
          "data": {
            "text/plain": [
              "<matplotlib.axes._subplots.AxesSubplot at 0x7f57ec2215c0>"
            ]
          },
          "metadata": {
            "tags": []
          },
          "execution_count": 106
        },
        {
          "output_type": "display_data",
          "data": {
            "image/png": "[encoded data removed]",
            "text/plain": [
              "<Figure size 432x288 with 1 Axes>"
            ]
          },
          "metadata": {
            "tags": [],
            "needs_background": "light"
          }
        }
      ]
    },
    {
      "cell_type": "code",
      "metadata": {
        "colab": {
          "base_uri": "https://localhost:8080/",
          "height": 283
        },
        "id": "G0SJ501PrGH2",
        "outputId": "e4e9e51d-63eb-42e3-fb88-d8eeb4f8eca9"
      },
      "source": [
        "df['depression_calculation'].plot(kind='box')"
      ],
      "execution_count": 107,
      "outputs": [
        {
          "output_type": "execute_result",
          "data": {
            "text/plain": [
              "<matplotlib.axes._subplots.AxesSubplot at 0x7f57ec1e6cc0>"
            ]
          },
          "metadata": {
            "tags": []
          },
          "execution_count": 107
        },
        {
          "output_type": "display_data",
          "data": {
            "image/png": "[encoded data removed]",
            "text/plain": [
              "<Figure size 432x288 with 1 Axes>"
            ]
          },
          "metadata": {
            "tags": [],
            "needs_background": "light"
          }
        }
      ]
    },
    {
      "cell_type": "code",
      "metadata": {
        "colab": {
          "base_uri": "https://localhost:8080/",
          "height": 283
        },
        "id": "QlmxwYZKrGEG",
        "outputId": "c06a1bd6-c62e-4455-c3f1-c9b0d9bced04"
      },
      "source": [
        "df['stress_calculation'].plot(kind='box')"
      ],
      "execution_count": 108,
      "outputs": [
        {
          "output_type": "execute_result",
          "data": {
            "text/plain": [
              "<matplotlib.axes._subplots.AxesSubplot at 0x7f57ec47e358>"
            ]
          },
          "metadata": {
            "tags": []
          },
          "execution_count": 108
        },
        {
          "output_type": "display_data",
          "data": {
            "image/png": "[encoded data removed]",
            "text/plain": [
              "<Figure size 432x288 with 1 Axes>"
            ]
          },
          "metadata": {
            "tags": [],
            "needs_background": "light"
          }
        }
      ]
    },
    {
      "cell_type": "code",
      "metadata": {
        "id": "ABHvKUydROHt"
      },
      "source": [
        "adf=df"
      ],
      "execution_count": 109,
      "outputs": []
    },
    {
      "cell_type": "code",
      "metadata": {
        "id": "aR711j2PRBA4"
      },
      "source": [
        "arr =  adf['anxiety_calculation'].to_numpy()\r\n"
      ],
      "execution_count": 110,
      "outputs": []
    },
    {
      "cell_type": "code",
      "metadata": {
        "id": "4xozN62mZGQC"
      },
      "source": [
        ""
      ],
      "execution_count": null,
      "outputs": []
    },
    {
      "cell_type": "code",
      "metadata": {
        "colab": {
          "base_uri": "https://localhost:8080/"
        },
        "id": "zRthTr2qRGOU",
        "outputId": "3b5b14de-8d40-42ea-912d-d20501f6f48a"
      },
      "source": [
        "df"
      ],
      "execution_count": 78,
      "outputs": [
        {
          "output_type": "execute_result",
          "data": {
            "text/plain": [
              "131"
            ]
          },
          "metadata": {
            "tags": []
          },
          "execution_count": 78
        }
      ]
    },
    {
      "cell_type": "code",
      "metadata": {
        "colab": {
          "base_uri": "https://localhost:8080/"
        },
        "id": "miSMRLRjrF-4",
        "outputId": "a718dc92-cba2-4dc4-b76f-c7d2fb550ca2"
      },
      "source": [
        "\r\n",
        "from scipy import stats\r\n",
        "import numpy as np\r\n",
        "\r\n",
        "arr =  adf['stress_calculation'].to_numpy()\r\n",
        "alpha = 0.05                # significance level = 5%\r\n",
        "df = len(arr) - 1           \r\n",
        "t = stats.t.ppf(1 - alpha/2, df) #\r\n",
        "\r\n",
        "s = np.std(arr, ddof=1) # sample standard deviation\r\n",
        "n = len(arr)\r\n",
        "print(\"Alpha=0.05 significance level = 5% \")\r\n",
        "lower = np.mean(arr) - (t * s / np.sqrt(n))\r\n",
        "upper = np.mean(arr) + (t * s / np.sqrt(n))\r\n",
        "print(lower,',', upper)\r\n",
        "\r\n",
        "print(\"Alpha=0.1 significance level = 10%\")\r\n",
        "\r\n",
        "arr =  adf['stress_calculation'].to_numpy()\r\n",
        "alpha = 0.1                # significance level = 10%\r\n",
        "df = len(arr) - 1           # degress of freedom \r\n",
        "t = stats.t.ppf(1 - alpha/2, df) # t-critical value for 95% \r\n",
        "\r\n",
        "s = np.std(arr, ddof=1) # \r\n",
        "n = len(arr)\r\n",
        "\r\n",
        "lower = np.mean(arr) - (t * s / np.sqrt(n))\r\n",
        "upper = np.mean(arr) + (t * s / np.sqrt(n))\r\n",
        "print(lower,',', upper)\r\n"
      ],
      "execution_count": 117,
      "outputs": [
        {
          "output_type": "stream",
          "text": [
            "Alpha=0.05 significance level = 5% \n",
            "15.388954227898976 , 18.73225789331315\n",
            "Alpha=0.1 significance level = 10%\n",
            "15.660771832867884 , 18.46044028834424\n"
          ],
          "name": "stdout"
        }
      ]
    },
    {
      "cell_type": "code",
      "metadata": {
        "colab": {
          "base_uri": "https://localhost:8080/"
        },
        "id": "L3qORdygrF6I",
        "outputId": "01d10194-8c35-4f26-ce64-3fe3ae9c2282"
      },
      "source": [
        "\r\n",
        "from scipy import stats\r\n",
        "import numpy as np\r\n",
        "\r\n",
        "arr =  adf['anxiety_calculation'].to_numpy()\r\n",
        "alpha = 0.05                # significance level = 5%\r\n",
        "df = len(arr) - 1           # \r\n",
        "t = stats.t.ppf(1 - alpha/2, df) # \r\n",
        "\r\n",
        "s = np.std(arr, ddof=1) # sample standard deviation\r\n",
        "n = len(arr)\r\n",
        "print(\"Alpha=0.05 significance level = 5% \")\r\n",
        "\r\n",
        "lower = np.mean(arr) - (t * s / np.sqrt(n))\r\n",
        "upper = np.mean(arr) + (t * s / np.sqrt(n))\r\n",
        "print(lower,',', upper)\r\n",
        "\r\n",
        "print(\"Alpha=0.1 significance level = 10%\")\r\n",
        "\r\n",
        "arr =  adf['anxiety_calculation'].to_numpy()\r\n",
        "alpha = 0.1                # significance level = 10%\r\n",
        "df = len(arr) - 1           # \r\n",
        "t = stats.t.ppf(1 - alpha/2, df) # \r\n",
        "\r\n",
        "s = np.std(arr, ddof=1) # \r\n",
        "n = len(arr)\r\n",
        "\r\n",
        "lower = np.mean(arr) - (t * s / np.sqrt(n))\r\n",
        "upper = np.mean(arr) + (t * s / np.sqrt(n))\r\n",
        "print(lower,',', upper)\r\n"
      ],
      "execution_count": 118,
      "outputs": [
        {
          "output_type": "stream",
          "text": [
            "Alpha=0.05 significance level = 5% \n",
            "11.075104855803463 , 14.19762241692381\n",
            "Alpha=0.1 significance level = 10%\n",
            "11.328972087104434 , 13.94375518562284\n"
          ],
          "name": "stdout"
        }
      ]
    },
    {
      "cell_type": "code",
      "metadata": {
        "colab": {
          "base_uri": "https://localhost:8080/"
        },
        "id": "c4OQI-8ErF2U",
        "outputId": "526165d2-4707-493e-ea4e-466de713ebde"
      },
      "source": [
        "from scipy import stats\r\n",
        "import numpy as np\r\n",
        "\r\n",
        "arr =  adf['depression_calculation'].to_numpy()\r\n",
        "alpha = 0.05                # significance level = 5%\r\n",
        "df = len(arr) - 1          \r\n",
        "t = stats.t.ppf(1 - alpha/2, df) \r\n",
        "\r\n",
        "s = np.std(arr, ddof=1) # sample standard deviation\r\n",
        "n = len(arr)\r\n",
        "\r\n",
        "lower = np.mean(arr) - (t * s / np.sqrt(n))\r\n",
        "upper = np.mean(arr) + (t * s / np.sqrt(n))\r\n",
        "print(lower,',', upper)\r\n",
        "\r\n",
        "print(\"Alpha=10 values\")\r\n",
        "\r\n",
        "arr =  adf['depression_calculation'].to_numpy()\r\n",
        "alpha = 0.1                # significance level = 10%\r\n",
        "df = len(arr) - 1           \r\n",
        "t = stats.t.ppf(1 - alpha/2, df) \r\n",
        "\r\n",
        "s = np.std(arr, ddof=1) \r\n",
        "n = len(arr)\r\n",
        "\r\n",
        "lower = np.mean(arr) - (t * s / np.sqrt(n))\r\n",
        "upper = np.mean(arr) + (t * s / np.sqrt(n))\r\n",
        "print(lower,',', upper)"
      ],
      "execution_count": 119,
      "outputs": [
        {
          "output_type": "stream",
          "text": [
            "12.822872347682171 , 16.055915531105708\n",
            "Alpha=10 values\n",
            "13.085725544049055 , 15.793062334738824\n"
          ],
          "name": "stdout"
        }
      ]
    },
    {
      "cell_type": "code",
      "metadata": {
        "id": "BOSqrOFxQ298",
        "colab": {
          "base_uri": "https://localhost:8080/"
        },
        "outputId": "36571469-f3fc-44b9-9fa9-921b6bdf6dab"
      },
      "source": [
        "e_df=adf.loc[adf['City of Work'] == 'Lahore']\r\n",
        "from scipy import stats\r\n",
        "import numpy as np\r\n",
        "\r\n",
        "print('DASS21 Lahore')\r\n",
        "print(\"Stress\")\r\n",
        "arr = e_df['stress_calculation'].to_numpy()\r\n",
        "alpha = 0.05                # significance level = 5%\r\n",
        "df = len(arr) - 1           \r\n",
        "t = stats.t.ppf(1 - alpha/2, df) #\r\n",
        "\r\n",
        "s = np.std(arr, ddof=1) # sample standard deviation\r\n",
        "n = len(arr)\r\n",
        "print(\"Alpha=0.05 significance level = 5% \")\r\n",
        "lower = np.mean(arr) - (t * s / np.sqrt(n))\r\n",
        "upper = np.mean(arr) + (t * s / np.sqrt(n))\r\n",
        "print(lower,',', upper)\r\n",
        "\r\n",
        "print(\"Alpha=0.1 significance level = 10%\")\r\n",
        "\r\n",
        "alpha = 0.1                # significance level = 10%\r\n",
        "df = len(arr) - 1           # degress of freedom \r\n",
        "t = stats.t.ppf(1 - alpha/2, df) # t-critical value for 95% \r\n",
        "\r\n",
        "s = np.std(arr, ddof=1) # \r\n",
        "n = len(arr)\r\n",
        "\r\n",
        "lower = np.mean(arr) - (t * s / np.sqrt(n))\r\n",
        "upper = np.mean(arr) + (t * s / np.sqrt(n))\r\n",
        "print(lower,',', upper)\r\n",
        "\r\n",
        "arr =  e_df['anxiety_calculation'].to_numpy()\r\n",
        "\r\n",
        "print(\"\")\r\n",
        "print(\"Anxiety\")\r\n",
        "\r\n",
        "\r\n",
        "alpha = 0.05                # significance level = 5%\r\n",
        "df = len(arr) - 1           # \r\n",
        "t = stats.t.ppf(1 - alpha/2, df) # \r\n",
        "\r\n",
        "s = np.std(arr, ddof=1) # sample standard deviation\r\n",
        "n = len(arr)\r\n",
        "print(\"Alpha=0.05 significance level = 5% \")\r\n",
        "\r\n",
        "lower = np.mean(arr) - (t * s / np.sqrt(n))\r\n",
        "upper = np.mean(arr) + (t * s / np.sqrt(n))\r\n",
        "print(lower,',', upper)\r\n",
        "\r\n",
        "print(\"Alpha=0.1 significance level = 10%\")\r\n",
        "\r\n",
        "alpha = 0.1                # significance level = 10%\r\n",
        "df = len(arr) - 1           # \r\n",
        "t = stats.t.ppf(1 - alpha/2, df) # \r\n",
        "\r\n",
        "s = np.std(arr, ddof=1) # \r\n",
        "n = len(arr)\r\n",
        "\r\n",
        "lower = np.mean(arr) - (t * s / np.sqrt(n))\r\n",
        "upper = np.mean(arr) + (t * s / np.sqrt(n))\r\n",
        "print(lower,',', upper)\r\n",
        "\r\n",
        "arr =  e_df['depression_calculation'].to_numpy()\r\n",
        "\r\n",
        "print(\"\")\r\n",
        "\r\n",
        "print( \"Depression\" )\r\n",
        "\r\n",
        "alpha = 0.05                # significance level = 5%\r\n",
        "df = len(arr) - 1          \r\n",
        "t = stats.t.ppf(1 - alpha/2, df) \r\n",
        "\r\n",
        "s = np.std(arr, ddof=1) # sample standard deviation\r\n",
        "n = len(arr)\r\n",
        "\r\n",
        "lower = np.mean(arr) - (t * s / np.sqrt(n))\r\n",
        "upper = np.mean(arr) + (t * s / np.sqrt(n))\r\n",
        "print(lower,',', upper)\r\n",
        "\r\n",
        "print(\"Alpha=10 values\")\r\n",
        "\r\n",
        "alpha = 0.1                # significance level = 10%\r\n",
        "df = len(arr) - 1           \r\n",
        "t = stats.t.ppf(1 - alpha/2, df) \r\n",
        "\r\n",
        "s = np.std(arr, ddof=1) \r\n",
        "n = len(arr)\r\n",
        "\r\n",
        "lower = np.mean(arr) - (t * s / np.sqrt(n))\r\n",
        "upper = np.mean(arr) + (t * s / np.sqrt(n))\r\n",
        "print(lower,',', upper)\r\n"
      ],
      "execution_count": 154,
      "outputs": [
        {
          "output_type": "stream",
          "text": [
            "DASS21 Lahore\n",
            "Stress\n",
            "Alpha=0.05 significance level = 5% \n",
            "7.332539785141239 , 21.810317357715903\n",
            "Alpha=0.1 significance level = 10%\n",
            "8.63744602491687 , 20.505411117940273\n",
            "\n",
            "Anxiety\n",
            "Alpha=0.05 significance level = 5% \n",
            "5.628141372267535 , 17.514715770589607\n",
            "Alpha=0.1 significance level = 10%\n",
            "6.699498148138306 , 16.443358994718835\n",
            "\n",
            "Depression\n",
            "5.498772649036028 , 15.644084493821115\n",
            "Alpha=10 values\n",
            "6.413186526743875 , 14.729670616113268\n"
          ],
          "name": "stdout"
        }
      ]
    },
    {
      "cell_type": "code",
      "metadata": {
        "id": "VSvbsZuxiL8R"
      },
      "source": [
        ""
      ],
      "execution_count": null,
      "outputs": []
    },
    {
      "cell_type": "code",
      "metadata": {
        "colab": {
          "base_uri": "https://localhost:8080/"
        },
        "id": "kfqGxF48cHL1",
        "outputId": "b4ba15b0-3034-4e5a-b273-f6f30c374a86"
      },
      "source": [
        "Rwp_ISB_df=adf.loc[(adf['City of Work'] == 'Rawalpindi' ) | (adf['City of Work'] == 'Islamabad')]\r\n",
        "e_df=Rwp_ISB_df\r\n",
        "from scipy import stats\r\n",
        "import numpy as np\r\n",
        "\r\n",
        "print(\"DASS21 Rawalpindi & Islamabad\")\r\n",
        "print(\"Stress\")\r\n",
        "arr = e_df['stress_calculation'].to_numpy()\r\n",
        "alpha = 0.05                # significance level = 5%\r\n",
        "df = len(arr) - 1           \r\n",
        "t = stats.t.ppf(1 - alpha/2, df) #\r\n",
        "\r\n",
        "s = np.std(arr, ddof=1) # sample standard deviation\r\n",
        "n = len(arr)\r\n",
        "print(\"Alpha=0.05 significance level = 5% \")\r\n",
        "lower = np.mean(arr) - (t * s / np.sqrt(n))\r\n",
        "upper = np.mean(arr) + (t * s / np.sqrt(n))\r\n",
        "print(lower,',', upper)\r\n",
        "\r\n",
        "print(\"Alpha=0.1 significance level = 10%\")\r\n",
        "\r\n",
        "alpha = 0.1                # significance level = 10%\r\n",
        "df = len(arr) - 1           # degress of freedom \r\n",
        "t = stats.t.ppf(1 - alpha/2, df) # t-critical value for 95% \r\n",
        "\r\n",
        "s = np.std(arr, ddof=1) # \r\n",
        "n = len(arr)\r\n",
        "\r\n",
        "lower = np.mean(arr) - (t * s / np.sqrt(n))\r\n",
        "upper = np.mean(arr) + (t * s / np.sqrt(n))\r\n",
        "print(lower,',', upper)\r\n",
        "\r\n",
        "arr =  e_df['anxiety_calculation'].to_numpy()\r\n",
        "\r\n",
        "print(\"\")\r\n",
        "print(\"Anxiety\")\r\n",
        "\r\n",
        "\r\n",
        "alpha = 0.05                # significance level = 5%\r\n",
        "df = len(arr) - 1           # \r\n",
        "t = stats.t.ppf(1 - alpha/2, df) # \r\n",
        "\r\n",
        "s = np.std(arr, ddof=1) # sample standard deviation\r\n",
        "n = len(arr)\r\n",
        "print(\"Alpha=0.05 significance level = 5% \")\r\n",
        "\r\n",
        "lower = np.mean(arr) - (t * s / np.sqrt(n))\r\n",
        "upper = np.mean(arr) + (t * s / np.sqrt(n))\r\n",
        "print(lower,',', upper)\r\n",
        "\r\n",
        "print(\"Alpha=0.1 significance level = 10%\")\r\n",
        "\r\n",
        "alpha = 0.1                # significance level = 10%\r\n",
        "df = len(arr) - 1           # \r\n",
        "t = stats.t.ppf(1 - alpha/2, df) # \r\n",
        "\r\n",
        "s = np.std(arr, ddof=1) # \r\n",
        "n = len(arr)\r\n",
        "\r\n",
        "lower = np.mean(arr) - (t * s / np.sqrt(n))\r\n",
        "upper = np.mean(arr) + (t * s / np.sqrt(n))\r\n",
        "print(lower,',', upper)\r\n",
        "\r\n",
        "arr =  e_df['depression_calculation'].to_numpy()\r\n",
        "\r\n",
        "print(\"\")\r\n",
        "\r\n",
        "print( \"Depression\" )\r\n",
        "\r\n",
        "alpha = 0.05                # significance level = 5%\r\n",
        "df = len(arr) - 1          \r\n",
        "t = stats.t.ppf(1 - alpha/2, df) \r\n",
        "\r\n",
        "s = np.std(arr, ddof=1) # sample standard deviation\r\n",
        "n = len(arr)\r\n",
        "\r\n",
        "lower = np.mean(arr) - (t * s / np.sqrt(n))\r\n",
        "upper = np.mean(arr) + (t * s / np.sqrt(n))\r\n",
        "print(lower,',', upper)\r\n",
        "\r\n",
        "print(\"Alpha=10 values\")\r\n",
        "\r\n",
        "alpha = 0.1                # significance level = 10%\r\n",
        "df = len(arr) - 1           \r\n",
        "t = stats.t.ppf(1 - alpha/2, df) \r\n",
        "\r\n",
        "s = np.std(arr, ddof=1) \r\n",
        "n = len(arr)\r\n",
        "\r\n",
        "lower = np.mean(arr) - (t * s / np.sqrt(n))\r\n",
        "upper = np.mean(arr) + (t * s / np.sqrt(n))\r\n",
        "print(lower,',', upper)\r\n"
      ],
      "execution_count": 153,
      "outputs": [
        {
          "output_type": "stream",
          "text": [
            "DASS21 Rawalpindi & Islamabad\n",
            "Stress\n",
            "Alpha=0.05 significance level = 5% \n",
            "16.722423623295978 , 21.544243043370688\n",
            "Alpha=0.1 significance level = 10%\n",
            "17.119908183520216 , 21.14675848314645\n",
            "\n",
            "Anxiety\n",
            "Alpha=0.05 significance level = 5% \n",
            "11.154539455417916 , 15.91212721124875\n",
            "Alpha=0.1 significance level = 10%\n",
            "11.546729106689709 , 15.519937559976958\n",
            "\n",
            "Depression\n",
            "12.686094992901587 , 18.18057167376508\n",
            "Alpha=10 values\n",
            "13.139029758161117 , 17.727636908505552\n"
          ],
          "name": "stdout"
        }
      ]
    },
    {
      "cell_type": "code",
      "metadata": {
        "colab": {
          "base_uri": "https://localhost:8080/"
        },
        "id": "f7AfL-WveY3A",
        "outputId": "1a773165-eb13-4575-e793-a30282d3920d"
      },
      "source": [
        "Multan_df=adf.loc[adf['City of Work'] == 'Multan']\r\n",
        "e_df=Multan_df\r\n",
        "from scipy import stats\r\n",
        "import numpy as np\r\n",
        "print(\"DASS21 Multan\")\r\n",
        "print(\"Stress\")\r\n",
        "arr = e_df['stress_calculation'].to_numpy()\r\n",
        "alpha = 0.05                # significance level = 5%\r\n",
        "df = len(arr) - 1           \r\n",
        "t = stats.t.ppf(1 - alpha/2, df) #\r\n",
        "\r\n",
        "s = np.std(arr, ddof=1) # sample standard deviation\r\n",
        "n = len(arr)\r\n",
        "print(\"Alpha=0.05 significance level = 5% \")\r\n",
        "lower = np.mean(arr) - (t * s / np.sqrt(n))\r\n",
        "upper = np.mean(arr) + (t * s / np.sqrt(n))\r\n",
        "print(lower,',', upper)\r\n",
        "\r\n",
        "print(\"Alpha=0.1 significance level = 10%\")\r\n",
        "\r\n",
        "alpha = 0.1                # significance level = 10%\r\n",
        "df = len(arr) - 1           # degress of freedom \r\n",
        "t = stats.t.ppf(1 - alpha/2, df) # t-critical value for 95% \r\n",
        "\r\n",
        "s = np.std(arr, ddof=1) # \r\n",
        "n = len(arr)\r\n",
        "\r\n",
        "lower = np.mean(arr) - (t * s / np.sqrt(n))\r\n",
        "upper = np.mean(arr) + (t * s / np.sqrt(n))\r\n",
        "print(lower,',', upper)\r\n",
        "\r\n",
        "arr =  e_df['anxiety_calculation'].to_numpy()\r\n",
        "\r\n",
        "print(\"\")\r\n",
        "print(\"Anxiety\")\r\n",
        "\r\n",
        "\r\n",
        "alpha = 0.05                # significance level = 5%\r\n",
        "df = len(arr) - 1           # \r\n",
        "t = stats.t.ppf(1 - alpha/2, df) # \r\n",
        "\r\n",
        "s = np.std(arr, ddof=1) # sample standard deviation\r\n",
        "n = len(arr)\r\n",
        "print(\"Alpha=0.05 significance level = 5% \")\r\n",
        "\r\n",
        "lower = np.mean(arr) - (t * s / np.sqrt(n))\r\n",
        "upper = np.mean(arr) + (t * s / np.sqrt(n))\r\n",
        "print(lower,',', upper)\r\n",
        "\r\n",
        "print(\"Alpha=0.1 significance level = 10%\")\r\n",
        "\r\n",
        "alpha = 0.1                # significance level = 10%\r\n",
        "df = len(arr) - 1           # \r\n",
        "t = stats.t.ppf(1 - alpha/2, df) # \r\n",
        "\r\n",
        "s = np.std(arr, ddof=1) # \r\n",
        "n = len(arr)\r\n",
        "\r\n",
        "lower = np.mean(arr) - (t * s / np.sqrt(n))\r\n",
        "upper = np.mean(arr) + (t * s / np.sqrt(n))\r\n",
        "print(lower,',', upper)\r\n",
        "\r\n",
        "arr =  e_df['depression_calculation'].to_numpy()\r\n",
        "\r\n",
        "print(\"\")\r\n",
        "\r\n",
        "print( \"Depression\" )\r\n",
        "\r\n",
        "alpha = 0.05                # significance level = 5%\r\n",
        "df = len(arr) - 1          \r\n",
        "t = stats.t.ppf(1 - alpha/2, df) \r\n",
        "\r\n",
        "s = np.std(arr, ddof=1) # sample standard deviation\r\n",
        "n = len(arr)\r\n",
        "\r\n",
        "lower = np.mean(arr) - (t * s / np.sqrt(n))\r\n",
        "upper = np.mean(arr) + (t * s / np.sqrt(n))\r\n",
        "print(lower,',', upper)\r\n",
        "\r\n",
        "print(\"Alpha=10 values\")\r\n",
        "\r\n",
        "alpha = 0.1                # significance level = 10%\r\n",
        "df = len(arr) - 1           \r\n",
        "t = stats.t.ppf(1 - alpha/2, df) \r\n",
        "\r\n",
        "s = np.std(arr, ddof=1) \r\n",
        "n = len(arr)\r\n",
        "\r\n",
        "lower = np.mean(arr) - (t * s / np.sqrt(n))\r\n",
        "upper = np.mean(arr) + (t * s / np.sqrt(n))\r\n",
        "print(lower,',', upper)\r\n"
      ],
      "execution_count": 152,
      "outputs": [
        {
          "output_type": "stream",
          "text": [
            "DASS21 Multan\n",
            "Stress\n",
            "Alpha=0.05 significance level = 5% \n",
            "12.23171335895167 , 16.65717552993722\n",
            "Alpha=0.1 significance level = 10%\n",
            "12.602882506749808 , 16.28600638213908\n",
            "\n",
            "Anxiety\n",
            "Alpha=0.05 significance level = 5% \n",
            "9.20011437642242 , 14.133218956910913\n",
            "Alpha=0.1 significance level = 10%\n",
            "9.613860139552791 , 13.71947319378054\n",
            "\n",
            "Depression\n",
            "11.811357020169089 , 15.96642075760869\n",
            "Alpha=10 values\n",
            "12.159847507012172 , 15.617930270765607\n"
          ],
          "name": "stdout"
        }
      ]
    },
    {
      "cell_type": "code",
      "metadata": {
        "colab": {
          "base_uri": "https://localhost:8080/"
        },
        "id": "Y_WTJt4Mo4nR",
        "outputId": "568a496c-3527-4765-b7e5-a9d4660e874a"
      },
      "source": [
        "e_df=adf.loc[adf['Gender'] == 'Male']\r\n",
        "from scipy import stats\r\n",
        "import numpy as np\r\n",
        "print(\"DASS21 Gender:Male\")\r\n",
        "print(\"Stress\")\r\n",
        "arr = e_df['stress_calculation'].to_numpy()\r\n",
        "alpha = 0.05                # significance level = 5%\r\n",
        "df = len(arr) - 1           \r\n",
        "t = stats.t.ppf(1 - alpha/2, df) #\r\n",
        "\r\n",
        "s = np.std(arr, ddof=1) # sample standard deviation\r\n",
        "n = len(arr)\r\n",
        "print(\"Alpha=0.05 significance level = 5% \")\r\n",
        "lower = np.mean(arr) - (t * s / np.sqrt(n))\r\n",
        "upper = np.mean(arr) + (t * s / np.sqrt(n))\r\n",
        "print(lower,',', upper)\r\n",
        "\r\n",
        "print(\"Alpha=0.1 significance level = 10%\")\r\n",
        "\r\n",
        "alpha = 0.1                # significance level = 10%\r\n",
        "df = len(arr) - 1           # degress of freedom \r\n",
        "t = stats.t.ppf(1 - alpha/2, df) # t-critical value for 95% \r\n",
        "\r\n",
        "s = np.std(arr, ddof=1) # \r\n",
        "n = len(arr)\r\n",
        "\r\n",
        "lower = np.mean(arr) - (t * s / np.sqrt(n))\r\n",
        "upper = np.mean(arr) + (t * s / np.sqrt(n))\r\n",
        "print(lower,',', upper)\r\n",
        "\r\n",
        "arr =  e_df['anxiety_calculation'].to_numpy()\r\n",
        "\r\n",
        "print(\"\")\r\n",
        "print(\"Anxiety\")\r\n",
        "\r\n",
        "\r\n",
        "alpha = 0.05                # significance level = 5%\r\n",
        "df = len(arr) - 1           # \r\n",
        "t = stats.t.ppf(1 - alpha/2, df) # \r\n",
        "\r\n",
        "s = np.std(arr, ddof=1) # sample standard deviation\r\n",
        "n = len(arr)\r\n",
        "print(\"Alpha=0.05 significance level = 5% \")\r\n",
        "\r\n",
        "lower = np.mean(arr) - (t * s / np.sqrt(n))\r\n",
        "upper = np.mean(arr) + (t * s / np.sqrt(n))\r\n",
        "print(lower,',', upper)\r\n",
        "\r\n",
        "print(\"Alpha=0.1 significance level = 10%\")\r\n",
        "\r\n",
        "alpha = 0.1                # significance level = 10%\r\n",
        "df = len(arr) - 1           # \r\n",
        "t = stats.t.ppf(1 - alpha/2, df) # \r\n",
        "\r\n",
        "s = np.std(arr, ddof=1) # \r\n",
        "n = len(arr)\r\n",
        "\r\n",
        "lower = np.mean(arr) - (t * s / np.sqrt(n))\r\n",
        "upper = np.mean(arr) + (t * s / np.sqrt(n))\r\n",
        "print(lower,',', upper)\r\n",
        "\r\n",
        "arr =  e_df['depression_calculation'].to_numpy()\r\n",
        "\r\n",
        "print(\"\")\r\n",
        "\r\n",
        "print( \"Depression\" )\r\n",
        "\r\n",
        "alpha = 0.05                # significance level = 5%\r\n",
        "df = len(arr) - 1          \r\n",
        "t = stats.t.ppf(1 - alpha/2, df) \r\n",
        "\r\n",
        "s = np.std(arr, ddof=1) # sample standard deviation\r\n",
        "n = len(arr)\r\n",
        "\r\n",
        "lower = np.mean(arr) - (t * s / np.sqrt(n))\r\n",
        "upper = np.mean(arr) + (t * s / np.sqrt(n))\r\n",
        "print(lower,',', upper)\r\n",
        "\r\n",
        "print(\"Alpha=10 values\")\r\n",
        "\r\n",
        "alpha = 0.1                # significance level = 10%\r\n",
        "df = len(arr) - 1           \r\n",
        "t = stats.t.ppf(1 - alpha/2, df) \r\n",
        "\r\n",
        "s = np.std(arr, ddof=1) \r\n",
        "n = len(arr)\r\n",
        "\r\n",
        "lower = np.mean(arr) - (t * s / np.sqrt(n))\r\n",
        "upper = np.mean(arr) + (t * s / np.sqrt(n))\r\n",
        "print(lower,',', upper)\r\n"
      ],
      "execution_count": 151,
      "outputs": [
        {
          "output_type": "stream",
          "text": [
            "DASS21 Gender:Male\n",
            "Stress\n",
            "Alpha=0.05 significance level = 5% \n",
            "12.368557288982405 , 19.440966520541405\n",
            "Alpha=0.1 significance level = 10%\n",
            "12.95805220241858 , 18.851471607105232\n",
            "\n",
            "Anxiety\n",
            "Alpha=0.05 significance level = 5% \n",
            "8.521380478139704 , 15.002429045669821\n",
            "Alpha=0.1 significance level = 10%\n",
            "9.06158467719022 , 14.462224846619305\n",
            "\n",
            "Depression\n",
            "10.959043370314127 , 16.850480439209683\n",
            "Alpha=10 values\n",
            "11.450102650289885 , 16.359421159233925\n"
          ],
          "name": "stdout"
        }
      ]
    },
    {
      "cell_type": "code",
      "metadata": {
        "colab": {
          "base_uri": "https://localhost:8080/"
        },
        "id": "PVc_DuQ_pFxf",
        "outputId": "1cfa79ab-5c63-4b30-a8c9-f9f3e78c11ca"
      },
      "source": [
        "e_df=adf.loc[adf['Gender'] == 'Female']\r\n",
        "from scipy import stats\r\n",
        "import numpy as np\r\n",
        "print(\"DASS21 Gender:Female\")\r\n",
        "print(\"Stress\")\r\n",
        "arr = e_df['stress_calculation'].to_numpy()\r\n",
        "alpha = 0.05                # significance level = 5%\r\n",
        "df = len(arr) - 1           \r\n",
        "t = stats.t.ppf(1 - alpha/2, df) #\r\n",
        "\r\n",
        "s = np.std(arr, ddof=1) # sample standard deviation\r\n",
        "n = len(arr)\r\n",
        "print(\"Alpha=0.05 significance level = 5% \")\r\n",
        "lower = np.mean(arr) - (t * s / np.sqrt(n))\r\n",
        "upper = np.mean(arr) + (t * s / np.sqrt(n))\r\n",
        "print(lower,',', upper)\r\n",
        "\r\n",
        "print(\"Alpha=0.1 significance level = 10%\")\r\n",
        "\r\n",
        "alpha = 0.1                # significance level = 10%\r\n",
        "df = len(arr) - 1           # degress of freedom \r\n",
        "t = stats.t.ppf(1 - alpha/2, df) # t-critical value for 95% \r\n",
        "\r\n",
        "s = np.std(arr, ddof=1) # \r\n",
        "n = len(arr)\r\n",
        "\r\n",
        "lower = np.mean(arr) - (t * s / np.sqrt(n))\r\n",
        "upper = np.mean(arr) + (t * s / np.sqrt(n))\r\n",
        "print(lower,',', upper)\r\n",
        "\r\n",
        "arr =  e_df['anxiety_calculation'].to_numpy()\r\n",
        "\r\n",
        "print(\"\")\r\n",
        "print(\"Anxiety\")\r\n",
        "\r\n",
        "\r\n",
        "alpha = 0.05                # significance level = 5%\r\n",
        "df = len(arr) - 1           # \r\n",
        "t = stats.t.ppf(1 - alpha/2, df) # \r\n",
        "\r\n",
        "s = np.std(arr, ddof=1) # sample standard deviation\r\n",
        "n = len(arr)\r\n",
        "print(\"Alpha=0.05 significance level = 5% \")\r\n",
        "\r\n",
        "lower = np.mean(arr) - (t * s / np.sqrt(n))\r\n",
        "upper = np.mean(arr) + (t * s / np.sqrt(n))\r\n",
        "print(lower,',', upper)\r\n",
        "\r\n",
        "print(\"Alpha=0.1 significance level = 10%\")\r\n",
        "\r\n",
        "alpha = 0.1                # significance level = 10%\r\n",
        "df = len(arr) - 1           # \r\n",
        "t = stats.t.ppf(1 - alpha/2, df) # \r\n",
        "\r\n",
        "s = np.std(arr, ddof=1) # \r\n",
        "n = len(arr)\r\n",
        "\r\n",
        "lower = np.mean(arr) - (t * s / np.sqrt(n))\r\n",
        "upper = np.mean(arr) + (t * s / np.sqrt(n))\r\n",
        "print(lower,',', upper)\r\n",
        "\r\n",
        "arr =  e_df['depression_calculation'].to_numpy()\r\n",
        "\r\n",
        "print(\"\")\r\n",
        "\r\n",
        "print( \"Depression\" )\r\n",
        "\r\n",
        "alpha = 0.05                # significance level = 5%\r\n",
        "df = len(arr) - 1          \r\n",
        "t = stats.t.ppf(1 - alpha/2, df) \r\n",
        "\r\n",
        "s = np.std(arr, ddof=1) # sample standard deviation\r\n",
        "n = len(arr)\r\n",
        "\r\n",
        "lower = np.mean(arr) - (t * s / np.sqrt(n))\r\n",
        "upper = np.mean(arr) + (t * s / np.sqrt(n))\r\n",
        "print(lower,',', upper)\r\n",
        "\r\n",
        "print(\"Alpha=10 values\")\r\n",
        "\r\n",
        "alpha = 0.1                # significance level = 10%\r\n",
        "df = len(arr) - 1           \r\n",
        "t = stats.t.ppf(1 - alpha/2, df) \r\n",
        "\r\n",
        "s = np.std(arr, ddof=1) \r\n",
        "n = len(arr)\r\n",
        "\r\n",
        "lower = np.mean(arr) - (t * s / np.sqrt(n))\r\n",
        "upper = np.mean(arr) + (t * s / np.sqrt(n))\r\n",
        "print(lower,',', upper)\r\n"
      ],
      "execution_count": 150,
      "outputs": [
        {
          "output_type": "stream",
          "text": [
            "DASS21 Gender:Female\n",
            "Stress\n",
            "Alpha=0.05 significance level = 5% \n",
            "15.744423727831713 , 19.45557627216829\n",
            "Alpha=0.1 significance level = 10%\n",
            "16.047765955292412 , 19.15223404470759\n",
            "\n",
            "Anxiety\n",
            "Alpha=0.05 significance level = 5% \n",
            "11.283700762508989 , 14.8051881263799\n",
            "Alpha=0.1 significance level = 10%\n",
            "11.571540135364051 , 14.517348753524837\n",
            "\n",
            "Depression\n",
            "12.719940679380299 , 16.657837098397476\n",
            "Alpha=10 values\n",
            "13.041816500161932 , 16.335961277615844\n"
          ],
          "name": "stdout"
        }
      ]
    }
  ]
}
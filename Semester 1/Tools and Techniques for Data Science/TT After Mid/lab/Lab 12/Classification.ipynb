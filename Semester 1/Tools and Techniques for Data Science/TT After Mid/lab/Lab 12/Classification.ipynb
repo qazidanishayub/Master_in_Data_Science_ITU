{
  "nbformat": 4,
  "nbformat_minor": 0,
  "metadata": {
    "colab": {
      "name": "Classification.ipynb",
      "provenance": []
    },
    "kernelspec": {
      "name": "python3",
      "display_name": "Python 3"
    }
  },
  "cells": [
    {
      "cell_type": "markdown",
      "metadata": {
        "id": "ml9IKS_XRKmJ"
      },
      "source": [
        "In this Lab we will learn and use K-Nearest Neighbors to predict a data point. But what is **K-Nearest Neighbors**?"
      ]
    },
    {
      "cell_type": "markdown",
      "metadata": {
        "id": "LjWS9T6KRQsw"
      },
      "source": [
        "**K-Nearest Neighbors** is an algorithm for supervised learning. Where the data is 'trained' with data points corresponding to their classification. Once a point is to be predicted, it takes into account the 'K' nearest points to it to determine it's classification."
      ]
    },
    {
      "cell_type": "markdown",
      "metadata": {
        "id": "_LbJU7OdRUNE"
      },
      "source": [
        "### Here's an visualization of the K-Nearest Neighbors algorithm.\r\n",
        "\r\n",
        "<img src = \"https://ibm.box.com/shared/static/mgkn92xck0z05v7yjq8pqziukxvc2461.png\">"
      ]
    },
    {
      "cell_type": "markdown",
      "metadata": {
        "id": "DR9RsvOIUmTm"
      },
      "source": [
        "Label info: 1- Basic Service, 2- E-Service, 3- Plus Service, 4-Total service"
      ]
    },
    {
      "cell_type": "code",
      "metadata": {
        "id": "7mxjQDF4RBBK"
      },
      "source": [
        "import numpy as np\r\n",
        "import matplotlib.pyplot as plt\r\n",
        "from matplotlib.ticker import NullFormatter\r\n",
        "import pandas as pd\r\n",
        "import numpy as np\r\n",
        "from sklearn import preprocessing"
      ],
      "execution_count": 2,
      "outputs": []
    },
    {
      "cell_type": "code",
      "metadata": {
        "colab": {
          "base_uri": "https://localhost:8080/",
          "height": 198
        },
        "id": "ssAUDjYLW_DM",
        "outputId": "8e660425-295b-458d-a72a-bc064f631a17"
      },
      "source": [
        "df = pd.read_csv('teleCust1000t.csv')\r\n",
        "df.head()"
      ],
      "execution_count": 3,
      "outputs": [
        {
          "output_type": "execute_result",
          "data": {
            "text/html": [
              "<div>\n",
              "<style scoped>\n",
              "    .dataframe tbody tr th:only-of-type {\n",
              "        vertical-align: middle;\n",
              "    }\n",
              "\n",
              "    .dataframe tbody tr th {\n",
              "        vertical-align: top;\n",
              "    }\n",
              "\n",
              "    .dataframe thead th {\n",
              "        text-align: right;\n",
              "    }\n",
              "</style>\n",
              "<table border=\"1\" class=\"dataframe\">\n",
              "  <thead>\n",
              "    <tr style=\"text-align: right;\">\n",
              "      <th></th>\n",
              "      <th>region</th>\n",
              "      <th>tenure</th>\n",
              "      <th>age</th>\n",
              "      <th>marital</th>\n",
              "      <th>address</th>\n",
              "      <th>income</th>\n",
              "      <th>ed</th>\n",
              "      <th>employ</th>\n",
              "      <th>retire</th>\n",
              "      <th>gender</th>\n",
              "      <th>reside</th>\n",
              "      <th>custcat</th>\n",
              "    </tr>\n",
              "  </thead>\n",
              "  <tbody>\n",
              "    <tr>\n",
              "      <th>0</th>\n",
              "      <td>2</td>\n",
              "      <td>13</td>\n",
              "      <td>44</td>\n",
              "      <td>1</td>\n",
              "      <td>9</td>\n",
              "      <td>64.0</td>\n",
              "      <td>4</td>\n",
              "      <td>5</td>\n",
              "      <td>0.0</td>\n",
              "      <td>0</td>\n",
              "      <td>2</td>\n",
              "      <td>1</td>\n",
              "    </tr>\n",
              "    <tr>\n",
              "      <th>1</th>\n",
              "      <td>3</td>\n",
              "      <td>11</td>\n",
              "      <td>33</td>\n",
              "      <td>1</td>\n",
              "      <td>7</td>\n",
              "      <td>136.0</td>\n",
              "      <td>5</td>\n",
              "      <td>5</td>\n",
              "      <td>0.0</td>\n",
              "      <td>0</td>\n",
              "      <td>6</td>\n",
              "      <td>4</td>\n",
              "    </tr>\n",
              "    <tr>\n",
              "      <th>2</th>\n",
              "      <td>3</td>\n",
              "      <td>68</td>\n",
              "      <td>52</td>\n",
              "      <td>1</td>\n",
              "      <td>24</td>\n",
              "      <td>116.0</td>\n",
              "      <td>1</td>\n",
              "      <td>29</td>\n",
              "      <td>0.0</td>\n",
              "      <td>1</td>\n",
              "      <td>2</td>\n",
              "      <td>3</td>\n",
              "    </tr>\n",
              "    <tr>\n",
              "      <th>3</th>\n",
              "      <td>2</td>\n",
              "      <td>33</td>\n",
              "      <td>33</td>\n",
              "      <td>0</td>\n",
              "      <td>12</td>\n",
              "      <td>33.0</td>\n",
              "      <td>2</td>\n",
              "      <td>0</td>\n",
              "      <td>0.0</td>\n",
              "      <td>1</td>\n",
              "      <td>1</td>\n",
              "      <td>1</td>\n",
              "    </tr>\n",
              "    <tr>\n",
              "      <th>4</th>\n",
              "      <td>2</td>\n",
              "      <td>23</td>\n",
              "      <td>30</td>\n",
              "      <td>1</td>\n",
              "      <td>9</td>\n",
              "      <td>30.0</td>\n",
              "      <td>1</td>\n",
              "      <td>2</td>\n",
              "      <td>0.0</td>\n",
              "      <td>0</td>\n",
              "      <td>4</td>\n",
              "      <td>3</td>\n",
              "    </tr>\n",
              "  </tbody>\n",
              "</table>\n",
              "</div>"
            ],
            "text/plain": [
              "   region  tenure  age  marital  ...  retire  gender  reside  custcat\n",
              "0       2      13   44        1  ...     0.0       0       2        1\n",
              "1       3      11   33        1  ...     0.0       0       6        4\n",
              "2       3      68   52        1  ...     0.0       1       2        3\n",
              "3       2      33   33        0  ...     0.0       1       1        1\n",
              "4       2      23   30        1  ...     0.0       0       4        3\n",
              "\n",
              "[5 rows x 12 columns]"
            ]
          },
          "metadata": {
            "tags": []
          },
          "execution_count": 3
        }
      ]
    },
    {
      "cell_type": "markdown",
      "metadata": {
        "id": "Djbi-UKsXMEG"
      },
      "source": [
        "Lets' see how many of each class have instance is in our dataset"
      ]
    },
    {
      "cell_type": "code",
      "metadata": {
        "colab": {
          "base_uri": "https://localhost:8080/"
        },
        "id": "pstPU2uvXFEy",
        "outputId": "8fc84aac-db96-4e2a-9ccc-c303d733802e"
      },
      "source": [
        "df['custcat'].value_counts()"
      ],
      "execution_count": 5,
      "outputs": [
        {
          "output_type": "execute_result",
          "data": {
            "text/plain": [
              "3    281\n",
              "1    266\n",
              "4    236\n",
              "2    217\n",
              "Name: custcat, dtype: int64"
            ]
          },
          "metadata": {
            "tags": []
          },
          "execution_count": 5
        }
      ]
    },
    {
      "cell_type": "code",
      "metadata": {
        "colab": {
          "base_uri": "https://localhost:8080/",
          "height": 317
        },
        "id": "cqopW9i8XsBS",
        "outputId": "442eaa87-bb57-45d7-8e72-c2d5d91358df"
      },
      "source": [
        "#Data visualization\r\n",
        "df.hist(column='income',bins=40)"
      ],
      "execution_count": 6,
      "outputs": [
        {
          "output_type": "execute_result",
          "data": {
            "text/plain": [
              "array([[<matplotlib.axes._subplots.AxesSubplot object at 0x7ff715127ba8>]],\n",
              "      dtype=object)"
            ]
          },
          "metadata": {
            "tags": []
          },
          "execution_count": 6
        },
        {
          "output_type": "display_data",
          "data": {
            "image/png": "[encoded data removed]",
            "text/plain": [
              "<Figure size 432x288 with 1 Axes>"
            ]
          },
          "metadata": {
            "tags": [],
            "needs_background": "light"
          }
        }
      ]
    },
    {
      "cell_type": "code",
      "metadata": {
        "colab": {
          "base_uri": "https://localhost:8080/"
        },
        "id": "1gX5xQ3uY4lr",
        "outputId": "7aaa49b9-6d56-4b7e-cbef-e58eff9f4368"
      },
      "source": [
        "df.columns"
      ],
      "execution_count": 10,
      "outputs": [
        {
          "output_type": "execute_result",
          "data": {
            "text/plain": [
              "Index(['region', 'tenure', 'age', 'marital', 'address', 'income', 'ed',\n",
              "       'employ', 'retire', 'gender', 'reside', 'custcat'],\n",
              "      dtype='object')"
            ]
          },
          "metadata": {
            "tags": []
          },
          "execution_count": 10
        }
      ]
    },
    {
      "cell_type": "code",
      "metadata": {
        "colab": {
          "base_uri": "https://localhost:8080/"
        },
        "id": "zySuTzG8Ylxd",
        "outputId": "d70380d7-b937-42b7-e725-291cd7b431ab"
      },
      "source": [
        "#feature set\r\n",
        "X = df[['region','tenure','age','marital','address','income', 'ed','employ', 'retire', 'gender', 'reside']].values\r\n",
        "X[0:10]\r\n",
        "\r\n"
      ],
      "execution_count": 11,
      "outputs": [
        {
          "output_type": "execute_result",
          "data": {
            "text/plain": [
              "array([[  2.,  13.,  44.,   1.,   9.,  64.,   4.,   5.,   0.,   0.,   2.],\n",
              "       [  3.,  11.,  33.,   1.,   7., 136.,   5.,   5.,   0.,   0.,   6.],\n",
              "       [  3.,  68.,  52.,   1.,  24., 116.,   1.,  29.,   0.,   1.,   2.],\n",
              "       [  2.,  33.,  33.,   0.,  12.,  33.,   2.,   0.,   0.,   1.,   1.],\n",
              "       [  2.,  23.,  30.,   1.,   9.,  30.,   1.,   2.,   0.,   0.,   4.],\n",
              "       [  2.,  41.,  39.,   0.,  17.,  78.,   2.,  16.,   0.,   1.,   1.],\n",
              "       [  3.,  45.,  22.,   1.,   2.,  19.,   2.,   4.,   0.,   1.,   5.],\n",
              "       [  2.,  38.,  35.,   0.,   5.,  76.,   2.,  10.,   0.,   0.,   3.],\n",
              "       [  3.,  45.,  59.,   1.,   7., 166.,   4.,  31.,   0.,   0.,   5.],\n",
              "       [  1.,  68.,  41.,   1.,  21.,  72.,   1.,  22.,   0.,   0.,   3.]])"
            ]
          },
          "metadata": {
            "tags": []
          },
          "execution_count": 11
        }
      ]
    },
    {
      "cell_type": "code",
      "metadata": {
        "colab": {
          "base_uri": "https://localhost:8080/"
        },
        "id": "Ay-FEVuoZgJ-",
        "outputId": "8fb8f29b-b8d3-411e-aea8-6900cb45a676"
      },
      "source": [
        "#Label\r\n",
        "y = df['custcat'].values\r\n",
        "y[0:10]"
      ],
      "execution_count": 12,
      "outputs": [
        {
          "output_type": "execute_result",
          "data": {
            "text/plain": [
              "array([1, 4, 3, 1, 3, 3, 2, 4, 3, 2])"
            ]
          },
          "metadata": {
            "tags": []
          },
          "execution_count": 12
        }
      ]
    },
    {
      "cell_type": "code",
      "metadata": {
        "colab": {
          "base_uri": "https://localhost:8080/"
        },
        "id": "tqLs54oyZxgz",
        "outputId": "d1627739-a8ae-40fb-b8e4-47203842ebb7"
      },
      "source": [
        "#Normalize Data\r\n",
        "X = preprocessing.StandardScaler().fit(X).transform(X.astype(float))\r\n",
        "X[0:5]\r\n"
      ],
      "execution_count": 15,
      "outputs": [
        {
          "output_type": "execute_result",
          "data": {
            "text/plain": [
              "array([[-0.02696767, -1.055125  ,  0.18450456,  1.0100505 , -0.25303431,\n",
              "        -0.12650641,  1.0877526 , -0.5941226 , -0.22207644, -1.03459817,\n",
              "        -0.23065004],\n",
              "       [ 1.19883553, -1.14880563, -0.69181243,  1.0100505 , -0.4514148 ,\n",
              "         0.54644972,  1.9062271 , -0.5941226 , -0.22207644, -1.03459817,\n",
              "         2.55666158],\n",
              "       [ 1.19883553,  1.52109247,  0.82182601,  1.0100505 ,  1.23481934,\n",
              "         0.35951747, -1.36767088,  1.78752803, -0.22207644,  0.96655883,\n",
              "        -0.23065004],\n",
              "       [-0.02696767, -0.11831864, -0.69181243, -0.9900495 ,  0.04453642,\n",
              "        -0.41625141, -0.54919639, -1.09029981, -0.22207644,  0.96655883,\n",
              "        -0.92747794],\n",
              "       [-0.02696767, -0.58672182, -0.93080797,  1.0100505 , -0.25303431,\n",
              "        -0.44429125, -1.36767088, -0.89182893, -0.22207644, -1.03459817,\n",
              "         1.16300577]])"
            ]
          },
          "metadata": {
            "tags": []
          },
          "execution_count": 15
        }
      ]
    },
    {
      "cell_type": "code",
      "metadata": {
        "colab": {
          "base_uri": "https://localhost:8080/"
        },
        "id": "bZUe1gTva94X",
        "outputId": "0634812b-35e5-4cf0-b628-4b11d3a1ad49"
      },
      "source": [
        "#Train Test Split\r\n",
        "from sklearn.model_selection import train_test_split\r\n",
        "X_train, X_test, y_train, y_test = train_test_split(X, y, test_size=0.2, random_state=2)\r\n",
        "X_train.shape, X_test.shape\r\n",
        "\r\n"
      ],
      "execution_count": 19,
      "outputs": [
        {
          "output_type": "execute_result",
          "data": {
            "text/plain": [
              "((800, 11), (200, 11))"
            ]
          },
          "metadata": {
            "tags": []
          },
          "execution_count": 19
        }
      ]
    },
    {
      "cell_type": "markdown",
      "metadata": {
        "id": "QCZB5ISDdGMS"
      },
      "source": [
        "K-NN Classifier"
      ]
    },
    {
      "cell_type": "code",
      "metadata": {
        "colab": {
          "base_uri": "https://localhost:8080/"
        },
        "id": "yzPxZsYkce8Q",
        "outputId": "d12a778f-2c9d-4ecd-85b4-cba513e50d03"
      },
      "source": [
        "from sklearn.neighbors import KNeighborsClassifier\r\n",
        "k = 23\r\n",
        "#Model trainig\r\n",
        "knn = KNeighborsClassifier(n_neighbors = k).fit(X_train,y_train)\r\n",
        "knn"
      ],
      "execution_count": 40,
      "outputs": [
        {
          "output_type": "execute_result",
          "data": {
            "text/plain": [
              "KNeighborsClassifier(algorithm='auto', leaf_size=30, metric='minkowski',\n",
              "                     metric_params=None, n_jobs=None, n_neighbors=23, p=2,\n",
              "                     weights='uniform')"
            ]
          },
          "metadata": {
            "tags": []
          },
          "execution_count": 40
        }
      ]
    },
    {
      "cell_type": "code",
      "metadata": {
        "colab": {
          "base_uri": "https://localhost:8080/"
        },
        "id": "oXrPckfFfECe",
        "outputId": "da38a25a-f5f4-46d3-9773-83819bcf5741"
      },
      "source": [
        "X_test"
      ],
      "execution_count": 41,
      "outputs": [
        {
          "output_type": "execute_result",
          "data": {
            "text/plain": [
              "array([[-1.25277087,  0.39692485,  1.22015191, ..., -0.22207644,\n",
              "        -1.03459817, -0.23065004],\n",
              "       [ 1.19883553,  1.42741184, -0.21382135, ..., -0.22207644,\n",
              "         0.96655883, -0.92747794],\n",
              "       [-0.02696767, -1.61720881, -1.56812942, ..., -0.22207644,\n",
              "        -1.03459817, -0.92747794],\n",
              "       ...,\n",
              "       [-0.02696767,  0.16272326,  0.18450456, ..., -0.22207644,\n",
              "        -1.03459817, -0.23065004],\n",
              "       [ 1.19883553, -1.42984754,  0.4235001 , ..., -0.22207644,\n",
              "         0.96655883, -0.92747794],\n",
              "       [-0.02696767,  0.95900866,  0.98115637, ..., -0.22207644,\n",
              "         0.96655883, -0.92747794]])"
            ]
          },
          "metadata": {
            "tags": []
          },
          "execution_count": 41
        }
      ]
    },
    {
      "cell_type": "code",
      "metadata": {
        "colab": {
          "base_uri": "https://localhost:8080/"
        },
        "id": "RVwsWovReeJl",
        "outputId": "4bd24080-754d-47fe-bd60-5655216fddd4"
      },
      "source": [
        "#Prdict\r\n",
        "y_pred = knn.predict(X_test)\r\n",
        "y_pred[0:10]"
      ],
      "execution_count": 42,
      "outputs": [
        {
          "output_type": "execute_result",
          "data": {
            "text/plain": [
              "array([3, 1, 1, 3, 1, 4, 3, 1, 1, 1])"
            ]
          },
          "metadata": {
            "tags": []
          },
          "execution_count": 42
        }
      ]
    },
    {
      "cell_type": "code",
      "metadata": {
        "colab": {
          "base_uri": "https://localhost:8080/"
        },
        "id": "-VQWzQihe1EM",
        "outputId": "d17242c0-9e88-4329-d031-a41a99c2a3b5"
      },
      "source": [
        "from sklearn import metrics\r\n",
        "metrics.accuracy_score(y_train,knn.predict(X_train)),metrics.accuracy_score(y_test,y_pred)"
      ],
      "execution_count": 43,
      "outputs": [
        {
          "output_type": "execute_result",
          "data": {
            "text/plain": [
              "(0.4675, 0.325)"
            ]
          },
          "metadata": {
            "tags": []
          },
          "execution_count": 43
        }
      ]
    },
    {
      "cell_type": "code",
      "metadata": {
        "colab": {
          "base_uri": "https://localhost:8080/"
        },
        "id": "Jrie1kTbfmo_",
        "outputId": "2ca4c76c-9ded-49ff-8fec-0dea222d744e"
      },
      "source": [
        "ks = 30\r\n",
        "mean_acc = np.zeros((ks-1))\r\n",
        "std_acc = np.zeros((ks-1))\r\n",
        "Confusion_mx = []\r\n",
        "for n in range(1,ks):\r\n",
        "  #Train Model and Predict\r\n",
        "\r\n",
        "  knn = KNeighborsClassifier(n_neighbors=n).fit(X_train,y_train)\r\n",
        "  y_pred= knn.predict(X_test)\r\n",
        "  mean_acc[n-1]= metrics.accuracy_score(y_test,y_pred)\r\n",
        "  \r\n",
        "\r\n",
        "mean_acc\r\n",
        "\r\n",
        "\r\n"
      ],
      "execution_count": 35,
      "outputs": [
        {
          "output_type": "execute_result",
          "data": {
            "text/plain": [
              "array([0.27 , 0.25 , 0.285, 0.27 , 0.32 , 0.295, 0.305, 0.335, 0.33 ,\n",
              "       0.315, 0.34 , 0.33 , 0.355, 0.31 , 0.33 , 0.345, 0.33 , 0.37 ,\n",
              "       0.355, 0.335, 0.32 , 0.33 , 0.325, 0.33 , 0.35 , 0.345, 0.34 ,\n",
              "       0.365, 0.345])"
            ]
          },
          "metadata": {
            "tags": []
          },
          "execution_count": 35
        }
      ]
    },
    {
      "cell_type": "code",
      "metadata": {
        "colab": {
          "base_uri": "https://localhost:8080/",
          "height": 265
        },
        "id": "6lLnWwHqhnOa",
        "outputId": "a3644855-8a87-4242-bb9c-48ba924c32a7"
      },
      "source": [
        "plt.plot(range(1,ks),mean_acc,'g')\r\n",
        "plt.show()"
      ],
      "execution_count": 36,
      "outputs": [
        {
          "output_type": "display_data",
          "data": {
            "image/png": "[encoded data removed]",
            "text/plain": [
              "<Figure size 432x288 with 1 Axes>"
            ]
          },
          "metadata": {
            "tags": [],
            "needs_background": "light"
          }
        }
      ]
    },
    {
      "cell_type": "code",
      "metadata": {
        "colab": {
          "base_uri": "https://localhost:8080/"
        },
        "id": "VSdrGSl2iBS8",
        "outputId": "649d160f-7a94-45e2-ecc1-901801d84f65"
      },
      "source": [
        "print('The best accuracy was with ', mean_acc.max(), 'with k', mean_acc.argmax()+1)"
      ],
      "execution_count": 39,
      "outputs": [
        {
          "output_type": "stream",
          "text": [
            "The best accuracy was with  0.37 with k 18\n"
          ],
          "name": "stdout"
        }
      ]
    },
    {
      "cell_type": "code",
      "metadata": {
        "colab": {
          "base_uri": "https://localhost:8080/"
        },
        "id": "AVHo0IC1jxa1",
        "outputId": "39bc523c-9d98-45cf-c503-9b5c67c66329"
      },
      "source": [
        "from sklearn.metrics import classification_report, confusion_matrix\r\n",
        "print(confusion_matrix(y_test,y_pred))\r\n",
        "print(classification_report(y_test,y_pred))"
      ],
      "execution_count": 45,
      "outputs": [
        {
          "output_type": "stream",
          "text": [
            "[[23  3 17  7]\n",
            " [14  7 14  8]\n",
            " [18  8 26  6]\n",
            " [18  9 13  9]]\n",
            "              precision    recall  f1-score   support\n",
            "\n",
            "           1       0.32      0.46      0.37        50\n",
            "           2       0.26      0.16      0.20        43\n",
            "           3       0.37      0.45      0.41        58\n",
            "           4       0.30      0.18      0.23        49\n",
            "\n",
            "    accuracy                           0.33       200\n",
            "   macro avg       0.31      0.31      0.30       200\n",
            "weighted avg       0.32      0.33      0.31       200\n",
            "\n"
          ],
          "name": "stdout"
        }
      ]
    },
    {
      "cell_type": "code",
      "metadata": {
        "id": "sar3HuClkjv0"
      },
      "source": [
        "url = \"https://archive.ics.uci.edu/ml/machine-learning-databases/iris/iris.data\"\r\n",
        "\r\n",
        "names = ['sepal-length', 'sepal-width', 'petal-length', 'petal-width', 'Class']\r\n",
        "\r\n",
        "\r\n",
        "dataset = pd.read_csv(url, names=names)"
      ],
      "execution_count": 46,
      "outputs": []
    },
    {
      "cell_type": "code",
      "metadata": {
        "id": "3ys8FUOsmeK4"
      },
      "source": [
        "dataset.head()"
      ],
      "execution_count": null,
      "outputs": []
    },
    {
      "cell_type": "code",
      "metadata": {
        "id": "axewT-4fmfAH"
      },
      "source": [
        "from sklearn.naive_bayes import GaussianNB\r\n",
        "\r\n",
        "nb = GaussianNB()\r\n",
        "\r\n",
        "nb.fit(X_train,y_train)\r\n",
        "\r\n",
        "y_hat = nb.predict(X_test)\r\n",
        "\r\n",
        "y_hat"
      ],
      "execution_count": null,
      "outputs": []
    },
    {
      "cell_type": "code",
      "metadata": {
        "colab": {
          "base_uri": "https://localhost:8080/"
        },
        "id": "C6eywUK7rymA",
        "outputId": "32b53989-dfd8-460a-dcf9-0a80b24156d8"
      },
      "source": [
        "metrics.accuracy_score(y_test,y_hat)"
      ],
      "execution_count": 54,
      "outputs": [
        {
          "output_type": "execute_result",
          "data": {
            "text/plain": [
              "0.34"
            ]
          },
          "metadata": {
            "tags": []
          },
          "execution_count": 54
        }
      ]
    },
    {
      "cell_type": "code",
      "metadata": {
        "colab": {
          "base_uri": "https://localhost:8080/"
        },
        "id": "BZcFR4j6tr2H",
        "outputId": "311c3602-6d98-4827-b59d-24a9a72a7836"
      },
      "source": [
        "confusion_matrix(y_test, y_hat)"
      ],
      "execution_count": 52,
      "outputs": [
        {
          "output_type": "execute_result",
          "data": {
            "text/plain": [
              "array([[32,  2, 10,  6],\n",
              "       [20,  9,  6,  8],\n",
              "       [26,  8, 18,  6],\n",
              "       [22,  5, 13,  9]])"
            ]
          },
          "metadata": {
            "tags": []
          },
          "execution_count": 52
        }
      ]
    },
    {
      "cell_type": "code",
      "metadata": {
        "colab": {
          "base_uri": "https://localhost:8080/"
        },
        "id": "oCHD4-E7uF_g",
        "outputId": "d04839b0-4414-4d51-d502-ac4e6d94b605"
      },
      "source": [
        "print(classification_report(y_test,y_hat))"
      ],
      "execution_count": 56,
      "outputs": [
        {
          "output_type": "stream",
          "text": [
            "              precision    recall  f1-score   support\n",
            "\n",
            "           1       0.32      0.64      0.43        50\n",
            "           2       0.38      0.21      0.27        43\n",
            "           3       0.38      0.31      0.34        58\n",
            "           4       0.31      0.18      0.23        49\n",
            "\n",
            "    accuracy                           0.34       200\n",
            "   macro avg       0.35      0.34      0.32       200\n",
            "weighted avg       0.35      0.34      0.32       200\n",
            "\n"
          ],
          "name": "stdout"
        }
      ]
    },
    {
      "cell_type": "code",
      "metadata": {
        "id": "wSbyKFRRuZDx"
      },
      "source": [
        ""
      ],
      "execution_count": null,
      "outputs": []
    }
  ]
}
{
  "nbformat": 4,
  "nbformat_minor": 0,
  "metadata": {
    "colab": {
      "name": "msds20075_RegressionTask.ipynb",
      "provenance": [],
      "collapsed_sections": []
    },
    "kernelspec": {
      "name": "python3",
      "display_name": "Python 3"
    }
  },
  "cells": [
    {
      "cell_type": "markdown",
      "metadata": {
        "id": "Nwn--TMtVk2E"
      },
      "source": [
        "**importing libraries**"
      ]
    },
    {
      "cell_type": "code",
      "metadata": {
        "id": "Jj5zTlmjjmbv"
      },
      "source": [
        "import numpy as np\n",
        "import pandas as pd\n",
        "import matplotlib.pyplot as plt\n",
        "from sklearn import model_selection\n",
        "import seaborn as sns\n",
        "from sklearn.linear_model import LinearRegression\n",
        "from sklearn.linear_model import Ridge\n",
        "from sklearn.linear_model import Lasso\n",
        "from sklearn.linear_model import ElasticNet\n",
        "from sklearn.metrics import r2_score\n",
        "from sklearn.metrics import confusion_matrix\n",
        "from sklearn.model_selection import train_test_split\n",
        "from sklearn.metrics import mean_absolute_error\n",
        "from sklearn.metrics import mean_squared_error\n",
        "from math import sqrt"
      ],
      "execution_count": 2,
      "outputs": []
    },
    {
      "cell_type": "markdown",
      "metadata": {
        "id": "2qEYVMrxVshi"
      },
      "source": [
        "**mounting drive from the Google Drive**"
      ]
    },
    {
      "cell_type": "code",
      "metadata": {
        "colab": {
          "base_uri": "https://localhost:8080/"
        },
        "id": "1DX_0-QHGpRz",
        "outputId": "ca906911-cb4a-45f5-ebdc-29ece90f7a6c"
      },
      "source": [
        "from google.colab import drive\n",
        "drive.mount('/content/drive')"
      ],
      "execution_count": 3,
      "outputs": [
        {
          "output_type": "stream",
          "text": [
            "Mounted at /content/drive\n"
          ],
          "name": "stdout"
        }
      ]
    },
    {
      "cell_type": "markdown",
      "metadata": {
        "id": "6L77bhqCVw9b"
      },
      "source": [
        "**selecting the dataset**"
      ]
    },
    {
      "cell_type": "code",
      "metadata": {
        "id": "ObfpXQisjrrz",
        "colab": {
          "base_uri": "https://localhost:8080/"
        },
        "outputId": "58fc73e4-33ac-4175-c3b3-44afba31b97d"
      },
      "source": [
        "df=pd.read_csv('/content/drive/MyDrive/Colab Notebooks/tt codes/university_data.csv')\n",
        "df.columns=[x.strip() for x in df.columns]\n",
        "df.info()"
      ],
      "execution_count": 53,
      "outputs": [
        {
          "output_type": "stream",
          "text": [
            "<class 'pandas.core.frame.DataFrame'>\n",
            "RangeIndex: 500 entries, 0 to 499\n",
            "Data columns (total 9 columns):\n",
            " #   Column             Non-Null Count  Dtype  \n",
            "---  ------             --------------  -----  \n",
            " 0   Serial No.         500 non-null    int64  \n",
            " 1   GRE Score          500 non-null    int64  \n",
            " 2   TOEFL Score        500 non-null    int64  \n",
            " 3   University Rating  500 non-null    int64  \n",
            " 4   SOP                500 non-null    float64\n",
            " 5   LOR                500 non-null    float64\n",
            " 6   CGPA               500 non-null    float64\n",
            " 7   Research           500 non-null    int64  \n",
            " 8   Chance of Admit    500 non-null    float64\n",
            "dtypes: float64(4), int64(5)\n",
            "memory usage: 35.3 KB\n"
          ],
          "name": "stdout"
        }
      ]
    },
    {
      "cell_type": "code",
      "metadata": {
        "colab": {
          "base_uri": "https://localhost:8080/",
          "height": 204
        },
        "id": "iTaEl01ROL-q",
        "outputId": "f4138b29-ed10-4d1f-8944-c6028fce980e"
      },
      "source": [
        "df.head()"
      ],
      "execution_count": 22,
      "outputs": [
        {
          "output_type": "execute_result",
          "data": {
            "text/html": [
              "<div>\n",
              "<style scoped>\n",
              "    .dataframe tbody tr th:only-of-type {\n",
              "        vertical-align: middle;\n",
              "    }\n",
              "\n",
              "    .dataframe tbody tr th {\n",
              "        vertical-align: top;\n",
              "    }\n",
              "\n",
              "    .dataframe thead th {\n",
              "        text-align: right;\n",
              "    }\n",
              "</style>\n",
              "<table border=\"1\" class=\"dataframe\">\n",
              "  <thead>\n",
              "    <tr style=\"text-align: right;\">\n",
              "      <th></th>\n",
              "      <th>Serial No.</th>\n",
              "      <th>GRE Score</th>\n",
              "      <th>TOEFL Score</th>\n",
              "      <th>University Rating</th>\n",
              "      <th>SOP</th>\n",
              "      <th>LOR</th>\n",
              "      <th>CGPA</th>\n",
              "      <th>Research</th>\n",
              "      <th>Chance of Admit</th>\n",
              "    </tr>\n",
              "  </thead>\n",
              "  <tbody>\n",
              "    <tr>\n",
              "      <th>0</th>\n",
              "      <td>1</td>\n",
              "      <td>337</td>\n",
              "      <td>118</td>\n",
              "      <td>4</td>\n",
              "      <td>4.5</td>\n",
              "      <td>4.5</td>\n",
              "      <td>9.65</td>\n",
              "      <td>1</td>\n",
              "      <td>0.92</td>\n",
              "    </tr>\n",
              "    <tr>\n",
              "      <th>1</th>\n",
              "      <td>2</td>\n",
              "      <td>324</td>\n",
              "      <td>107</td>\n",
              "      <td>4</td>\n",
              "      <td>4.0</td>\n",
              "      <td>4.5</td>\n",
              "      <td>8.87</td>\n",
              "      <td>1</td>\n",
              "      <td>0.76</td>\n",
              "    </tr>\n",
              "    <tr>\n",
              "      <th>2</th>\n",
              "      <td>3</td>\n",
              "      <td>316</td>\n",
              "      <td>104</td>\n",
              "      <td>3</td>\n",
              "      <td>3.0</td>\n",
              "      <td>3.5</td>\n",
              "      <td>8.00</td>\n",
              "      <td>1</td>\n",
              "      <td>0.72</td>\n",
              "    </tr>\n",
              "    <tr>\n",
              "      <th>3</th>\n",
              "      <td>4</td>\n",
              "      <td>322</td>\n",
              "      <td>110</td>\n",
              "      <td>3</td>\n",
              "      <td>3.5</td>\n",
              "      <td>2.5</td>\n",
              "      <td>8.67</td>\n",
              "      <td>1</td>\n",
              "      <td>0.80</td>\n",
              "    </tr>\n",
              "    <tr>\n",
              "      <th>4</th>\n",
              "      <td>5</td>\n",
              "      <td>314</td>\n",
              "      <td>103</td>\n",
              "      <td>2</td>\n",
              "      <td>2.0</td>\n",
              "      <td>3.0</td>\n",
              "      <td>8.21</td>\n",
              "      <td>0</td>\n",
              "      <td>0.65</td>\n",
              "    </tr>\n",
              "  </tbody>\n",
              "</table>\n",
              "</div>"
            ],
            "text/plain": [
              "   Serial No.  GRE Score  TOEFL Score  ...  CGPA  Research  Chance of Admit\n",
              "0           1        337          118  ...  9.65         1             0.92\n",
              "1           2        324          107  ...  8.87         1             0.76\n",
              "2           3        316          104  ...  8.00         1             0.72\n",
              "3           4        322          110  ...  8.67         1             0.80\n",
              "4           5        314          103  ...  8.21         0             0.65\n",
              "\n",
              "[5 rows x 9 columns]"
            ]
          },
          "metadata": {
            "tags": []
          },
          "execution_count": 22
        }
      ]
    },
    {
      "cell_type": "markdown",
      "metadata": {
        "id": "JpbPB7wxVL5t"
      },
      "source": [
        "**EDA Tasks:**"
      ]
    },
    {
      "cell_type": "code",
      "metadata": {
        "id": "aKtCp6ZQQZ8t"
      },
      "source": [
        "def boxplot(y_column):\r\n",
        "    columns=['University Rating','SOP','LOR','Research']\r\n",
        "    fig = plt.figure(figsize=(30, 5))\r\n",
        "    fig.subplots_adjust(hspace=0.4, wspace=0.4)\r\n",
        "    for i in range(1,len(columns)+1):\r\n",
        "        ax=fig.add_subplot(1, len(columns), i)\r\n",
        "        ax=sns.boxplot(x=columns[i-1],y=y_column,data=df)"
      ],
      "execution_count": 5,
      "outputs": []
    },
    {
      "cell_type": "markdown",
      "metadata": {
        "id": "OmS_LEU7VZAj"
      },
      "source": [
        "**1. Plot box plots for GRE and TOEFL scores**\r\n"
      ]
    },
    {
      "cell_type": "code",
      "metadata": {
        "colab": {
          "base_uri": "https://localhost:8080/",
          "height": 245
        },
        "id": "CPnTrwwdRD1t",
        "outputId": "eb65838d-056d-4108-f173-76e67624cd14"
      },
      "source": [
        "boxplot('GRE Score')"
      ],
      "execution_count": 6,
      "outputs": [
        {
          "output_type": "display_data",
          "data": {
            "image/png": "[encoded data removed]",
            "text/plain": [
              "<Figure size 2160x360 with 4 Axes>"
            ]
          },
          "metadata": {
            "tags": [],
            "needs_background": "light"
          }
        }
      ]
    },
    {
      "cell_type": "code",
      "metadata": {
        "id": "psu3YbNzJnZJ",
        "colab": {
          "base_uri": "https://localhost:8080/",
          "height": 354
        },
        "outputId": "1d61e19a-cb40-4931-cc83-b80a2030db1f"
      },
      "source": [
        "boxplot('TOEFL Score')"
      ],
      "execution_count": 7,
      "outputs": [
        {
          "output_type": "display_data",
          "data": {
            "image/png": "[encoded data removed]",
            "text/plain": [
              "<Figure size 2160x360 with 4 Axes>"
            ]
          },
          "metadata": {
            "tags": [],
            "needs_background": "light"
          }
        }
      ]
    },
    {
      "cell_type": "markdown",
      "metadata": {
        "id": "YFei0HkkVczU"
      },
      "source": [
        "**2. Plot a histogram for University rating.**"
      ]
    },
    {
      "cell_type": "code",
      "metadata": {
        "colab": {
          "base_uri": "https://localhost:8080/",
          "height": 295
        },
        "id": "8dPb7YHFRoig",
        "outputId": "40d3f7b1-0e56-48fb-a59f-ca4a4370a54d"
      },
      "source": [
        "import pandas as pd\r\n",
        "\r\n",
        "# Generate data on commute times.\r\n",
        "size, scale = 1000, 10\r\n",
        "commutes = df['University Rating']\r\n",
        "\r\n",
        "commutes.plot.hist(grid=True, bins=20, rwidth=.9,\r\n",
        "                   color='#607c8e')\r\n",
        "plt.title('Histogram of University Ratings')\r\n",
        "plt.xlabel('Rating')\r\n",
        "plt.ylabel('Number of universities')\r\n",
        "plt.grid(axis='y', alpha=0.75)\r\n"
      ],
      "execution_count": 8,
      "outputs": [
        {
          "output_type": "display_data",
          "data": {
            "image/png": "[encoded data removed]",
            "text/plain": [
              "<Figure size 432x288 with 1 Axes>"
            ]
          },
          "metadata": {
            "tags": [],
            "needs_background": "light"
          }
        }
      ]
    },
    {
      "cell_type": "markdown",
      "metadata": {
        "id": "3nFDQcmOVhK0"
      },
      "source": [
        "**3. Plot a scatter plot of CGPA vs. Chance of Admit**"
      ]
    },
    {
      "cell_type": "code",
      "metadata": {
        "colab": {
          "base_uri": "https://localhost:8080/",
          "height": 295
        },
        "id": "n4vturBkRolF",
        "outputId": "481bbaa0-a972-4703-8f3b-6acf305203d8"
      },
      "source": [
        "\r\n",
        "plt.scatter( df['CGPA'], df['Chance of Admit'])\r\n",
        "\r\n",
        "plt.title('Scatter Plot between CGPA and Chance of admit ')\r\n",
        "\r\n",
        "plt.xlabel('CGPA')\r\n",
        "\r\n",
        "plt.ylabel('Chance of Admission')\r\n",
        "\r\n",
        "plt.show()"
      ],
      "execution_count": 9,
      "outputs": [
        {
          "output_type": "display_data",
          "data": {
            "image/png": "[encoded data removed]",
            "text/plain": [
              "<Figure size 432x288 with 1 Axes>"
            ]
          },
          "metadata": {
            "tags": [],
            "needs_background": "light"
          }
        }
      ]
    },
    {
      "cell_type": "markdown",
      "metadata": {
        "id": "Heii-VtNpl8q"
      },
      "source": [
        "**Prediction Tasks:**"
      ]
    },
    {
      "cell_type": "code",
      "metadata": {
        "id": "4p_xOWmXaKUm"
      },
      "source": [
        "y = df['Chance of Admit'].values\r\n",
        "#df= df.drop(['Chance of Admit'], axis=1)\r\n",
        "x = df.iloc[:, :-1].values\r\n",
        "X_train, X_test, y_train, y_test = train_test_split(x, y)\r\n"
      ],
      "execution_count": 103,
      "outputs": []
    },
    {
      "cell_type": "code",
      "metadata": {
        "colab": {
          "base_uri": "https://localhost:8080/"
        },
        "id": "R28-9MsaNFGq",
        "outputId": "7c3caad6-606a-451e-edc5-9657d7ec2625"
      },
      "source": [
        "X_train.shape"
      ],
      "execution_count": 63,
      "outputs": [
        {
          "output_type": "execute_result",
          "data": {
            "text/plain": [
              "(375, 8)"
            ]
          },
          "metadata": {
            "tags": []
          },
          "execution_count": 63
        }
      ]
    },
    {
      "cell_type": "markdown",
      "metadata": {
        "id": "bZqMymmuprs8"
      },
      "source": [
        "**1. Apply simple linear regression**"
      ]
    },
    {
      "cell_type": "code",
      "metadata": {
        "colab": {
          "base_uri": "https://localhost:8080/"
        },
        "id": "rZNpf_1Ahc7h",
        "outputId": "16cd368f-3774-411c-b582-2a5c1f12257b"
      },
      "source": [
        "regressor = LinearRegression()\r\n",
        "regressor.fit(X_train, y_train)"
      ],
      "execution_count": 40,
      "outputs": [
        {
          "output_type": "execute_result",
          "data": {
            "text/plain": [
              "LinearRegression(copy_X=True, fit_intercept=True, n_jobs=None, normalize=False)"
            ]
          },
          "metadata": {
            "tags": []
          },
          "execution_count": 40
        }
      ]
    },
    {
      "cell_type": "code",
      "metadata": {
        "colab": {
          "base_uri": "https://localhost:8080/"
        },
        "id": "Uv0HWiWkhmjH",
        "outputId": "46162530-4178-4941-ecda-dbcc3b19fa8c"
      },
      "source": [
        "print(regressor.intercept_)\r\n",
        "print(regressor.coef_)\r\n",
        "\r\n",
        "zip(df.iloc[:, :-1].values, regressor.coef_)\r\n",
        "# Predicting the Test set results\r\n",
        "y_pred = regressor.predict(X_test)"
      ],
      "execution_count": 41,
      "outputs": [
        {
          "output_type": "stream",
          "text": [
            "-1.2630871087787447\n",
            "[7.50549467e-05 1.64138411e-03 2.49947627e-03 2.80207919e-03\n",
            " 8.35966927e-03 1.30593440e-02 1.26137804e-01 2.35937305e-02]\n"
          ],
          "name": "stdout"
        }
      ]
    },
    {
      "cell_type": "code",
      "metadata": {
        "colab": {
          "base_uri": "https://localhost:8080/"
        },
        "id": "UHGyKzpYiUqx",
        "outputId": "ac6cae97-988a-43fc-c382-5697fc84d4bb"
      },
      "source": [
        "mean_squared_error(y_test, y_pred)"
      ],
      "execution_count": 42,
      "outputs": [
        {
          "output_type": "execute_result",
          "data": {
            "text/plain": [
              "0.003443588037580703"
            ]
          },
          "metadata": {
            "tags": []
          },
          "execution_count": 42
        }
      ]
    },
    {
      "cell_type": "code",
      "metadata": {
        "colab": {
          "base_uri": "https://localhost:8080/"
        },
        "id": "9pxRbH_1i1xL",
        "outputId": "93665880-30f9-4437-e6ff-4a8692148c77"
      },
      "source": [
        "mean_absolute_error(y_test, y_pred)"
      ],
      "execution_count": 43,
      "outputs": [
        {
          "output_type": "execute_result",
          "data": {
            "text/plain": [
              "0.045773759790433036"
            ]
          },
          "metadata": {
            "tags": []
          },
          "execution_count": 43
        }
      ]
    },
    {
      "cell_type": "markdown",
      "metadata": {
        "id": "0vfibBxZ9k1e"
      },
      "source": [
        "**2. Apply polynomial regression with degree=3**"
      ]
    },
    {
      "cell_type": "code",
      "metadata": {
        "id": "aO2lxJNhvNoI",
        "colab": {
          "base_uri": "https://localhost:8080/"
        },
        "outputId": "8291759f-87ee-45b1-bc02-998d159ced83"
      },
      "source": [
        "from sklearn.preprocessing import PolynomialFeatures\n",
        "poly_reg = PolynomialFeatures(degree=3)\n",
        "X_poly = poly_reg.fit_transform(X_train)\n",
        "pol_reg = LinearRegression()\n",
        "pol_reg.fit(X_poly, y_train)"
      ],
      "execution_count": 44,
      "outputs": [
        {
          "output_type": "execute_result",
          "data": {
            "text/plain": [
              "LinearRegression(copy_X=True, fit_intercept=True, n_jobs=None, normalize=False)"
            ]
          },
          "metadata": {
            "tags": []
          },
          "execution_count": 44
        }
      ]
    },
    {
      "cell_type": "code",
      "metadata": {
        "id": "SJhOlJhJAdGd"
      },
      "source": [
        "# Predicting a new result with Polymonial Regression\n",
        "ans = pol_reg.predict(poly_reg.fit_transform(X_test))"
      ],
      "execution_count": 45,
      "outputs": []
    },
    {
      "cell_type": "code",
      "metadata": {
        "colab": {
          "base_uri": "https://localhost:8080/"
        },
        "id": "UKmqaRauTpms",
        "outputId": "ea777c82-6f57-46a1-d05e-1b6e09e7ff7b"
      },
      "source": [
        "ans.shape"
      ],
      "execution_count": 77,
      "outputs": [
        {
          "output_type": "execute_result",
          "data": {
            "text/plain": [
              "(125,)"
            ]
          },
          "metadata": {
            "tags": []
          },
          "execution_count": 77
        }
      ]
    },
    {
      "cell_type": "code",
      "metadata": {
        "id": "jJ5Nx_10BBDC",
        "colab": {
          "base_uri": "https://localhost:8080/",
          "height": 296
        },
        "outputId": "f48ca595-7e09-4fbe-a7b2-431f12781bd1"
      },
      "source": [
        "#Plotting\r\n",
        "plt.scatter(ans, y_test,  color='blue')\r\n",
        "plt.xlabel(\"Predicted value\")\r\n",
        "plt.ylabel(\"Chance of Admit\")"
      ],
      "execution_count": 80,
      "outputs": [
        {
          "output_type": "execute_result",
          "data": {
            "text/plain": [
              "Text(0, 0.5, 'Chance of Admit')"
            ]
          },
          "metadata": {
            "tags": []
          },
          "execution_count": 80
        },
        {
          "output_type": "display_data",
          "data": {
            "image/png": "[encoded data removed]",
            "text/plain": [
              "<Figure size 432x288 with 1 Axes>"
            ]
          },
          "metadata": {
            "tags": [],
            "needs_background": "light"
          }
        }
      ]
    },
    {
      "cell_type": "code",
      "metadata": {
        "colab": {
          "base_uri": "https://localhost:8080/"
        },
        "id": "qdtjcT0QTs9c",
        "outputId": "c63fd621-3b1d-4c99-c61f-50b2ec63a2b6"
      },
      "source": [
        "#Evaluation\r\n",
        "test_x_poly = poly.fit_transform(X_test)\r\n",
        "test_y = ans\r\n",
        "print(\"Mean absolute error: %.2f\" % np.mean(np.absolute(test_y - y_test)))\r\n",
        "print(\"Residual sum of squares (MSE): %.2f\" % np.mean((test_y - y_test) ** 2))\r\n",
        "print(\"R2-score: %.2f\" % r2_score(test_y , y_test) )"
      ],
      "execution_count": 86,
      "outputs": [
        {
          "output_type": "stream",
          "text": [
            "Mean absolute error: 0.18\n",
            "Residual sum of squares (MSE): 0.05\n",
            "R2-score: -0.26\n"
          ],
          "name": "stdout"
        }
      ]
    },
    {
      "cell_type": "markdown",
      "metadata": {
        "id": "ZdhV5ry7a3r6"
      },
      "source": [
        "**1. Apply ridge regression**"
      ]
    },
    {
      "cell_type": "code",
      "metadata": {
        "colab": {
          "base_uri": "https://localhost:8080/"
        },
        "id": "_4sDLV3ea3sF",
        "outputId": "aaec7286-c6b3-43c9-dd19-8bb47b7019e9"
      },
      "source": [
        "regressor = Ridge(alpha=1.0)\r\n",
        "regressor.fit(X_train, y_train)"
      ],
      "execution_count": 88,
      "outputs": [
        {
          "output_type": "execute_result",
          "data": {
            "text/plain": [
              "Ridge(alpha=1.0, copy_X=True, fit_intercept=True, max_iter=None,\n",
              "      normalize=False, random_state=None, solver='auto', tol=0.001)"
            ]
          },
          "metadata": {
            "tags": []
          },
          "execution_count": 88
        }
      ]
    },
    {
      "cell_type": "code",
      "metadata": {
        "colab": {
          "base_uri": "https://localhost:8080/"
        },
        "id": "YzwyIgoda3sG",
        "outputId": "1ddda3f5-ef67-4214-b81e-a6fc4d2267fc"
      },
      "source": [
        "print(regressor.intercept_)\r\n",
        "print(regressor.coef_)\r\n",
        "\r\n",
        "zip(df.iloc[:, :-1].values, regressor.coef_)\r\n",
        "# Predicting the Test set results\r\n",
        "y_pred = regressor.predict(X_test)"
      ],
      "execution_count": 89,
      "outputs": [
        {
          "output_type": "stream",
          "text": [
            "-1.475373631794196\n",
            "[1.04675435e-04 2.47498206e-03 3.17506650e-03 6.14206211e-03\n",
            " 4.63632718e-03 1.61668370e-02 1.10367457e-01 1.63134177e-02]\n"
          ],
          "name": "stdout"
        }
      ]
    },
    {
      "cell_type": "code",
      "metadata": {
        "colab": {
          "base_uri": "https://localhost:8080/"
        },
        "id": "TeCri0rYa3sH",
        "outputId": "c7b7a9af-a2b1-4b65-b2c4-eed3cc0a6cdd"
      },
      "source": [
        "mean_squared_error(y_test, y_pred)"
      ],
      "execution_count": 90,
      "outputs": [
        {
          "output_type": "execute_result",
          "data": {
            "text/plain": [
              "0.0032396659501024625"
            ]
          },
          "metadata": {
            "tags": []
          },
          "execution_count": 90
        }
      ]
    },
    {
      "cell_type": "code",
      "metadata": {
        "colab": {
          "base_uri": "https://localhost:8080/"
        },
        "id": "diizE7rha3sH",
        "outputId": "678b408f-75a8-4098-a8c3-e18270e407a6"
      },
      "source": [
        "mean_absolute_error(y_test, y_pred)"
      ],
      "execution_count": 91,
      "outputs": [
        {
          "output_type": "execute_result",
          "data": {
            "text/plain": [
              "0.04243925588852187"
            ]
          },
          "metadata": {
            "tags": []
          },
          "execution_count": 91
        }
      ]
    },
    {
      "cell_type": "markdown",
      "metadata": {
        "id": "PXXnTW_3cnd4"
      },
      "source": [
        "**1. Apply lasso regression**"
      ]
    },
    {
      "cell_type": "code",
      "metadata": {
        "colab": {
          "base_uri": "https://localhost:8080/"
        },
        "id": "OFB26kjNcneB",
        "outputId": "f3760060-23e8-44cd-a910-1c731b9b0650"
      },
      "source": [
        "regressor = Lasso(alpha=1.0)\r\n",
        "regressor.fit(X_train, y_train)"
      ],
      "execution_count": 92,
      "outputs": [
        {
          "output_type": "execute_result",
          "data": {
            "text/plain": [
              "Lasso(alpha=1.0, copy_X=True, fit_intercept=True, max_iter=1000,\n",
              "      normalize=False, positive=False, precompute=False, random_state=None,\n",
              "      selection='cyclic', tol=0.0001, warm_start=False)"
            ]
          },
          "metadata": {
            "tags": []
          },
          "execution_count": 92
        }
      ]
    },
    {
      "cell_type": "code",
      "metadata": {
        "colab": {
          "base_uri": "https://localhost:8080/"
        },
        "id": "gg14Y-drcneC",
        "outputId": "489e7688-f123-4c12-ee57-a0c78c32ce0b"
      },
      "source": [
        "print(regressor.intercept_)\r\n",
        "print(regressor.coef_)\r\n",
        "\r\n",
        "zip(df.iloc[:, :-1].values, regressor.coef_)\r\n",
        "# Predicting the Test set results\r\n",
        "y_pred = regressor.predict(X_test)"
      ],
      "execution_count": 93,
      "outputs": [
        {
          "output_type": "stream",
          "text": [
            "-0.13834557307579975\n",
            "[8.67677618e-08 2.71440421e-03 0.00000000e+00 0.00000000e+00\n",
            " 0.00000000e+00 0.00000000e+00 0.00000000e+00 0.00000000e+00]\n"
          ],
          "name": "stdout"
        }
      ]
    },
    {
      "cell_type": "code",
      "metadata": {
        "colab": {
          "base_uri": "https://localhost:8080/"
        },
        "id": "c_7Mh89McneC",
        "outputId": "7b16454d-45ee-4115-8159-83e20e1cb115"
      },
      "source": [
        "mean_squared_error(y_test, y_pred)"
      ],
      "execution_count": 94,
      "outputs": [
        {
          "output_type": "execute_result",
          "data": {
            "text/plain": [
              "0.012085000955148214"
            ]
          },
          "metadata": {
            "tags": []
          },
          "execution_count": 94
        }
      ]
    },
    {
      "cell_type": "code",
      "metadata": {
        "colab": {
          "base_uri": "https://localhost:8080/"
        },
        "id": "h7OzYHRgcneD",
        "outputId": "876fd685-4ec1-46a8-e3c5-c65414e465b6"
      },
      "source": [
        "mean_absolute_error(y_test, y_pred)"
      ],
      "execution_count": 95,
      "outputs": [
        {
          "output_type": "execute_result",
          "data": {
            "text/plain": [
              "0.08686652773910933"
            ]
          },
          "metadata": {
            "tags": []
          },
          "execution_count": 95
        }
      ]
    },
    {
      "cell_type": "markdown",
      "metadata": {
        "id": "FVYpKeEHE3Yf"
      },
      "source": [
        "**Standardization**"
      ]
    },
    {
      "cell_type": "code",
      "metadata": {
        "id": "Xye9vBtsdAR4"
      },
      "source": [
        "from sklearn import preprocessing\r\n",
        "scaler = preprocessing.StandardScaler().fit(X_train)\r\n",
        "X_train=scaler.transform(X_train)"
      ],
      "execution_count": 107,
      "outputs": []
    },
    {
      "cell_type": "code",
      "metadata": {
        "colab": {
          "base_uri": "https://localhost:8080/"
        },
        "id": "jxXzNKm0dv-O",
        "outputId": "cea2f120-43a8-4000-a2b9-181cfd72558a"
      },
      "source": [
        "X_train[:2]"
      ],
      "execution_count": 111,
      "outputs": [
        {
          "output_type": "execute_result",
          "data": {
            "text/plain": [
              "array([[ 0.59021714,  0.20855444,  0.47590263, -0.10193655, -0.39196348,\n",
              "        -1.04790158,  0.32770631, -1.11602374],\n",
              "       [-0.79195834,  1.10133886,  0.47590263, -0.97071397,  0.62173517,\n",
              "        -0.51398434,  0.92353598,  0.89603829]])"
            ]
          },
          "metadata": {
            "tags": []
          },
          "execution_count": 111
        }
      ]
    },
    {
      "cell_type": "code",
      "metadata": {
        "colab": {
          "base_uri": "https://localhost:8080/"
        },
        "id": "LgA4R-jdepKn",
        "outputId": "c59a7972-b7d4-4373-c3a5-19c4d6fa11ba"
      },
      "source": [
        "from sklearn import preprocessing\r\n",
        "scaler = preprocessing.StandardScaler().fit(X_test)\r\n",
        "X_test=scaler.transform(X_test)\r\n",
        "X_test[:1]"
      ],
      "execution_count": 110,
      "outputs": [
        {
          "output_type": "execute_result",
          "data": {
            "text/plain": [
              "array([[-0.55551992, -0.59913778, -0.51722481, -0.98935535, -1.33659893,\n",
              "        -1.11754804, -0.44823797, -1.16554303]])"
            ]
          },
          "metadata": {
            "tags": []
          },
          "execution_count": 110
        }
      ]
    },
    {
      "cell_type": "markdown",
      "metadata": {
        "id": "KgDPy9tzfCZo"
      },
      "source": [
        "**1. Apply simple linear regression**\r\n",
        "\r\n",
        "after standardization"
      ]
    },
    {
      "cell_type": "code",
      "metadata": {
        "colab": {
          "base_uri": "https://localhost:8080/"
        },
        "id": "xiHuASXPfCZp",
        "outputId": "4c969692-dfd6-4ade-d9e1-e12a8c285373"
      },
      "source": [
        "regressor = LinearRegression()\r\n",
        "regressor.fit(X_train, y_train)"
      ],
      "execution_count": 112,
      "outputs": [
        {
          "output_type": "execute_result",
          "data": {
            "text/plain": [
              "LinearRegression(copy_X=True, fit_intercept=True, n_jobs=None, normalize=False)"
            ]
          },
          "metadata": {
            "tags": []
          },
          "execution_count": 112
        }
      ]
    },
    {
      "cell_type": "code",
      "metadata": {
        "colab": {
          "base_uri": "https://localhost:8080/"
        },
        "id": "j8olz-2kfCZq",
        "outputId": "aef038b4-ed8a-4577-afa9-9e37ec4b5f82"
      },
      "source": [
        "print(regressor.intercept_)\r\n",
        "print(regressor.coef_)\r\n",
        "\r\n",
        "zip(df.iloc[:, :-1].values, regressor.coef_)\r\n",
        "# Predicting the Test set results\r\n",
        "y_pred = regressor.predict(X_test)"
      ],
      "execution_count": 113,
      "outputs": [
        {
          "output_type": "stream",
          "text": [
            "0.7262399999999997\n",
            "[0.00894354 0.02271007 0.01763753 0.00630672 0.00632831 0.01401189\n",
            " 0.06984317 0.00656861]\n"
          ],
          "name": "stdout"
        }
      ]
    },
    {
      "cell_type": "code",
      "metadata": {
        "colab": {
          "base_uri": "https://localhost:8080/"
        },
        "id": "soQAEjjFfCZr",
        "outputId": "956f600f-c799-4b8c-d36b-bd8b60a727fa"
      },
      "source": [
        "mean_squared_error(y_test, y_pred)"
      ],
      "execution_count": 114,
      "outputs": [
        {
          "output_type": "execute_result",
          "data": {
            "text/plain": [
              "0.004445111376902821"
            ]
          },
          "metadata": {
            "tags": []
          },
          "execution_count": 114
        }
      ]
    },
    {
      "cell_type": "code",
      "metadata": {
        "colab": {
          "base_uri": "https://localhost:8080/"
        },
        "id": "v-D2ko94fCZr",
        "outputId": "09f15ea4-b73e-4601-c190-5e07cb333d33"
      },
      "source": [
        "mean_absolute_error(y_test, y_pred)"
      ],
      "execution_count": 115,
      "outputs": [
        {
          "output_type": "execute_result",
          "data": {
            "text/plain": [
              "0.045751738625724"
            ]
          },
          "metadata": {
            "tags": []
          },
          "execution_count": 115
        }
      ]
    },
    {
      "cell_type": "markdown",
      "metadata": {
        "id": "UI0V7k7VfCZr"
      },
      "source": [
        "**2. Apply polynomial regression with degree=3**"
      ]
    },
    {
      "cell_type": "code",
      "metadata": {
        "colab": {
          "base_uri": "https://localhost:8080/"
        },
        "id": "vZ4RdNH4fCZs",
        "outputId": "259e397f-2cc3-4683-b56c-7410d902e273"
      },
      "source": [
        "from sklearn.preprocessing import PolynomialFeatures\n",
        "poly_reg = PolynomialFeatures(degree=3)\n",
        "X_poly = poly_reg.fit_transform(X_train)\n",
        "pol_reg = LinearRegression()\n",
        "pol_reg.fit(X_poly, y_train)"
      ],
      "execution_count": 116,
      "outputs": [
        {
          "output_type": "execute_result",
          "data": {
            "text/plain": [
              "LinearRegression(copy_X=True, fit_intercept=True, n_jobs=None, normalize=False)"
            ]
          },
          "metadata": {
            "tags": []
          },
          "execution_count": 116
        }
      ]
    },
    {
      "cell_type": "code",
      "metadata": {
        "id": "P-Dhm36efCZs"
      },
      "source": [
        "# Predicting a new result with Polymonial Regression\n",
        "ans = pol_reg.predict(poly_reg.fit_transform(X_test))"
      ],
      "execution_count": 117,
      "outputs": []
    },
    {
      "cell_type": "code",
      "metadata": {
        "colab": {
          "base_uri": "https://localhost:8080/"
        },
        "id": "zobD6G6CfCZs",
        "outputId": "c9de4edf-71e4-4ea6-8a40-852daa728e10"
      },
      "source": [
        "ans.shape"
      ],
      "execution_count": 118,
      "outputs": [
        {
          "output_type": "execute_result",
          "data": {
            "text/plain": [
              "(125,)"
            ]
          },
          "metadata": {
            "tags": []
          },
          "execution_count": 118
        }
      ]
    },
    {
      "cell_type": "code",
      "metadata": {
        "colab": {
          "base_uri": "https://localhost:8080/",
          "height": 296
        },
        "id": "gNcbd4EdfCZt",
        "outputId": "3c11acbd-a356-4cc0-8db5-127b3bc01e64"
      },
      "source": [
        "#Plotting\r\n",
        "plt.scatter(ans, y_test,  color='blue')\r\n",
        "#XX = np.arange(0.0, 10.0, 0.1)\r\n",
        "#yy = pol_reg.intercept_[0]+ pol_reg.coef_[0][1]*XX+ pol_reg.coef_[0][2]*np.power(XX, 2)\r\n",
        "#plt.plot(XX, yy, '-r' )\r\n",
        "plt.xlabel(\"Predicted value\")\r\n",
        "plt.ylabel(\"Chance of Admit\")"
      ],
      "execution_count": 119,
      "outputs": [
        {
          "output_type": "execute_result",
          "data": {
            "text/plain": [
              "Text(0, 0.5, 'Chance of Admit')"
            ]
          },
          "metadata": {
            "tags": []
          },
          "execution_count": 119
        },
        {
          "output_type": "display_data",
          "data": {
            "image/png": "[encoded data removed]",
            "text/plain": [
              "<Figure size 432x288 with 1 Axes>"
            ]
          },
          "metadata": {
            "tags": [],
            "needs_background": "light"
          }
        }
      ]
    },
    {
      "cell_type": "code",
      "metadata": {
        "colab": {
          "base_uri": "https://localhost:8080/"
        },
        "id": "cf4JtCdwfCZt",
        "outputId": "d48e9bf2-7c4c-4c2c-e62c-01cdafadcb1f"
      },
      "source": [
        "#Evaluation\r\n",
        "test_x_poly = poly.fit_transform(X_test)\r\n",
        "test_y = ans\r\n",
        "print(\"Mean absolute error: %.2f\" % np.mean(np.absolute(test_y - y_test)))\r\n",
        "print(\"Residual sum of squares (MSE): %.2f\" % np.mean((test_y - y_test) ** 2))\r\n",
        "print(\"R2-score: %.2f\" % r2_score(test_y , y_test) )"
      ],
      "execution_count": 120,
      "outputs": [
        {
          "output_type": "stream",
          "text": [
            "Mean absolute error: 1065325771.86\n",
            "Residual sum of squares (MSE): 1731001924362113536.00\n",
            "R2-score: -0.20\n"
          ],
          "name": "stdout"
        }
      ]
    },
    {
      "cell_type": "markdown",
      "metadata": {
        "id": "k3gPjeNffCZt"
      },
      "source": [
        "**1. Apply ridge regression**\r\n",
        "\r\n",
        "after standardization"
      ]
    },
    {
      "cell_type": "code",
      "metadata": {
        "colab": {
          "base_uri": "https://localhost:8080/"
        },
        "id": "CpmdA2JOfCZu",
        "outputId": "74d416fa-fab1-4832-e33d-f5a3d4077484"
      },
      "source": [
        "regressor = Ridge(alpha=1.0)\r\n",
        "regressor.fit(X_train, y_train)"
      ],
      "execution_count": 121,
      "outputs": [
        {
          "output_type": "execute_result",
          "data": {
            "text/plain": [
              "Ridge(alpha=1.0, copy_X=True, fit_intercept=True, max_iter=None,\n",
              "      normalize=False, random_state=None, solver='auto', tol=0.001)"
            ]
          },
          "metadata": {
            "tags": []
          },
          "execution_count": 121
        }
      ]
    },
    {
      "cell_type": "code",
      "metadata": {
        "colab": {
          "base_uri": "https://localhost:8080/"
        },
        "id": "2uJrUibjfCZu",
        "outputId": "8076294a-4b2a-4135-bcaf-6f7bb10366f3"
      },
      "source": [
        "print(regressor.intercept_)\r\n",
        "print(regressor.coef_)\r\n",
        "\r\n",
        "zip(df.iloc[:, :-1].values, regressor.coef_)\r\n",
        "# Predicting the Test set results\r\n",
        "y_pred = regressor.predict(X_test)"
      ],
      "execution_count": 122,
      "outputs": [
        {
          "output_type": "stream",
          "text": [
            "0.7262399999999998\n",
            "[0.00893034 0.02290258 0.01782345 0.00639251 0.00645117 0.01409178\n",
            " 0.06912722 0.0066025 ]\n"
          ],
          "name": "stdout"
        }
      ]
    },
    {
      "cell_type": "code",
      "metadata": {
        "colab": {
          "base_uri": "https://localhost:8080/"
        },
        "id": "UPa_CYWOfCZu",
        "outputId": "ce32e380-cd71-4980-eb9e-473f8630069b"
      },
      "source": [
        "mean_squared_error(y_test, y_pred)"
      ],
      "execution_count": 123,
      "outputs": [
        {
          "output_type": "execute_result",
          "data": {
            "text/plain": [
              "0.004445379991651673"
            ]
          },
          "metadata": {
            "tags": []
          },
          "execution_count": 123
        }
      ]
    },
    {
      "cell_type": "code",
      "metadata": {
        "colab": {
          "base_uri": "https://localhost:8080/"
        },
        "id": "GiEdbcbdfCZu",
        "outputId": "efe0a822-09bf-47c3-d711-5653c410fdea"
      },
      "source": [
        "mean_absolute_error(y_test, y_pred)"
      ],
      "execution_count": 124,
      "outputs": [
        {
          "output_type": "execute_result",
          "data": {
            "text/plain": [
              "0.04571355157045438"
            ]
          },
          "metadata": {
            "tags": []
          },
          "execution_count": 124
        }
      ]
    },
    {
      "cell_type": "code",
      "metadata": {
        "id": "btnXBhgYfCZv"
      },
      "source": [
        ""
      ],
      "execution_count": 124,
      "outputs": []
    },
    {
      "cell_type": "markdown",
      "metadata": {
        "id": "Db7c8z4ifCZv"
      },
      "source": [
        "**1. Apply lasso regression**\r\n",
        "\r\n",
        "after standardization"
      ]
    },
    {
      "cell_type": "code",
      "metadata": {
        "colab": {
          "base_uri": "https://localhost:8080/"
        },
        "id": "AhaJqOKRfCZv",
        "outputId": "5b1c0e28-d6e1-4d97-824f-5371dc24b05a"
      },
      "source": [
        "regressor = Lasso(alpha=0.8)\r\n",
        "regressor.fit(X_train, y_train)"
      ],
      "execution_count": 129,
      "outputs": [
        {
          "output_type": "execute_result",
          "data": {
            "text/plain": [
              "Lasso(alpha=0.8, copy_X=True, fit_intercept=True, max_iter=1000,\n",
              "      normalize=False, positive=False, precompute=False, random_state=None,\n",
              "      selection='cyclic', tol=0.0001, warm_start=False)"
            ]
          },
          "metadata": {
            "tags": []
          },
          "execution_count": 129
        }
      ]
    },
    {
      "cell_type": "code",
      "metadata": {
        "colab": {
          "base_uri": "https://localhost:8080/"
        },
        "id": "iC-GlGt5fCZv",
        "outputId": "1ac8138d-457d-47be-8930-d0f35f45b5fa"
      },
      "source": [
        "print(regressor.intercept_)\r\n",
        "print(regressor.coef_)\r\n",
        "\r\n",
        "zip(df.iloc[:, :-1].values, regressor.coef_)\r\n",
        "# Predicting the Test set results\r\n",
        "y_pred = regressor.predict(X_test)"
      ],
      "execution_count": 130,
      "outputs": [
        {
          "output_type": "stream",
          "text": [
            "0.7262400000000001\n",
            "[-0.  0.  0.  0.  0.  0.  0.  0.]\n"
          ],
          "name": "stdout"
        }
      ]
    },
    {
      "cell_type": "code",
      "metadata": {
        "colab": {
          "base_uri": "https://localhost:8080/"
        },
        "id": "cfs3cUYwfCZw",
        "outputId": "bcddad15-6958-4fc8-a53e-0892cea6d39e"
      },
      "source": [
        "mean_squared_error(y_test, y_pred)"
      ],
      "execution_count": 131,
      "outputs": [
        {
          "output_type": "execute_result",
          "data": {
            "text/plain": [
              "0.021450502400000005"
            ]
          },
          "metadata": {
            "tags": []
          },
          "execution_count": 131
        }
      ]
    },
    {
      "cell_type": "code",
      "metadata": {
        "colab": {
          "base_uri": "https://localhost:8080/"
        },
        "id": "mwtRNzKXfCZw",
        "outputId": "fe7ca8b0-ef03-4e52-9412-651b7bb47027"
      },
      "source": [
        "mean_absolute_error(y_test, y_pred)"
      ],
      "execution_count": 132,
      "outputs": [
        {
          "output_type": "execute_result",
          "data": {
            "text/plain": [
              "0.12340928000000002"
            ]
          },
          "metadata": {
            "tags": []
          },
          "execution_count": 132
        }
      ]
    },
    {
      "cell_type": "code",
      "metadata": {
        "id": "QSEeLEnmfCZx"
      },
      "source": [
        ""
      ],
      "execution_count": 128,
      "outputs": []
    }
  ]
}
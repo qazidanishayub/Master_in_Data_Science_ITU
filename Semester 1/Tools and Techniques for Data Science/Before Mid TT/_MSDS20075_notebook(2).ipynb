{
 "metadata": {
  "language_info": {
   "codemirror_mode": {
    "name": "ipython",
    "version": 3
   },
   "file_extension": ".py",
   "mimetype": "text/x-python",
   "name": "python",
   "nbconvert_exporter": "python",
   "pygments_lexer": "ipython3",
   "version": "3.8.2-final"
  },
  "orig_nbformat": 2,
  "kernelspec": {
   "name": "python3",
   "display_name": "Python 3.8.2 32-bit",
   "metadata": {
    "interpreter": {
     "hash": "a5b154bd190a2379b3840125015d36db3e1cad2b6ba837424ade093fcb6ac49c"
    }
   }
  }
 },
 "nbformat": 4,
 "nbformat_minor": 2,
 "cells": [
  {
   "cell_type": "code",
   "execution_count": 1,
   "metadata": {},
   "outputs": [],
   "source": [
    "import numpy as np\n",
    "import pandas as pd\n",
    "import matplotlib.pyplot as plt\n",
    "from sklearn import model_selection\n",
    "from sklearn.preprocessing import LabelEncoder,MinMaxScaler,PolynomialFeatures,StandardScaler\n",
    "from sklearn.linear_model import LinearRegression,Ridge,Lasso\n",
    "from sklearn.metrics import r2_score\n",
    "from sklearn.model_selection import train_test_split\n",
    "from sklearn import tree\n",
    "from sklearn.metrics import mean_squared_error\n",
    "from math import sqrt"
   ]
  },
  {
   "cell_type": "code",
   "execution_count": 11,
   "metadata": {},
   "outputs": [],
   "source": [
    "df = pd.read_csv('development.csv',skipinitialspace=True)\n",
    "df_evaluation = pd.read_csv('evaluation.csv',skipinitialspace=True)"
   ]
  },
  {
   "cell_type": "code",
   "execution_count": 12,
   "metadata": {},
   "outputs": [
    {
     "output_type": "execute_result",
     "data": {
      "text/plain": [
       "id                                   0\n",
       "name                                13\n",
       "host_id                              0\n",
       "host_name                           19\n",
       "neighbourhood_group                  0\n",
       "neighbourhood                        0\n",
       "latitude                             0\n",
       "longitude                            0\n",
       "room_type                            0\n",
       "price                                0\n",
       "minimum_nights                       0\n",
       "number_of_reviews                    0\n",
       "last_review                       8041\n",
       "reviews_per_month                 8041\n",
       "calculated_host_listings_count       0\n",
       "availability_365                     0\n",
       "dtype: int64"
      ]
     },
     "metadata": {},
     "execution_count": 12
    }
   ],
   "source": [
    "df.isna().sum()"
   ]
  },
  {
   "cell_type": "code",
   "execution_count": 13,
   "metadata": {},
   "outputs": [
    {
     "output_type": "execute_result",
     "data": {
      "text/plain": [
       "id                                   0\n",
       "host_id                              0\n",
       "host_name                           31\n",
       "neighbourhood                     3415\n",
       "neighbourhood_group_cleansed      9987\n",
       "latitude                             0\n",
       "longitude                            0\n",
       "room_type                            0\n",
       "minimum_nights                       0\n",
       "availability_365                     0\n",
       "number_of_reviews                    0\n",
       "calculated_host_listings_count       0\n",
       "reviews_per_month                 1275\n",
       "last_review                       1275\n",
       "dtype: int64"
      ]
     },
     "metadata": {},
     "execution_count": 13
    }
   ],
   "source": [
    "df_evaluation.isna().sum()"
   ]
  },
  {
   "cell_type": "code",
   "execution_count": 14,
   "metadata": {},
   "outputs": [],
   "source": [
    "column = 'price'\n",
    "Q1 = df[column].quantile(0.25)\n",
    "Q3 = df[column].quantile(0.75)\n",
    "IQR = Q3 - Q1\n",
    "mask=( (df[column] < (Q1 - 1.5 * IQR)) | (df[column] > (Q3 + 1.5 * IQR)) )\n",
    "df = df[~mask]"
   ]
  },
  {
   "cell_type": "code",
   "execution_count": 15,
   "metadata": {},
   "outputs": [],
   "source": [
    "df['reviews_per_month'].fillna(0,inplace=True)\n",
    "df_evaluation['reviews_per_month'].fillna(0,inplace=True)\n",
    "drop_columns = ['latitude','longitude','id', 'name', 'host_id', 'host_name', 'neighbourhood_group',\n",
    "       'neighbourhood', 'price','last_review']\n",
    "drop_columns_evaluation = ['latitude','longitude','id', 'host_id', 'host_name', 'neighbourhood',\n",
    "       'neighbourhood_group_cleansed',  'last_review']\n",
    "X = df.drop(drop_columns, axis=1)\n",
    "X_evaluation=df_evaluation.drop(drop_columns_evaluation,axis=1)\n",
    "y = df['price']"
   ]
  },
  {
   "cell_type": "code",
   "execution_count": 16,
   "metadata": {},
   "outputs": [],
   "source": [
    "ss = StandardScaler()\n",
    "le = LabelEncoder()\n",
    "# Transform all categorical columns in Dependant Varaible X\n",
    "for i in X.columns:\n",
    "    if X[i].dtype not in ['int64','float64'] :\n",
    "        le.fit(X[i].append(X_evaluation[i]))\n",
    "        X[[i]]=le.transform(X[[i]])\n",
    "        X_evaluation[[i]] = le.transform(X_evaluation[[i]])\n",
    "    else:\n",
    "        X[[i]]=ss.fit_transform(X[[i]])\n",
    "        X_evaluation[[i]] = ss.fit_transform(X_evaluation[[i]])\n",
    "\n",
    "X = X.values\n",
    "X_evaluation = X_evaluation.values\n",
    "y = y.values.reshape(-1,1)\n"
   ]
  },
  {
   "cell_type": "code",
   "execution_count": 17,
   "metadata": {},
   "outputs": [
    {
     "output_type": "execute_result",
     "data": {
      "text/plain": [
       "((36767, 6), (36767, 1), (9987, 6))"
      ]
     },
     "metadata": {},
     "execution_count": 17
    }
   ],
   "source": [
    "X.shape,y.shape,X_evaluation.shape"
   ]
  },
  {
   "cell_type": "code",
   "execution_count": 18,
   "metadata": {},
   "outputs": [],
   "source": [
    "#Split the data\n",
    "X_train, X_test, y_train, y_test = train_test_split(X,y, test_size=0.2,random_state=40)"
   ]
  },
  {
   "cell_type": "code",
   "execution_count": 19,
   "metadata": {},
   "outputs": [
    {
     "output_type": "stream",
     "name": "stdout",
     "text": [
      "X_train\nRMSE: 53.09433299045722\nr2 score: 0.4019065035591147\nX_test\nRMSE: 52.844063803963515\nr2 score: 0.3957917436130044\n"
     ]
    }
   ],
   "source": [
    "# Fit and evaluate linear Model\n",
    "lr = LinearRegression()\n",
    "lr.fit(X_train, y_train)\n",
    "\n",
    "train_pred= lr.predict(X_train)\n",
    "\n",
    "print(\"X_train\")\n",
    "print(\"RMSE:\",np.sqrt(mean_squared_error(y_train,train_pred)))\n",
    "print(\"r2 score:\",r2_score(y_train, train_pred))\n",
    "\n",
    "test_pred= lr.predict(X_test)\n",
    "print(\"X_test\")\n",
    "print(\"RMSE:\",np.sqrt(mean_squared_error(y_test,test_pred)))\n",
    "print(\"r2 score:\",r2_score(y_test, test_pred))"
   ]
  },
  {
   "cell_type": "code",
   "execution_count": 33,
   "metadata": {},
   "outputs": [
    {
     "output_type": "stream",
     "name": "stdout",
     "text": [
      "(9987,)\n"
     ]
    }
   ],
   "source": [
    "evaluate_pred_final= lr.predict(X_evaluation)\n",
    "evaluate_pred_final=np.squeeze(evaluate_pred_final)\n",
    "pd.DataFrame({'id': df_evaluation.id, 'price': evaluate_pred_final}).to_csv('submission0.csv', index=False)"
   ]
  },
  {
   "cell_type": "code",
   "execution_count": 35,
   "metadata": {},
   "outputs": [
    {
     "output_type": "stream",
     "name": "stdout",
     "text": [
      "X_train\nRMSE : 52.59500254243814\nR2 score : 0.41310325295885686\nX_test\nRMSE: 52.4789330687462\nr2 score: 0.40411255808499236\n"
     ]
    }
   ],
   "source": [
    "# Fit best polynomial Linear model\n",
    "best_poly_reg = PolynomialFeatures(degree=2)\n",
    "X_poly = best_poly_reg.fit_transform(X_train)\n",
    "best_pol_reg = LinearRegression()\n",
    "best_pol_reg.fit(X_poly, y_train)\n",
    "\n",
    "train_pred= best_pol_reg.predict(X_poly)\n",
    "print(\"X_train\")\n",
    "print(\"RMSE :\",np.sqrt(mean_squared_error(y_train,train_pred)))\n",
    "print(\"R2 score :\",r2_score(y_train, train_pred))\n",
    "\n",
    "X_test_poly= best_poly_reg.transform(X_test)\n",
    "test_pred= best_pol_reg.predict(X_test_poly)\n",
    "print(\"X_test\")\n",
    "print(\"RMSE:\",np.sqrt(mean_squared_error(y_test,test_pred)))\n",
    "print(\"r2 score:\",r2_score(y_test, test_pred))"
   ]
  },
  {
   "cell_type": "code",
   "execution_count": 36,
   "metadata": {},
   "outputs": [],
   "source": [
    "# Compute results for polynomial regression\n",
    "X_evaluate_poly= best_poly_reg.transform(X_evaluation)\n",
    "evaluate_pred_final= best_pol_reg.predict(X_evaluate_poly)\n",
    "evaluate_pred_final=np.squeeze(evaluate_pred_final)\n",
    "pd.DataFrame({'id': df_evaluation.id, 'price': evaluate_pred_final}).to_csv('submission1.csv', index=False)"
   ]
  },
  {
   "cell_type": "code",
   "execution_count": 38,
   "metadata": {},
   "outputs": [
    {
     "output_type": "stream",
     "name": "stdout",
     "text": [
      "RMSE: 126.56564277487406\nr2 score: -2.3986340145923\nRMSE: 124.80104006552592\nr2 score: -2.3700058004004783\n"
     ]
    }
   ],
   "source": [
    "# Fit and test ridge regression\n",
    "rr =Ridge(fit_intercept=False)\n",
    "rr.fit(X_train, y_train)\n",
    "\n",
    "train_pred= rr.predict(X_train)\n",
    "\n",
    "print(\"RMSE:\",np.sqrt(mean_squared_error(y_train,train_pred)))\n",
    "print(\"r2 score:\",r2_score(y_train, train_pred))\n",
    "\n",
    "test_pred= rr.predict(X_test)\n",
    "print(\"RMSE:\",np.sqrt(mean_squared_error(y_test,test_pred)))\n",
    "print(\"r2 score:\",r2_score(y_test, test_pred))"
   ]
  },
  {
   "cell_type": "code",
   "execution_count": 39,
   "metadata": {},
   "outputs": [],
   "source": [
    "evaluate_pred_final= rr.predict(X_evaluation)\n",
    "evaluate_pred_final=np.squeeze(evaluate_pred_final)\n",
    "pd.DataFrame({'id': df_evaluation.id, 'price': evaluate_pred_final}).to_csv('submission2.csv', index=False)"
   ]
  },
  {
   "cell_type": "code",
   "execution_count": 40,
   "metadata": {},
   "outputs": [
    {
     "output_type": "stream",
     "name": "stdout",
     "text": [
      "RMSE: 126.58335543325883\nr2 score: -2.3995853478976286\nRMSE: 124.86866663335701\nr2 score: -2.3736590339458745\n"
     ]
    }
   ],
   "source": [
    "# Fit and test Lasso Regression\n",
    "lr = Lasso(fit_intercept=False)\n",
    "lr.fit(X_train,y_train)\n",
    "\n",
    "train_pred= lr.predict(X_train)\n",
    "print(\"RMSE:\",np.sqrt(mean_squared_error(y_train,train_pred)))\n",
    "print(\"r2 score:\",r2_score(y_train, train_pred))\n",
    "\n",
    "test_pred= lr.predict(X_test)\n",
    "print(\"RMSE:\",np.sqrt(mean_squared_error(y_test,test_pred)))\n",
    "print(\"r2 score:\",r2_score(y_test, test_pred))"
   ]
  },
  {
   "cell_type": "code",
   "execution_count": 41,
   "metadata": {},
   "outputs": [],
   "source": [
    "evaluate_pred_final= lr.predict(X_evaluation)\n",
    "pd.DataFrame({'id': df_evaluation.id, 'price': evaluate_pred_final}).to_csv('submission3.csv', index=False)"
   ]
  },
  {
   "cell_type": "code",
   "execution_count": null,
   "metadata": {},
   "outputs": [],
   "source": []
  }
 ]
}
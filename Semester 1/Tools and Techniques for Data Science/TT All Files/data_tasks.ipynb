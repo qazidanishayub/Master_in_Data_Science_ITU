{
 "cells": [
  {
   "cell_type": "markdown",
   "metadata": {},
   "source": [
    "Before you turn this problem in, make sure everything runs as expected. First, **restart the kernel** (in the menubar, select Kernel$\\rightarrow$Restart) and then **run all cells** (in the menubar, select Cell$\\rightarrow$Run All).\n",
    "\n",
    "### Code answers\n",
    "\n",
    "In questions that require you to write code, there will usually be a code cell containing: \n",
    "    \n",
    "<code># YOUR CODE HERE</code>\n",
    "<br>\n",
    "<code>raise NotImplementedError()</code>\n",
    "    \n",
    "When you are ready to write your answer, delete <code>raise NotImplementedError()</code> and write your code.\n",
    "\n",
    "**Do not delete or modify any other cells**"
   ]
  },
  {
   "cell_type": "code",
   "execution_count": null,
   "metadata": {},
   "outputs": [],
   "source": [
    "NAME = \"\"\n",
    "ROLL_NUMBER = \"\"\n",
    "EMAIL = \"\""
   ]
  },
  {
   "cell_type": "markdown",
   "metadata": {},
   "source": [
    "---"
   ]
  },
  {
   "cell_type": "markdown",
   "metadata": {},
   "source": [
    "# Assignment 1 – Pandas and Matplotlib\n",
    "This assignment requires more individual learning - you are encouraged to check out the panda’s documentation to find functions or methods you might not have used yet, or ask questions on Stack Overflow and tag them as pandas and python related. And of course, the discussion forums are open for interaction with your peers and the course staff.\n"
   ]
  },
  {
   "cell_type": "code",
   "execution_count": null,
   "metadata": {},
   "outputs": [],
   "source": [
    "# IMPORT LIBRARIES HERE\n",
    "import numpy as np\n",
    "import pandas as pd\n",
    "\n",
    "from matplotlib import pyplot as plt\n",
    "%matplotlib inline \n",
    "\n",
    "from typing import Tuple, Union, List"
   ]
  },
  {
   "cell_type": "markdown",
   "metadata": {},
   "source": [
    "## Part 1 - Preprocessing and exploration"
   ]
  },
  {
   "cell_type": "code",
   "execution_count": null,
   "metadata": {},
   "outputs": [],
   "source": [
    "## Load dataset\n",
    "covid_df = pd.read_csv(\"covid19.csv\")\n",
    "covid_df.head()"
   ]
  },
  {
   "cell_type": "code",
   "execution_count": null,
   "metadata": {
    "deletable": false,
    "nbgrader": {
     "cell_type": "code",
     "checksum": "0f2dd543e543232733351063ffd6e84f",
     "grade": false,
     "grade_id": "cell-76099b1dca4b9f91",
     "locked": false,
     "schema_version": 3,
     "solution": true,
     "task": false
    }
   },
   "outputs": [],
   "source": [
    "### 1\n",
    "def count_missing(df: pd.DataFrame) -> int:\n",
    "    \"\"\"Total number of missing values in entire dataframe\"\"\"\n",
    "    # YOUR CODE HERE\n",
    "    raise NotImplementedError()"
   ]
  },
  {
   "cell_type": "code",
   "execution_count": null,
   "metadata": {},
   "outputs": [],
   "source": [
    "### Count missing values\n",
    "count = count_missing(covid_df)\n",
    "count"
   ]
  },
  {
   "cell_type": "code",
   "execution_count": null,
   "metadata": {
    "deletable": false,
    "editable": false,
    "nbgrader": {
     "cell_type": "code",
     "checksum": "b41a7b9f2e77fe196ce1a25e4a9d6a18",
     "grade": true,
     "grade_id": "cell-ae86ca480fe6843b",
     "locked": true,
     "points": 2,
     "schema_version": 3,
     "solution": false,
     "task": false
    }
   },
   "outputs": [],
   "source": [
    "### DO NOT EDIT"
   ]
  },
  {
   "cell_type": "code",
   "execution_count": null,
   "metadata": {
    "deletable": false,
    "nbgrader": {
     "cell_type": "code",
     "checksum": "9314d17ecacee85993e1af64c52d45ba",
     "grade": false,
     "grade_id": "cell-ed9a1b6ead92b1b8",
     "locked": false,
     "schema_version": 3,
     "solution": true,
     "task": false
    }
   },
   "outputs": [],
   "source": [
    "### 2\n",
    "def find_outliers(df: pd.DataFrame) -> pd.DataFrame:\n",
    "    \"\"\"Find rows containing outliers with IQR\"\"\"\n",
    "    # YOUR CODE HERE\n",
    "    raise NotImplementedError()"
   ]
  },
  {
   "cell_type": "code",
   "execution_count": null,
   "metadata": {},
   "outputs": [],
   "source": [
    "### Find outliers\n",
    "outliers = find_outliers(covid_df)\n",
    "outliers"
   ]
  },
  {
   "cell_type": "code",
   "execution_count": null,
   "metadata": {
    "deletable": false,
    "editable": false,
    "nbgrader": {
     "cell_type": "code",
     "checksum": "1e32af8e00db4fdfeb4990492b8961c1",
     "grade": true,
     "grade_id": "cell-2a0a666ab8ff9ffe",
     "locked": true,
     "points": 5,
     "schema_version": 3,
     "solution": false,
     "task": false
    }
   },
   "outputs": [],
   "source": [
    "### DO NOT EDIT"
   ]
  },
  {
   "cell_type": "code",
   "execution_count": null,
   "metadata": {
    "deletable": false,
    "nbgrader": {
     "cell_type": "code",
     "checksum": "5586fe4c61d37d6d0d139539c06f3b92",
     "grade": false,
     "grade_id": "cell-adf56c6a4a344328",
     "locked": false,
     "schema_version": 3,
     "solution": true,
     "task": false
    }
   },
   "outputs": [],
   "source": [
    "### Method to delete certain rows from overall df\n",
    "def delete_rows(df: pd.DataFrame, to_delete: pd.DataFrame) -> pd.DataFrame:\n",
    "    \"\"\"Remove the subset of rows in to_delete from df and return\n",
    "     the resulting dataframe\n",
    "    \"\"\"\n",
    "    # YOUR CODE HERE\n",
    "    raise NotImplementedError()"
   ]
  },
  {
   "cell_type": "code",
   "execution_count": null,
   "metadata": {},
   "outputs": [],
   "source": [
    "### Remove outliers\n",
    "covid_df_wo = delete_rows(covid_df, outliers)\n",
    "covid_df_wo"
   ]
  },
  {
   "cell_type": "code",
   "execution_count": null,
   "metadata": {
    "deletable": false,
    "editable": false,
    "nbgrader": {
     "cell_type": "code",
     "checksum": "8f0a48c371a69ca6d1f3ad3891c15031",
     "grade": true,
     "grade_id": "cell-3490589d1134e063",
     "locked": true,
     "points": 5,
     "schema_version": 3,
     "solution": false,
     "task": false
    }
   },
   "outputs": [],
   "source": [
    "### DO NOT EDIT"
   ]
  },
  {
   "cell_type": "code",
   "execution_count": null,
   "metadata": {
    "deletable": false,
    "nbgrader": {
     "cell_type": "code",
     "checksum": "6f15e149a6372a9b2ad078f582f3d765",
     "grade": false,
     "grade_id": "cell-fb6657a1bf62c5f0",
     "locked": false,
     "schema_version": 3,
     "solution": true,
     "task": false
    }
   },
   "outputs": [],
   "source": [
    "### Method to group data by a column\n",
    "def groupby_col(df: pd.DataFrame, col: str) -> pd.DataFrame:\n",
    "    # YOUR CODE HERE\n",
    "    raise NotImplementedError()"
   ]
  },
  {
   "cell_type": "code",
   "execution_count": null,
   "metadata": {},
   "outputs": [],
   "source": [
    "covid_df_bycountry = groupby_col(covid_df_wo, 'Country/Region')\n",
    "covid_df_bycontinent = groupby_col(covid_df_wo, 'WHO Region')"
   ]
  },
  {
   "cell_type": "code",
   "execution_count": null,
   "metadata": {
    "deletable": false,
    "editable": false,
    "nbgrader": {
     "cell_type": "code",
     "checksum": "e49187c37b6666ea9ae1da61e7af543b",
     "grade": true,
     "grade_id": "cell-d859e1cc5df9adc3",
     "locked": true,
     "points": 5,
     "schema_version": 3,
     "solution": false,
     "task": false
    }
   },
   "outputs": [],
   "source": [
    "### DO NOT EDIT\n"
   ]
  },
  {
   "cell_type": "code",
   "execution_count": null,
   "metadata": {
    "deletable": false,
    "nbgrader": {
     "cell_type": "code",
     "checksum": "db759d553c5fca94d1212d72fc253bda",
     "grade": false,
     "grade_id": "cell-8e1356528a2a278a",
     "locked": false,
     "schema_version": 3,
     "solution": true,
     "task": false
    }
   },
   "outputs": [],
   "source": [
    "### Method to find total number of confirmed cases, \n",
    "### deaths reported, recovered and active cases \n",
    "### around the globe and mortality rate\n",
    "def overall_stats(df: pd.DataFrame) -> pd.Series:\n",
    "    \"\"\"Find total confirmed, deaths, recovered, active cases and mortality rate\n",
    "    Resulting series should have index/columns of\n",
    "    [Confirmed, Deaths, Recovered, Active, MortalityRate]\n",
    "    \"\"\"\n",
    "    # YOUR CODE HERE\n",
    "    raise NotImplementedError()"
   ]
  },
  {
   "cell_type": "code",
   "execution_count": null,
   "metadata": {},
   "outputs": [],
   "source": [
    "### TODO Add active\n",
    "### Find total recovered, confirmed, deaths, active cases and mortality rate\n",
    "covid_df_num = covid_df_wo[['Confirmed', 'Deaths', 'Recovered', 'Active']]\n",
    "stats_total = overall_stats(covid_df_num)\n",
    "stats_total"
   ]
  },
  {
   "cell_type": "code",
   "execution_count": null,
   "metadata": {
    "deletable": false,
    "editable": false,
    "nbgrader": {
     "cell_type": "code",
     "checksum": "2f113cbbe638a29d7dc3a1282c3a677b",
     "grade": true,
     "grade_id": "cell-cb86843ac2c37726",
     "locked": true,
     "points": 5,
     "schema_version": 3,
     "solution": false,
     "task": false
    }
   },
   "outputs": [],
   "source": [
    "### DO NOT EDIT"
   ]
  },
  {
   "cell_type": "code",
   "execution_count": null,
   "metadata": {
    "deletable": false,
    "nbgrader": {
     "cell_type": "code",
     "checksum": "78be78084957d943abd00d8932c2f2a2",
     "grade": false,
     "grade_id": "cell-2d31b7298926ada8",
     "locked": false,
     "schema_version": 3,
     "solution": true,
     "task": false
    }
   },
   "outputs": [],
   "source": [
    "# For country wise and continent wise stats\n",
    "def overall_stats_grouped(df: pd.DataFrame) -> pd.DataFrame:\n",
    "    \"\"\"Find total confirmed, deaths, recovered, active cases and mortality rate\n",
    "    Resulting dataframe should have index/columns of\n",
    "    [Confirmed, Deaths, Recovered, Active, MortalityRate]\n",
    "    \"\"\"\n",
    "    # YOUR CODE HERE\n",
    "    raise NotImplementedError()"
   ]
  },
  {
   "cell_type": "code",
   "execution_count": null,
   "metadata": {},
   "outputs": [],
   "source": [
    "### Find total recovered, confirmed, deaths, active cases and mortality rate by country\n",
    "\n",
    "covid_df_num = covid_df_bycountry[['Confirmed', 'Deaths', 'Recovered', 'Active']]\n",
    "stats_bycountry = overall_stats_grouped(covid_df_num)\n",
    "display(stats_bycountry)\n",
    "\n",
    "covid_df_num = covid_df_bycontinenty[['Confirmed', 'Deaths', 'Recovered']]\n",
    "stats_bycontinent = overall_stats(covid_df_num)\n",
    "display(stats_bycontinent)"
   ]
  },
  {
   "cell_type": "code",
   "execution_count": null,
   "metadata": {
    "deletable": false,
    "editable": false,
    "nbgrader": {
     "cell_type": "code",
     "checksum": "ec2a35a1a6220405af616f5b40482567",
     "grade": true,
     "grade_id": "cell-3de78f489182294a",
     "locked": true,
     "points": 5,
     "schema_version": 3,
     "solution": false,
     "task": false
    }
   },
   "outputs": [],
   "source": [
    "### DO NOT EDIT"
   ]
  },
  {
   "cell_type": "code",
   "execution_count": null,
   "metadata": {
    "deletable": false,
    "nbgrader": {
     "cell_type": "code",
     "checksum": "efc2e76863464e801874fbdb177790e8",
     "grade": false,
     "grade_id": "cell-b46bd9574e37eee4",
     "locked": false,
     "schema_version": 3,
     "solution": true,
     "task": false
    }
   },
   "outputs": [],
   "source": [
    "def top_ten_countries(df: pd.DataFrame, col: str) -> List[str]:\n",
    "    \"\"\"Finds top 10 countries wrt the column in col\"\"\"\n",
    "    # YOUR CODE HERE\n",
    "    raise NotImplementedError()"
   ]
  },
  {
   "cell_type": "code",
   "execution_count": null,
   "metadata": {},
   "outputs": [],
   "source": [
    "top_confirmed = top_ten_countries(stats_bycountry, 'Confirmed')\n",
    "top_deaths = top_ten_countries(stats_bycountry, 'Deaths')"
   ]
  },
  {
   "cell_type": "code",
   "execution_count": null,
   "metadata": {
    "deletable": false,
    "editable": false,
    "nbgrader": {
     "cell_type": "code",
     "checksum": "e7793aca60b2b8f3212ddf018b52231c",
     "grade": true,
     "grade_id": "cell-bb4bad538f954ebc",
     "locked": true,
     "points": 8,
     "schema_version": 3,
     "solution": false,
     "task": false
    }
   },
   "outputs": [],
   "source": [
    "### DO NOT EDIT"
   ]
  },
  {
   "cell_type": "code",
   "execution_count": null,
   "metadata": {},
   "outputs": [],
   "source": []
  },
  {
   "cell_type": "markdown",
   "metadata": {},
   "source": [
    "## Part 2 - Plotting\n",
    "\n",
    "For this part you can create extra cells if required.\n",
    "\n",
    "Create visualizations for the following tasks"
   ]
  },
  {
   "cell_type": "markdown",
   "metadata": {},
   "source": [
    "- Graph that shows the confirmed, deaths, recovered and active cases trends over the world."
   ]
  },
  {
   "cell_type": "code",
   "execution_count": null,
   "metadata": {
    "deletable": false,
    "nbgrader": {
     "cell_type": "code",
     "checksum": "c8de87168f287ee150ce6f6b241b70b6",
     "grade": true,
     "grade_id": "cell-fa03ede6e98cac85",
     "locked": false,
     "points": 5,
     "schema_version": 3,
     "solution": true,
     "task": false
    }
   },
   "outputs": [],
   "source": [
    "# YOUR CODE HERE\n",
    "raise NotImplementedError()"
   ]
  },
  {
   "cell_type": "markdown",
   "metadata": {},
   "source": [
    "- Graph that shows covid-19 spread trends w.r.t different continents i.e. Asia, Europe, America etc (same as above)"
   ]
  },
  {
   "cell_type": "code",
   "execution_count": null,
   "metadata": {
    "deletable": false,
    "nbgrader": {
     "cell_type": "code",
     "checksum": "3d4aa56eb9f4c7d5e59a0bb226c5e3e5",
     "grade": true,
     "grade_id": "cell-98eca0ec9c09ed12",
     "locked": false,
     "points": 5,
     "schema_version": 3,
     "solution": true,
     "task": false
    }
   },
   "outputs": [],
   "source": [
    "# YOUR CODE HERE\n",
    "raise NotImplementedError()"
   ]
  },
  {
   "cell_type": "markdown",
   "metadata": {},
   "source": [
    "- Pandemic spread trend in China in each month"
   ]
  },
  {
   "cell_type": "code",
   "execution_count": null,
   "metadata": {
    "deletable": false,
    "nbgrader": {
     "cell_type": "code",
     "checksum": "584c90a99479e2c134297dea74a5be07",
     "grade": true,
     "grade_id": "cell-d21fa34306660cde",
     "locked": false,
     "points": 5,
     "schema_version": 3,
     "solution": true,
     "task": false
    }
   },
   "outputs": [],
   "source": [
    "# YOUR CODE HERE\n",
    "raise NotImplementedError()"
   ]
  },
  {
   "cell_type": "markdown",
   "metadata": {},
   "source": [
    "- Pandemic spread comparison of different continents-Line chart"
   ]
  },
  {
   "cell_type": "code",
   "execution_count": null,
   "metadata": {
    "deletable": false,
    "nbgrader": {
     "cell_type": "code",
     "checksum": "929d13b3f8ff8f0918e7ae7d4428602b",
     "grade": true,
     "grade_id": "cell-9673625e89d8fae2",
     "locked": false,
     "points": 5,
     "schema_version": 3,
     "solution": true,
     "task": false
    }
   },
   "outputs": [],
   "source": [
    "# YOUR CODE HERE\n",
    "raise NotImplementedError()"
   ]
  },
  {
   "cell_type": "markdown",
   "metadata": {},
   "source": [
    "- Pandemic confirmed and deaths percent split in different countries – Pie chart"
   ]
  },
  {
   "cell_type": "code",
   "execution_count": null,
   "metadata": {
    "deletable": false,
    "nbgrader": {
     "cell_type": "code",
     "checksum": "5d30ab9e047bbcda87ae00603eb5b9c4",
     "grade": true,
     "grade_id": "cell-073aaf7ec10140a4",
     "locked": false,
     "points": 5,
     "schema_version": 3,
     "solution": true,
     "task": false
    }
   },
   "outputs": [],
   "source": [
    "# YOUR CODE HERE\n",
    "raise NotImplementedError()"
   ]
  },
  {
   "cell_type": "markdown",
   "metadata": {},
   "source": [
    "- Mortality rate of each continent – Scatter plo"
   ]
  },
  {
   "cell_type": "code",
   "execution_count": null,
   "metadata": {
    "deletable": false,
    "nbgrader": {
     "cell_type": "code",
     "checksum": "dc841bc55c749ceee06af1cbbbda5d86",
     "grade": true,
     "grade_id": "cell-b85ba27c3d28ba76",
     "locked": false,
     "points": 5,
     "schema_version": 3,
     "solution": true,
     "task": false
    }
   },
   "outputs": [],
   "source": [
    "# YOUR CODE HERE\n",
    "raise NotImplementedError()"
   ]
  },
  {
   "cell_type": "markdown",
   "metadata": {},
   "source": [
    "- Confirmed cases in china and outside china in first 50 days- Bar chart and line chart"
   ]
  },
  {
   "cell_type": "code",
   "execution_count": null,
   "metadata": {
    "deletable": false,
    "nbgrader": {
     "cell_type": "code",
     "checksum": "eecb80ac15d51496f2cf7d021ed6778e",
     "grade": true,
     "grade_id": "cell-5999f8023ac82828",
     "locked": false,
     "points": 5,
     "schema_version": 3,
     "solution": true,
     "task": false
    }
   },
   "outputs": [],
   "source": [
    "# YOUR CODE HERE\n",
    "raise NotImplementedError()"
   ]
  },
  {
   "cell_type": "markdown",
   "metadata": {},
   "source": [
    "- Total tests done in Pakistan vs China till Aug 2020 – Bar chart"
   ]
  },
  {
   "cell_type": "code",
   "execution_count": null,
   "metadata": {
    "deletable": false,
    "nbgrader": {
     "cell_type": "code",
     "checksum": "8c0d648d0946f4f2d499ce7421168a3c",
     "grade": true,
     "grade_id": "cell-36cdf4644758c5dc",
     "locked": false,
     "points": 5,
     "schema_version": 3,
     "solution": true,
     "task": false
    }
   },
   "outputs": [],
   "source": [
    "# YOUR CODE HERE\n",
    "raise NotImplementedError()"
   ]
  }
 ],
 "metadata": {
  "kernelspec": {
   "display_name": "Python 3",
   "language": "python",
   "name": "python3"
  },
  "language_info": {
   "codemirror_mode": {
    "name": "ipython",
    "version": 3
   },
   "file_extension": ".py",
   "mimetype": "text/x-python",
   "name": "python",
   "nbconvert_exporter": "python",
   "pygments_lexer": "ipython3",
   "version": "3.8.5"
  }
 },
 "nbformat": 4,
 "nbformat_minor": 4
}

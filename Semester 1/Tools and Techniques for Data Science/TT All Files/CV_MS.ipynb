{
  "nbformat": 4,
  "nbformat_minor": 0,
  "metadata": {
    "colab": {
      "name": "CV-MS.ipynb",
      "provenance": [],
      "collapsed_sections": []
    },
    "kernelspec": {
      "name": "python3",
      "display_name": "Python 3"
    }
  },
  "cells": [
    {
      "cell_type": "code",
      "metadata": {
        "id": "0lR2LxtOxS2S"
      },
      "source": [
        "\r\n",
        "from sklearn import datasets \r\n",
        "import pandas as pd\r\n",
        "import numpy as np\r\n",
        "from sklearn.model_selection import train_test_split\r\n",
        "from sklearn.metrics import confusion_matrix\r\n",
        "from sklearn.preprocessing import LabelEncoder"
      ],
      "execution_count": null,
      "outputs": []
    },
    {
      "cell_type": "code",
      "metadata": {
        "id": "jRsfyrxbxf7o"
      },
      "source": [
        "from sklearn.neighbors import KNeighborsClassifier\r\n"
      ],
      "execution_count": null,
      "outputs": []
    },
    {
      "cell_type": "markdown",
      "metadata": {
        "id": "4LucvFMWH4iV"
      },
      "source": [
        ""
      ]
    },
    {
      "cell_type": "code",
      "metadata": {
        "id": "XcmYQzBkB6C2"
      },
      "source": [
        "from sklearn.datasets import make_classification\r\n",
        "\r\n",
        "X, y = make_classification(n_samples=1500, n_classes=2, n_features=15,random_state=4)\r\n",
        "X_train, X_test, y_train, y_test = train_test_split(X,y,test_size=0.2)\r\n"
      ],
      "execution_count": null,
      "outputs": []
    },
    {
      "cell_type": "code",
      "metadata": {
        "colab": {
          "base_uri": "https://localhost:8080/"
        },
        "id": "52peRgQFIUHy",
        "outputId": "c2133986-b6cd-4d44-8a9e-64df377014f0"
      },
      "source": [
        "X"
      ],
      "execution_count": null,
      "outputs": [
        {
          "output_type": "execute_result",
          "data": {
            "text/plain": [
              "array([[ 0.55606712,  0.81765035,  0.76559803, ..., -1.73464704,\n",
              "        -1.44262363,  0.99802277],\n",
              "       [-0.44292709, -0.1716115 , -0.20553915, ..., -0.28525576,\n",
              "        -0.25561022,  1.35258003],\n",
              "       [ 0.42480451,  0.49458434,  0.44234333, ..., -0.91390799,\n",
              "        -0.5966444 , -0.04837957],\n",
              "       ...,\n",
              "       [-1.2291368 ,  1.3475153 , -0.59992223, ..., -0.22152118,\n",
              "         0.04863582,  1.40420411],\n",
              "       [-0.10660116, -0.84193976,  2.20661064, ...,  0.00262419,\n",
              "        -0.73515266,  1.23891849],\n",
              "       [ 0.17924064, -0.83157849, -0.94403015, ...,  1.28345539,\n",
              "        -0.97279939, -2.26296263]])"
            ]
          },
          "metadata": {
            "tags": []
          },
          "execution_count": 6
        }
      ]
    },
    {
      "cell_type": "code",
      "metadata": {
        "colab": {
          "base_uri": "https://localhost:8080/"
        },
        "id": "6zLjm2jFCeFM",
        "outputId": "f98e0715-c5bd-4856-aac9-1cb4ef8114ee"
      },
      "source": [
        "knn = KNeighborsClassifier(n_neighbors=3)\r\n",
        "knn.fit(X_train,y_train)\r\n",
        "\r\n",
        "\r\n",
        "\r\n",
        "\r\n"
      ],
      "execution_count": null,
      "outputs": [
        {
          "output_type": "execute_result",
          "data": {
            "text/plain": [
              "KNeighborsClassifier(algorithm='auto', leaf_size=30, metric='minkowski',\n",
              "                     metric_params=None, n_jobs=None, n_neighbors=3, p=2,\n",
              "                     weights='uniform')"
            ]
          },
          "metadata": {
            "tags": []
          },
          "execution_count": 11
        }
      ]
    },
    {
      "cell_type": "code",
      "metadata": {
        "id": "8xVtruXbDSJd"
      },
      "source": [
        "#predict prob for test data\r\n",
        "prob = model.predict_proba(X_test)\r\n",
        "\r\n",
        "#postive class prob get\r\n",
        "probs = prob[:,1]"
      ],
      "execution_count": null,
      "outputs": []
    },
    {
      "cell_type": "code",
      "metadata": {
        "id": "vmLDOt2oIy59"
      },
      "source": [
        "prob1 = model1.predict_proba(X_test)\r\n",
        "probs1 = prob1[:,1]"
      ],
      "execution_count": null,
      "outputs": []
    },
    {
      "cell_type": "code",
      "metadata": {
        "id": "2BW2DIItGzep"
      },
      "source": [
        "iris = datasets.load_iris()\r\n",
        "X = iris.data\r\n",
        "y= iris.target"
      ],
      "execution_count": null,
      "outputs": []
    },
    {
      "cell_type": "code",
      "metadata": {
        "id": "oWgrljlvNnHP"
      },
      "source": [
        "X_train, X_test, y_train, y_test = train_test_split(X,y,test_size=0.2)"
      ],
      "execution_count": null,
      "outputs": []
    },
    {
      "cell_type": "code",
      "metadata": {
        "colab": {
          "base_uri": "https://localhost:8080/"
        },
        "id": "knUL9e48XKVA",
        "outputId": "5ac33754-aae9-4970-fcfb-cbb182fa8a1f"
      },
      "source": [
        "ytest_pred = bagg_model.predict(X_test)\r\n",
        "print(bagg_model.score(X_test,y_test))\r\n",
        "print(confusion_matrix(y_test, ytest_pred))"
      ],
      "execution_count": null,
      "outputs": [
        {
          "output_type": "stream",
          "text": [
            "0.9333333333333333\n",
            "[[11  0  0]\n",
            " [ 0  9  2]\n",
            " [ 0  0  8]]\n"
          ],
          "name": "stdout"
        }
      ]
    },
    {
      "cell_type": "code",
      "metadata": {
        "id": "TGOt6u2FSYTy"
      },
      "source": [
        "from sklearn.model_selection import KFold \r\n",
        "from sklearn.model_selection import cross_val_score"
      ],
      "execution_count": null,
      "outputs": []
    },
    {
      "cell_type": "code",
      "metadata": {
        "id": "XGO979nWI0R0"
      },
      "source": [
        "#dateset, crossvalication, #model\r\n",
        "kfold = KFold(n_splits=10)\r\n",
        "from numpy import mean\r\n",
        "scores = cross_val_score(knn,X,y,scoring='accuracy',cv=kfold, n_jobs=-1)"
      ],
      "execution_count": null,
      "outputs": []
    },
    {
      "cell_type": "code",
      "metadata": {
        "colab": {
          "base_uri": "https://localhost:8080/"
        },
        "id": "ZnVmSAQrMdEs",
        "outputId": "5b5b39dd-fb10-4251-d02c-f3b453637758"
      },
      "source": [
        "print('Accuracy:', (mean(scores)))"
      ],
      "execution_count": null,
      "outputs": [
        {
          "output_type": "stream",
          "text": [
            "Accuracy: 0.9040000000000001\n"
          ],
          "name": "stdout"
        }
      ]
    },
    {
      "cell_type": "code",
      "metadata": {
        "id": "i_MLeZTFNBnN",
        "colab": {
          "base_uri": "https://localhost:8080/"
        },
        "outputId": "7824395e-e3fe-47a8-82f2-5e0a16877904"
      },
      "source": [
        "def model():\r\n",
        "  model = KNeighborsClassifier(n_neighbors=5)\r\n",
        "  return model\r\n",
        "\r\n",
        "def model_acc(cv):\r\n",
        "  model1 = model()\r\n",
        "  scores = cross_val_score(model1,X,y,scoring='accuracy', cv=cv,n_jobs=-1)\r\n",
        "  return mean(scores), scores.min(), scores.max()\r\n",
        "\r\n",
        "\r\n",
        "folds = range(3,40)\r\n",
        "#min, max, mean value of accuracy at each fold\r\n",
        "min,max, means = list(), list(), list()\r\n",
        "#check for every k value\r\n",
        "for k in folds:\r\n",
        "  cv = KFold(n_splits=k, shuffle=True, random_state=1)\r\n",
        "  k_mean, k_min, k_max = model_acc(cv)\r\n",
        "  print('Fold=%d, accuracy=%.3f (%.3f,%.3f)',(k,k_mean,k_min,k_max))\r\n",
        "  min.append(k_min)\r\n",
        "  max.append(k_max)\r\n",
        "  means.append(k_mean)\r\n",
        "\r\n"
      ],
      "execution_count": null,
      "outputs": [
        {
          "output_type": "stream",
          "text": [
            "Fold=%d, accuracy=%.3f (%.3f,%.3f) (3, 0.9026666666666667, 0.884, 0.914)\n",
            "Fold=%d, accuracy=%.3f (%.3f,%.3f) (4, 0.8966666666666667, 0.8693333333333333, 0.9226666666666666)\n",
            "Fold=%d, accuracy=%.3f (%.3f,%.3f) (5, 0.9006666666666667, 0.8766666666666667, 0.9266666666666666)\n",
            "Fold=%d, accuracy=%.3f (%.3f,%.3f) (6, 0.904, 0.872, 0.94)\n",
            "Fold=%d, accuracy=%.3f (%.3f,%.3f) (7, 0.9039898158785356, 0.8598130841121495, 0.9392523364485982)\n",
            "Fold=%d, accuracy=%.3f (%.3f,%.3f) (8, 0.9026268631243599, 0.8663101604278075, 0.9361702127659575)\n",
            "Fold=%d, accuracy=%.3f (%.3f,%.3f) (9, 0.9052978380588222, 0.8614457831325302, 0.9520958083832335)\n",
            "Fold=%d, accuracy=%.3f (%.3f,%.3f) (10, 0.906, 0.8666666666666667, 0.94)\n",
            "Fold=%d, accuracy=%.3f (%.3f,%.3f) (11, 0.9020063234318279, 0.875, 0.9632352941176471)\n",
            "Fold=%d, accuracy=%.3f (%.3f,%.3f) (12, 0.9046666666666666, 0.872, 0.96)\n",
            "Fold=%d, accuracy=%.3f (%.3f,%.3f) (13, 0.9039960788836352, 0.8695652173913043, 0.9739130434782609)\n",
            "Fold=%d, accuracy=%.3f (%.3f,%.3f) (14, 0.9053429263709638, 0.8504672897196262, 0.9719626168224299)\n",
            "Fold=%d, accuracy=%.3f (%.3f,%.3f) (15, 0.9053333333333333, 0.85, 0.97)\n",
            "Fold=%d, accuracy=%.3f (%.3f,%.3f) (16, 0.9052562342713337, 0.8387096774193549, 0.9787234042553191)\n",
            "Fold=%d, accuracy=%.3f (%.3f,%.3f) (17, 0.906011536381662, 0.8295454545454546, 0.9659090909090909)\n",
            "Fold=%d, accuracy=%.3f (%.3f,%.3f) (18, 0.9080050360170843, 0.8433734939759037, 0.963855421686747)\n",
            "Fold=%d, accuracy=%.3f (%.3f,%.3f) (19, 0.9026290165530672, 0.8461538461538461, 0.9746835443037974)\n",
            "Fold=%d, accuracy=%.3f (%.3f,%.3f) (20, 0.908, 0.84, 0.9733333333333334)\n",
            "Fold=%d, accuracy=%.3f (%.3f,%.3f) (21, 0.9032621655861093, 0.8169014084507042, 0.9722222222222222)\n",
            "Fold=%d, accuracy=%.3f (%.3f,%.3f) (22, 0.9046927071223745, 0.8529411764705882, 0.9705882352941176)\n",
            "Fold=%d, accuracy=%.3f (%.3f,%.3f) (23, 0.9053714401540489, 0.8307692307692308, 0.9846153846153847)\n",
            "Fold=%d, accuracy=%.3f (%.3f,%.3f) (24, 0.9045378904249871, 0.8387096774193549, 0.9682539682539683)\n",
            "Fold=%d, accuracy=%.3f (%.3f,%.3f) (25, 0.9046666666666668, 0.8333333333333334, 0.9833333333333333)\n",
            "Fold=%d, accuracy=%.3f (%.3f,%.3f) (26, 0.9071850714318953, 0.8421052631578947, 0.9827586206896551)\n",
            "Fold=%d, accuracy=%.3f (%.3f,%.3f) (27, 0.9058682058682058, 0.8363636363636363, 0.9642857142857143)\n",
            "Fold=%d, accuracy=%.3f (%.3f,%.3f) (28, 0.9045622441848857, 0.8301886792452831, 0.9814814814814815)\n",
            "Fold=%d, accuracy=%.3f (%.3f,%.3f) (29, 0.9058745514120768, 0.8431372549019608, 0.9615384615384616)\n",
            "Fold=%d, accuracy=%.3f (%.3f,%.3f) (30, 0.9093333333333333, 0.84, 0.98)\n",
            "Fold=%d, accuracy=%.3f (%.3f,%.3f) (31, 0.90529679613781, 0.8333333333333334, 0.9791666666666666)\n",
            "Fold=%d, accuracy=%.3f (%.3f,%.3f) (32, 0.9078833256244219, 0.8260869565217391, 0.9787234042553191)\n",
            "Fold=%d, accuracy=%.3f (%.3f,%.3f) (33, 0.9051968965012442, 0.8222222222222222, 0.9782608695652174)\n",
            "Fold=%d, accuracy=%.3f (%.3f,%.3f) (34, 0.9080213903743315, 0.8181818181818182, 1.0)\n",
            "Fold=%d, accuracy=%.3f (%.3f,%.3f) (35, 0.9085113115013446, 0.8095238095238095, 0.9767441860465116)\n",
            "Fold=%d, accuracy=%.3f (%.3f,%.3f) (36, 0.9078268163634016, 0.8292682926829268, 0.9761904761904762)\n",
            "Fold=%d, accuracy=%.3f (%.3f,%.3f) (37, 0.9084541858932104, 0.8, 0.975609756097561)\n",
            "Fold=%d, accuracy=%.3f (%.3f,%.3f) (38, 0.9058198380566801, 0.8205128205128205, 0.975)\n",
            "Fold=%d, accuracy=%.3f (%.3f,%.3f) (39, 0.9098584726115094, 0.8157894736842105, 1.0)\n"
          ],
          "name": "stdout"
        }
      ]
    },
    {
      "cell_type": "code",
      "metadata": {
        "id": "BpmBPKXpWCfZ"
      },
      "source": [
        "from sklearn import metrics"
      ],
      "execution_count": null,
      "outputs": []
    },
    {
      "cell_type": "code",
      "metadata": {
        "id": "3xhNupaFWACr",
        "colab": {
          "base_uri": "https://localhost:8080/"
        },
        "outputId": "f7ee6931-9f9a-4351-8141-b188bdab0b7c"
      },
      "source": [
        "#GridSearchCV\r\n",
        "from sklearn.model_selection import GridSearchCV\r\n",
        "#to choose best parameters for your model\r\n",
        "#model = knn\r\n",
        "\r\n",
        "params = {\r\n",
        "        'n_neighbors' : [5,25,30,40],\r\n",
        "        'weights': ['uniform','distance'],\r\n",
        "        'algorithm': ['auto','ball_tree','kd_tree','brute'],\r\n",
        "               \r\n",
        "}\r\n",
        "grid_knn = GridSearchCV(estimator=knn,\r\n",
        "                       param_grid=params,\r\n",
        "                        scoring='accuracy',cv=5,n_jobs=-1,verbose=1)\r\n",
        "grid_knn.fit(X,y)\r\n",
        "80"
      ],
      "execution_count": null,
      "outputs": [
        {
          "output_type": "stream",
          "text": [
            "Fitting 5 folds for each of 32 candidates, totalling 160 fits\n"
          ],
          "name": "stdout"
        },
        {
          "output_type": "stream",
          "text": [
            "[Parallel(n_jobs=-1)]: Using backend LokyBackend with 2 concurrent workers.\n",
            "[Parallel(n_jobs=-1)]: Done 128 tasks      | elapsed:    3.0s\n",
            "[Parallel(n_jobs=-1)]: Done 160 out of 160 | elapsed:    3.3s finished\n"
          ],
          "name": "stderr"
        },
        {
          "output_type": "execute_result",
          "data": {
            "text/plain": [
              "80"
            ]
          },
          "metadata": {
            "tags": []
          },
          "execution_count": 16
        }
      ]
    },
    {
      "cell_type": "code",
      "metadata": {
        "id": "vL2q5yxjhByF",
        "colab": {
          "base_uri": "https://localhost:8080/"
        },
        "outputId": "20716675-dbc9-4f7c-ea76-4fe897164a4e"
      },
      "source": [
        "ans = grid_knn.best_estimator_\r\n",
        "ans"
      ],
      "execution_count": null,
      "outputs": [
        {
          "output_type": "execute_result",
          "data": {
            "text/plain": [
              "KNeighborsClassifier(algorithm='auto', leaf_size=30, metric='minkowski',\n",
              "                     metric_params=None, n_jobs=None, n_neighbors=25, p=2,\n",
              "                     weights='distance')"
            ]
          },
          "metadata": {
            "tags": []
          },
          "execution_count": 18
        }
      ]
    },
    {
      "cell_type": "code",
      "metadata": {
        "colab": {
          "base_uri": "https://localhost:8080/"
        },
        "id": "aEvIZVE_hFb9",
        "outputId": "8356e45f-7a47-434e-8e03-0410439c6a39"
      },
      "source": [
        "grid_knn.best_score_"
      ],
      "execution_count": null,
      "outputs": [
        {
          "output_type": "execute_result",
          "data": {
            "text/plain": [
              "0.9306666666666666"
            ]
          },
          "metadata": {
            "tags": []
          },
          "execution_count": 19
        }
      ]
    },
    {
      "cell_type": "code",
      "metadata": {
        "id": "dHJ_yIXSjTPv"
      },
      "source": [
        ""
      ],
      "execution_count": null,
      "outputs": []
    }
  ]
}